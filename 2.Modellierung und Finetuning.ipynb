{
  "cells": [
    {
      "cell_type": "markdown",
      "metadata": {
        "id": "3918d5a9-357b-442c-b2f8-5dff29d0a4bb"
      },
      "source": [
        "# Modellierung"
      ],
      "id": "3918d5a9-357b-442c-b2f8-5dff29d0a4bb"
    },
    {
      "cell_type": "code",
      "source": [
        "#Festlegung der Hyperparameter für die Modellierung\n",
        "batch_size = 32\n",
        "epochs = 50\n",
        "learning_rate = 0.01"
      ],
      "metadata": {
        "id": "O031dCiDUl5r"
      },
      "id": "O031dCiDUl5r",
      "execution_count": null,
      "outputs": []
    },
    {
      "cell_type": "markdown",
      "metadata": {
        "id": "1e2e249b-821e-4536-82bd-ba6e20577b32"
      },
      "source": [
        "## AlexNet"
      ],
      "id": "1e2e249b-821e-4536-82bd-ba6e20577b32"
    },
    {
      "cell_type": "markdown",
      "metadata": {
        "id": "e6af1022-782f-4af8-ae52-eb7888dc234f"
      },
      "source": [
        "### AlexNet Modelle"
      ],
      "id": "e6af1022-782f-4af8-ae52-eb7888dc234f"
    },
    {
      "cell_type": "markdown",
      "metadata": {
        "id": "rbGnB6JQxaO6"
      },
      "source": [
        "#### (1) SGD: Blanco"
      ],
      "id": "rbGnB6JQxaO6"
    },
    {
      "cell_type": "code",
      "execution_count": null,
      "metadata": {
        "id": "ad13077c-fad0-4c21-9f72-caabeddcad6c"
      },
      "outputs": [],
      "source": [
        "AlexNet_Modell_1 = Sequential()\n",
        "\n",
        "#1.Convolutional Layer\n",
        "AlexNet_Modell_1.add(Conv2D(filters=96, input_shape=(48,48,1), kernel_size=(11,11), strides=(4,4), padding='same'))\n",
        "AlexNet_Modell_1.add(BatchNormalization())\n",
        "AlexNet_Modell_1.add(Activation('relu'))\n",
        "AlexNet_Modell_1.add(MaxPooling2D(pool_size=(2,2), strides=(2,2), padding='same'))\n",
        "\n",
        "#2.Convolutional Layer\n",
        "AlexNet_Modell_1.add(Conv2D(filters=256, kernel_size=(5, 5), strides=(1,1), padding='same'))\n",
        "AlexNet_Modell_1.add(BatchNormalization())\n",
        "AlexNet_Modell_1.add(Activation('relu'))\n",
        "AlexNet_Modell_1.add(MaxPooling2D(pool_size=(2,2), strides=(2,2), padding='same'))\n",
        "\n",
        "#3.Convolutional Layer\n",
        "AlexNet_Modell_1.add(Conv2D(filters=384, kernel_size=(3,3), strides=(1,1), padding='same'))\n",
        "AlexNet_Modell_1.add(BatchNormalization())\n",
        "AlexNet_Modell_1.add(Activation('relu'))\n",
        "\n",
        "#4.Convolutional Layer\n",
        "AlexNet_Modell_1.add(Conv2D(filters=384, kernel_size=(3,3), strides=(1,1), padding='same'))\n",
        "AlexNet_Modell_1.add(BatchNormalization())\n",
        "AlexNet_Modell_1.add(Activation('relu'))\n",
        "\n",
        "#5.Convolutional Layer\n",
        "AlexNet_Modell_1.add(Conv2D(filters=256, kernel_size=(3,3), strides=(1,1), padding='same'))\n",
        "AlexNet_Modell_1.add(BatchNormalization())\n",
        "AlexNet_Modell_1.add(Activation('relu'))\n",
        "AlexNet_Modell_1.add(MaxPooling2D(pool_size=(2,2), strides=(2,2), padding='same'))\n",
        "\n",
        "#Flatten layer\n",
        "AlexNet_Modell_1.add(Flatten())\n",
        "#1.Fully Connected Layer\n",
        "AlexNet_Modell_1.add(Dense(4096))\n",
        "AlexNet_Modell_1.add(BatchNormalization())\n",
        "AlexNet_Modell_1.add(Activation('relu'))\n",
        "\n",
        "#2.Fully Connected Layer\n",
        "AlexNet_Modell_1.add(Dense(4096))\n",
        "AlexNet_Modell_1.add(BatchNormalization())\n",
        "AlexNet_Modell_1.add(Activation('relu'))\n",
        "\n",
        "#Output Layer\n",
        "AlexNet_Modell_1.add(Dense(7))\n",
        "AlexNet_Modell_1.add(BatchNormalization())\n",
        "AlexNet_Modell_1.add(Activation('softmax'))"
      ],
      "id": "ad13077c-fad0-4c21-9f72-caabeddcad6c"
    },
    {
      "cell_type": "code",
      "source": [
        "AlexNet_Modell_1.summary()"
      ],
      "metadata": {
        "colab": {
          "base_uri": "https://localhost:8080/"
        },
        "id": "hAulpZ3eIrhn",
        "outputId": "eaf85957-c08c-4e95-f22d-44de22e3e84b"
      },
      "id": "hAulpZ3eIrhn",
      "execution_count": null,
      "outputs": [
        {
          "output_type": "stream",
          "name": "stdout",
          "text": [
            "Model: \"sequential\"\n",
            "_________________________________________________________________\n",
            " Layer (type)                Output Shape              Param #   \n",
            "=================================================================\n",
            " conv2d (Conv2D)             (None, 12, 12, 96)        11712     \n",
            "                                                                 \n",
            " batch_normalization (BatchN  (None, 12, 12, 96)       384       \n",
            " ormalization)                                                   \n",
            "                                                                 \n",
            " activation (Activation)     (None, 12, 12, 96)        0         \n",
            "                                                                 \n",
            " max_pooling2d (MaxPooling2D  (None, 6, 6, 96)         0         \n",
            " )                                                               \n",
            "                                                                 \n",
            " conv2d_1 (Conv2D)           (None, 6, 6, 256)         614656    \n",
            "                                                                 \n",
            " batch_normalization_1 (Batc  (None, 6, 6, 256)        1024      \n",
            " hNormalization)                                                 \n",
            "                                                                 \n",
            " activation_1 (Activation)   (None, 6, 6, 256)         0         \n",
            "                                                                 \n",
            " max_pooling2d_1 (MaxPooling  (None, 3, 3, 256)        0         \n",
            " 2D)                                                             \n",
            "                                                                 \n",
            " conv2d_2 (Conv2D)           (None, 3, 3, 384)         885120    \n",
            "                                                                 \n",
            " batch_normalization_2 (Batc  (None, 3, 3, 384)        1536      \n",
            " hNormalization)                                                 \n",
            "                                                                 \n",
            " activation_2 (Activation)   (None, 3, 3, 384)         0         \n",
            "                                                                 \n",
            " conv2d_3 (Conv2D)           (None, 3, 3, 384)         1327488   \n",
            "                                                                 \n",
            " batch_normalization_3 (Batc  (None, 3, 3, 384)        1536      \n",
            " hNormalization)                                                 \n",
            "                                                                 \n",
            " activation_3 (Activation)   (None, 3, 3, 384)         0         \n",
            "                                                                 \n",
            " conv2d_4 (Conv2D)           (None, 3, 3, 256)         884992    \n",
            "                                                                 \n",
            " batch_normalization_4 (Batc  (None, 3, 3, 256)        1024      \n",
            " hNormalization)                                                 \n",
            "                                                                 \n",
            " activation_4 (Activation)   (None, 3, 3, 256)         0         \n",
            "                                                                 \n",
            " max_pooling2d_2 (MaxPooling  (None, 2, 2, 256)        0         \n",
            " 2D)                                                             \n",
            "                                                                 \n",
            " flatten (Flatten)           (None, 1024)              0         \n",
            "                                                                 \n",
            " dense (Dense)               (None, 4096)              4198400   \n",
            "                                                                 \n",
            " batch_normalization_5 (Batc  (None, 4096)             16384     \n",
            " hNormalization)                                                 \n",
            "                                                                 \n",
            " activation_5 (Activation)   (None, 4096)              0         \n",
            "                                                                 \n",
            " dense_1 (Dense)             (None, 4096)              16781312  \n",
            "                                                                 \n",
            " batch_normalization_6 (Batc  (None, 4096)             16384     \n",
            " hNormalization)                                                 \n",
            "                                                                 \n",
            " activation_6 (Activation)   (None, 4096)              0         \n",
            "                                                                 \n",
            " dense_2 (Dense)             (None, 7)                 28679     \n",
            "                                                                 \n",
            " batch_normalization_7 (Batc  (None, 7)                28        \n",
            " hNormalization)                                                 \n",
            "                                                                 \n",
            " activation_7 (Activation)   (None, 7)                 0         \n",
            "                                                                 \n",
            "=================================================================\n",
            "Total params: 24,770,659\n",
            "Trainable params: 24,751,509\n",
            "Non-trainable params: 19,150\n",
            "_________________________________________________________________\n",
            "None\n"
          ]
        }
      ]
    },
    {
      "cell_type": "code",
      "execution_count": null,
      "metadata": {
        "id": "be5e7d86-7a23-479e-b9b3-7de3bc540d8b"
      },
      "outputs": [],
      "source": [
        "AlexNet_Modell_1.compile(optimizer=SGD(learning_rate=learning_rate),\n",
        "                       loss='categorical_crossentropy', metrics=['accuracy'])"
      ],
      "id": "be5e7d86-7a23-479e-b9b3-7de3bc540d8b"
    },
    {
      "cell_type": "code",
      "execution_count": null,
      "metadata": {
        "id": "Saf1FKtj9gkd"
      },
      "outputs": [],
      "source": [
        "checkpointer_AlexNet_1 = [\n",
        "                      ModelCheckpoint('AlexNet_1_SGD_32,0.01.h5', monitor=\"val_accuracy\", verbose=1, save_best_only=True,mode=\"max\"),\n",
        "                      CSVLogger('AlexNet_1_SGD_32,0.01.log')                      \n",
        "                      ]"
      ],
      "id": "Saf1FKtj9gkd"
    },
    {
      "cell_type": "code",
      "execution_count": null,
      "metadata": {
        "id": "6c8b4a9b-ff95-4119-981b-ed1d67ed76f0"
      },
      "outputs": [],
      "source": [
        "%%time\n",
        "history_AlexNet_1 = AlexNet_Modell_1.fit(\n",
        "    X_train_48x48,\n",
        "    y_train_cat,\n",
        "    batch_size=batch_size,\n",
        "    epochs=epochs,\n",
        "    callbacks=checkpointer_AlexNet_1,\n",
        "    validation_data=(X_val_48x48, y_val_cat)\n",
        ")"
      ],
      "id": "6c8b4a9b-ff95-4119-981b-ed1d67ed76f0"
    },
    {
      "cell_type": "markdown",
      "metadata": {
        "id": "cNutAm-G9595"
      },
      "source": [
        "#### (2) Adam: Blanco"
      ],
      "id": "cNutAm-G9595"
    },
    {
      "cell_type": "code",
      "execution_count": null,
      "metadata": {
        "id": "LQ8d62eD9-1G"
      },
      "outputs": [],
      "source": [
        "AlexNet_Modell_2 = Sequential()\n",
        "\n",
        "#1.Convolutional Layer\n",
        "AlexNet_Modell_2.add(Conv2D(filters=96, input_shape=(48,48,1), kernel_size=(11,11), strides=(4,4), padding='same'))\n",
        "AlexNet_Modell_2.add(BatchNormalization())\n",
        "AlexNet_Modell_2.add(Activation('relu'))\n",
        "AlexNet_Modell_2.add(MaxPooling2D(pool_size=(2,2), strides=(2,2), padding='same'))\n",
        "\n",
        "#2.Convolutional Layer\n",
        "AlexNet_Modell_2.add(Conv2D(filters=256, kernel_size=(5, 5), strides=(1,1), padding='same'))\n",
        "AlexNet_Modell_2.add(BatchNormalization())\n",
        "AlexNet_Modell_2.add(Activation('relu'))\n",
        "AlexNet_Modell_2.add(MaxPooling2D(pool_size=(2,2), strides=(2,2), padding='same'))\n",
        "\n",
        "#3.Convolutional Layer\n",
        "AlexNet_Modell_2.add(Conv2D(filters=384, kernel_size=(3,3), strides=(1,1), padding='same'))\n",
        "AlexNet_Modell_2.add(BatchNormalization())\n",
        "AlexNet_Modell_2.add(Activation('relu'))\n",
        "\n",
        "#4.Convolutional Layer\n",
        "AlexNet_Modell_2.add(Conv2D(filters=384, kernel_size=(3,3), strides=(1,1), padding='same'))\n",
        "AlexNet_Modell_2.add(BatchNormalization())\n",
        "AlexNet_Modell_2.add(Activation('relu'))\n",
        "\n",
        "#5.Convolutional Layer\n",
        "AlexNet_Modell_2.add(Conv2D(filters=256, kernel_size=(3,3), strides=(1,1), padding='same'))\n",
        "AlexNet_Modell_2.add(BatchNormalization())\n",
        "AlexNet_Modell_2.add(Activation('relu'))\n",
        "AlexNet_Modell_2.add(MaxPooling2D(pool_size=(2,2), strides=(2,2), padding='same'))\n",
        "\n",
        "#Flatten layer\n",
        "AlexNet_Modell_2.add(Flatten())\n",
        "#1.Fully Connected Layer\n",
        "AlexNet_Modell_2.add(Dense(4096))\n",
        "AlexNet_Modell_2.add(BatchNormalization())\n",
        "AlexNet_Modell_2.add(Activation('relu'))\n",
        "\n",
        "#2.Fully Connected Layer\n",
        "AlexNet_Modell_2.add(Dense(4096))\n",
        "AlexNet_Modell_2.add(BatchNormalization())\n",
        "AlexNet_Modell_2.add(Activation('relu'))\n",
        "\n",
        "#Output Layer\n",
        "AlexNet_Modell_2.add(Dense(7))\n",
        "AlexNet_Modell_2.add(BatchNormalization())\n",
        "AlexNet_Modell_2.add(Activation('softmax'))"
      ],
      "id": "LQ8d62eD9-1G"
    },
    {
      "cell_type": "code",
      "execution_count": null,
      "metadata": {
        "colab": {
          "base_uri": "https://localhost:8080/"
        },
        "id": "XjSb3u4K9-1I",
        "outputId": "64fffff9-2ef2-4fa8-d8ca-23f3e7708625"
      },
      "outputs": [
        {
          "name": "stdout",
          "output_type": "stream",
          "text": [
            "Model: \"sequential_21\"\n",
            "_________________________________________________________________\n",
            " Layer (type)                Output Shape              Param #   \n",
            "=================================================================\n",
            " conv2d_25 (Conv2D)          (None, 12, 12, 96)        11712     \n",
            "                                                                 \n",
            " batch_normalization_66 (Bat  (None, 12, 12, 96)       384       \n",
            " chNormalization)                                                \n",
            "                                                                 \n",
            " activation_48 (Activation)  (None, 12, 12, 96)        0         \n",
            "                                                                 \n",
            " max_pooling2d_15 (MaxPoolin  (None, 6, 6, 96)         0         \n",
            " g2D)                                                            \n",
            "                                                                 \n",
            " conv2d_26 (Conv2D)          (None, 6, 6, 256)         614656    \n",
            "                                                                 \n",
            " batch_normalization_67 (Bat  (None, 6, 6, 256)        1024      \n",
            " chNormalization)                                                \n",
            "                                                                 \n",
            " activation_49 (Activation)  (None, 6, 6, 256)         0         \n",
            "                                                                 \n",
            " max_pooling2d_16 (MaxPoolin  (None, 3, 3, 256)        0         \n",
            " g2D)                                                            \n",
            "                                                                 \n",
            " conv2d_27 (Conv2D)          (None, 3, 3, 384)         885120    \n",
            "                                                                 \n",
            " batch_normalization_68 (Bat  (None, 3, 3, 384)        1536      \n",
            " chNormalization)                                                \n",
            "                                                                 \n",
            " activation_50 (Activation)  (None, 3, 3, 384)         0         \n",
            "                                                                 \n",
            " conv2d_28 (Conv2D)          (None, 3, 3, 384)         1327488   \n",
            "                                                                 \n",
            " batch_normalization_69 (Bat  (None, 3, 3, 384)        1536      \n",
            " chNormalization)                                                \n",
            "                                                                 \n",
            " activation_51 (Activation)  (None, 3, 3, 384)         0         \n",
            "                                                                 \n",
            " conv2d_29 (Conv2D)          (None, 3, 3, 256)         884992    \n",
            "                                                                 \n",
            " batch_normalization_70 (Bat  (None, 3, 3, 256)        1024      \n",
            " chNormalization)                                                \n",
            "                                                                 \n",
            " activation_52 (Activation)  (None, 3, 3, 256)         0         \n",
            "                                                                 \n",
            " max_pooling2d_17 (MaxPoolin  (None, 2, 2, 256)        0         \n",
            " g2D)                                                            \n",
            "                                                                 \n",
            " flatten_20 (Flatten)        (None, 1024)              0         \n",
            "                                                                 \n",
            " dense_56 (Dense)            (None, 4096)              4198400   \n",
            "                                                                 \n",
            " batch_normalization_71 (Bat  (None, 4096)             16384     \n",
            " chNormalization)                                                \n",
            "                                                                 \n",
            " activation_53 (Activation)  (None, 4096)              0         \n",
            "                                                                 \n",
            " dense_57 (Dense)            (None, 4096)              16781312  \n",
            "                                                                 \n",
            " batch_normalization_72 (Bat  (None, 4096)             16384     \n",
            " chNormalization)                                                \n",
            "                                                                 \n",
            " activation_54 (Activation)  (None, 4096)              0         \n",
            "                                                                 \n",
            " dense_58 (Dense)            (None, 7)                 28679     \n",
            "                                                                 \n",
            " batch_normalization_73 (Bat  (None, 7)                28        \n",
            " chNormalization)                                                \n",
            "                                                                 \n",
            " activation_55 (Activation)  (None, 7)                 0         \n",
            "                                                                 \n",
            "=================================================================\n",
            "Total params: 24,770,659\n",
            "Trainable params: 24,751,509\n",
            "Non-trainable params: 19,150\n",
            "_________________________________________________________________\n"
          ]
        }
      ],
      "source": [
        "AlexNet_Modell_2.summary()"
      ],
      "id": "XjSb3u4K9-1I"
    },
    {
      "cell_type": "code",
      "execution_count": null,
      "metadata": {
        "id": "aICF9YpR9-1J"
      },
      "outputs": [],
      "source": [
        "AlexNet_Modell_2.compile(optimizer=Adam(learning_rate=learning_rate),\n",
        "                       loss='categorical_crossentropy', metrics=['accuracy'])"
      ],
      "id": "aICF9YpR9-1J"
    },
    {
      "cell_type": "code",
      "execution_count": null,
      "metadata": {
        "id": "RWqjo6Da9-1J"
      },
      "outputs": [],
      "source": [
        "checkpointer_AlexNet_2 = [\n",
        "                      ModelCheckpoint('AlexNet_2_Adam_32,0.01.h5', monitor=\"val_accuracy\", verbose=1, save_best_only=True,mode=\"max\"),\n",
        "                      CSVLogger('AlexNet_2_Adam_32,0.01.log')\n",
        "                      ]"
      ],
      "id": "RWqjo6Da9-1J"
    },
    {
      "cell_type": "code",
      "execution_count": null,
      "metadata": {
        "id": "bV49xbKI9-1N"
      },
      "outputs": [],
      "source": [
        "%%time\n",
        "history_AlexNet_2 = AlexNet_Modell_2.fit(\n",
        "    X_train_48x48,\n",
        "    y_train_cat,\n",
        "    batch_size=batch_size,\n",
        "    epochs=epochs,\n",
        "    callbacks=checkpointer_AlexNet_2,\n",
        "    validation_data=(X_val_48x48, y_val_cat)\n",
        ")"
      ],
      "id": "bV49xbKI9-1N"
    },
    {
      "cell_type": "markdown",
      "metadata": {
        "id": "vKHMj0J-xtmS"
      },
      "source": [
        "#### (3) SGD: Dropout"
      ],
      "id": "vKHMj0J-xtmS"
    },
    {
      "cell_type": "code",
      "execution_count": null,
      "metadata": {
        "id": "sf7I6f0PxuQW"
      },
      "outputs": [],
      "source": [
        "AlexNet_Modell_3 = Sequential()\n",
        "\n",
        "#1.Convolutional Layer\n",
        "AlexNet_Modell_3.add(Conv2D(filters=96, input_shape=(48,48,1), kernel_size=(11,11), strides=(4,4), padding='same'))\n",
        "AlexNet_Modell_3.add(BatchNormalization())\n",
        "AlexNet_Modell_3.add(Activation('relu'))\n",
        "AlexNet_Modell_3.add(MaxPooling2D(pool_size=(2,2), strides=(2,2), padding='same'))\n",
        "\n",
        "#2.Convolutional Layer\n",
        "AlexNet_Modell_3.add(Conv2D(filters=256, kernel_size=(5, 5), strides=(1,1), padding='same'))\n",
        "AlexNet_Modell_3.add(BatchNormalization())\n",
        "AlexNet_Modell_3.add(Activation('relu'))\n",
        "AlexNet_Modell_3.add(MaxPooling2D(pool_size=(2,2), strides=(2,2), padding='same'))\n",
        "\n",
        "#3.Convolutional Layer\n",
        "AlexNet_Modell_3.add(Conv2D(filters=384, kernel_size=(3,3), strides=(1,1), padding='same'))\n",
        "AlexNet_Modell_3.add(BatchNormalization())\n",
        "AlexNet_Modell_3.add(Activation('relu'))\n",
        "\n",
        "#4.Convolutional Layer\n",
        "AlexNet_Modell_3.add(Conv2D(filters=384, kernel_size=(3,3), strides=(1,1), padding='same'))\n",
        "AlexNet_Modell_3.add(BatchNormalization())\n",
        "AlexNet_Modell_3.add(Activation('relu'))\n",
        "\n",
        "#5.Convolutional Layer\n",
        "AlexNet_Modell_3.add(Conv2D(filters=256, kernel_size=(3,3), strides=(1,1), padding='same'))\n",
        "AlexNet_Modell_3.add(BatchNormalization())\n",
        "AlexNet_Modell_3.add(Activation('relu'))\n",
        "AlexNet_Modell_3.add(MaxPooling2D(pool_size=(2,2), strides=(2,2), padding='same'))\n",
        "\n",
        "#Flatten layer\n",
        "AlexNet_Modell_3.add(Flatten())\n",
        "#1.Fully Connected Layer\n",
        "AlexNet_Modell_3.add(Dense(4096))\n",
        "AlexNet_Modell_3.add(BatchNormalization())\n",
        "AlexNet_Modell_3.add(Activation('relu'))\n",
        "AlexNet_Modell_3.add(Dropout(0.75))\n",
        "\n",
        "#2.Fully Connected Layer\n",
        "AlexNet_Modell_3.add(Dense(4096))\n",
        "AlexNet_Modell_3.add(BatchNormalization())\n",
        "AlexNet_Modell_3.add(Activation('relu'))\n",
        "AlexNet_Modell_3.add(Dropout(0.75))\n",
        "\n",
        "#Output Layer\n",
        "AlexNet_Modell_3.add(Dense(7))\n",
        "AlexNet_Modell_3.add(BatchNormalization())\n",
        "AlexNet_Modell_3.add(Activation('softmax'))"
      ],
      "id": "sf7I6f0PxuQW"
    },
    {
      "cell_type": "code",
      "execution_count": null,
      "metadata": {
        "colab": {
          "base_uri": "https://localhost:8080/"
        },
        "id": "DQ2fbPxVxuQX",
        "outputId": "e84393b9-0c24-4116-86ec-37d4271a005b"
      },
      "outputs": [
        {
          "name": "stdout",
          "output_type": "stream",
          "text": [
            "Model: \"sequential_18\"\n",
            "_________________________________________________________________\n",
            " Layer (type)                Output Shape              Param #   \n",
            "=================================================================\n",
            " conv2d_10 (Conv2D)          (None, 12, 12, 96)        11712     \n",
            "                                                                 \n",
            " batch_normalization_42 (Bat  (None, 12, 12, 96)       384       \n",
            " chNormalization)                                                \n",
            "                                                                 \n",
            " activation_24 (Activation)  (None, 12, 12, 96)        0         \n",
            "                                                                 \n",
            " max_pooling2d_6 (MaxPooling  (None, 6, 6, 96)         0         \n",
            " 2D)                                                             \n",
            "                                                                 \n",
            " conv2d_11 (Conv2D)          (None, 6, 6, 256)         614656    \n",
            "                                                                 \n",
            " batch_normalization_43 (Bat  (None, 6, 6, 256)        1024      \n",
            " chNormalization)                                                \n",
            "                                                                 \n",
            " activation_25 (Activation)  (None, 6, 6, 256)         0         \n",
            "                                                                 \n",
            " max_pooling2d_7 (MaxPooling  (None, 3, 3, 256)        0         \n",
            " 2D)                                                             \n",
            "                                                                 \n",
            " conv2d_12 (Conv2D)          (None, 3, 3, 384)         885120    \n",
            "                                                                 \n",
            " batch_normalization_44 (Bat  (None, 3, 3, 384)        1536      \n",
            " chNormalization)                                                \n",
            "                                                                 \n",
            " activation_26 (Activation)  (None, 3, 3, 384)         0         \n",
            "                                                                 \n",
            " conv2d_13 (Conv2D)          (None, 3, 3, 384)         1327488   \n",
            "                                                                 \n",
            " batch_normalization_45 (Bat  (None, 3, 3, 384)        1536      \n",
            " chNormalization)                                                \n",
            "                                                                 \n",
            " activation_27 (Activation)  (None, 3, 3, 384)         0         \n",
            "                                                                 \n",
            " conv2d_14 (Conv2D)          (None, 3, 3, 256)         884992    \n",
            "                                                                 \n",
            " batch_normalization_46 (Bat  (None, 3, 3, 256)        1024      \n",
            " chNormalization)                                                \n",
            "                                                                 \n",
            " activation_28 (Activation)  (None, 3, 3, 256)         0         \n",
            "                                                                 \n",
            " max_pooling2d_8 (MaxPooling  (None, 2, 2, 256)        0         \n",
            " 2D)                                                             \n",
            "                                                                 \n",
            " flatten_17 (Flatten)        (None, 1024)              0         \n",
            "                                                                 \n",
            " dense_47 (Dense)            (None, 4096)              4198400   \n",
            "                                                                 \n",
            " batch_normalization_47 (Bat  (None, 4096)             16384     \n",
            " chNormalization)                                                \n",
            "                                                                 \n",
            " activation_29 (Activation)  (None, 4096)              0         \n",
            "                                                                 \n",
            " dropout_14 (Dropout)        (None, 4096)              0         \n",
            "                                                                 \n",
            " dense_48 (Dense)            (None, 4096)              16781312  \n",
            "                                                                 \n",
            " batch_normalization_48 (Bat  (None, 4096)             16384     \n",
            " chNormalization)                                                \n",
            "                                                                 \n",
            " activation_30 (Activation)  (None, 4096)              0         \n",
            "                                                                 \n",
            " dropout_15 (Dropout)        (None, 4096)              0         \n",
            "                                                                 \n",
            " dense_49 (Dense)            (None, 7)                 28679     \n",
            "                                                                 \n",
            " batch_normalization_49 (Bat  (None, 7)                28        \n",
            " chNormalization)                                                \n",
            "                                                                 \n",
            " activation_31 (Activation)  (None, 7)                 0         \n",
            "                                                                 \n",
            "=================================================================\n",
            "Total params: 24,770,659\n",
            "Trainable params: 24,751,509\n",
            "Non-trainable params: 19,150\n",
            "_________________________________________________________________\n"
          ]
        }
      ],
      "source": [
        "AlexNet_Modell_3.summary()"
      ],
      "id": "DQ2fbPxVxuQX"
    },
    {
      "cell_type": "code",
      "execution_count": null,
      "metadata": {
        "id": "zQuwsRVQxuQY"
      },
      "outputs": [],
      "source": [
        "AlexNet_Modell_3.compile(optimizer=SGD(learning_rate=learning_rate),\n",
        "                       loss='categorical_crossentropy', metrics=['accuracy'])"
      ],
      "id": "zQuwsRVQxuQY"
    },
    {
      "cell_type": "code",
      "execution_count": null,
      "metadata": {
        "id": "VH7XiVq0xuQY"
      },
      "outputs": [],
      "source": [
        "checkpointer_AlexNet_3 = [\n",
        "                      ModelCheckpoint('AlexNet_3_SGD_32,0.01_DO.h5', monitor=\"val_accuracy\", verbose=1, save_best_only=True,mode=\"max\"),\n",
        "                      CSVLogger('AlexNet_3_SGD_32,0.01_DO.log')\n",
        "                      ]"
      ],
      "id": "VH7XiVq0xuQY"
    },
    {
      "cell_type": "code",
      "execution_count": null,
      "metadata": {
        "id": "dcH1EgS_xuQY"
      },
      "outputs": [],
      "source": [
        "%%time\n",
        "history_AlexNet_3 = AlexNet_Modell_3.fit(\n",
        "    X_train_48x48,\n",
        "    y_train_cat,\n",
        "    batch_size=batch_size,\n",
        "    epochs=epochs,\n",
        "    callbacks=checkpointer_AlexNet_3,\n",
        "    validation_data=(X_val_48x48, y_val_cat)\n",
        ")"
      ],
      "id": "dcH1EgS_xuQY"
    },
    {
      "cell_type": "markdown",
      "metadata": {
        "id": "2NVCM2Ez-Agx"
      },
      "source": [
        "#### (4) Adam: Dropout"
      ],
      "id": "2NVCM2Ez-Agx"
    },
    {
      "cell_type": "code",
      "execution_count": null,
      "metadata": {
        "id": "j2BaTdPB_Cvl"
      },
      "outputs": [],
      "source": [
        "AlexNet_Modell_4 = Sequential()\n",
        "\n",
        "#1.Convolutional Layer\n",
        "AlexNet_Modell_4.add(Conv2D(filters=96, input_shape=(48,48,1), kernel_size=(11,11), strides=(4,4), padding='same'))\n",
        "AlexNet_Modell_4.add(BatchNormalization())\n",
        "AlexNet_Modell_4.add(Activation('relu'))\n",
        "AlexNet_Modell_4.add(MaxPooling2D(pool_size=(2,2), strides=(2,2), padding='same'))\n",
        "\n",
        "#2.Convolutional Layer\n",
        "AlexNet_Modell_4.add(Conv2D(filters=256, kernel_size=(5, 5), strides=(1,1), padding='same'))\n",
        "AlexNet_Modell_4.add(BatchNormalization())\n",
        "AlexNet_Modell_4.add(Activation('relu'))\n",
        "AlexNet_Modell_4.add(MaxPooling2D(pool_size=(2,2), strides=(2,2), padding='same'))\n",
        "\n",
        "#3.Convolutional Layer\n",
        "AlexNet_Modell_4.add(Conv2D(filters=384, kernel_size=(3,3), strides=(1,1), padding='same'))\n",
        "AlexNet_Modell_4.add(BatchNormalization())\n",
        "AlexNet_Modell_4.add(Activation('relu'))\n",
        "\n",
        "#4.Convolutional Layer\n",
        "AlexNet_Modell_4.add(Conv2D(filters=384, kernel_size=(3,3), strides=(1,1), padding='same'))\n",
        "AlexNet_Modell_4.add(BatchNormalization())\n",
        "AlexNet_Modell_4.add(Activation('relu'))\n",
        "\n",
        "#5.Convolutional Layer\n",
        "AlexNet_Modell_4.add(Conv2D(filters=256, kernel_size=(3,3), strides=(1,1), padding='same'))\n",
        "AlexNet_Modell_4.add(BatchNormalization())\n",
        "AlexNet_Modell_4.add(Activation('relu'))\n",
        "AlexNet_Modell_4.add(MaxPooling2D(pool_size=(2,2), strides=(2,2), padding='same'))\n",
        "\n",
        "#Flatten layer\n",
        "AlexNet_Modell_4.add(Flatten())\n",
        "#1.Fully Connected Layer\n",
        "AlexNet_Modell_4.add(Dense(4096))\n",
        "AlexNet_Modell_4.add(BatchNormalization())\n",
        "AlexNet_Modell_4.add(Activation('relu'))\n",
        "AlexNet_Modell_4.add(Dropout(0.75))\n",
        "\n",
        "#2.Fully Connected Layer\n",
        "AlexNet_Modell_4.add(Dense(4096))\n",
        "AlexNet_Modell_4.add(BatchNormalization())\n",
        "AlexNet_Modell_4.add(Activation('relu'))\n",
        "AlexNet_Modell_4.add(Dropout(0.75))\n",
        "\n",
        "#Output Layer\n",
        "AlexNet_Modell_4.add(Dense(7))\n",
        "AlexNet_Modell_4.add(BatchNormalization())\n",
        "AlexNet_Modell_4.add(Activation('softmax'))"
      ],
      "id": "j2BaTdPB_Cvl"
    },
    {
      "cell_type": "code",
      "execution_count": null,
      "metadata": {
        "colab": {
          "base_uri": "https://localhost:8080/"
        },
        "id": "qXNWgYgg_Cvn",
        "outputId": "f81da504-22da-42da-8895-fc698f2abe94"
      },
      "outputs": [
        {
          "name": "stdout",
          "output_type": "stream",
          "text": [
            "Model: \"sequential_22\"\n",
            "_________________________________________________________________\n",
            " Layer (type)                Output Shape              Param #   \n",
            "=================================================================\n",
            " conv2d_30 (Conv2D)          (None, 12, 12, 96)        11712     \n",
            "                                                                 \n",
            " batch_normalization_74 (Bat  (None, 12, 12, 96)       384       \n",
            " chNormalization)                                                \n",
            "                                                                 \n",
            " activation_56 (Activation)  (None, 12, 12, 96)        0         \n",
            "                                                                 \n",
            " max_pooling2d_18 (MaxPoolin  (None, 6, 6, 96)         0         \n",
            " g2D)                                                            \n",
            "                                                                 \n",
            " conv2d_31 (Conv2D)          (None, 6, 6, 256)         614656    \n",
            "                                                                 \n",
            " batch_normalization_75 (Bat  (None, 6, 6, 256)        1024      \n",
            " chNormalization)                                                \n",
            "                                                                 \n",
            " activation_57 (Activation)  (None, 6, 6, 256)         0         \n",
            "                                                                 \n",
            " max_pooling2d_19 (MaxPoolin  (None, 3, 3, 256)        0         \n",
            " g2D)                                                            \n",
            "                                                                 \n",
            " conv2d_32 (Conv2D)          (None, 3, 3, 384)         885120    \n",
            "                                                                 \n",
            " batch_normalization_76 (Bat  (None, 3, 3, 384)        1536      \n",
            " chNormalization)                                                \n",
            "                                                                 \n",
            " activation_58 (Activation)  (None, 3, 3, 384)         0         \n",
            "                                                                 \n",
            " conv2d_33 (Conv2D)          (None, 3, 3, 384)         1327488   \n",
            "                                                                 \n",
            " batch_normalization_77 (Bat  (None, 3, 3, 384)        1536      \n",
            " chNormalization)                                                \n",
            "                                                                 \n",
            " activation_59 (Activation)  (None, 3, 3, 384)         0         \n",
            "                                                                 \n",
            " conv2d_34 (Conv2D)          (None, 3, 3, 256)         884992    \n",
            "                                                                 \n",
            " batch_normalization_78 (Bat  (None, 3, 3, 256)        1024      \n",
            " chNormalization)                                                \n",
            "                                                                 \n",
            " activation_60 (Activation)  (None, 3, 3, 256)         0         \n",
            "                                                                 \n",
            " max_pooling2d_20 (MaxPoolin  (None, 2, 2, 256)        0         \n",
            " g2D)                                                            \n",
            "                                                                 \n",
            " flatten_21 (Flatten)        (None, 1024)              0         \n",
            "                                                                 \n",
            " dense_59 (Dense)            (None, 4096)              4198400   \n",
            "                                                                 \n",
            " batch_normalization_79 (Bat  (None, 4096)             16384     \n",
            " chNormalization)                                                \n",
            "                                                                 \n",
            " activation_61 (Activation)  (None, 4096)              0         \n",
            "                                                                 \n",
            " dropout_18 (Dropout)        (None, 4096)              0         \n",
            "                                                                 \n",
            " dense_60 (Dense)            (None, 4096)              16781312  \n",
            "                                                                 \n",
            " batch_normalization_80 (Bat  (None, 4096)             16384     \n",
            " chNormalization)                                                \n",
            "                                                                 \n",
            " activation_62 (Activation)  (None, 4096)              0         \n",
            "                                                                 \n",
            " dropout_19 (Dropout)        (None, 4096)              0         \n",
            "                                                                 \n",
            " dense_61 (Dense)            (None, 7)                 28679     \n",
            "                                                                 \n",
            " batch_normalization_81 (Bat  (None, 7)                28        \n",
            " chNormalization)                                                \n",
            "                                                                 \n",
            " activation_63 (Activation)  (None, 7)                 0         \n",
            "                                                                 \n",
            "=================================================================\n",
            "Total params: 24,770,659\n",
            "Trainable params: 24,751,509\n",
            "Non-trainable params: 19,150\n",
            "_________________________________________________________________\n"
          ]
        }
      ],
      "source": [
        "AlexNet_Modell_4.summary()"
      ],
      "id": "qXNWgYgg_Cvn"
    },
    {
      "cell_type": "code",
      "execution_count": null,
      "metadata": {
        "id": "HykEvLxp_Cvp"
      },
      "outputs": [],
      "source": [
        "AlexNet_Modell_4.compile(optimizer=Adam(learning_rate=learning_rate),\n",
        "                       loss='categorical_crossentropy', metrics=['accuracy'])"
      ],
      "id": "HykEvLxp_Cvp"
    },
    {
      "cell_type": "code",
      "execution_count": null,
      "metadata": {
        "id": "-87uQTUf_Cvp"
      },
      "outputs": [],
      "source": [
        "checkpointer_AlexNet_5 = [\n",
        "                      ModelCheckpoint('AlexNet_4_Adam_32,0.01_DO.h5', monitor=\"val_accuracy\", verbose=1, save_best_only=True,mode=\"max\"),\n",
        "                      CSVLogger('AlexNet_4_Adam_32,0.01_DO.log')                      \n",
        "                      ]"
      ],
      "id": "-87uQTUf_Cvp"
    },
    {
      "cell_type": "code",
      "execution_count": null,
      "metadata": {
        "id": "54QJWTo5_Cvq"
      },
      "outputs": [],
      "source": [
        "%%time\n",
        "history_AlexNet_4 = AlexNet_Modell_4.fit(\n",
        "    X_train_48x48,\n",
        "    y_train_cat,\n",
        "    batch_size=batch_size,\n",
        "    epochs=epochs,\n",
        "    callbacks=checkpointer_AlexNet_4,\n",
        "    validation_data=(X_val_48x48, y_val_cat)\n",
        ")"
      ],
      "id": "54QJWTo5_Cvq"
    },
    {
      "cell_type": "markdown",
      "metadata": {
        "id": "EUH659RFf6c6"
      },
      "source": [
        "#### (5) SGD: Data Augmentation"
      ],
      "id": "EUH659RFf6c6"
    },
    {
      "cell_type": "code",
      "execution_count": null,
      "metadata": {
        "id": "DN0ibWm4f6c6"
      },
      "outputs": [],
      "source": [
        "AlexNet_Modell_5 = Sequential()\n",
        "\n",
        "#1.Convolutional Layer\n",
        "AlexNet_Modell_5.add(Conv2D(filters=96, input_shape=(48,48,1), kernel_size=(11,11), strides=(4,4), padding='same'))\n",
        "AlexNet_Modell_5.add(BatchNormalization())\n",
        "AlexNet_Modell_5.add(Activation('relu'))\n",
        "AlexNet_Modell_5.add(MaxPooling2D(pool_size=(2,2), strides=(2,2), padding='same'))\n",
        "\n",
        "#2.Convolutional Layer\n",
        "AlexNet_Modell_5.add(Conv2D(filters=256, kernel_size=(5, 5), strides=(1,1), padding='same'))\n",
        "AlexNet_Modell_5.add(BatchNormalization())\n",
        "AlexNet_Modell_5.add(Activation('relu'))\n",
        "AlexNet_Modell_5.add(MaxPooling2D(pool_size=(2,2), strides=(2,2), padding='same'))\n",
        "\n",
        "#3.Convolutional Layer\n",
        "AlexNet_Modell_5.add(Conv2D(filters=384, kernel_size=(3,3), strides=(1,1), padding='same'))\n",
        "AlexNet_Modell_5.add(BatchNormalization())\n",
        "AlexNet_Modell_5.add(Activation('relu'))\n",
        "\n",
        "#4.Convolutional Layer\n",
        "AlexNet_Modell_5.add(Conv2D(filters=384, kernel_size=(3,3), strides=(1,1), padding='same'))\n",
        "AlexNet_Modell_5.add(BatchNormalization())\n",
        "AlexNet_Modell_5.add(Activation('relu'))\n",
        "\n",
        "#5.Convolutional Layer\n",
        "AlexNet_Modell_5.add(Conv2D(filters=256, kernel_size=(3,3), strides=(1,1), padding='same'))\n",
        "AlexNet_Modell_5.add(BatchNormalization())\n",
        "AlexNet_Modell_5.add(Activation('relu'))\n",
        "AlexNet_Modell_5.add(MaxPooling2D(pool_size=(2,2), strides=(2,2), padding='same'))\n",
        "\n",
        "#Flatten layer\n",
        "AlexNet_Modell_5.add(Flatten())\n",
        "#1.Fully Connected Layer\n",
        "AlexNet_Modell_5.add(Dense(4096))\n",
        "AlexNet_Modell_5.add(BatchNormalization())\n",
        "AlexNet_Modell_5.add(Activation('relu'))\n",
        "\n",
        "#2.Fully Connected Layer\n",
        "AlexNet_Modell_5.add(Dense(4096))\n",
        "AlexNet_Modell_5.add(BatchNormalization())\n",
        "AlexNet_Modell_5.add(Activation('relu'))\n",
        "\n",
        "#Output Layer\n",
        "AlexNet_Modell_5.add(Dense(7))\n",
        "AlexNet_Modell_5.add(BatchNormalization())\n",
        "AlexNet_Modell_5.add(Activation('softmax'))"
      ],
      "id": "DN0ibWm4f6c6"
    },
    {
      "cell_type": "code",
      "execution_count": null,
      "metadata": {
        "id": "edJaYSzGf6c6"
      },
      "outputs": [],
      "source": [
        "AlexNet_Modell_5.compile(optimizer=SGD(learning_rate=learning_rate),\n",
        "                       loss='categorical_crossentropy', metrics=['accuracy'])"
      ],
      "id": "edJaYSzGf6c6"
    },
    {
      "cell_type": "code",
      "execution_count": null,
      "metadata": {
        "id": "rdMOkDMff6c7"
      },
      "outputs": [],
      "source": [
        "checkpointer_AlexNet_5 = [\n",
        "                      ModelCheckpoint('AlexNet_5_SGD_32,0.01_DA.h5', monitor=\"val_accuracy\", verbose=1, save_best_only=True,mode=\"max\"),\n",
        "                      CSVLogger('AlexNet_5_SGD_32,0.01_DA.log')                      \n",
        "                      ]"
      ],
      "id": "rdMOkDMff6c7"
    },
    {
      "cell_type": "code",
      "execution_count": null,
      "metadata": {
        "id": "rPr64Ve-f6c7"
      },
      "outputs": [],
      "source": [
        "%%time\n",
        "history_AlexNet_5 = AlexNet_Modell_5.fit_generator(\n",
        "    train_generator,\n",
        "    validation_data=(X_val_48x48, y_val_cat),\n",
        "    epochs=epochs,\n",
        "    callbacks=checkpointer_AlexNet_5)"
      ],
      "id": "rPr64Ve-f6c7"
    },
    {
      "cell_type": "markdown",
      "metadata": {
        "id": "YHS6pw6H8EAN"
      },
      "source": [
        "#### (6) Adam: Data Augmentation"
      ],
      "id": "YHS6pw6H8EAN"
    },
    {
      "cell_type": "code",
      "execution_count": null,
      "metadata": {
        "id": "nhito7qR8EAO"
      },
      "outputs": [],
      "source": [
        "AlexNet_Modell_6 = Sequential()\n",
        "\n",
        "#1.Convolutional Layer\n",
        "AlexNet_Modell_6.add(Conv2D(filters=96, input_shape=(48,48,1), kernel_size=(11,11), strides=(4,4), padding='same'))\n",
        "AlexNet_Modell_6.add(BatchNormalization())\n",
        "AlexNet_Modell_6.add(Activation('relu'))\n",
        "AlexNet_Modell_6.add(MaxPooling2D(pool_size=(2,2), strides=(2,2), padding='same'))\n",
        "\n",
        "#2.Convolutional Layer\n",
        "AlexNet_Modell_6.add(Conv2D(filters=256, kernel_size=(5, 5), strides=(1,1), padding='same'))\n",
        "AlexNet_Modell_6.add(BatchNormalization())\n",
        "AlexNet_Modell_6.add(Activation('relu'))\n",
        "AlexNet_Modell_6.add(MaxPooling2D(pool_size=(2,2), strides=(2,2), padding='same'))\n",
        "\n",
        "#3.Convolutional Layer\n",
        "AlexNet_Modell_6.add(Conv2D(filters=384, kernel_size=(3,3), strides=(1,1), padding='same'))\n",
        "AlexNet_Modell_6.add(BatchNormalization())\n",
        "AlexNet_Modell_6.add(Activation('relu'))\n",
        "\n",
        "#4.Convolutional Layer\n",
        "AlexNet_Modell_6.add(Conv2D(filters=384, kernel_size=(3,3), strides=(1,1), padding='same'))\n",
        "AlexNet_Modell_6.add(BatchNormalization())\n",
        "AlexNet_Modell_6.add(Activation('relu'))\n",
        "\n",
        "#5.Convolutional Layer\n",
        "AlexNet_Modell_6.add(Conv2D(filters=256, kernel_size=(3,3), strides=(1,1), padding='same'))\n",
        "AlexNet_Modell_6.add(BatchNormalization())\n",
        "AlexNet_Modell_6.add(Activation('relu'))\n",
        "AlexNet_Modell_6.add(MaxPooling2D(pool_size=(2,2), strides=(2,2), padding='same'))\n",
        "\n",
        "#Flatten layer\n",
        "AlexNet_Modell_6.add(Flatten())\n",
        "#1.Fully Connected Layer\n",
        "AlexNet_Modell_6.add(Dense(4096))\n",
        "AlexNet_Modell_6.add(BatchNormalization())\n",
        "AlexNet_Modell_6.add(Activation('relu'))\n",
        "\n",
        "#2.Fully Connected Layer\n",
        "AlexNet_Modell_6.add(Dense(4096))\n",
        "AlexNet_Modell_6.add(BatchNormalization())\n",
        "AlexNet_Modell_6.add(Activation('relu'))\n",
        "\n",
        "#Output Layer\n",
        "AlexNet_Modell_6.add(Dense(7))\n",
        "AlexNet_Modell_6.add(BatchNormalization())\n",
        "AlexNet_Modell_6.add(Activation('softmax'))"
      ],
      "id": "nhito7qR8EAO"
    },
    {
      "cell_type": "code",
      "execution_count": null,
      "metadata": {
        "id": "b9-KWQOw8EAQ"
      },
      "outputs": [],
      "source": [
        "AlexNet_Modell_6.compile(optimizer=Adam(learning_rate=learning_rate),\n",
        "                       loss='categorical_crossentropy', metrics=['accuracy'])"
      ],
      "id": "b9-KWQOw8EAQ"
    },
    {
      "cell_type": "code",
      "execution_count": null,
      "metadata": {
        "id": "XF408coK8EAQ"
      },
      "outputs": [],
      "source": [
        "checkpointer_AlexNet_6 = [\n",
        "                      ModelCheckpoint('AlexNet_6_Adam_32,0.01_DA.h5', monitor=\"val_accuracy\", verbose=1, save_best_only=True,mode=\"max\"),\n",
        "                      CSVLogger('AlexNet_6_Adam_32,0.01_DA.log')                      \n",
        "                      ]"
      ],
      "id": "XF408coK8EAQ"
    },
    {
      "cell_type": "code",
      "execution_count": null,
      "metadata": {
        "id": "s5ElPhNF8EAR"
      },
      "outputs": [],
      "source": [
        "%%time\n",
        "history_AlexNet_6 = AlexNet_Modell_6.fit_generator(\n",
        "    train_generator,\n",
        "    validation_data=(X_val_48x48, y_val_cat),\n",
        "    epochs=epochs,\n",
        "    callbacks=checkpointer_AlexNet_6)"
      ],
      "id": "s5ElPhNF8EAR"
    },
    {
      "cell_type": "markdown",
      "metadata": {
        "id": "x99TeslTxvnM"
      },
      "source": [
        "#### (7) SGD: Dropout + Data Augmentation"
      ],
      "id": "x99TeslTxvnM"
    },
    {
      "cell_type": "code",
      "execution_count": null,
      "metadata": {
        "id": "BGgsG5I59DWp"
      },
      "outputs": [],
      "source": [
        "AlexNet_Modell_7 = Sequential()\n",
        "\n",
        "#1.Convolutional Layer\n",
        "AlexNet_Modell_7.add(Conv2D(filters=96, input_shape=(48,48,1), kernel_size=(11,11), strides=(4,4), padding='same'))\n",
        "AlexNet_Modell_7.add(BatchNormalization())\n",
        "AlexNet_Modell_7.add(Activation('relu'))\n",
        "AlexNet_Modell_7.add(MaxPooling2D(pool_size=(2,2), strides=(2,2), padding='same'))\n",
        "\n",
        "#2.Convolutional Layer\n",
        "AlexNet_Modell_7.add(Conv2D(filters=256, kernel_size=(5, 5), strides=(1,1), padding='same'))\n",
        "AlexNet_Modell_7.add(BatchNormalization())\n",
        "AlexNet_Modell_7.add(Activation('relu'))\n",
        "AlexNet_Modell_7.add(MaxPooling2D(pool_size=(2,2), strides=(2,2), padding='same'))\n",
        "\n",
        "#3.Convolutional Layer\n",
        "AlexNet_Modell_7.add(Conv2D(filters=384, kernel_size=(3,3), strides=(1,1), padding='same'))\n",
        "AlexNet_Modell_7.add(BatchNormalization())\n",
        "AlexNet_Modell_7.add(Activation('relu'))\n",
        "\n",
        "#4.Convolutional Layer\n",
        "AlexNet_Modell_7.add(Conv2D(filters=384, kernel_size=(3,3), strides=(1,1), padding='same'))\n",
        "AlexNet_Modell_7.add(BatchNormalization())\n",
        "AlexNet_Modell_7.add(Activation('relu'))\n",
        "\n",
        "#5.Convolutional Layer\n",
        "AlexNet_Modell_7.add(Conv2D(filters=256, kernel_size=(3,3), strides=(1,1), padding='same'))\n",
        "AlexNet_Modell_7.add(BatchNormalization())\n",
        "AlexNet_Modell_7.add(Activation('relu'))\n",
        "AlexNet_Modell_7.add(MaxPooling2D(pool_size=(2,2), strides=(2,2), padding='same'))\n",
        "\n",
        "#Flatten layer\n",
        "AlexNet_Modell_7.add(Flatten())\n",
        "#1.Fully Connected Layer\n",
        "AlexNet_Modell_7.add(Dense(4096))\n",
        "AlexNet_Modell_7.add(BatchNormalization())\n",
        "AlexNet_Modell_7.add(Activation('relu'))\n",
        "AlexNet_Modell_7.add(Dropout(0.75))\n",
        "\n",
        "#2.Fully Connected Layer\n",
        "AlexNet_Modell_7.add(Dense(4096))\n",
        "AlexNet_Modell_7.add(BatchNormalization())\n",
        "AlexNet_Modell_7.add(Activation('relu'))\n",
        "AlexNet_Modell_7.add(Dropout(0.75))\n",
        "\n",
        "#Output Layer\n",
        "AlexNet_Modell_7.add(Dense(7))\n",
        "AlexNet_Modell_7.add(BatchNormalization())\n",
        "AlexNet_Modell_7.add(Activation('softmax'))"
      ],
      "id": "BGgsG5I59DWp"
    },
    {
      "cell_type": "code",
      "execution_count": null,
      "metadata": {
        "id": "lZT0DhFQ9WO1"
      },
      "outputs": [],
      "source": [
        "AlexNet_Modell_7.compile(optimizer=SGD(learning_rate=learning_rate),\n",
        "                       loss='categorical_crossentropy', metrics=['accuracy'])"
      ],
      "id": "lZT0DhFQ9WO1"
    },
    {
      "cell_type": "code",
      "execution_count": null,
      "metadata": {
        "id": "28hRKAeW9hZt"
      },
      "outputs": [],
      "source": [
        "checkpointer_AlexNet_7 = [\n",
        "                      ModelCheckpoint('AlexNet_7_SGD_32,0.01_DO+DA.h5', monitor=\"val_accuracy\", verbose=1, save_best_only=True,mode=\"max\"),\n",
        "                      CSVLogger('AlexNet_7_SGD_32,0.01_DO+DA.log')                      \n",
        "                      ]"
      ],
      "id": "28hRKAeW9hZt"
    },
    {
      "cell_type": "code",
      "execution_count": null,
      "metadata": {
        "id": "oJHPKooPNBOI"
      },
      "outputs": [],
      "source": [
        "%%time\n",
        "history_AlexNet_7 = AlexNet_Modell_7.fit_generator(\n",
        "    train_generator,\n",
        "    validation_data=(X_val_48x48, y_val_cat),\n",
        "    epochs=epochs,\n",
        "    callbacks=checkpointer_AlexNet_7)"
      ],
      "id": "oJHPKooPNBOI"
    },
    {
      "cell_type": "markdown",
      "metadata": {
        "id": "M0IW7ltU_hNo"
      },
      "source": [
        "#### (8) Adam: Dropout + Data Augmentation"
      ],
      "id": "M0IW7ltU_hNo"
    },
    {
      "cell_type": "code",
      "execution_count": null,
      "metadata": {
        "id": "vnHSkIsB_urt"
      },
      "outputs": [],
      "source": [
        "AlexNet_Modell_8 = Sequential()\n",
        "\n",
        "#1.Convolutional Layer\n",
        "AlexNet_Modell_8.add(Conv2D(filters=96, input_shape=(48,48,1), kernel_size=(11,11), strides=(4,4), padding='same'))\n",
        "AlexNet_Modell_8.add(BatchNormalization())\n",
        "AlexNet_Modell_8.add(Activation('relu'))\n",
        "AlexNet_Modell_8.add(MaxPooling2D(pool_size=(2,2), strides=(2,2), padding='same'))\n",
        "\n",
        "#2.Convolutional Layer\n",
        "AlexNet_Modell_8.add(Conv2D(filters=256, kernel_size=(5, 5), strides=(1,1), padding='same'))\n",
        "AlexNet_Modell_8.add(BatchNormalization())\n",
        "AlexNet_Modell_8.add(Activation('relu'))\n",
        "AlexNet_Modell_8.add(MaxPooling2D(pool_size=(2,2), strides=(2,2), padding='same'))\n",
        "\n",
        "#3.Convolutional Layer\n",
        "AlexNet_Modell_8.add(Conv2D(filters=384, kernel_size=(3,3), strides=(1,1), padding='same'))\n",
        "AlexNet_Modell_8.add(BatchNormalization())\n",
        "AlexNet_Modell_8.add(Activation('relu'))\n",
        "\n",
        "#4.Convolutional Layer\n",
        "AlexNet_Modell_8.add(Conv2D(filters=384, kernel_size=(3,3), strides=(1,1), padding='same'))\n",
        "AlexNet_Modell_8.add(BatchNormalization())\n",
        "AlexNet_Modell_8.add(Activation('relu'))\n",
        "\n",
        "#5.Convolutional Layer\n",
        "AlexNet_Modell_8.add(Conv2D(filters=256, kernel_size=(3,3), strides=(1,1), padding='same'))\n",
        "AlexNet_Modell_8.add(BatchNormalization())\n",
        "AlexNet_Modell_8.add(Activation('relu'))\n",
        "AlexNet_Modell_8.add(MaxPooling2D(pool_size=(2,2), strides=(2,2), padding='same'))\n",
        "\n",
        "#Flatten layer\n",
        "AlexNet_Modell_8.add(Flatten())\n",
        "#1.Fully Connected Layer\n",
        "AlexNet_Modell_8.add(Dense(4096))\n",
        "AlexNet_Modell_8.add(BatchNormalization())\n",
        "AlexNet_Modell_8.add(Activation('relu'))\n",
        "AlexNet_Modell_8.add(Dropout(0.75))\n",
        "\n",
        "#2.Fully Connected Layer\n",
        "AlexNet_Modell_8.add(Dense(4096))\n",
        "AlexNet_Modell_8.add(BatchNormalization())\n",
        "AlexNet_Modell_8.add(Activation('relu'))\n",
        "AlexNet_Modell_8.add(Dropout(0.75))\n",
        "\n",
        "#Output Layer\n",
        "AlexNet_Modell_8.add(Dense(7))\n",
        "AlexNet_Modell_8.add(BatchNormalization())\n",
        "AlexNet_Modell_8.add(Activation('softmax'))"
      ],
      "id": "vnHSkIsB_urt"
    },
    {
      "cell_type": "code",
      "execution_count": null,
      "metadata": {
        "id": "a8bZ_fuy_uru"
      },
      "outputs": [],
      "source": [
        "AlexNet_Modell_8.compile(optimizer=Adam(learning_rate=learning_rate),\n",
        "                       loss='categorical_crossentropy', metrics=['accuracy'])"
      ],
      "id": "a8bZ_fuy_uru"
    },
    {
      "cell_type": "code",
      "execution_count": null,
      "metadata": {
        "id": "ATxxKuzd_uru"
      },
      "outputs": [],
      "source": [
        "checkpointer_AlexNet_8 = [\n",
        "                      ModelCheckpoint('AlexNet_8_Adam_32,0.01_DO+DA.h5', monitor=\"val_accuracy\", verbose=1, save_best_only=True,mode=\"max\"),\n",
        "                      CSVLogger('AlexNet_8_Adam_32,0.01_DO+DA.log')\n",
        "                      ]"
      ],
      "id": "ATxxKuzd_uru"
    },
    {
      "cell_type": "code",
      "execution_count": null,
      "metadata": {
        "id": "fT-ElV_6_urv"
      },
      "outputs": [],
      "source": [
        "%%time\n",
        "history_AlexNet_8 = AlexNet_Modell_8.fit_generator(\n",
        "    train_generator,\n",
        "    validation_data=(X_val_48x48, y_val_cat),\n",
        "    epochs=epochs,\n",
        "    callbacks=checkpointer_AlexNet_8)"
      ],
      "id": "fT-ElV_6_urv"
    },
    {
      "cell_type": "markdown",
      "metadata": {
        "id": "105820ac-1c1b-4449-ae08-dc974eff53c7"
      },
      "source": [
        "## VGG16"
      ],
      "id": "105820ac-1c1b-4449-ae08-dc974eff53c7"
    },
    {
      "cell_type": "markdown",
      "metadata": {
        "id": "6e48c1c1-47a9-474b-ba82-9991f1bdc35f"
      },
      "source": [
        "### VGG16 Modelle"
      ],
      "id": "6e48c1c1-47a9-474b-ba82-9991f1bdc35f"
    },
    {
      "cell_type": "markdown",
      "metadata": {
        "id": "W4ZMciMSDrCF"
      },
      "source": [
        "#### Nicht vortrainiertes VGG"
      ],
      "id": "W4ZMciMSDrCF"
    },
    {
      "cell_type": "markdown",
      "metadata": {
        "id": "SiEvkxZgCN1I"
      },
      "source": [
        "##### (1) SGD: Blanco"
      ],
      "id": "SiEvkxZgCN1I"
    },
    {
      "cell_type": "code",
      "execution_count": null,
      "metadata": {
        "colab": {
          "base_uri": "https://localhost:8080/"
        },
        "id": "509be337-5fac-41a3-b963-512afafec46e",
        "outputId": "a78e06f9-d27a-483f-e79e-c49410b1da56"
      },
      "outputs": [
        {
          "name": "stdout",
          "output_type": "stream",
          "text": [
            "Model: \"sequential_11\"\n",
            "_________________________________________________________________\n",
            " Layer (type)                Output Shape              Param #   \n",
            "=================================================================\n",
            " vgg16 (Functional)          (None, 1, 1, 512)         14713536  \n",
            "                                                                 \n",
            " flatten_11 (Flatten)        (None, 512)               0         \n",
            "                                                                 \n",
            " dense_29 (Dense)            (None, 4096)              2101248   \n",
            "                                                                 \n",
            " batch_normalization_18 (Bat  (None, 4096)             16384     \n",
            " chNormalization)                                                \n",
            "                                                                 \n",
            " activation (Activation)     (None, 4096)              0         \n",
            "                                                                 \n",
            " dense_30 (Dense)            (None, 4096)              16781312  \n",
            "                                                                 \n",
            " batch_normalization_19 (Bat  (None, 4096)             16384     \n",
            " chNormalization)                                                \n",
            "                                                                 \n",
            " activation_1 (Activation)   (None, 4096)              0         \n",
            "                                                                 \n",
            " dense_31 (Dense)            (None, 7)                 28679     \n",
            "                                                                 \n",
            "=================================================================\n",
            "Total params: 33,657,543\n",
            "Trainable params: 33,641,159\n",
            "Non-trainable params: 16,384\n",
            "_________________________________________________________________\n"
          ]
        }
      ],
      "source": [
        "VGG16_Modell_1 = Sequential()\n",
        "VGG16_Modell_1.add(VGG16_ohne_MLP)\n",
        "VGG16_Modell_1.add(Flatten())\n",
        "\n",
        "VGG16_Modell_1.add(Dense(4096))\n",
        "VGG16_Modell_1.add(BatchNormalization())\n",
        "VGG16_Modell_1.add(Activation('relu'))\n",
        "\n",
        "VGG16_Modell_1.add(Dense(4096))\n",
        "VGG16_Modell_1.add(BatchNormalization())\n",
        "VGG16_Modell_1.add(Activation('relu'))\n",
        "\n",
        "VGG16_Modell_1.add(Dense(7, activation='softmax'))\n",
        "\n",
        "VGG16_Modell_1.summary()"
      ],
      "id": "509be337-5fac-41a3-b963-512afafec46e"
    },
    {
      "cell_type": "code",
      "execution_count": null,
      "metadata": {
        "id": "88a73604-89db-42c6-beca-889ae7a83b2d"
      },
      "outputs": [],
      "source": [
        "VGG16_Modell_1.compile(optimizer=SGD(learning_rate=learning_rate),\n",
        "                     loss='categorical_crossentropy', metrics=['accuracy'])"
      ],
      "id": "88a73604-89db-42c6-beca-889ae7a83b2d"
    },
    {
      "cell_type": "code",
      "execution_count": null,
      "metadata": {
        "id": "v6gtOO5Pyee9"
      },
      "outputs": [],
      "source": [
        "checkpointer_VGG16_1 = [\n",
        "                      ModelCheckpoint('VGG16_1_SGD_32,0.01.h5', monitor=\"val_accuracy\", verbose=1, save_best_only=True,mode=\"max\"),\n",
        "                      CSVLogger('VGG16_1_SGD_32,0.01.log')                    \n",
        "                      ]"
      ],
      "id": "v6gtOO5Pyee9"
    },
    {
      "cell_type": "code",
      "execution_count": null,
      "metadata": {
        "id": "c1102bb8-7a19-49cf-b891-b58d5947a3bc"
      },
      "outputs": [],
      "source": [
        "%%time\n",
        "history_VGG16_1 = VGG16_Modell_1.fit(\n",
        "    X_train_48x48,\n",
        "    y_train_cat,\n",
        "    batch_size=batch_size,\n",
        "    epochs=epochs,\n",
        "    callbacks=checkpointer_VGG16_1,\n",
        "    validation_data=(X_val_48x48, y_val_cat)\n",
        ")"
      ],
      "id": "c1102bb8-7a19-49cf-b891-b58d5947a3bc"
    },
    {
      "cell_type": "markdown",
      "metadata": {
        "id": "Bah9B2T0EbRg"
      },
      "source": [
        "##### (2) Adam: Blanco"
      ],
      "id": "Bah9B2T0EbRg"
    },
    {
      "cell_type": "code",
      "execution_count": null,
      "metadata": {
        "colab": {
          "base_uri": "https://localhost:8080/"
        },
        "id": "EivZQGLS-vyp",
        "outputId": "d671c760-22a6-4639-fc83-baa08a5c37d2"
      },
      "outputs": [
        {
          "name": "stdout",
          "output_type": "stream",
          "text": [
            "Model: \"sequential_6\"\n",
            "_________________________________________________________________\n",
            " Layer (type)                Output Shape              Param #   \n",
            "=================================================================\n",
            " vgg16 (Functional)          (None, 1, 1, 512)         14713536  \n",
            "                                                                 \n",
            " flatten_5 (Flatten)         (None, 512)               0         \n",
            "                                                                 \n",
            " dense_15 (Dense)            (None, 4096)              2101248   \n",
            "                                                                 \n",
            " activation_28 (Activation)  (None, 4096)              0         \n",
            "                                                                 \n",
            " batch_normalization_28 (Bat  (None, 4096)             16384     \n",
            " chNormalization)                                                \n",
            "                                                                 \n",
            " dense_16 (Dense)            (None, 4096)              16781312  \n",
            "                                                                 \n",
            " activation_29 (Activation)  (None, 4096)              0         \n",
            "                                                                 \n",
            " batch_normalization_29 (Bat  (None, 4096)             16384     \n",
            " chNormalization)                                                \n",
            "                                                                 \n",
            " dense_17 (Dense)            (None, 7)                 28679     \n",
            "                                                                 \n",
            "=================================================================\n",
            "Total params: 33,657,543\n",
            "Trainable params: 33,641,159\n",
            "Non-trainable params: 16,384\n",
            "_________________________________________________________________\n"
          ]
        }
      ],
      "source": [
        "VGG16_Modell_2 = Sequential()\n",
        "VGG16_Modell_2.add(VGG16_ohne_MLP)\n",
        "VGG16_Modell_2.add(Flatten())\n",
        "\n",
        "VGG16_Modell_2.add(Dense(4096))\n",
        "VGG16_Modell_2.add(Activation('relu'))\n",
        "VGG16_Modell_2.add(BatchNormalization())\n",
        "\n",
        "VGG16_Modell_2.add(Dense(4096))\n",
        "VGG16_Modell_2.add(Activation('relu'))\n",
        "VGG16_Modell_2.add(BatchNormalization())\n",
        "\n",
        "VGG16_Modell_2.add(Dense(7, activation='softmax'))\n",
        "\n",
        "VGG16_Modell_2.summary()"
      ],
      "id": "EivZQGLS-vyp"
    },
    {
      "cell_type": "code",
      "execution_count": null,
      "metadata": {
        "id": "gav-ym-sJpyQ"
      },
      "outputs": [],
      "source": [
        "VGG16_Modell_2.compile(optimizer=Adam(learning_rate=learning_rate),\n",
        "                     loss='categorical_crossentropy', metrics=['accuracy'])"
      ],
      "id": "gav-ym-sJpyQ"
    },
    {
      "cell_type": "code",
      "execution_count": null,
      "metadata": {
        "id": "FP4D6izDyXbJ"
      },
      "outputs": [],
      "source": [
        "checkpointer_VGG16_2 = [\n",
        "                      ModelCheckpoint('VGG16_2_Adam_32,0.01.h5', monitor=\"val_accuracy\", verbose=1, save_best_only=True,mode=\"max\"),\n",
        "                      CSVLogger('VGG16_2_Adam_32,0.01.log')\n",
        "                      ]"
      ],
      "id": "FP4D6izDyXbJ"
    },
    {
      "cell_type": "code",
      "execution_count": null,
      "metadata": {
        "id": "PdU4TWS8JpyQ"
      },
      "outputs": [],
      "source": [
        "%%time\n",
        "history_VGG16_2 = VGG16_Modell_2.fit(\n",
        "    X_train_48x48,\n",
        "    y_train_cat,\n",
        "    batch_size=batch_size,\n",
        "    epochs=epochs,\n",
        "    callbacks=checkpointer_VGG16_2,\n",
        "    validation_data=(X_val_48x48, y_val_cat)\n",
        ")"
      ],
      "id": "PdU4TWS8JpyQ"
    },
    {
      "cell_type": "markdown",
      "metadata": {
        "id": "ohXWq43TEMtV"
      },
      "source": [
        "##### (3) SGD: Dropout"
      ],
      "id": "ohXWq43TEMtV"
    },
    {
      "cell_type": "code",
      "execution_count": null,
      "metadata": {
        "colab": {
          "base_uri": "https://localhost:8080/"
        },
        "id": "OEGZU2wcE3Zk",
        "outputId": "881c4dcd-35e9-448c-bda5-8203978a148b"
      },
      "outputs": [
        {
          "name": "stdout",
          "output_type": "stream",
          "text": [
            "Model: \"sequential_13\"\n",
            "_________________________________________________________________\n",
            " Layer (type)                Output Shape              Param #   \n",
            "=================================================================\n",
            " vgg16 (Functional)          (None, 1, 1, 512)         14713536  \n",
            "                                                                 \n",
            " flatten_13 (Flatten)        (None, 512)               0         \n",
            "                                                                 \n",
            " dense_35 (Dense)            (None, 4096)              2101248   \n",
            "                                                                 \n",
            " batch_normalization_22 (Bat  (None, 4096)             16384     \n",
            " chNormalization)                                                \n",
            "                                                                 \n",
            " activation_4 (Activation)   (None, 4096)              0         \n",
            "                                                                 \n",
            " dropout_12 (Dropout)        (None, 4096)              0         \n",
            "                                                                 \n",
            " dense_36 (Dense)            (None, 4096)              16781312  \n",
            "                                                                 \n",
            " batch_normalization_23 (Bat  (None, 4096)             16384     \n",
            " chNormalization)                                                \n",
            "                                                                 \n",
            " activation_5 (Activation)   (None, 4096)              0         \n",
            "                                                                 \n",
            " dropout_13 (Dropout)        (None, 4096)              0         \n",
            "                                                                 \n",
            " dense_37 (Dense)            (None, 7)                 28679     \n",
            "                                                                 \n",
            "=================================================================\n",
            "Total params: 33,657,543\n",
            "Trainable params: 33,641,159\n",
            "Non-trainable params: 16,384\n",
            "_________________________________________________________________\n"
          ]
        }
      ],
      "source": [
        "VGG16_Modell_3 = Sequential()\n",
        "VGG16_Modell_3.add(VGG16_ohne_MLP)\n",
        "VGG16_Modell_3.add(Flatten())\n",
        "\n",
        "VGG16_Modell_3.add(Dense(4096))\n",
        "VGG16_Modell_3.add(BatchNormalization())\n",
        "VGG16_Modell_3.add(Activation('relu'))\n",
        "VGG16_Modell_3.add(Dropout(0.75))\n",
        "\n",
        "VGG16_Modell_3.add(Dense(4096))\n",
        "VGG16_Modell_3.add(BatchNormalization())\n",
        "VGG16_Modell_3.add(Activation('relu'))\n",
        "VGG16_Modell_3.add(Dropout(0.75))\n",
        "\n",
        "VGG16_Modell_3.add(Dense(7, activation='softmax'))\n",
        "VGG16_Modell_3.summary()"
      ],
      "id": "OEGZU2wcE3Zk"
    },
    {
      "cell_type": "code",
      "execution_count": null,
      "metadata": {
        "id": "b1z8YvbJE3Zl"
      },
      "outputs": [],
      "source": [
        "VGG16_Modell_3.compile(optimizer=SGD(learning_rate=learning_rate),\n",
        "                     loss='categorical_crossentropy', metrics=['accuracy'])"
      ],
      "id": "b1z8YvbJE3Zl"
    },
    {
      "cell_type": "code",
      "execution_count": null,
      "metadata": {
        "id": "E8q8x5kzybRX"
      },
      "outputs": [],
      "source": [
        "checkpointer_VGG16_3 = [\n",
        "                      ModelCheckpoint('VGG16_3_SGD_32,0.01_DO.h5', monitor=\"val_accuracy\", verbose=1, save_best_only=True,mode=\"max\"),\n",
        "                      CSVLogger('VGG16_3_SGD_32,0.01_DO.log')\n",
        "                      ]"
      ],
      "id": "E8q8x5kzybRX"
    },
    {
      "cell_type": "code",
      "execution_count": null,
      "metadata": {
        "id": "r9-srENuE3Zm"
      },
      "outputs": [],
      "source": [
        "%%time\n",
        "history_VGG16_3 = VGG16_Modell_3.fit(\n",
        "    X_train_48x48,\n",
        "    y_train_cat,\n",
        "    batch_size=batch_size,\n",
        "    epochs=epochs,\n",
        "    callbacks=checkpointer_VGG16_3,\n",
        "    validation_data=(X_val_48x48, y_val_cat)\n",
        ")"
      ],
      "id": "r9-srENuE3Zm"
    },
    {
      "cell_type": "markdown",
      "metadata": {
        "id": "jJSBr71IKFQC"
      },
      "source": [
        "##### (4) Adam: Dropout"
      ],
      "id": "jJSBr71IKFQC"
    },
    {
      "cell_type": "code",
      "execution_count": null,
      "metadata": {
        "colab": {
          "base_uri": "https://localhost:8080/"
        },
        "id": "rgnbOMuAKTn7",
        "outputId": "5b935dc3-b03a-4dba-8b76-af99e7b73978"
      },
      "outputs": [
        {
          "name": "stdout",
          "output_type": "stream",
          "text": [
            "Model: \"sequential_8\"\n",
            "_________________________________________________________________\n",
            " Layer (type)                Output Shape              Param #   \n",
            "=================================================================\n",
            " vgg16 (Functional)          (None, 1, 1, 512)         14713536  \n",
            "                                                                 \n",
            " flatten_7 (Flatten)         (None, 512)               0         \n",
            "                                                                 \n",
            " dense_21 (Dense)            (None, 4096)              2101248   \n",
            "                                                                 \n",
            " batch_normalization_32 (Bat  (None, 4096)             16384     \n",
            " chNormalization)                                                \n",
            "                                                                 \n",
            " activation_32 (Activation)  (None, 4096)              0         \n",
            "                                                                 \n",
            " dropout_4 (Dropout)         (None, 4096)              0         \n",
            "                                                                 \n",
            " dense_22 (Dense)            (None, 4096)              16781312  \n",
            "                                                                 \n",
            " batch_normalization_33 (Bat  (None, 4096)             16384     \n",
            " chNormalization)                                                \n",
            "                                                                 \n",
            " activation_33 (Activation)  (None, 4096)              0         \n",
            "                                                                 \n",
            " dropout_5 (Dropout)         (None, 4096)              0         \n",
            "                                                                 \n",
            " dense_23 (Dense)            (None, 7)                 28679     \n",
            "                                                                 \n",
            "=================================================================\n",
            "Total params: 33,657,543\n",
            "Trainable params: 33,641,159\n",
            "Non-trainable params: 16,384\n",
            "_________________________________________________________________\n"
          ]
        }
      ],
      "source": [
        "VGG16_Modell_4 = Sequential()\n",
        "VGG16_Modell_4.add(VGG16_ohne_MLP)\n",
        "VGG16_Modell_4.add(Flatten())\n",
        "\n",
        "VGG16_Modell_4.add(Dense(4096))\n",
        "VGG16_Modell_4.add(BatchNormalization())\n",
        "VGG16_Modell_4.add(Activation('relu'))\n",
        "VGG16_Modell_4.add(Dropout(0.75))\n",
        "\n",
        "VGG16_Modell_4.add(Dense(4096))\n",
        "VGG16_Modell_4.add(BatchNormalization())\n",
        "VGG16_Modell_4.add(Activation('relu'))\n",
        "VGG16_Modell_4.add(Dropout(0.75))\n",
        "\n",
        "VGG16_Modell_4.add(Dense(7, activation='softmax'))\n",
        "\n",
        "VGG16_Modell_4.summary()"
      ],
      "id": "rgnbOMuAKTn7"
    },
    {
      "cell_type": "code",
      "execution_count": null,
      "metadata": {
        "id": "Y0ZLmW3HKTn8"
      },
      "outputs": [],
      "source": [
        "VGG16_Modell_4.compile(optimizer=Adam(learning_rate=learning_rate),\n",
        "                     loss='categorical_crossentropy', metrics=['accuracy'])"
      ],
      "id": "Y0ZLmW3HKTn8"
    },
    {
      "cell_type": "code",
      "execution_count": null,
      "metadata": {
        "id": "O0hz-v17yVE0"
      },
      "outputs": [],
      "source": [
        "checkpointer_VGG16_4 = [\n",
        "                      ModelCheckpoint('VGG16_4_Adam_32,0.01_DO.h5', monitor=\"val_accuracy\", verbose=1, save_best_only=True,mode=\"max\"),\n",
        "                      CSVLogger('VGG16_4_Adam_32,0.01_DO.log')\n",
        "                      ]"
      ],
      "id": "O0hz-v17yVE0"
    },
    {
      "cell_type": "code",
      "execution_count": null,
      "metadata": {
        "id": "C8uBalpWKTn8"
      },
      "outputs": [],
      "source": [
        "%%time\n",
        "history_VGG16_4 = VGG16_Modell_4.fit(\n",
        "    X_train_48x48,\n",
        "    y_train_cat,\n",
        "    batch_size=batch_size,\n",
        "    epochs=epochs,\n",
        "    callbacks=checkpointer_VGG16_4,\n",
        "    validation_data=(X_val_48x48, y_val_cat)\n",
        ")"
      ],
      "id": "C8uBalpWKTn8"
    },
    {
      "cell_type": "markdown",
      "metadata": {
        "id": "rBEq6RCKDAuu"
      },
      "source": [
        "##### (5) SGD: Data Augmentation"
      ],
      "id": "rBEq6RCKDAuu"
    },
    {
      "cell_type": "code",
      "execution_count": null,
      "metadata": {
        "colab": {
          "base_uri": "https://localhost:8080/"
        },
        "id": "qWn3aCMSDAuv",
        "outputId": "0cbbca45-4855-4582-c332-d8d3ed538481"
      },
      "outputs": [
        {
          "name": "stdout",
          "output_type": "stream",
          "text": [
            "Model: \"sequential_4\"\n",
            "_________________________________________________________________\n",
            " Layer (type)                Output Shape              Param #   \n",
            "=================================================================\n",
            " vgg16 (Functional)          (None, 1, 1, 512)         14713536  \n",
            "                                                                 \n",
            " flatten_3 (Flatten)         (None, 512)               0         \n",
            "                                                                 \n",
            " dense_9 (Dense)             (None, 4096)              2101248   \n",
            "                                                                 \n",
            " batch_normalization_24 (Bat  (None, 4096)             16384     \n",
            " chNormalization)                                                \n",
            "                                                                 \n",
            " activation_24 (Activation)  (None, 4096)              0         \n",
            "                                                                 \n",
            " dense_10 (Dense)            (None, 4096)              16781312  \n",
            "                                                                 \n",
            " batch_normalization_25 (Bat  (None, 4096)             16384     \n",
            " chNormalization)                                                \n",
            "                                                                 \n",
            " activation_25 (Activation)  (None, 4096)              0         \n",
            "                                                                 \n",
            " dense_11 (Dense)            (None, 7)                 28679     \n",
            "                                                                 \n",
            "=================================================================\n",
            "Total params: 33,657,543\n",
            "Trainable params: 33,641,159\n",
            "Non-trainable params: 16,384\n",
            "_________________________________________________________________\n"
          ]
        }
      ],
      "source": [
        "VGG16_Modell_5 = Sequential()\n",
        "VGG16_Modell_5.add(VGG16_ohne_MLP)\n",
        "VGG16_Modell_5.add(Flatten())\n",
        "\n",
        "VGG16_Modell_5.add(Dense(4096))\n",
        "VGG16_Modell_5.add(BatchNormalization())\n",
        "VGG16_Modell_5.add(Activation('relu'))\n",
        "\n",
        "VGG16_Modell_5.add(Dense(4096))\n",
        "VGG16_Modell_5.add(BatchNormalization())\n",
        "VGG16_Modell_5.add(Activation('relu'))\n",
        "\n",
        "VGG16_Modell_5.add(Dense(7, activation='softmax'))\n",
        "\n",
        "VGG16_Modell_5.summary()"
      ],
      "id": "qWn3aCMSDAuv"
    },
    {
      "cell_type": "code",
      "execution_count": null,
      "metadata": {
        "id": "wUXDXqaNDAuv"
      },
      "outputs": [],
      "source": [
        "VGG16_Modell_5.compile(optimizer=SGD(learning_rate=learning_rate),\n",
        "                     loss='categorical_crossentropy', metrics=['accuracy'])"
      ],
      "id": "wUXDXqaNDAuv"
    },
    {
      "cell_type": "code",
      "execution_count": null,
      "metadata": {
        "id": "BlhKvHisDAuv"
      },
      "outputs": [],
      "source": [
        "checkpointer_VGG16_5 = [\n",
        "                      ModelCheckpoint('VGG16_5_SGD_32,0.01_DA.h5', monitor=\"val_accuracy\", verbose=1, save_best_only=True,mode=\"max\"),\n",
        "                      CSVLogger('VGG16_5_SGD_32,0.01_DA.log')\n",
        "                      ]"
      ],
      "id": "BlhKvHisDAuv"
    },
    {
      "cell_type": "code",
      "execution_count": null,
      "metadata": {
        "id": "vFt8raOsDAuw"
      },
      "outputs": [],
      "source": [
        "%%time\n",
        "history_VGG_5 = VGG16_Modell_5.fit_generator(\n",
        "    train_generator,\n",
        "    validation_data=(X_val_48x48, y_val_cat),\n",
        "    epochs=epochs,\n",
        "    callbacks=checkpointer_VGG16_5)  "
      ],
      "id": "vFt8raOsDAuw"
    },
    {
      "cell_type": "markdown",
      "metadata": {
        "id": "UBlQlo5ADpen"
      },
      "source": [
        "##### (6) Adam: Data Augmentation"
      ],
      "id": "UBlQlo5ADpen"
    },
    {
      "cell_type": "code",
      "execution_count": null,
      "metadata": {
        "colab": {
          "base_uri": "https://localhost:8080/"
        },
        "id": "02GcLZavDpep",
        "outputId": "efa28802-533f-4e37-ee24-2742f8bf140d"
      },
      "outputs": [
        {
          "name": "stdout",
          "output_type": "stream",
          "text": [
            "Model: \"sequential_5\"\n",
            "_________________________________________________________________\n",
            " Layer (type)                Output Shape              Param #   \n",
            "=================================================================\n",
            " vgg16 (Functional)          (None, 1, 1, 512)         14713536  \n",
            "                                                                 \n",
            " flatten_4 (Flatten)         (None, 512)               0         \n",
            "                                                                 \n",
            " dense_12 (Dense)            (None, 4096)              2101248   \n",
            "                                                                 \n",
            " batch_normalization_26 (Bat  (None, 4096)             16384     \n",
            " chNormalization)                                                \n",
            "                                                                 \n",
            " activation_26 (Activation)  (None, 4096)              0         \n",
            "                                                                 \n",
            " dense_13 (Dense)            (None, 4096)              16781312  \n",
            "                                                                 \n",
            " batch_normalization_27 (Bat  (None, 4096)             16384     \n",
            " chNormalization)                                                \n",
            "                                                                 \n",
            " activation_27 (Activation)  (None, 4096)              0         \n",
            "                                                                 \n",
            " dense_14 (Dense)            (None, 7)                 28679     \n",
            "                                                                 \n",
            "=================================================================\n",
            "Total params: 33,657,543\n",
            "Trainable params: 33,641,159\n",
            "Non-trainable params: 16,384\n",
            "_________________________________________________________________\n"
          ]
        }
      ],
      "source": [
        "VGG16_Modell_6 = Sequential()\n",
        "VGG16_Modell_6.add(VGG16_ohne_MLP)\n",
        "VGG16_Modell_6.add(Flatten())\n",
        "\n",
        "VGG16_Modell_6.add(Dense(4096))\n",
        "VGG16_Modell_6.add(BatchNormalization())\n",
        "VGG16_Modell_6.add(Activation('relu'))\n",
        "\n",
        "VGG16_Modell_6.add(Dense(4096))\n",
        "VGG16_Modell_6.add(BatchNormalization())\n",
        "VGG16_Modell_6.add(Activation('relu'))\n",
        "\n",
        "VGG16_Modell_6.add(Dense(7, activation='softmax'))\n",
        "\n",
        "VGG16_Modell_6.summary()"
      ],
      "id": "02GcLZavDpep"
    },
    {
      "cell_type": "code",
      "execution_count": null,
      "metadata": {
        "id": "Qw-3gEJCDpeq"
      },
      "outputs": [],
      "source": [
        "VGG16_Modell_6.compile(optimizer=Adam(learning_rate=learning_rate),\n",
        "                     loss='categorical_crossentropy', metrics=['accuracy'])"
      ],
      "id": "Qw-3gEJCDpeq"
    },
    {
      "cell_type": "code",
      "execution_count": null,
      "metadata": {
        "id": "ofaH1bcPDper"
      },
      "outputs": [],
      "source": [
        "checkpointer_VGG16_6 = [\n",
        "                      ModelCheckpoint('VGG16_6_Adam_32,0.01_DA.h5', monitor=\"val_accuracy\", verbose=1, save_best_only=True,mode=\"max\"),\n",
        "                      CSVLogger('VGG16_6_Adam_32,0.01_DA.log')\n",
        "                      ]"
      ],
      "id": "ofaH1bcPDper"
    },
    {
      "cell_type": "code",
      "execution_count": null,
      "metadata": {
        "id": "BwEyBNDWDper"
      },
      "outputs": [],
      "source": [
        "%%time\n",
        "history_VGG_6 = VGG16_Modell_6.fit_generator(\n",
        "    train_generator,\n",
        "    validation_data=(X_val_48x48, y_val_cat),\n",
        "    epochs=epochs,\n",
        "    callbacks=checkpointer_VGG16_6)"
      ],
      "id": "BwEyBNDWDper"
    },
    {
      "cell_type": "markdown",
      "metadata": {
        "id": "F6GyzaphETSJ"
      },
      "source": [
        "##### (7) SGD: Dropout + Data Augmentation"
      ],
      "id": "F6GyzaphETSJ"
    },
    {
      "cell_type": "code",
      "execution_count": null,
      "metadata": {
        "colab": {
          "base_uri": "https://localhost:8080/"
        },
        "id": "hRyoHx7GJH2j",
        "outputId": "22d15f45-aff9-42c5-911c-fb33ceaa0a73"
      },
      "outputs": [
        {
          "name": "stdout",
          "output_type": "stream",
          "text": [
            "Model: \"sequential_13\"\n",
            "_________________________________________________________________\n",
            " Layer (type)                Output Shape              Param #   \n",
            "=================================================================\n",
            " vgg16 (Functional)          (None, 1, 1, 512)         14713536  \n",
            "                                                                 \n",
            " flatten_8 (Flatten)         (None, 512)               0         \n",
            "                                                                 \n",
            " dense_24 (Dense)            (None, 4096)              2101248   \n",
            "                                                                 \n",
            " batch_normalization_12 (Bat  (None, 4096)             16384     \n",
            " chNormalization)                                                \n",
            "                                                                 \n",
            " activation_10 (Activation)  (None, 4096)              0         \n",
            "                                                                 \n",
            " dropout_6 (Dropout)         (None, 4096)              0         \n",
            "                                                                 \n",
            " dense_25 (Dense)            (None, 4096)              16781312  \n",
            "                                                                 \n",
            " batch_normalization_13 (Bat  (None, 4096)             16384     \n",
            " chNormalization)                                                \n",
            "                                                                 \n",
            " activation_11 (Activation)  (None, 4096)              0         \n",
            "                                                                 \n",
            " dropout_7 (Dropout)         (None, 4096)              0         \n",
            "                                                                 \n",
            " dense_26 (Dense)            (None, 7)                 28679     \n",
            "                                                                 \n",
            "=================================================================\n",
            "Total params: 33,657,543\n",
            "Trainable params: 33,641,159\n",
            "Non-trainable params: 16,384\n",
            "_________________________________________________________________\n"
          ]
        }
      ],
      "source": [
        "VGG16_Modell_7 = Sequential()\n",
        "VGG16_Modell_7.add(VGG16_ohne_MLP)\n",
        "VGG16_Modell_7.add(Flatten())\n",
        "\n",
        "VGG16_Modell_7.add(Dense(4096))\n",
        "VGG16_Modell_7.add(BatchNormalization())\n",
        "VGG16_Modell_7.add(Activation('relu'))\n",
        "VGG16_Modell_7.add(Dropout(0.75))\n",
        "\n",
        "VGG16_Modell_7.add(Dense(4096))\n",
        "VGG16_Modell_7.add(BatchNormalization())\n",
        "VGG16_Modell_7.add(Activation('relu'))\n",
        "VGG16_Modell_7.add(Dropout(0.75))\n",
        "\n",
        "VGG16_Modell_7.add(Dense(7, activation='softmax'))\n",
        "\n",
        "VGG16_Modell_7.summary()"
      ],
      "id": "hRyoHx7GJH2j"
    },
    {
      "cell_type": "code",
      "execution_count": null,
      "metadata": {
        "id": "VGJ7uoyAJH2k"
      },
      "outputs": [],
      "source": [
        "VGG16_Modell_7.compile(optimizer=SGD(learning_rate=learning_rate),\n",
        "                     loss='categorical_crossentropy', metrics=['accuracy'])"
      ],
      "id": "VGJ7uoyAJH2k"
    },
    {
      "cell_type": "code",
      "execution_count": null,
      "metadata": {
        "id": "5FcVDq4YJH2l"
      },
      "outputs": [],
      "source": [
        "checkpointer_VGG16_7 = [\n",
        "                      ModelCheckpoint('VGG16_7_SGD_32,0.01_DO+DA.h5', monitor=\"val_accuracy\", verbose=1, save_best_only=True,mode=\"max\"),\n",
        "                      CSVLogger('VGG16_7_SGD_32,0.01_DO+DA.log')\n",
        "                      ]"
      ],
      "id": "5FcVDq4YJH2l"
    },
    {
      "cell_type": "code",
      "execution_count": null,
      "metadata": {
        "id": "z_PAUmO9ZbYO"
      },
      "outputs": [],
      "source": [
        "%%time\n",
        "history_VGG_7 = VGG16_Modell_7.fit_generator(\n",
        "    train_generator,\n",
        "    validation_data=(X_val_48x48, y_val_cat),\n",
        "    epochs=epochs,\n",
        "    callbacks=checkpointer_VGG16_7)"
      ],
      "id": "z_PAUmO9ZbYO"
    },
    {
      "cell_type": "markdown",
      "metadata": {
        "id": "GqTiOT3PK2P2"
      },
      "source": [
        "##### (8) Adam: Dropout + Data Augmentation"
      ],
      "id": "GqTiOT3PK2P2"
    },
    {
      "cell_type": "code",
      "execution_count": null,
      "metadata": {
        "colab": {
          "base_uri": "https://localhost:8080/"
        },
        "id": "PGmFVkxxK2lQ",
        "outputId": "1666d090-cabb-44a4-c1d1-1974fb681fd9"
      },
      "outputs": [
        {
          "name": "stdout",
          "output_type": "stream",
          "text": [
            "Model: \"sequential_10\"\n",
            "_________________________________________________________________\n",
            " Layer (type)                Output Shape              Param #   \n",
            "=================================================================\n",
            " vgg16 (Functional)          (None, 1, 1, 512)         14713536  \n",
            "                                                                 \n",
            " flatten_9 (Flatten)         (None, 512)               0         \n",
            "                                                                 \n",
            " dense_27 (Dense)            (None, 4096)              2101248   \n",
            "                                                                 \n",
            " batch_normalization_36 (Bat  (None, 4096)             16384     \n",
            " chNormalization)                                                \n",
            "                                                                 \n",
            " activation_36 (Activation)  (None, 4096)              0         \n",
            "                                                                 \n",
            " dropout_8 (Dropout)         (None, 4096)              0         \n",
            "                                                                 \n",
            " dense_28 (Dense)            (None, 4096)              16781312  \n",
            "                                                                 \n",
            " batch_normalization_37 (Bat  (None, 4096)             16384     \n",
            " chNormalization)                                                \n",
            "                                                                 \n",
            " activation_37 (Activation)  (None, 4096)              0         \n",
            "                                                                 \n",
            " dropout_9 (Dropout)         (None, 4096)              0         \n",
            "                                                                 \n",
            " dense_29 (Dense)            (None, 7)                 28679     \n",
            "                                                                 \n",
            "=================================================================\n",
            "Total params: 33,657,543\n",
            "Trainable params: 33,641,159\n",
            "Non-trainable params: 16,384\n",
            "_________________________________________________________________\n"
          ]
        }
      ],
      "source": [
        "VGG16_Modell_8 = Sequential()\n",
        "VGG16_Modell_8.add(VGG16_ohne_MLP)\n",
        "VGG16_Modell_8.add(Flatten())\n",
        "\n",
        "VGG16_Modell_8.add(Dense(4096))\n",
        "VGG16_Modell_8.add(BatchNormalization())\n",
        "VGG16_Modell_8.add(Activation('relu'))\n",
        "VGG16_Modell_8.add(Dropout(0.75))\n",
        "\n",
        "VGG16_Modell_8.add(Dense(4096))\n",
        "VGG16_Modell_8.add(BatchNormalization())\n",
        "VGG16_Modell_8.add(Activation('relu'))\n",
        "VGG16_Modell_8.add(Dropout(0.75))\n",
        "\n",
        "VGG16_Modell_8.add(Dense(7, activation='softmax'))\n",
        "\n",
        "VGG16_Modell_8.summary()"
      ],
      "id": "PGmFVkxxK2lQ"
    },
    {
      "cell_type": "code",
      "execution_count": null,
      "metadata": {
        "id": "wIDbna0vK2lR"
      },
      "outputs": [],
      "source": [
        "VGG16_Modell_8.compile(optimizer=Adam(learning_rate=learning_rate),\n",
        "                     loss='categorical_crossentropy', metrics=['accuracy'])"
      ],
      "id": "wIDbna0vK2lR"
    },
    {
      "cell_type": "code",
      "execution_count": null,
      "metadata": {
        "id": "hUvAQbqtK2lR"
      },
      "outputs": [],
      "source": [
        "checkpointer_VGG16_8 = [\n",
        "                      ModelCheckpoint('VGG16_8_Adam_32,0.01_DO+DA.h5', monitor=\"val_accuracy\", verbose=1, save_best_only=True,mode=\"max\"),\n",
        "                      CSVLogger('VGG16_8_Adam_32,0.01_DO+DA.log')\n",
        "                      ]"
      ],
      "id": "hUvAQbqtK2lR"
    },
    {
      "cell_type": "code",
      "execution_count": null,
      "metadata": {
        "id": "EcWUaqkbK2lS"
      },
      "outputs": [],
      "source": [
        "%%time\n",
        "history_VGG_8 = VGG16_Modell_8.fit_generator(\n",
        "    train_generator,\n",
        "    validation_data=(X_val_48x48, y_val_cat),\n",
        "    epochs=epochs,\n",
        "    callbacks=checkpointer_VGG16_8)"
      ],
      "id": "EcWUaqkbK2lS"
    },
    {
      "cell_type": "markdown",
      "metadata": {
        "id": "st1ABqazLh75"
      },
      "source": [
        "#### Vortrainiertes VGG"
      ],
      "id": "st1ABqazLh75"
    },
    {
      "cell_type": "markdown",
      "metadata": {
        "id": "QGUyyHb6Lh76"
      },
      "source": [
        "##### (9) SGD: Blanco"
      ],
      "id": "QGUyyHb6Lh76"
    },
    {
      "cell_type": "code",
      "source": [
        "VGG16_vortrainiert.trainable = False"
      ],
      "metadata": {
        "id": "Gq0TsnmwYvkD"
      },
      "id": "Gq0TsnmwYvkD",
      "execution_count": null,
      "outputs": []
    },
    {
      "cell_type": "code",
      "execution_count": null,
      "metadata": {
        "colab": {
          "base_uri": "https://localhost:8080/"
        },
        "id": "hWdis5dGVVp_",
        "outputId": "0ad11d5f-bab8-4ce9-e422-af54813d0e08"
      },
      "outputs": [
        {
          "output_type": "stream",
          "name": "stdout",
          "text": [
            "Model: \"sequential\"\n",
            "_________________________________________________________________\n",
            " Layer (type)                Output Shape              Param #   \n",
            "=================================================================\n",
            " vgg16 (Functional)          (None, 1, 1, 512)         14714688  \n",
            "                                                                 \n",
            " flatten (Flatten)           (None, 512)               0         \n",
            "                                                                 \n",
            " dense (Dense)               (None, 4096)              2101248   \n",
            "                                                                 \n",
            " batch_normalization (BatchN  (None, 4096)             16384     \n",
            " ormalization)                                                   \n",
            "                                                                 \n",
            " activation (Activation)     (None, 4096)              0         \n",
            "                                                                 \n",
            " dense_1 (Dense)             (None, 4096)              16781312  \n",
            "                                                                 \n",
            " batch_normalization_1 (Batc  (None, 4096)             16384     \n",
            " hNormalization)                                                 \n",
            "                                                                 \n",
            " activation_1 (Activation)   (None, 4096)              0         \n",
            "                                                                 \n",
            " dense_2 (Dense)             (None, 7)                 28679     \n",
            "                                                                 \n",
            "=================================================================\n",
            "Total params: 33,658,695\n",
            "Trainable params: 18,927,623\n",
            "Non-trainable params: 14,731,072\n",
            "_________________________________________________________________\n"
          ]
        }
      ],
      "source": [
        "VGG16_Modell_9 = Sequential()\n",
        "VGG16_Modell_9.add(VGG16_vortrainiert)\n",
        "VGG16_Modell_9.add(Flatten())\n",
        "\n",
        "VGG16_Modell_9.add(Dense(4096))\n",
        "VGG16_Modell_9.add(BatchNormalization())\n",
        "VGG16_Modell_9.add(Activation('relu'))\n",
        "\n",
        "VGG16_Modell_9.add(Dense(4096))\n",
        "VGG16_Modell_9.add(BatchNormalization())\n",
        "VGG16_Modell_9.add(Activation('relu'))\n",
        "\n",
        "VGG16_Modell_9.add(Dense(7, activation='softmax'))\n",
        "\n",
        "VGG16_Modell_9.summary()"
      ],
      "id": "hWdis5dGVVp_"
    },
    {
      "cell_type": "code",
      "execution_count": null,
      "metadata": {
        "id": "baLC2QdYLh77"
      },
      "outputs": [],
      "source": [
        "VGG16_Modell_9.compile(optimizer=SGD(learning_rate=learning_rate),\n",
        "                     loss='categorical_crossentropy', metrics=['accuracy'])"
      ],
      "id": "baLC2QdYLh77"
    },
    {
      "cell_type": "code",
      "execution_count": null,
      "metadata": {
        "id": "lxVRbUH8Lh77"
      },
      "outputs": [],
      "source": [
        "checkpointer_VGG16_9 = [\n",
        "                      ModelCheckpoint('VGG16_9_SGD_32,0.01_TL.h5', monitor=\"val_accuracy\", verbose=1, save_best_only=True,mode=\"max\"),\n",
        "                      CSVLogger('VGG16_9_SGD_32,0.01_TL.log')\n",
        "                      ]"
      ],
      "id": "lxVRbUH8Lh77"
    },
    {
      "cell_type": "code",
      "execution_count": null,
      "metadata": {
        "id": "RJSBFTy6yMEc"
      },
      "outputs": [],
      "source": [
        "%%time\n",
        "history_VGG16_9 = VGG16_Modell_9.fit(\n",
        "    X_train_rgb,\n",
        "    y_train_cat,\n",
        "    batch_size=batch_size,\n",
        "    epochs=epochs,\n",
        "    callbacks=checkpointer_VGG16_9,\n",
        "    validation_data=(X_val_rgb, y_val_cat)\n",
        ")\n",
        "\n",
        "VGG16_Modell_9.save_weights('VGG16_Weights_9_SGD_32,0.01_TL.h5')"
      ],
      "id": "RJSBFTy6yMEc"
    },
    {
      "cell_type": "markdown",
      "metadata": {
        "id": "owgbt9cpLh7_"
      },
      "source": [
        "##### (10) Adam: Blanco"
      ],
      "id": "owgbt9cpLh7_"
    },
    {
      "cell_type": "code",
      "execution_count": null,
      "metadata": {
        "id": "6KIxds-JTwXI"
      },
      "outputs": [],
      "source": [
        "VGG16_vortrainiert.trainable=False"
      ],
      "id": "6KIxds-JTwXI"
    },
    {
      "cell_type": "code",
      "execution_count": null,
      "metadata": {
        "colab": {
          "base_uri": "https://localhost:8080/"
        },
        "id": "WwsmZ3-RLh7_",
        "outputId": "8f3a938c-8b88-40b1-f45b-51034512b4eb"
      },
      "outputs": [
        {
          "name": "stdout",
          "output_type": "stream",
          "text": [
            "Model: \"sequential_13\"\n",
            "_________________________________________________________________\n",
            " Layer (type)                Output Shape              Param #   \n",
            "=================================================================\n",
            " vgg16 (Functional)          (None, 1, 1, 512)         14714688  \n",
            "                                                                 \n",
            " flatten_28 (Flatten)        (None, 512)               0         \n",
            "                                                                 \n",
            " dense_71 (Dense)            (None, 4096)              2101248   \n",
            "                                                                 \n",
            " batch_normalization_44 (Bat  (None, 4096)             16384     \n",
            " chNormalization)                                                \n",
            "                                                                 \n",
            " activation_43 (Activation)  (None, 4096)              0         \n",
            "                                                                 \n",
            " dense_72 (Dense)            (None, 4096)              16781312  \n",
            "                                                                 \n",
            " batch_normalization_45 (Bat  (None, 4096)             16384     \n",
            " chNormalization)                                                \n",
            "                                                                 \n",
            " activation_44 (Activation)  (None, 4096)              0         \n",
            "                                                                 \n",
            " dense_73 (Dense)            (None, 7)                 28679     \n",
            "                                                                 \n",
            "=================================================================\n",
            "Total params: 33,658,695\n",
            "Trainable params: 18,927,623\n",
            "Non-trainable params: 14,731,072\n",
            "_________________________________________________________________\n"
          ]
        }
      ],
      "source": [
        "VGG16_Modell_10 = Sequential()\n",
        "VGG16_Modell_10.add(VGG16_vortrainiert)\n",
        "VGG16_Modell_10.add(Flatten())\n",
        "\n",
        "VGG16_Modell_10.add(Dense(4096))\n",
        "VGG16_Modell_10.add(BatchNormalization())\n",
        "VGG16_Modell_10.add(Activation('relu'))\n",
        "\n",
        "VGG16_Modell_10.add(Dense(4096))\n",
        "VGG16_Modell_10.add(BatchNormalization())\n",
        "VGG16_Modell_10.add(Activation('relu'))\n",
        "\n",
        "VGG16_Modell_10.add(Dense(7, activation='softmax'))\n",
        "\n",
        "VGG16_Modell_10.summary()"
      ],
      "id": "WwsmZ3-RLh7_"
    },
    {
      "cell_type": "code",
      "execution_count": null,
      "metadata": {
        "id": "v_K3zJ53Lh8A"
      },
      "outputs": [],
      "source": [
        "VGG16_Modell_10.compile(optimizer=Adam(learning_rate=learning_rate),\n",
        "                     loss='categorical_crossentropy', metrics=['accuracy'])"
      ],
      "id": "v_K3zJ53Lh8A"
    },
    {
      "cell_type": "code",
      "execution_count": null,
      "metadata": {
        "id": "tD1SqG-cLh8A"
      },
      "outputs": [],
      "source": [
        "checkpointer_VGG16_10 = [\n",
        "                      ModelCheckpoint('VGG16_10_Adam_32,0.01_TL.h5', monitor=\"val_accuracy\", verbose=1, save_best_only=True,mode=\"max\"),\n",
        "                      CSVLogger('VGG16_10_Adam_32,0.01_TL.log')\n",
        "                      ]"
      ],
      "id": "tD1SqG-cLh8A"
    },
    {
      "cell_type": "code",
      "execution_count": null,
      "metadata": {
        "id": "OAOM7ILEx-HJ"
      },
      "outputs": [],
      "source": [
        "%%time\n",
        "history_VGG16_10 = VGG16_Modell_10.fit(\n",
        "    X_train_rgb,\n",
        "    y_train_cat,\n",
        "    batch_size=batch_size,\n",
        "    epochs=epochs,\n",
        "    callbacks=checkpointer_VGG16_10,\n",
        "    validation_data=(X_val_rgb, y_val_cat)\n",
        ")\n",
        "\n",
        "VGG16_Modell_10.save_weights('VGG16_Weights_10_Adam_32,0.01_TL.h5')"
      ],
      "id": "OAOM7ILEx-HJ"
    },
    {
      "cell_type": "markdown",
      "metadata": {
        "id": "tXUMk_KsLh78"
      },
      "source": [
        "##### (11) SGD: Dropout"
      ],
      "id": "tXUMk_KsLh78"
    },
    {
      "cell_type": "code",
      "execution_count": null,
      "metadata": {
        "id": "9Hu9MAwmTxuS"
      },
      "outputs": [],
      "source": [
        "VGG16_vortrainiert.trainable=False"
      ],
      "id": "9Hu9MAwmTxuS"
    },
    {
      "cell_type": "code",
      "execution_count": null,
      "metadata": {
        "colab": {
          "base_uri": "https://localhost:8080/"
        },
        "id": "ajdM699CLh78",
        "outputId": "762979e1-1891-4b24-be69-53fe0371b3e7"
      },
      "outputs": [
        {
          "name": "stdout",
          "output_type": "stream",
          "text": [
            "Model: \"sequential_14\"\n",
            "_________________________________________________________________\n",
            " Layer (type)                Output Shape              Param #   \n",
            "=================================================================\n",
            " vgg16 (Functional)          (None, 1, 1, 512)         14714688  \n",
            "                                                                 \n",
            " flatten_29 (Flatten)        (None, 512)               0         \n",
            "                                                                 \n",
            " dense_74 (Dense)            (None, 4096)              2101248   \n",
            "                                                                 \n",
            " batch_normalization_46 (Bat  (None, 4096)             16384     \n",
            " chNormalization)                                                \n",
            "                                                                 \n",
            " activation_45 (Activation)  (None, 4096)              0         \n",
            "                                                                 \n",
            " dropout (Dropout)           (None, 4096)              0         \n",
            "                                                                 \n",
            " dense_75 (Dense)            (None, 4096)              16781312  \n",
            "                                                                 \n",
            " batch_normalization_47 (Bat  (None, 4096)             16384     \n",
            " chNormalization)                                                \n",
            "                                                                 \n",
            " activation_46 (Activation)  (None, 4096)              0         \n",
            "                                                                 \n",
            " dropout_1 (Dropout)         (None, 4096)              0         \n",
            "                                                                 \n",
            " dense_76 (Dense)            (None, 7)                 28679     \n",
            "                                                                 \n",
            "=================================================================\n",
            "Total params: 33,658,695\n",
            "Trainable params: 18,927,623\n",
            "Non-trainable params: 14,731,072\n",
            "_________________________________________________________________\n"
          ]
        }
      ],
      "source": [
        "VGG16_Modell_11 = Sequential()\n",
        "VGG16_Modell_11.add(VGG16_vortrainiert)\n",
        "VGG16_Modell_11.add(Flatten())\n",
        "\n",
        "VGG16_Modell_11.add(Dense(4096))\n",
        "VGG16_Modell_11.add(BatchNormalization())\n",
        "VGG16_Modell_11.add(Activation('relu'))\n",
        "VGG16_Modell_11.add(Dropout(0.75))\n",
        "\n",
        "VGG16_Modell_11.add(Dense(4096))\n",
        "VGG16_Modell_11.add(BatchNormalization())\n",
        "VGG16_Modell_11.add(Activation('relu'))\n",
        "VGG16_Modell_11.add(Dropout(0.75))\n",
        "\n",
        "VGG16_Modell_11.add(Dense(7, activation='softmax'))\n",
        "\n",
        "VGG16_Modell_11.summary()"
      ],
      "id": "ajdM699CLh78"
    },
    {
      "cell_type": "code",
      "execution_count": null,
      "metadata": {
        "id": "953QwJo5Lh78"
      },
      "outputs": [],
      "source": [
        "VGG16_Modell_11.compile(optimizer=SGD(learning_rate=learning_rate),\n",
        "                     loss='categorical_crossentropy', metrics=['accuracy'])"
      ],
      "id": "953QwJo5Lh78"
    },
    {
      "cell_type": "code",
      "execution_count": null,
      "metadata": {
        "id": "15JNigKlLh79"
      },
      "outputs": [],
      "source": [
        "checkpointer_VGG16_11 = [\n",
        "                      ModelCheckpoint('VGG16_11_SGD_32,0.01_DO_TL.h5', monitor=\"val_accuracy\", verbose=1, save_best_only=True,mode=\"max\"),\n",
        "                      CSVLogger('VGG16_11_SGD_32,0.01_DO_TL.log')\n",
        "                      ]"
      ],
      "id": "15JNigKlLh79"
    },
    {
      "cell_type": "code",
      "execution_count": null,
      "metadata": {
        "id": "hAfh7AYQyH4k"
      },
      "outputs": [],
      "source": [
        "%%time\n",
        "history_VGG16_11 = VGG16_Modell_11.fit(\n",
        "    X_train_rgb,\n",
        "    y_train_cat,\n",
        "    batch_size=batch_size,\n",
        "    epochs=epochs,\n",
        "    callbacks=checkpointer_VGG16_11,\n",
        "    validation_data=(X_val_rgb, y_val_cat)\n",
        ")\n",
        "\n",
        "VGG16_Modell_11.save_weights('VGG16_Weights_11_SGD_32,0.01_DO_TL.h5')"
      ],
      "id": "hAfh7AYQyH4k"
    },
    {
      "cell_type": "markdown",
      "metadata": {
        "id": "nDnKz4CNLh8A"
      },
      "source": [
        "##### (12) Adam: Dropout"
      ],
      "id": "nDnKz4CNLh8A"
    },
    {
      "cell_type": "code",
      "execution_count": null,
      "metadata": {
        "id": "Yxa7mk7jTy3a"
      },
      "outputs": [],
      "source": [
        "VGG16_vortrainiert.trainable=False"
      ],
      "id": "Yxa7mk7jTy3a"
    },
    {
      "cell_type": "code",
      "execution_count": null,
      "metadata": {
        "colab": {
          "base_uri": "https://localhost:8080/"
        },
        "id": "j9VM9tLELh8A",
        "outputId": "109e4186-f040-4936-eeac-a40f22fdb397"
      },
      "outputs": [
        {
          "name": "stdout",
          "output_type": "stream",
          "text": [
            "Model: \"sequential_16\"\n",
            "_________________________________________________________________\n",
            " Layer (type)                Output Shape              Param #   \n",
            "=================================================================\n",
            " vgg16 (Functional)          (None, 1, 1, 512)         14714688  \n",
            "                                                                 \n",
            " flatten_31 (Flatten)        (None, 512)               0         \n",
            "                                                                 \n",
            " dense_80 (Dense)            (None, 4096)              2101248   \n",
            "                                                                 \n",
            " batch_normalization_50 (Bat  (None, 4096)             16384     \n",
            " chNormalization)                                                \n",
            "                                                                 \n",
            " activation_49 (Activation)  (None, 4096)              0         \n",
            "                                                                 \n",
            " dropout_4 (Dropout)         (None, 4096)              0         \n",
            "                                                                 \n",
            " dense_81 (Dense)            (None, 4096)              16781312  \n",
            "                                                                 \n",
            " batch_normalization_51 (Bat  (None, 4096)             16384     \n",
            " chNormalization)                                                \n",
            "                                                                 \n",
            " activation_50 (Activation)  (None, 4096)              0         \n",
            "                                                                 \n",
            " dropout_5 (Dropout)         (None, 4096)              0         \n",
            "                                                                 \n",
            " dense_82 (Dense)            (None, 7)                 28679     \n",
            "                                                                 \n",
            "=================================================================\n",
            "Total params: 33,658,695\n",
            "Trainable params: 18,927,623\n",
            "Non-trainable params: 14,731,072\n",
            "_________________________________________________________________\n"
          ]
        }
      ],
      "source": [
        "VGG16_Modell_12 = Sequential()\n",
        "VGG16_Modell_12.add(VGG16_vortrainiert)\n",
        "VGG16_Modell_12.add(Flatten())\n",
        "\n",
        "VGG16_Modell_12.add(Dense(4096))\n",
        "VGG16_Modell_12.add(BatchNormalization())\n",
        "VGG16_Modell_12.add(Activation('relu'))\n",
        "VGG16_Modell_12.add(Dropout(0.75))\n",
        "\n",
        "VGG16_Modell_12.add(Dense(4096))\n",
        "VGG16_Modell_12.add(BatchNormalization())\n",
        "VGG16_Modell_12.add(Activation('relu'))\n",
        "VGG16_Modell_12.add(Dropout(0.75))\n",
        "\n",
        "VGG16_Modell_12.add(Dense(7, activation='softmax'))\n",
        "\n",
        "VGG16_Modell_12.summary()"
      ],
      "id": "j9VM9tLELh8A"
    },
    {
      "cell_type": "code",
      "execution_count": null,
      "metadata": {
        "id": "0MhP4Ad4Lh8B"
      },
      "outputs": [],
      "source": [
        "VGG16_Modell_12.compile(optimizer=Adam(learning_rate=learning_rate),\n",
        "                     loss='categorical_crossentropy', metrics=['accuracy'])"
      ],
      "id": "0MhP4Ad4Lh8B"
    },
    {
      "cell_type": "code",
      "execution_count": null,
      "metadata": {
        "id": "qP2cAGL7zK4a"
      },
      "outputs": [],
      "source": [
        "checkpointer_VGG16_12 = [\n",
        "                      ModelCheckpoint('VGG16_12_Adam_32,0.01_DO_TL.h5', monitor=\"val_accuracy\", verbose=1, save_best_only=True,mode=\"max\"),\n",
        "                      CSVLogger('VGG16_12_Adam_32,0.01_DO_TL.log')\n",
        "                      ]"
      ],
      "id": "qP2cAGL7zK4a"
    },
    {
      "cell_type": "code",
      "execution_count": null,
      "metadata": {
        "id": "vphbaqkOLh8B"
      },
      "outputs": [],
      "source": [
        "%%time\n",
        "history_VGG16_12 = VGG16_Modell_12.fit(\n",
        "    X_train_rgb,\n",
        "    y_train_cat,\n",
        "    batch_size=batch_size,\n",
        "    epochs=epochs,\n",
        "    callbacks=checkpointer_VGG16_12,\n",
        "    validation_data=(X_val_rgb, y_val_cat)\n",
        ")\n",
        "\n",
        "VGG16_Modell_12.save_weights('VGG16_Weights_12_Adam_32,0.01_DO_TL.h5')"
      ],
      "id": "vphbaqkOLh8B"
    },
    {
      "cell_type": "markdown",
      "metadata": {
        "id": "YsMEmeAWbeAP"
      },
      "source": [
        "##### (13) SGD: Data Augmentation"
      ],
      "id": "YsMEmeAWbeAP"
    },
    {
      "cell_type": "code",
      "execution_count": null,
      "metadata": {
        "id": "Zu7qV0t6T0E1"
      },
      "outputs": [],
      "source": [
        "VGG16_vortrainiert.trainable=False"
      ],
      "id": "Zu7qV0t6T0E1"
    },
    {
      "cell_type": "code",
      "execution_count": null,
      "metadata": {
        "colab": {
          "base_uri": "https://localhost:8080/"
        },
        "id": "-yeUlqHybeAP",
        "outputId": "cdedf318-1902-4e6b-bf47-b9d780b977e3"
      },
      "outputs": [
        {
          "name": "stdout",
          "output_type": "stream",
          "text": [
            "Model: \"sequential_17\"\n",
            "_________________________________________________________________\n",
            " Layer (type)                Output Shape              Param #   \n",
            "=================================================================\n",
            " vgg16 (Functional)          (None, 1, 1, 512)         14714688  \n",
            "                                                                 \n",
            " flatten_32 (Flatten)        (None, 512)               0         \n",
            "                                                                 \n",
            " dense_83 (Dense)            (None, 4096)              2101248   \n",
            "                                                                 \n",
            " batch_normalization_52 (Bat  (None, 4096)             16384     \n",
            " chNormalization)                                                \n",
            "                                                                 \n",
            " activation_51 (Activation)  (None, 4096)              0         \n",
            "                                                                 \n",
            " dense_84 (Dense)            (None, 4096)              16781312  \n",
            "                                                                 \n",
            " batch_normalization_53 (Bat  (None, 4096)             16384     \n",
            " chNormalization)                                                \n",
            "                                                                 \n",
            " activation_52 (Activation)  (None, 4096)              0         \n",
            "                                                                 \n",
            " dense_85 (Dense)            (None, 7)                 28679     \n",
            "                                                                 \n",
            "=================================================================\n",
            "Total params: 33,658,695\n",
            "Trainable params: 18,927,623\n",
            "Non-trainable params: 14,731,072\n",
            "_________________________________________________________________\n"
          ]
        }
      ],
      "source": [
        "VGG16_Modell_13 = Sequential()\n",
        "VGG16_Modell_13.add(VGG16_vortrainiert)\n",
        "VGG16_Modell_13.add(Flatten())\n",
        "\n",
        "VGG16_Modell_13.add(Dense(4096))\n",
        "VGG16_Modell_13.add(BatchNormalization())\n",
        "VGG16_Modell_13.add(Activation('relu'))\n",
        "\n",
        "VGG16_Modell_13.add(Dense(4096))\n",
        "VGG16_Modell_13.add(BatchNormalization())\n",
        "VGG16_Modell_13.add(Activation('relu'))\n",
        "\n",
        "VGG16_Modell_13.add(Dense(7, activation='softmax'))\n",
        "\n",
        "VGG16_Modell_13.summary()"
      ],
      "id": "-yeUlqHybeAP"
    },
    {
      "cell_type": "code",
      "execution_count": null,
      "metadata": {
        "id": "kgzc-Ss9beAQ"
      },
      "outputs": [],
      "source": [
        "VGG16_Modell_13.compile(optimizer=SGD(learning_rate=learning_rate),\n",
        "                     loss='categorical_crossentropy', metrics=['accuracy'])"
      ],
      "id": "kgzc-Ss9beAQ"
    },
    {
      "cell_type": "code",
      "execution_count": null,
      "metadata": {
        "id": "e9npfwz9beAR"
      },
      "outputs": [],
      "source": [
        "checkpointer_VGG16_13 = [\n",
        "                      ModelCheckpoint('VGG16_13_SGD_32,0.01_DA_TL.h5', monitor=\"val_accuracy\", verbose=1, save_best_only=True,mode=\"max\"),\n",
        "                      CSVLogger('VGG16_13_SGD_32,0.01_DA_TL.log')\n",
        "                      ]"
      ],
      "id": "e9npfwz9beAR"
    },
    {
      "cell_type": "code",
      "execution_count": null,
      "metadata": {
        "id": "WyBK4T1zbeAR"
      },
      "outputs": [],
      "source": [
        "%%time\n",
        "history_VGG_13 = VGG16_Modell_13.fit_generator(\n",
        "    train_generator_rgb,\n",
        "    validation_data=(X_val_rgb, y_val_cat),\n",
        "    epochs=epochs,\n",
        "    callbacks=checkpointer_VGG16_13)  \n",
        "\n",
        "VGG16_Modell_13.save_weights('VGG16_Weights_13_SGD_32,0.01_DA_TL.h5')"
      ],
      "id": "WyBK4T1zbeAR"
    },
    {
      "cell_type": "markdown",
      "metadata": {
        "id": "-WLvAd4OLh8C"
      },
      "source": [
        "##### (14) Adam: Data Augmentation"
      ],
      "id": "-WLvAd4OLh8C"
    },
    {
      "cell_type": "code",
      "execution_count": null,
      "metadata": {
        "id": "a8ISB4lcT1MP"
      },
      "outputs": [],
      "source": [
        "VGG16_vortrainiert.trainable=False"
      ],
      "id": "a8ISB4lcT1MP"
    },
    {
      "cell_type": "code",
      "execution_count": null,
      "metadata": {
        "colab": {
          "base_uri": "https://localhost:8080/"
        },
        "id": "cCrqZs4lLh8C",
        "outputId": "7dc38cef-fb97-4c78-ea89-3c43b134f1c8"
      },
      "outputs": [
        {
          "name": "stdout",
          "output_type": "stream",
          "text": [
            "Model: \"sequential_18\"\n",
            "_________________________________________________________________\n",
            " Layer (type)                Output Shape              Param #   \n",
            "=================================================================\n",
            " vgg16 (Functional)          (None, 1, 1, 512)         14714688  \n",
            "                                                                 \n",
            " flatten_33 (Flatten)        (None, 512)               0         \n",
            "                                                                 \n",
            " dense_86 (Dense)            (None, 4096)              2101248   \n",
            "                                                                 \n",
            " batch_normalization_54 (Bat  (None, 4096)             16384     \n",
            " chNormalization)                                                \n",
            "                                                                 \n",
            " activation_53 (Activation)  (None, 4096)              0         \n",
            "                                                                 \n",
            " dense_87 (Dense)            (None, 4096)              16781312  \n",
            "                                                                 \n",
            " batch_normalization_55 (Bat  (None, 4096)             16384     \n",
            " chNormalization)                                                \n",
            "                                                                 \n",
            " activation_54 (Activation)  (None, 4096)              0         \n",
            "                                                                 \n",
            " dense_88 (Dense)            (None, 7)                 28679     \n",
            "                                                                 \n",
            "=================================================================\n",
            "Total params: 33,658,695\n",
            "Trainable params: 18,927,623\n",
            "Non-trainable params: 14,731,072\n",
            "_________________________________________________________________\n"
          ]
        }
      ],
      "source": [
        "VGG16_Modell_14 = Sequential()\n",
        "VGG16_Modell_14.add(VGG16_vortrainiert)\n",
        "VGG16_Modell_14.add(Flatten())\n",
        "\n",
        "VGG16_Modell_14.add(Dense(4096))\n",
        "VGG16_Modell_14.add(BatchNormalization())\n",
        "VGG16_Modell_14.add(Activation('relu'))\n",
        "\n",
        "VGG16_Modell_14.add(Dense(4096))\n",
        "VGG16_Modell_14.add(BatchNormalization())\n",
        "VGG16_Modell_14.add(Activation('relu'))\n",
        "\n",
        "VGG16_Modell_14.add(Dense(7, activation='softmax'))\n",
        "\n",
        "VGG16_Modell_14.summary()"
      ],
      "id": "cCrqZs4lLh8C"
    },
    {
      "cell_type": "code",
      "execution_count": null,
      "metadata": {
        "id": "_yEA1ZNFLh8C"
      },
      "outputs": [],
      "source": [
        "VGG16_Modell_14.compile(optimizer=Adam(learning_rate=learning_rate),\n",
        "                     loss='categorical_crossentropy', metrics=['accuracy'])"
      ],
      "id": "_yEA1ZNFLh8C"
    },
    {
      "cell_type": "code",
      "execution_count": null,
      "metadata": {
        "id": "Dte0KJ1NLh8D"
      },
      "outputs": [],
      "source": [
        "checkpointer_VGG16_14 = [\n",
        "                      ModelCheckpoint('VGG16_14_Adam_32,0.01_DA_TL.h5', monitor=\"val_accuracy\", verbose=1, save_best_only=True,mode=\"max\"),\n",
        "                      CSVLogger('VGG16_14_Adam_32,0.01_DA_TL.log')\n",
        "                      ]"
      ],
      "id": "Dte0KJ1NLh8D"
    },
    {
      "cell_type": "code",
      "execution_count": null,
      "metadata": {
        "id": "yClDW3A-Lh8D"
      },
      "outputs": [],
      "source": [
        "%%time\n",
        "history_VGG_14 = VGG16_Modell_14.fit_generator(\n",
        "    train_generator_rgb,\n",
        "    validation_data=(X_val_rgb, y_val_cat),\n",
        "    epochs=epochs,\n",
        "    callbacks=checkpointer_VGG16_14) \n",
        "\n",
        "VGG16_Modell_14.save_weights('VGG16_Weights_14_Adam_32,0.01_DA_TL.h5')"
      ],
      "id": "yClDW3A-Lh8D"
    },
    {
      "cell_type": "markdown",
      "metadata": {
        "id": "SVeSyJ8xLh79"
      },
      "source": [
        "##### (15) SGD: Dropout + Data Augmentation"
      ],
      "id": "SVeSyJ8xLh79"
    },
    {
      "cell_type": "code",
      "execution_count": null,
      "metadata": {
        "id": "XIr-tGuzT58d"
      },
      "outputs": [],
      "source": [
        "VGG16_vortrainiert.trainable=False"
      ],
      "id": "XIr-tGuzT58d"
    },
    {
      "cell_type": "code",
      "execution_count": null,
      "metadata": {
        "colab": {
          "base_uri": "https://localhost:8080/"
        },
        "id": "rJ4xpuMJLh79",
        "outputId": "59aadd32-23fc-4f26-c9ec-b6e53ef7c0bc"
      },
      "outputs": [
        {
          "name": "stdout",
          "output_type": "stream",
          "text": [
            "Model: \"sequential_19\"\n",
            "_________________________________________________________________\n",
            " Layer (type)                Output Shape              Param #   \n",
            "=================================================================\n",
            " vgg16 (Functional)          (None, 1, 1, 512)         14714688  \n",
            "                                                                 \n",
            " flatten_34 (Flatten)        (None, 512)               0         \n",
            "                                                                 \n",
            " dense_89 (Dense)            (None, 4096)              2101248   \n",
            "                                                                 \n",
            " batch_normalization_56 (Bat  (None, 4096)             16384     \n",
            " chNormalization)                                                \n",
            "                                                                 \n",
            " activation_55 (Activation)  (None, 4096)              0         \n",
            "                                                                 \n",
            " dropout_6 (Dropout)         (None, 4096)              0         \n",
            "                                                                 \n",
            " dense_90 (Dense)            (None, 4096)              16781312  \n",
            "                                                                 \n",
            " batch_normalization_57 (Bat  (None, 4096)             16384     \n",
            " chNormalization)                                                \n",
            "                                                                 \n",
            " activation_56 (Activation)  (None, 4096)              0         \n",
            "                                                                 \n",
            " dropout_7 (Dropout)         (None, 4096)              0         \n",
            "                                                                 \n",
            " dense_91 (Dense)            (None, 7)                 28679     \n",
            "                                                                 \n",
            "=================================================================\n",
            "Total params: 33,658,695\n",
            "Trainable params: 18,927,623\n",
            "Non-trainable params: 14,731,072\n",
            "_________________________________________________________________\n"
          ]
        }
      ],
      "source": [
        "VGG16_Modell_15 = Sequential()\n",
        "VGG16_Modell_15.add(VGG16_vortrainiert)\n",
        "VGG16_Modell_15.add(Flatten())\n",
        "\n",
        "VGG16_Modell_15.add(Dense(4096))\n",
        "VGG16_Modell_15.add(BatchNormalization())\n",
        "VGG16_Modell_15.add(Activation('relu'))\n",
        "VGG16_Modell_15.add(Dropout(0.75))\n",
        "\n",
        "VGG16_Modell_15.add(Dense(4096))\n",
        "VGG16_Modell_15.add(BatchNormalization())\n",
        "VGG16_Modell_15.add(Activation('relu'))\n",
        "VGG16_Modell_15.add(Dropout(0.75))\n",
        "\n",
        "VGG16_Modell_15.add(Dense(7, activation='softmax'))\n",
        "\n",
        "VGG16_Modell_15.summary()"
      ],
      "id": "rJ4xpuMJLh79"
    },
    {
      "cell_type": "code",
      "execution_count": null,
      "metadata": {
        "id": "JseIulTGLh7-"
      },
      "outputs": [],
      "source": [
        "VGG16_Modell_15.compile(optimizer=SGD(learning_rate=learning_rate),\n",
        "                     loss='categorical_crossentropy', metrics=['accuracy'])"
      ],
      "id": "JseIulTGLh7-"
    },
    {
      "cell_type": "code",
      "execution_count": null,
      "metadata": {
        "id": "_qBvNjaBLh7-"
      },
      "outputs": [],
      "source": [
        "checkpointer_VGG16_15 = [\n",
        "                      ModelCheckpoint('VGG16_15_SGD_32,0.01_DO+DA_TL.h5', monitor=\"val_accuracy\", verbose=1, save_best_only=True,mode=\"max\"),\n",
        "                      CSVLogger('VGG16_15_SGD_32,0.01_DO+DA_TL.log')\n",
        "                      ]"
      ],
      "id": "_qBvNjaBLh7-"
    },
    {
      "cell_type": "code",
      "execution_count": null,
      "metadata": {
        "id": "TY25S767Lh7-"
      },
      "outputs": [],
      "source": [
        "%%time\n",
        "history_VGG_15 = VGG16_Modell_15.fit_generator(\n",
        "    train_generator_rgb,\n",
        "    validation_data=(X_val_rgb, y_val_cat),\n",
        "    epochs=epochs,\n",
        "    callbacks=checkpointer_VGG16_15)\n",
        "\n",
        "VGG16_Modell_15.save_weights('VGG16_Weights_15_SGD_32,0.01_DO+DA_TL.h5')"
      ],
      "id": "TY25S767Lh7-"
    },
    {
      "cell_type": "markdown",
      "metadata": {
        "id": "n181Eg4ebl0H"
      },
      "source": [
        "##### (16) Adam: Dropout + Data Augmentation"
      ],
      "id": "n181Eg4ebl0H"
    },
    {
      "cell_type": "code",
      "execution_count": null,
      "metadata": {
        "id": "WL4dbzNpT7DF"
      },
      "outputs": [],
      "source": [
        "VGG16_vortrainiert.trainable=False"
      ],
      "id": "WL4dbzNpT7DF"
    },
    {
      "cell_type": "code",
      "execution_count": null,
      "metadata": {
        "colab": {
          "base_uri": "https://localhost:8080/"
        },
        "id": "6LsMK9Ofbl0J",
        "outputId": "d60e5d65-1408-4cf5-b192-79ec1a349c69"
      },
      "outputs": [
        {
          "name": "stdout",
          "output_type": "stream",
          "text": [
            "Model: \"sequential_20\"\n",
            "_________________________________________________________________\n",
            " Layer (type)                Output Shape              Param #   \n",
            "=================================================================\n",
            " vgg16 (Functional)          (None, 1, 1, 512)         14714688  \n",
            "                                                                 \n",
            " flatten_35 (Flatten)        (None, 512)               0         \n",
            "                                                                 \n",
            " dense_92 (Dense)            (None, 4096)              2101248   \n",
            "                                                                 \n",
            " batch_normalization_58 (Bat  (None, 4096)             16384     \n",
            " chNormalization)                                                \n",
            "                                                                 \n",
            " activation_57 (Activation)  (None, 4096)              0         \n",
            "                                                                 \n",
            " dropout_8 (Dropout)         (None, 4096)              0         \n",
            "                                                                 \n",
            " dense_93 (Dense)            (None, 4096)              16781312  \n",
            "                                                                 \n",
            " batch_normalization_59 (Bat  (None, 4096)             16384     \n",
            " chNormalization)                                                \n",
            "                                                                 \n",
            " activation_58 (Activation)  (None, 4096)              0         \n",
            "                                                                 \n",
            " dropout_9 (Dropout)         (None, 4096)              0         \n",
            "                                                                 \n",
            " dense_94 (Dense)            (None, 7)                 28679     \n",
            "                                                                 \n",
            "=================================================================\n",
            "Total params: 33,658,695\n",
            "Trainable params: 18,927,623\n",
            "Non-trainable params: 14,731,072\n",
            "_________________________________________________________________\n"
          ]
        }
      ],
      "source": [
        "VGG16_Modell_16 = Sequential()\n",
        "VGG16_Modell_16.add(VGG16_vortrainiert)\n",
        "VGG16_Modell_16.add(Flatten())\n",
        "\n",
        "VGG16_Modell_16.add(Dense(4096))\n",
        "VGG16_Modell_16.add(BatchNormalization())\n",
        "VGG16_Modell_16.add(Activation('relu'))\n",
        "VGG16_Modell_16.add(Dropout(0.75))\n",
        "\n",
        "VGG16_Modell_16.add(Dense(4096))\n",
        "VGG16_Modell_16.add(BatchNormalization())\n",
        "VGG16_Modell_16.add(Activation('relu'))\n",
        "VGG16_Modell_16.add(Dropout(0.75))\n",
        "\n",
        "VGG16_Modell_16.add(Dense(7, activation='softmax'))\n",
        "\n",
        "VGG16_Modell_16.summary()"
      ],
      "id": "6LsMK9Ofbl0J"
    },
    {
      "cell_type": "code",
      "execution_count": null,
      "metadata": {
        "id": "CYwDiAbxbl0K"
      },
      "outputs": [],
      "source": [
        "VGG16_Modell_16.compile(optimizer=Adam(learning_rate=learning_rate),\n",
        "                     loss='categorical_crossentropy', metrics=['accuracy'])"
      ],
      "id": "CYwDiAbxbl0K"
    },
    {
      "cell_type": "code",
      "execution_count": null,
      "metadata": {
        "id": "2HeDKMUtbl0L"
      },
      "outputs": [],
      "source": [
        "checkpointer_VGG16_16 = [\n",
        "                      ModelCheckpoint('VGG16_16_Adam_32,0.01_DO+DA_TL.h5', monitor=\"val_accuracy\", verbose=1, save_best_only=True,mode=\"max\"),\n",
        "                      CSVLogger('VGG16_16_Adam_32,0.01_DO+DA_TL.log')\n",
        "                      ]"
      ],
      "id": "2HeDKMUtbl0L"
    },
    {
      "cell_type": "code",
      "execution_count": null,
      "metadata": {
        "id": "MeNQg0u6bl0L"
      },
      "outputs": [],
      "source": [
        "%%time\n",
        "history_VGG_16 = VGG16_Modell_16.fit_generator(\n",
        "    train_generator_rgb,\n",
        "    validation_data=(X_val_rgb, y_val_cat),\n",
        "    epochs=epochs,\n",
        "    callbacks=checkpointer_VGG16_16)\n",
        "\n",
        "VGG16_Modell_16.save_weights('VGG16_Weights_16_Adam_32,0.01_DO+DA_TL.h5')"
      ],
      "id": "MeNQg0u6bl0L"
    },
    {
      "cell_type": "markdown",
      "metadata": {
        "id": "BAkyiqnnZyS7"
      },
      "source": [
        "## ResNet50"
      ],
      "id": "BAkyiqnnZyS7"
    },
    {
      "cell_type": "markdown",
      "metadata": {
        "id": "Xn4c42O50Bzk"
      },
      "source": [
        "### ResNet Modelle"
      ],
      "id": "Xn4c42O50Bzk"
    },
    {
      "cell_type": "markdown",
      "metadata": {
        "id": "e45bb6c9-4165-4bb1-89c2-7772eb9afa60"
      },
      "source": [
        "#### Nicht vortrainiertes ResNet"
      ],
      "id": "e45bb6c9-4165-4bb1-89c2-7772eb9afa60"
    },
    {
      "cell_type": "markdown",
      "metadata": {
        "id": "wiGxTp2n0fKG"
      },
      "source": [
        "##### (1) SGD: Blanco"
      ],
      "id": "wiGxTp2n0fKG"
    },
    {
      "cell_type": "code",
      "execution_count": null,
      "metadata": {
        "colab": {
          "base_uri": "https://localhost:8080/"
        },
        "id": "87XypYla6gBL",
        "outputId": "a1af1e62-011e-43e9-d3ce-9c7fa1d953bf"
      },
      "outputs": [
        {
          "name": "stdout",
          "output_type": "stream",
          "text": [
            "Model: \"sequential_17\"\n",
            "_________________________________________________________________\n",
            " Layer (type)                Output Shape              Param #   \n",
            "=================================================================\n",
            " resnet50 (Functional)       (None, 2, 2, 2048)        23581440  \n",
            "                                                                 \n",
            " flatten_12 (Flatten)        (None, 8192)              0         \n",
            "                                                                 \n",
            " dense_36 (Dense)            (None, 4096)              33558528  \n",
            "                                                                 \n",
            " batch_normalization_20 (Bat  (None, 4096)             16384     \n",
            " chNormalization)                                                \n",
            "                                                                 \n",
            " activation_18 (Activation)  (None, 4096)              0         \n",
            "                                                                 \n",
            " dense_37 (Dense)            (None, 4096)              16781312  \n",
            "                                                                 \n",
            " batch_normalization_21 (Bat  (None, 4096)             16384     \n",
            " chNormalization)                                                \n",
            "                                                                 \n",
            " activation_19 (Activation)  (None, 4096)              0         \n",
            "                                                                 \n",
            " dense_38 (Dense)            (None, 7)                 28679     \n",
            "                                                                 \n",
            "=================================================================\n",
            "Total params: 73,982,727\n",
            "Trainable params: 73,913,223\n",
            "Non-trainable params: 69,504\n",
            "_________________________________________________________________\n"
          ]
        }
      ],
      "source": [
        "ResNet_Modell_1 = Sequential()\n",
        "ResNet_Modell_1.add(ResNet_ohne_MLP)\n",
        "ResNet_Modell_1.add(Flatten())\n",
        "\n",
        "ResNet_Modell_1.add(Dense(4096))\n",
        "ResNet_Modell_1.add(BatchNormalization())\n",
        "ResNet_Modell_1.add(Activation('relu'))\n",
        "\n",
        "ResNet_Modell_1.add(Dense(4096))\n",
        "ResNet_Modell_1.add(BatchNormalization())\n",
        "ResNet_Modell_1.add(Activation('relu'))\n",
        "\n",
        "ResNet_Modell_1.add(Dense(7, activation='softmax'))\n",
        "\n",
        "ResNet_Modell_1.summary()"
      ],
      "id": "87XypYla6gBL"
    },
    {
      "cell_type": "code",
      "execution_count": null,
      "metadata": {
        "id": "yPP0NDGT0fKK"
      },
      "outputs": [],
      "source": [
        "ResNet_Modell_1.compile(optimizer=SGD(learning_rate=learning_rate),\n",
        "                     loss='categorical_crossentropy', metrics=['accuracy'])"
      ],
      "id": "yPP0NDGT0fKK"
    },
    {
      "cell_type": "code",
      "execution_count": null,
      "metadata": {
        "id": "oeW4fpeb0fKL"
      },
      "outputs": [],
      "source": [
        "checkpointer_ResNet_1 = [\n",
        "                      ModelCheckpoint('ResNet_1_SGD_32,0.01.h5', monitor=\"val_accuracy\", verbose=1, save_best_only=True,mode=\"max\"),\n",
        "                      CSVLogger('ResNet_1_SGD_32,0.01.log')\n",
        "                      ]"
      ],
      "id": "oeW4fpeb0fKL"
    },
    {
      "cell_type": "code",
      "execution_count": null,
      "metadata": {
        "id": "XRmD8O0G0fKL"
      },
      "outputs": [],
      "source": [
        "%%time\n",
        "history_ResNet_1 = ResNet_Modell_1.fit(\n",
        "    X_train_48x48,\n",
        "    y_train_cat,\n",
        "    batch_size=batch_size,\n",
        "    epochs=epochs,\n",
        "    callbacks=checkpointer_ResNet_1,\n",
        "    validation_data=(X_val_48x48, y_val_cat)\n",
        ")"
      ],
      "id": "XRmD8O0G0fKL"
    },
    {
      "cell_type": "markdown",
      "metadata": {
        "id": "8i7ak5Y32_8q"
      },
      "source": [
        "##### (2) Adam: Blanco"
      ],
      "id": "8i7ak5Y32_8q"
    },
    {
      "cell_type": "code",
      "execution_count": null,
      "metadata": {
        "colab": {
          "base_uri": "https://localhost:8080/"
        },
        "id": "yOsPFEAMHQ0U",
        "outputId": "d9c6f61d-0f45-4bd8-ec6c-537ae2abd84c"
      },
      "outputs": [
        {
          "name": "stdout",
          "output_type": "stream",
          "text": [
            "Model: \"sequential_23\"\n",
            "_________________________________________________________________\n",
            " Layer (type)                Output Shape              Param #   \n",
            "=================================================================\n",
            " resnet50 (Functional)       (None, 2, 2, 2048)        23581440  \n",
            "                                                                 \n",
            " flatten_18 (Flatten)        (None, 8192)              0         \n",
            "                                                                 \n",
            " dense_54 (Dense)            (None, 4096)              33558528  \n",
            "                                                                 \n",
            " batch_normalization_32 (Bat  (None, 4096)             16384     \n",
            " chNormalization)                                                \n",
            "                                                                 \n",
            " activation_30 (Activation)  (None, 4096)              0         \n",
            "                                                                 \n",
            " dense_55 (Dense)            (None, 4096)              16781312  \n",
            "                                                                 \n",
            " batch_normalization_33 (Bat  (None, 4096)             16384     \n",
            " chNormalization)                                                \n",
            "                                                                 \n",
            " activation_31 (Activation)  (None, 4096)              0         \n",
            "                                                                 \n",
            " dense_56 (Dense)            (None, 7)                 28679     \n",
            "                                                                 \n",
            "=================================================================\n",
            "Total params: 73,982,727\n",
            "Trainable params: 73,913,223\n",
            "Non-trainable params: 69,504\n",
            "_________________________________________________________________\n"
          ]
        }
      ],
      "source": [
        "ResNet_Modell_2 = Sequential()\n",
        "ResNet_Modell_2.add(ResNet_ohne_MLP)\n",
        "ResNet_Modell_2.add(Flatten())\n",
        "\n",
        "ResNet_Modell_2.add(Dense(4096))\n",
        "ResNet_Modell_2.add(BatchNormalization())\n",
        "ResNet_Modell_2.add(Activation('relu'))\n",
        "\n",
        "ResNet_Modell_2.add(Dense(4096))\n",
        "ResNet_Modell_2.add(BatchNormalization())\n",
        "ResNet_Modell_2.add(Activation('relu'))\n",
        "\n",
        "ResNet_Modell_2.add(Dense(7, activation='softmax'))\n",
        "\n",
        "ResNet_Modell_2.summary()"
      ],
      "id": "yOsPFEAMHQ0U"
    },
    {
      "cell_type": "code",
      "execution_count": null,
      "metadata": {
        "id": "0RiubR-c2_8r"
      },
      "outputs": [],
      "source": [
        "ResNet_Modell_2.compile(optimizer=Adam(learning_rate=learning_rate),\n",
        "                     loss='categorical_crossentropy', metrics=['accuracy'])"
      ],
      "id": "0RiubR-c2_8r"
    },
    {
      "cell_type": "code",
      "execution_count": null,
      "metadata": {
        "id": "1RhGmOSB2_8r"
      },
      "outputs": [],
      "source": [
        "checkpointer_ResNet_2 = [\n",
        "                      ModelCheckpoint('ResNet_2_Adam_32,0.01.h5', monitor=\"val_accuracy\", verbose=1, save_best_only=True,mode=\"max\"),\n",
        "                      CSVLogger('ResNet_2_Adam_32,0.01.log')\n",
        "                      ]"
      ],
      "id": "1RhGmOSB2_8r"
    },
    {
      "cell_type": "code",
      "execution_count": null,
      "metadata": {
        "id": "b438pXal2_8r"
      },
      "outputs": [],
      "source": [
        "%%time\n",
        "history_ResNet_2 = ResNet_Modell_2.fit(\n",
        "    X_train_48x48,\n",
        "    y_train_cat,\n",
        "    batch_size=batch_size,\n",
        "    epochs=epochs,\n",
        "    callbacks=checkpointer_ResNet_2,\n",
        "    validation_data=(X_val_48x48, y_val_cat)\n",
        ")"
      ],
      "id": "b438pXal2_8r"
    },
    {
      "cell_type": "markdown",
      "metadata": {
        "id": "7Mqhdo1L0fKN"
      },
      "source": [
        "##### (3) SGD: Dropout"
      ],
      "id": "7Mqhdo1L0fKN"
    },
    {
      "cell_type": "code",
      "execution_count": null,
      "metadata": {
        "colab": {
          "base_uri": "https://localhost:8080/"
        },
        "id": "YLBnuIHG0fKO",
        "outputId": "185fc1c3-11e8-405e-f677-c128c0b4e539"
      },
      "outputs": [
        {
          "name": "stdout",
          "output_type": "stream",
          "text": [
            "Model: \"sequential_19\"\n",
            "_________________________________________________________________\n",
            " Layer (type)                Output Shape              Param #   \n",
            "=================================================================\n",
            " resnet50 (Functional)       (None, 2, 2, 2048)        23581440  \n",
            "                                                                 \n",
            " flatten_14 (Flatten)        (None, 8192)              0         \n",
            "                                                                 \n",
            " dense_42 (Dense)            (None, 4096)              33558528  \n",
            "                                                                 \n",
            " batch_normalization_24 (Bat  (None, 4096)             16384     \n",
            " chNormalization)                                                \n",
            "                                                                 \n",
            " activation_22 (Activation)  (None, 4096)              0         \n",
            "                                                                 \n",
            " dropout_14 (Dropout)        (None, 4096)              0         \n",
            "                                                                 \n",
            " dense_43 (Dense)            (None, 4096)              16781312  \n",
            "                                                                 \n",
            " batch_normalization_25 (Bat  (None, 4096)             16384     \n",
            " chNormalization)                                                \n",
            "                                                                 \n",
            " activation_23 (Activation)  (None, 4096)              0         \n",
            "                                                                 \n",
            " dropout_15 (Dropout)        (None, 4096)              0         \n",
            "                                                                 \n",
            " dense_44 (Dense)            (None, 7)                 28679     \n",
            "                                                                 \n",
            "=================================================================\n",
            "Total params: 73,982,727\n",
            "Trainable params: 73,913,223\n",
            "Non-trainable params: 69,504\n",
            "_________________________________________________________________\n"
          ]
        }
      ],
      "source": [
        "ResNet_Modell_3 = Sequential()\n",
        "ResNet_Modell_3.add(ResNet_ohne_MLP)\n",
        "ResNet_Modell_3.add(Flatten())\n",
        "\n",
        "ResNet_Modell_3.add(Dense(4096))\n",
        "ResNet_Modell_3.add(BatchNormalization())\n",
        "ResNet_Modell_3.add(Activation('relu'))\n",
        "ResNet_Modell_3.add(Dropout(0.75))\n",
        "\n",
        "ResNet_Modell_3.add(Dense(4096))\n",
        "ResNet_Modell_3.add(BatchNormalization())\n",
        "ResNet_Modell_3.add(Activation('relu'))\n",
        "ResNet_Modell_3.add(Dropout(0.75))\n",
        "\n",
        "ResNet_Modell_3.add(Dense(7, activation='softmax'))\n",
        "\n",
        "ResNet_Modell_3.summary()"
      ],
      "id": "YLBnuIHG0fKO"
    },
    {
      "cell_type": "code",
      "execution_count": null,
      "metadata": {
        "id": "7PAmp5cL0fKP"
      },
      "outputs": [],
      "source": [
        "ResNet_Modell_3.compile(optimizer=SGD(learning_rate=learning_rate),\n",
        "                     loss='categorical_crossentropy', metrics=['accuracy'])"
      ],
      "id": "7PAmp5cL0fKP"
    },
    {
      "cell_type": "code",
      "execution_count": null,
      "metadata": {
        "id": "TpxCBjCs0fKP"
      },
      "outputs": [],
      "source": [
        "checkpointer_ResNet_3 = [\n",
        "                      ModelCheckpoint('ResNet_3_SGD_32,0.01_DO.h5', monitor=\"val_accuracy\", verbose=1, save_best_only=True,mode=\"max\"),\n",
        "                      CSVLogger('ResNet_3_SGD_32,0.01_DO.log')\n",
        "                      ]"
      ],
      "id": "TpxCBjCs0fKP"
    },
    {
      "cell_type": "code",
      "execution_count": null,
      "metadata": {
        "id": "LZmDpgKP0fKQ"
      },
      "outputs": [],
      "source": [
        "%%time\n",
        "history_ResNet_3 = ResNet_Modell_3.fit(\n",
        "    X_train_48x48,\n",
        "    y_train_cat,\n",
        "    batch_size=batch_size,\n",
        "    epochs=epochs,\n",
        "    callbacks=checkpointer_ResNet_3,\n",
        "    validation_data=(X_val_48x48, y_val_cat)\n",
        ")"
      ],
      "id": "LZmDpgKP0fKQ"
    },
    {
      "cell_type": "markdown",
      "metadata": {
        "id": "JwKDOzA-2_8s"
      },
      "source": [
        "##### (4) Adam: Dropout"
      ],
      "id": "JwKDOzA-2_8s"
    },
    {
      "cell_type": "code",
      "execution_count": null,
      "metadata": {
        "colab": {
          "base_uri": "https://localhost:8080/"
        },
        "id": "AYsSq3372_8s",
        "outputId": "8e843492-f47c-4604-eaed-020504064c88"
      },
      "outputs": [
        {
          "name": "stdout",
          "output_type": "stream",
          "text": [
            "Model: \"sequential_25\"\n",
            "_________________________________________________________________\n",
            " Layer (type)                Output Shape              Param #   \n",
            "=================================================================\n",
            " resnet50 (Functional)       (None, 2, 2, 2048)        23581440  \n",
            "                                                                 \n",
            " flatten_20 (Flatten)        (None, 8192)              0         \n",
            "                                                                 \n",
            " dense_60 (Dense)            (None, 4096)              33558528  \n",
            "                                                                 \n",
            " batch_normalization_36 (Bat  (None, 4096)             16384     \n",
            " chNormalization)                                                \n",
            "                                                                 \n",
            " activation_34 (Activation)  (None, 4096)              0         \n",
            "                                                                 \n",
            " dropout_22 (Dropout)        (None, 4096)              0         \n",
            "                                                                 \n",
            " dense_61 (Dense)            (None, 4096)              16781312  \n",
            "                                                                 \n",
            " batch_normalization_37 (Bat  (None, 4096)             16384     \n",
            " chNormalization)                                                \n",
            "                                                                 \n",
            " activation_35 (Activation)  (None, 4096)              0         \n",
            "                                                                 \n",
            " dropout_23 (Dropout)        (None, 4096)              0         \n",
            "                                                                 \n",
            " dense_62 (Dense)            (None, 7)                 28679     \n",
            "                                                                 \n",
            "=================================================================\n",
            "Total params: 73,982,727\n",
            "Trainable params: 73,913,223\n",
            "Non-trainable params: 69,504\n",
            "_________________________________________________________________\n"
          ]
        }
      ],
      "source": [
        "ResNet_Modell_4 = Sequential()\n",
        "ResNet_Modell_4.add(ResNet_ohne_MLP)\n",
        "ResNet_Modell_4.add(Flatten())\n",
        "\n",
        "ResNet_Modell_4.add(Dense(4096))\n",
        "ResNet_Modell_4.add(BatchNormalization())\n",
        "ResNet_Modell_4.add(Activation('relu'))\n",
        "ResNet_Modell_4.add(Dropout(0.75))\n",
        "\n",
        "ResNet_Modell_4.add(Dense(4096))\n",
        "ResNet_Modell_4.add(BatchNormalization())\n",
        "ResNet_Modell_4.add(Activation('relu'))\n",
        "ResNet_Modell_4.add(Dropout(0.75))\n",
        "\n",
        "ResNet_Modell_4.add(Dense(7, activation='softmax'))\n",
        "\n",
        "ResNet_Modell_4.summary()"
      ],
      "id": "AYsSq3372_8s"
    },
    {
      "cell_type": "code",
      "execution_count": null,
      "metadata": {
        "id": "5TJkftaW2_8t"
      },
      "outputs": [],
      "source": [
        "ResNet_Modell_4.compile(optimizer=Adam(learning_rate=learning_rate),\n",
        "                     loss='categorical_crossentropy', metrics=['accuracy'])"
      ],
      "id": "5TJkftaW2_8t"
    },
    {
      "cell_type": "code",
      "execution_count": null,
      "metadata": {
        "id": "OJsUZTxT2_8t"
      },
      "outputs": [],
      "source": [
        "checkpointer_ResNet_4 = [\n",
        "                      ModelCheckpoint('ResNet_4_Adam_32,0.01_DO.h5', monitor=\"val_accuracy\", verbose=1, save_best_only=True,mode=\"max\"),\n",
        "                      CSVLogger('ResNet_4_Adam_32,0.01_DO.log')\n",
        "                      ]"
      ],
      "id": "OJsUZTxT2_8t"
    },
    {
      "cell_type": "code",
      "execution_count": null,
      "metadata": {
        "id": "qc3eD4BB2_8t"
      },
      "outputs": [],
      "source": [
        "%%time\n",
        "history_ResNet_ = ResNet_Modell_4.fit(\n",
        "    X_train_48x48,\n",
        "    y_train_cat,\n",
        "    batch_size=batch_size,\n",
        "    epochs=epochs,\n",
        "    callbacks=checkpointer_ResNet_4,\n",
        "    validation_data=(X_val_48x48, y_val_cat)\n",
        ")"
      ],
      "id": "qc3eD4BB2_8t"
    },
    {
      "cell_type": "markdown",
      "metadata": {
        "id": "OFzR9kTwmM6U"
      },
      "source": [
        "##### (5) SGD: Data Augmentation"
      ],
      "id": "OFzR9kTwmM6U"
    },
    {
      "cell_type": "code",
      "execution_count": null,
      "metadata": {
        "colab": {
          "base_uri": "https://localhost:8080/"
        },
        "id": "TnGBWOpDmM6V",
        "outputId": "79191453-5fef-41ee-b1fe-99133770ec33"
      },
      "outputs": [
        {
          "name": "stdout",
          "output_type": "stream",
          "text": [
            "Model: \"sequential_21\"\n",
            "_________________________________________________________________\n",
            " Layer (type)                Output Shape              Param #   \n",
            "=================================================================\n",
            " resnet50 (Functional)       (None, 2, 2, 2048)        23581440  \n",
            "                                                                 \n",
            " flatten_20 (Flatten)        (None, 8192)              0         \n",
            "                                                                 \n",
            " dense_60 (Dense)            (None, 4096)              33558528  \n",
            "                                                                 \n",
            " batch_normalization_58 (Bat  (None, 4096)             16384     \n",
            " chNormalization)                                                \n",
            "                                                                 \n",
            " activation_58 (Activation)  (None, 4096)              0         \n",
            "                                                                 \n",
            " dense_61 (Dense)            (None, 4096)              16781312  \n",
            "                                                                 \n",
            " batch_normalization_59 (Bat  (None, 4096)             16384     \n",
            " chNormalization)                                                \n",
            "                                                                 \n",
            " activation_59 (Activation)  (None, 4096)              0         \n",
            "                                                                 \n",
            " dense_62 (Dense)            (None, 7)                 28679     \n",
            "                                                                 \n",
            "=================================================================\n",
            "Total params: 73,982,727\n",
            "Trainable params: 73,913,223\n",
            "Non-trainable params: 69,504\n",
            "_________________________________________________________________\n"
          ]
        }
      ],
      "source": [
        "ResNet_Modell_5 = Sequential()\n",
        "ResNet_Modell_5.add(ResNet_ohne_MLP)\n",
        "ResNet_Modell_5.add(Flatten())\n",
        "\n",
        "ResNet_Modell_5.add(Dense(4096))\n",
        "ResNet_Modell_5.add(BatchNormalization())\n",
        "ResNet_Modell_5.add(Activation('relu'))\n",
        "\n",
        "ResNet_Modell_5.add(Dense(4096))\n",
        "ResNet_Modell_5.add(BatchNormalization())\n",
        "ResNet_Modell_5.add(Activation('relu'))\n",
        "\n",
        "ResNet_Modell_5.add(Dense(7, activation='softmax'))\n",
        "\n",
        "ResNet_Modell_5.summary()"
      ],
      "id": "TnGBWOpDmM6V"
    },
    {
      "cell_type": "code",
      "execution_count": null,
      "metadata": {
        "id": "Mife-bZumM6V"
      },
      "outputs": [],
      "source": [
        "ResNet_Modell_5.compile(optimizer=SGD(learning_rate=learning_rate),\n",
        "                     loss='categorical_crossentropy', metrics=['accuracy'])"
      ],
      "id": "Mife-bZumM6V"
    },
    {
      "cell_type": "code",
      "execution_count": null,
      "metadata": {
        "id": "U70lYjQ_mM6W"
      },
      "outputs": [],
      "source": [
        "checkpointer_ResNet_5 = [\n",
        "                      ModelCheckpoint('ResNet_5_SGD_32,0.01_DA.h5', monitor=\"val_accuracy\", verbose=1, save_best_only=True,mode=\"max\"),\n",
        "                      CSVLogger('ResNet_5_SGD_32,0.01_DA.log')\n",
        "                      ]"
      ],
      "id": "U70lYjQ_mM6W"
    },
    {
      "cell_type": "code",
      "execution_count": null,
      "metadata": {
        "id": "r2_-OyJFmM6W"
      },
      "outputs": [],
      "source": [
        "%%time\n",
        "history_ResNet_5 = ResNet_Modell_5.fit_generator(\n",
        "    train_generator,\n",
        "    validation_data=(X_val_48x48, y_val_cat),\n",
        "    epochs=epochs,\n",
        "    callbacks=checkpointer_ResNet_5)    "
      ],
      "id": "r2_-OyJFmM6W"
    },
    {
      "cell_type": "markdown",
      "metadata": {
        "id": "Wm8z1kF6mTyr"
      },
      "source": [
        "##### (6) Adam: Data Augmentation"
      ],
      "id": "Wm8z1kF6mTyr"
    },
    {
      "cell_type": "code",
      "execution_count": null,
      "metadata": {
        "colab": {
          "base_uri": "https://localhost:8080/"
        },
        "id": "Cfe9dEcvmTys",
        "outputId": "c69aab43-ec2e-4bae-b880-8dbb5a9112c0"
      },
      "outputs": [
        {
          "name": "stdout",
          "output_type": "stream",
          "text": [
            "Model: \"sequential_22\"\n",
            "_________________________________________________________________\n",
            " Layer (type)                Output Shape              Param #   \n",
            "=================================================================\n",
            " resnet50 (Functional)       (None, 2, 2, 2048)        23581440  \n",
            "                                                                 \n",
            " flatten_21 (Flatten)        (None, 8192)              0         \n",
            "                                                                 \n",
            " dense_63 (Dense)            (None, 4096)              33558528  \n",
            "                                                                 \n",
            " batch_normalization_60 (Bat  (None, 4096)             16384     \n",
            " chNormalization)                                                \n",
            "                                                                 \n",
            " activation_60 (Activation)  (None, 4096)              0         \n",
            "                                                                 \n",
            " dense_64 (Dense)            (None, 4096)              16781312  \n",
            "                                                                 \n",
            " batch_normalization_61 (Bat  (None, 4096)             16384     \n",
            " chNormalization)                                                \n",
            "                                                                 \n",
            " activation_61 (Activation)  (None, 4096)              0         \n",
            "                                                                 \n",
            " dense_65 (Dense)            (None, 7)                 28679     \n",
            "                                                                 \n",
            "=================================================================\n",
            "Total params: 73,982,727\n",
            "Trainable params: 73,913,223\n",
            "Non-trainable params: 69,504\n",
            "_________________________________________________________________\n"
          ]
        }
      ],
      "source": [
        "ResNet_Modell_6 = Sequential()\n",
        "ResNet_Modell_6.add(ResNet_ohne_MLP)\n",
        "ResNet_Modell_6.add(Flatten())\n",
        "\n",
        "ResNet_Modell_6.add(Dense(4096))\n",
        "ResNet_Modell_6.add(BatchNormalization())\n",
        "ResNet_Modell_6.add(Activation('relu'))\n",
        "\n",
        "ResNet_Modell_6.add(Dense(4096))\n",
        "ResNet_Modell_6.add(BatchNormalization())\n",
        "ResNet_Modell_6.add(Activation('relu'))\n",
        "\n",
        "ResNet_Modell_6.add(Dense(7, activation='softmax'))\n",
        "\n",
        "ResNet_Modell_6.summary()"
      ],
      "id": "Cfe9dEcvmTys"
    },
    {
      "cell_type": "code",
      "execution_count": null,
      "metadata": {
        "id": "d0Cr5ktUmTyt"
      },
      "outputs": [],
      "source": [
        "ResNet_Modell_6.compile(optimizer=Adam(learning_rate=learning_rate),\n",
        "                     loss='categorical_crossentropy', metrics=['accuracy'])"
      ],
      "id": "d0Cr5ktUmTyt"
    },
    {
      "cell_type": "code",
      "execution_count": null,
      "metadata": {
        "id": "5ygnd_tymTyu"
      },
      "outputs": [],
      "source": [
        "checkpointer_ResNet_6 = [\n",
        "                      ModelCheckpoint('ResNet_6_Adam_32,0.01_DA.h5', monitor=\"val_accuracy\", verbose=1, save_best_only=True,mode=\"max\"),\n",
        "                      CSVLogger('ResNet_6_Adam_32,0.01_DA.log')\n",
        "                      ]"
      ],
      "id": "5ygnd_tymTyu"
    },
    {
      "cell_type": "code",
      "execution_count": null,
      "metadata": {
        "id": "qtkAI36WmTyv"
      },
      "outputs": [],
      "source": [
        "%%time\n",
        "history_ResNet_6 = ResNet_Modell_6.fit_generator(\n",
        "    train_generator,\n",
        "    validation_data=(X_val_48x48, y_val_cat),\n",
        "    epochs=epochs,\n",
        "    callbacks=checkpointer_ResNet_6)"
      ],
      "id": "qtkAI36WmTyv"
    },
    {
      "cell_type": "markdown",
      "metadata": {
        "id": "s-r7Kat70fKR"
      },
      "source": [
        "##### (7) SGD: Dropout + Data Augmentation"
      ],
      "id": "s-r7Kat70fKR"
    },
    {
      "cell_type": "code",
      "execution_count": null,
      "metadata": {
        "colab": {
          "base_uri": "https://localhost:8080/"
        },
        "id": "SoP4KBkr0fKS",
        "outputId": "b0336e64-f121-4c11-baa5-41ae88871ebc"
      },
      "outputs": [
        {
          "name": "stdout",
          "output_type": "stream",
          "text": [
            "Model: \"sequential_21\"\n",
            "_________________________________________________________________\n",
            " Layer (type)                Output Shape              Param #   \n",
            "=================================================================\n",
            " resnet50 (Functional)       (None, 2, 2, 2048)        23581440  \n",
            "                                                                 \n",
            " flatten_16 (Flatten)        (None, 8192)              0         \n",
            "                                                                 \n",
            " dense_48 (Dense)            (None, 4096)              33558528  \n",
            "                                                                 \n",
            " batch_normalization_28 (Bat  (None, 4096)             16384     \n",
            " chNormalization)                                                \n",
            "                                                                 \n",
            " activation_26 (Activation)  (None, 4096)              0         \n",
            "                                                                 \n",
            " dropout_18 (Dropout)        (None, 4096)              0         \n",
            "                                                                 \n",
            " dense_49 (Dense)            (None, 4096)              16781312  \n",
            "                                                                 \n",
            " batch_normalization_29 (Bat  (None, 4096)             16384     \n",
            " chNormalization)                                                \n",
            "                                                                 \n",
            " activation_27 (Activation)  (None, 4096)              0         \n",
            "                                                                 \n",
            " dropout_19 (Dropout)        (None, 4096)              0         \n",
            "                                                                 \n",
            " dense_50 (Dense)            (None, 7)                 28679     \n",
            "                                                                 \n",
            "=================================================================\n",
            "Total params: 73,982,727\n",
            "Trainable params: 73,913,223\n",
            "Non-trainable params: 69,504\n",
            "_________________________________________________________________\n"
          ]
        }
      ],
      "source": [
        "ResNet_Modell_7 = Sequential()\n",
        "ResNet_Modell_7.add(ResNet_ohne_MLP)\n",
        "ResNet_Modell_7.add(Flatten())\n",
        "\n",
        "ResNet_Modell_7.add(Dense(4096))\n",
        "ResNet_Modell_7.add(BatchNormalization())\n",
        "ResNet_Modell_7.add(Activation('relu'))\n",
        "ResNet_Modell_7.add(Dropout(0.75))\n",
        "\n",
        "ResNet_Modell_7.add(Dense(4096))\n",
        "ResNet_Modell_7.add(BatchNormalization())\n",
        "ResNet_Modell_7.add(Activation('relu'))\n",
        "ResNet_Modell_7.add(Dropout(0.75))\n",
        "\n",
        "ResNet_Modell_7.add(Dense(7, activation='softmax'))\n",
        "\n",
        "ResNet_Modell_7.summary()"
      ],
      "id": "SoP4KBkr0fKS"
    },
    {
      "cell_type": "code",
      "execution_count": null,
      "metadata": {
        "id": "8tC_POnf0fKS"
      },
      "outputs": [],
      "source": [
        "ResNet_Modell_7.compile(optimizer=SGD(learning_rate=learning_rate),\n",
        "                     loss='categorical_crossentropy', metrics=['accuracy'])"
      ],
      "id": "8tC_POnf0fKS"
    },
    {
      "cell_type": "code",
      "execution_count": null,
      "metadata": {
        "id": "P5cUnjBD0fKT"
      },
      "outputs": [],
      "source": [
        "checkpointer_ResNet_7 = [\n",
        "                      ModelCheckpoint('ResNet_7_SGD_32,0.01_DO+DA.h5', monitor=\"val_accuracy\", verbose=1, save_best_only=True,mode=\"max\"),\n",
        "                      CSVLogger('ResNet_7_SGD_32,0.01_DO+DA.log')\n",
        "                      ]"
      ],
      "id": "P5cUnjBD0fKT"
    },
    {
      "cell_type": "code",
      "execution_count": null,
      "metadata": {
        "id": "8l75CNiB0fKT"
      },
      "outputs": [],
      "source": [
        "%%time\n",
        "history_ResNet_7 = ResNet_Modell_7.fit_generator(\n",
        "    train_generator,\n",
        "    validation_data=(X_val_48x48, y_val_cat),\n",
        "    epochs=epochs,\n",
        "    callbacks=checkpointer_ResNet_7)  "
      ],
      "id": "8l75CNiB0fKT"
    },
    {
      "cell_type": "markdown",
      "metadata": {
        "id": "h4XwPvhi2_8u"
      },
      "source": [
        "##### (8) Adam: Dropout + Data Augmentation"
      ],
      "id": "h4XwPvhi2_8u"
    },
    {
      "cell_type": "code",
      "execution_count": null,
      "metadata": {
        "colab": {
          "base_uri": "https://localhost:8080/"
        },
        "id": "R3ib5M-M2_8u",
        "outputId": "eb4c5bc3-2e66-44f3-89b1-21aa40fe68d2"
      },
      "outputs": [
        {
          "name": "stdout",
          "output_type": "stream",
          "text": [
            "Model: \"sequential_26\"\n",
            "_________________________________________________________________\n",
            " Layer (type)                Output Shape              Param #   \n",
            "=================================================================\n",
            " resnet50 (Functional)       (None, 2, 2, 2048)        23581440  \n",
            "                                                                 \n",
            " flatten_21 (Flatten)        (None, 8192)              0         \n",
            "                                                                 \n",
            " dense_63 (Dense)            (None, 4096)              33558528  \n",
            "                                                                 \n",
            " batch_normalization_38 (Bat  (None, 4096)             16384     \n",
            " chNormalization)                                                \n",
            "                                                                 \n",
            " activation_36 (Activation)  (None, 4096)              0         \n",
            "                                                                 \n",
            " dropout_24 (Dropout)        (None, 4096)              0         \n",
            "                                                                 \n",
            " dense_64 (Dense)            (None, 4096)              16781312  \n",
            "                                                                 \n",
            " batch_normalization_39 (Bat  (None, 4096)             16384     \n",
            " chNormalization)                                                \n",
            "                                                                 \n",
            " activation_37 (Activation)  (None, 4096)              0         \n",
            "                                                                 \n",
            " dropout_25 (Dropout)        (None, 4096)              0         \n",
            "                                                                 \n",
            " dense_65 (Dense)            (None, 7)                 28679     \n",
            "                                                                 \n",
            "=================================================================\n",
            "Total params: 73,982,727\n",
            "Trainable params: 73,913,223\n",
            "Non-trainable params: 69,504\n",
            "_________________________________________________________________\n"
          ]
        }
      ],
      "source": [
        "ResNet_Modell_8 = Sequential()\n",
        "ResNet_Modell_8.add(ResNet_ohne_MLP)\n",
        "ResNet_Modell_8.add(Flatten())\n",
        "\n",
        "ResNet_Modell_8.add(Dense(4096))\n",
        "ResNet_Modell_8.add(BatchNormalization())\n",
        "ResNet_Modell_8.add(Activation('relu'))\n",
        "ResNet_Modell_8.add(Dropout(0.75))\n",
        "\n",
        "ResNet_Modell_8.add(Dense(4096))\n",
        "ResNet_Modell_8.add(BatchNormalization())\n",
        "ResNet_Modell_8.add(Activation('relu'))\n",
        "ResNet_Modell_8.add(Dropout(0.75))\n",
        "\n",
        "ResNet_Modell_8.add(Dense(7, activation='softmax'))\n",
        "\n",
        "ResNet_Modell_8.summary()"
      ],
      "id": "R3ib5M-M2_8u"
    },
    {
      "cell_type": "code",
      "execution_count": null,
      "metadata": {
        "id": "4K6zijSw2_8v"
      },
      "outputs": [],
      "source": [
        "ResNet_Modell_8.compile(optimizer=Adam(learning_rate=learning_rate),\n",
        "                     loss='categorical_crossentropy', metrics=['accuracy'])"
      ],
      "id": "4K6zijSw2_8v"
    },
    {
      "cell_type": "code",
      "execution_count": null,
      "metadata": {
        "id": "TaA-2wS32_8v"
      },
      "outputs": [],
      "source": [
        "checkpointer_ResNet_8 = [\n",
        "                      ModelCheckpoint('ResNet_8_Adam_32,0.01_DO+DA.h5', monitor=\"val_accuracy\", verbose=1, save_best_only=True,mode=\"max\"),\n",
        "                      CSVLogger('ResNet_8_Adam_32,0.01_DO+DA.log')\n",
        "                      ]"
      ],
      "id": "TaA-2wS32_8v"
    },
    {
      "cell_type": "code",
      "execution_count": null,
      "metadata": {
        "id": "nlKzuzw32_8v"
      },
      "outputs": [],
      "source": [
        "%%time\n",
        "history_ResNet_8 = ResNet_Modell_8.fit_generator(\n",
        "    train_generator,\n",
        "    validation_data=(X_val_48x48, y_val_cat),\n",
        "    epochs=epochs,\n",
        "    callbacks=checkpointer_ResNet_8)"
      ],
      "id": "nlKzuzw32_8v"
    },
    {
      "cell_type": "markdown",
      "metadata": {
        "id": "Hx4J_0VfOQUw"
      },
      "source": [
        "#### Vortrainiertes ResNet"
      ],
      "id": "Hx4J_0VfOQUw"
    },
    {
      "cell_type": "markdown",
      "metadata": {
        "id": "Z4XR2OnaOQUx"
      },
      "source": [
        "##### (9) SGD: Blanco"
      ],
      "id": "Z4XR2OnaOQUx"
    },
    {
      "cell_type": "code",
      "execution_count": null,
      "metadata": {
        "colab": {
          "base_uri": "https://localhost:8080/"
        },
        "id": "iW_cZCMMOQUy",
        "outputId": "52da569c-f32c-483b-c949-e1bdc66262e3"
      },
      "outputs": [
        {
          "name": "stdout",
          "output_type": "stream",
          "text": [
            "Model: \"sequential_21\"\n",
            "_________________________________________________________________\n",
            " Layer (type)                Output Shape              Param #   \n",
            "=================================================================\n",
            " resnet50 (Functional)       (None, 2, 2, 2048)        23587712  \n",
            "                                                                 \n",
            " flatten_36 (Flatten)        (None, 8192)              0         \n",
            "                                                                 \n",
            " dense_95 (Dense)            (None, 4096)              33558528  \n",
            "                                                                 \n",
            " batch_normalization_60 (Bat  (None, 4096)             16384     \n",
            " chNormalization)                                                \n",
            "                                                                 \n",
            " activation_59 (Activation)  (None, 4096)              0         \n",
            "                                                                 \n",
            " dense_96 (Dense)            (None, 4096)              16781312  \n",
            "                                                                 \n",
            " batch_normalization_61 (Bat  (None, 4096)             16384     \n",
            " chNormalization)                                                \n",
            "                                                                 \n",
            " activation_60 (Activation)  (None, 4096)              0         \n",
            "                                                                 \n",
            " dense_97 (Dense)            (None, 7)                 28679     \n",
            "                                                                 \n",
            "=================================================================\n",
            "Total params: 73,988,999\n",
            "Trainable params: 50,384,903\n",
            "Non-trainable params: 23,604,096\n",
            "_________________________________________________________________\n"
          ]
        }
      ],
      "source": [
        "ResNet_vortrainiert.trainable = False\n",
        "ResNet_Modell_9 = Sequential()\n",
        "ResNet_Modell_9.add(ResNet_vortrainiert)\n",
        "ResNet_Modell_9.add(Flatten())\n",
        "\n",
        "ResNet_Modell_9.add(Dense(4096))\n",
        "ResNet_Modell_9.add(BatchNormalization())\n",
        "ResNet_Modell_9.add(Activation('relu'))\n",
        "\n",
        "ResNet_Modell_9.add(Dense(4096))\n",
        "ResNet_Modell_9.add(BatchNormalization())\n",
        "ResNet_Modell_9.add(Activation('relu'))\n",
        "\n",
        "ResNet_Modell_9.add(Dense(7, activation='softmax'))\n",
        "\n",
        "ResNet_Modell_9.summary()"
      ],
      "id": "iW_cZCMMOQUy"
    },
    {
      "cell_type": "code",
      "execution_count": null,
      "metadata": {
        "id": "9YWfYm3GOQUz"
      },
      "outputs": [],
      "source": [
        "ResNet_Modell_9.compile(optimizer=SGD(learning_rate=learning_rate),\n",
        "                     loss='categorical_crossentropy', metrics=['accuracy'])"
      ],
      "id": "9YWfYm3GOQUz"
    },
    {
      "cell_type": "code",
      "execution_count": null,
      "metadata": {
        "id": "yDvt69_POQU0"
      },
      "outputs": [],
      "source": [
        "checkpointer_ResNet_9 = [\n",
        "                      ModelCheckpoint('ResNet_9_SGD_32,0.01_TL.h5', monitor=\"val_accuracy\", verbose=1, save_best_only=True,mode=\"max\"),\n",
        "                      CSVLogger('ResNet_9_SGD_32,0.01_TL.log')\n",
        "                      ]"
      ],
      "id": "yDvt69_POQU0"
    },
    {
      "cell_type": "code",
      "execution_count": null,
      "metadata": {
        "id": "CHEbLZVXOQU0"
      },
      "outputs": [],
      "source": [
        "%%time\n",
        "history_ResNet_9 = ResNet_Modell_9.fit(\n",
        "    X_train_rgb,\n",
        "    y_train_cat,\n",
        "    batch_size=batch_size,\n",
        "    epochs=epochs,\n",
        "    callbacks=checkpointer_ResNet_9,\n",
        "    validation_data=(X_val_rgb, y_val_cat)\n",
        ")\n",
        "\n",
        "ResNet_Modell_9.save_weights('ResNet_Weights_9_SGD_32,0.01_TL.h5')"
      ],
      "id": "CHEbLZVXOQU0"
    },
    {
      "cell_type": "markdown",
      "metadata": {
        "id": "xs0__m_SOQU1"
      },
      "source": [
        "##### (10) Adam: Blanco"
      ],
      "id": "xs0__m_SOQU1"
    },
    {
      "cell_type": "code",
      "execution_count": null,
      "metadata": {
        "id": "WFG1TPGdOQU1"
      },
      "outputs": [],
      "source": [
        "ResNet_vortrainiert.trainable=False"
      ],
      "id": "WFG1TPGdOQU1"
    },
    {
      "cell_type": "code",
      "execution_count": null,
      "metadata": {
        "colab": {
          "base_uri": "https://localhost:8080/"
        },
        "id": "TrLvYZ8YOQU2",
        "outputId": "dfc09581-a6b5-44f7-a097-f36041414e84"
      },
      "outputs": [
        {
          "name": "stdout",
          "output_type": "stream",
          "text": [
            "Model: \"sequential_22\"\n",
            "_________________________________________________________________\n",
            " Layer (type)                Output Shape              Param #   \n",
            "=================================================================\n",
            " resnet50 (Functional)       (None, 2, 2, 2048)        23587712  \n",
            "                                                                 \n",
            " flatten_37 (Flatten)        (None, 8192)              0         \n",
            "                                                                 \n",
            " dense_98 (Dense)            (None, 4096)              33558528  \n",
            "                                                                 \n",
            " batch_normalization_62 (Bat  (None, 4096)             16384     \n",
            " chNormalization)                                                \n",
            "                                                                 \n",
            " activation_61 (Activation)  (None, 4096)              0         \n",
            "                                                                 \n",
            " dense_99 (Dense)            (None, 4096)              16781312  \n",
            "                                                                 \n",
            " batch_normalization_63 (Bat  (None, 4096)             16384     \n",
            " chNormalization)                                                \n",
            "                                                                 \n",
            " activation_62 (Activation)  (None, 4096)              0         \n",
            "                                                                 \n",
            " dense_100 (Dense)           (None, 7)                 28679     \n",
            "                                                                 \n",
            "=================================================================\n",
            "Total params: 73,988,999\n",
            "Trainable params: 50,384,903\n",
            "Non-trainable params: 23,604,096\n",
            "_________________________________________________________________\n"
          ]
        }
      ],
      "source": [
        "ResNet_Modell_10 = Sequential()\n",
        "ResNet_Modell_10.add(ResNet_vortrainiert)\n",
        "ResNet_Modell_10.add(Flatten())\n",
        "\n",
        "ResNet_Modell_10.add(Dense(4096))\n",
        "ResNet_Modell_10.add(BatchNormalization())\n",
        "ResNet_Modell_10.add(Activation('relu'))\n",
        "\n",
        "ResNet_Modell_10.add(Dense(4096))\n",
        "ResNet_Modell_10.add(BatchNormalization())\n",
        "ResNet_Modell_10.add(Activation('relu'))\n",
        "\n",
        "ResNet_Modell_10.add(Dense(7, activation='softmax'))\n",
        "\n",
        "ResNet_Modell_10.summary()"
      ],
      "id": "TrLvYZ8YOQU2"
    },
    {
      "cell_type": "code",
      "execution_count": null,
      "metadata": {
        "id": "4grnNpLWOQU3"
      },
      "outputs": [],
      "source": [
        "ResNet_Modell_10.compile(optimizer=Adam(learning_rate=learning_rate),\n",
        "                     loss='categorical_crossentropy', metrics=['accuracy'])"
      ],
      "id": "4grnNpLWOQU3"
    },
    {
      "cell_type": "code",
      "execution_count": null,
      "metadata": {
        "id": "eRw15NVkOQU3"
      },
      "outputs": [],
      "source": [
        "checkpointer_ResNet_10 = [\n",
        "                      ModelCheckpoint('ResNet_10_Adam_32,0.01_TL.h5', monitor=\"val_accuracy\", verbose=1, save_best_only=True,mode=\"max\"),\n",
        "                      CSVLogger('ResNet_10_Adam_32,0.01_TL.log')\n",
        "                      ]"
      ],
      "id": "eRw15NVkOQU3"
    },
    {
      "cell_type": "code",
      "execution_count": null,
      "metadata": {
        "id": "aV6UCZegOQU4"
      },
      "outputs": [],
      "source": [
        "%%time\n",
        "history_ResNet_10 = ResNet_Modell_10.fit(\n",
        "    X_train_rgb,\n",
        "    y_train_cat,\n",
        "    batch_size=batch_size,\n",
        "    epochs=epochs,\n",
        "    callbacks=checkpointer_ResNet_10,\n",
        "    validation_data=(X_val_rgb, y_val_cat)\n",
        ")\n",
        "\n",
        "ResNet_Modell_10.save_weights('ResNet_Weights_10_Adam_32,0.01_TL.h5')"
      ],
      "id": "aV6UCZegOQU4"
    },
    {
      "cell_type": "markdown",
      "metadata": {
        "id": "xcU5WsTHOQU4"
      },
      "source": [
        "##### (11) SGD: Dropout"
      ],
      "id": "xcU5WsTHOQU4"
    },
    {
      "cell_type": "code",
      "execution_count": null,
      "metadata": {
        "id": "IQNDh0EIOQU5"
      },
      "outputs": [],
      "source": [
        "ResNet_vortrainiert.trainable=False"
      ],
      "id": "IQNDh0EIOQU5"
    },
    {
      "cell_type": "code",
      "execution_count": null,
      "metadata": {
        "colab": {
          "base_uri": "https://localhost:8080/"
        },
        "id": "1Z2IdEtOOQU5",
        "outputId": "eeee7ad9-b7c7-4b3c-add4-d0401eb59e0c"
      },
      "outputs": [
        {
          "name": "stdout",
          "output_type": "stream",
          "text": [
            "Model: \"sequential_23\"\n",
            "_________________________________________________________________\n",
            " Layer (type)                Output Shape              Param #   \n",
            "=================================================================\n",
            " resnet50 (Functional)       (None, 2, 2, 2048)        23587712  \n",
            "                                                                 \n",
            " flatten_38 (Flatten)        (None, 8192)              0         \n",
            "                                                                 \n",
            " dense_101 (Dense)           (None, 4096)              33558528  \n",
            "                                                                 \n",
            " batch_normalization_64 (Bat  (None, 4096)             16384     \n",
            " chNormalization)                                                \n",
            "                                                                 \n",
            " activation_63 (Activation)  (None, 4096)              0         \n",
            "                                                                 \n",
            " dropout_10 (Dropout)        (None, 4096)              0         \n",
            "                                                                 \n",
            " dense_102 (Dense)           (None, 4096)              16781312  \n",
            "                                                                 \n",
            " batch_normalization_65 (Bat  (None, 4096)             16384     \n",
            " chNormalization)                                                \n",
            "                                                                 \n",
            " activation_64 (Activation)  (None, 4096)              0         \n",
            "                                                                 \n",
            " dropout_11 (Dropout)        (None, 4096)              0         \n",
            "                                                                 \n",
            " dense_103 (Dense)           (None, 7)                 28679     \n",
            "                                                                 \n",
            "=================================================================\n",
            "Total params: 73,988,999\n",
            "Trainable params: 50,384,903\n",
            "Non-trainable params: 23,604,096\n",
            "_________________________________________________________________\n"
          ]
        }
      ],
      "source": [
        "ResNet_Modell_11 = Sequential()\n",
        "ResNet_Modell_11.add(ResNet_vortrainiert)\n",
        "ResNet_Modell_11.add(Flatten())\n",
        "\n",
        "ResNet_Modell_11.add(Dense(4096))\n",
        "ResNet_Modell_11.add(BatchNormalization())\n",
        "ResNet_Modell_11.add(Activation('relu'))\n",
        "ResNet_Modell_11.add(Dropout(0.75))\n",
        "\n",
        "ResNet_Modell_11.add(Dense(4096))\n",
        "ResNet_Modell_11.add(BatchNormalization())\n",
        "ResNet_Modell_11.add(Activation('relu'))\n",
        "ResNet_Modell_11.add(Dropout(0.75))\n",
        "\n",
        "ResNet_Modell_11.add(Dense(7, activation='softmax'))\n",
        "\n",
        "ResNet_Modell_11.summary()"
      ],
      "id": "1Z2IdEtOOQU5"
    },
    {
      "cell_type": "code",
      "execution_count": null,
      "metadata": {
        "id": "G3ijPgqyOQU6"
      },
      "outputs": [],
      "source": [
        "ResNet_Modell_11.compile(optimizer=SGD(learning_rate=learning_rate),\n",
        "                     loss='categorical_crossentropy', metrics=['accuracy'])"
      ],
      "id": "G3ijPgqyOQU6"
    },
    {
      "cell_type": "code",
      "execution_count": null,
      "metadata": {
        "id": "8pOryLkXOQU7"
      },
      "outputs": [],
      "source": [
        "checkpointer_ResNet_11 = [\n",
        "                      ModelCheckpoint('ResNet_11_SGD_32,0.01_DO_TL.h5', monitor=\"val_accuracy\", verbose=1, save_best_only=True,mode=\"max\"),\n",
        "                      CSVLogger('ResNet_11_SGD_32,0.01_DO_TL.log')\n",
        "                      ]"
      ],
      "id": "8pOryLkXOQU7"
    },
    {
      "cell_type": "code",
      "execution_count": null,
      "metadata": {
        "id": "0FTbRgSsOQU7"
      },
      "outputs": [],
      "source": [
        "%%time\n",
        "history_ResNet_11 = ResNet_Modell_11.fit(\n",
        "    X_train_rgb,\n",
        "    y_train_cat,\n",
        "    batch_size=batch_size,\n",
        "    epochs=epochs,\n",
        "    callbacks=checkpointer_ResNet_11,\n",
        "    validation_data=(X_val_rgb, y_val_cat)\n",
        ")\n",
        "\n",
        "ResNet_Modell_11.save_weights('ResNet_Weights_11_SGD_32,0.01_DO_TL.h5')"
      ],
      "id": "0FTbRgSsOQU7"
    },
    {
      "cell_type": "markdown",
      "metadata": {
        "id": "LMRhUS-COQU8"
      },
      "source": [
        "##### (12) Adam: Dropout"
      ],
      "id": "LMRhUS-COQU8"
    },
    {
      "cell_type": "code",
      "execution_count": null,
      "metadata": {
        "id": "9f9CJk4TOQU8"
      },
      "outputs": [],
      "source": [
        "ResNet_vortrainiert.trainable=False"
      ],
      "id": "9f9CJk4TOQU8"
    },
    {
      "cell_type": "code",
      "execution_count": null,
      "metadata": {
        "colab": {
          "base_uri": "https://localhost:8080/"
        },
        "id": "p9DhpNv7OQU9",
        "outputId": "05bab3c2-b0a4-4223-dd83-cb746e52a0be"
      },
      "outputs": [
        {
          "name": "stdout",
          "output_type": "stream",
          "text": [
            "Model: \"sequential_24\"\n",
            "_________________________________________________________________\n",
            " Layer (type)                Output Shape              Param #   \n",
            "=================================================================\n",
            " resnet50 (Functional)       (None, 2, 2, 2048)        23587712  \n",
            "                                                                 \n",
            " flatten_39 (Flatten)        (None, 8192)              0         \n",
            "                                                                 \n",
            " dense_104 (Dense)           (None, 4096)              33558528  \n",
            "                                                                 \n",
            " batch_normalization_66 (Bat  (None, 4096)             16384     \n",
            " chNormalization)                                                \n",
            "                                                                 \n",
            " activation_65 (Activation)  (None, 4096)              0         \n",
            "                                                                 \n",
            " dropout_12 (Dropout)        (None, 4096)              0         \n",
            "                                                                 \n",
            " dense_105 (Dense)           (None, 4096)              16781312  \n",
            "                                                                 \n",
            " batch_normalization_67 (Bat  (None, 4096)             16384     \n",
            " chNormalization)                                                \n",
            "                                                                 \n",
            " activation_66 (Activation)  (None, 4096)              0         \n",
            "                                                                 \n",
            " dropout_13 (Dropout)        (None, 4096)              0         \n",
            "                                                                 \n",
            " dense_106 (Dense)           (None, 7)                 28679     \n",
            "                                                                 \n",
            "=================================================================\n",
            "Total params: 73,988,999\n",
            "Trainable params: 50,384,903\n",
            "Non-trainable params: 23,604,096\n",
            "_________________________________________________________________\n"
          ]
        }
      ],
      "source": [
        "ResNet_Modell_12 = Sequential()\n",
        "ResNet_Modell_12.add(ResNet_vortrainiert)\n",
        "ResNet_Modell_12.add(Flatten())\n",
        "\n",
        "ResNet_Modell_12.add(Dense(4096))\n",
        "ResNet_Modell_12.add(BatchNormalization())\n",
        "ResNet_Modell_12.add(Activation('relu'))\n",
        "ResNet_Modell_12.add(Dropout(0.75))\n",
        "\n",
        "ResNet_Modell_12.add(Dense(4096))\n",
        "ResNet_Modell_12.add(BatchNormalization())\n",
        "ResNet_Modell_12.add(Activation('relu'))\n",
        "ResNet_Modell_12.add(Dropout(0.75))\n",
        "\n",
        "ResNet_Modell_12.add(Dense(7, activation='softmax'))\n",
        "\n",
        "ResNet_Modell_12.summary()"
      ],
      "id": "p9DhpNv7OQU9"
    },
    {
      "cell_type": "code",
      "execution_count": null,
      "metadata": {
        "id": "D9zssDHfOQU9"
      },
      "outputs": [],
      "source": [
        "ResNet_Modell_12.compile(optimizer=Adam(learning_rate=learning_rate),\n",
        "                     loss='categorical_crossentropy', metrics=['accuracy'])"
      ],
      "id": "D9zssDHfOQU9"
    },
    {
      "cell_type": "code",
      "execution_count": null,
      "metadata": {
        "id": "qH7HBAb9OQU-"
      },
      "outputs": [],
      "source": [
        "checkpointer_ResNet_12 = [\n",
        "                      ModelCheckpoint('ResNet_12_Adam_32,0.01_DO_TL.h5', monitor=\"val_accuracy\", verbose=1, save_best_only=True,mode=\"max\"),\n",
        "                      CSVLogger('ResNet_12_Adam_32,0.01_DO_TL.log')\n",
        "                      ]"
      ],
      "id": "qH7HBAb9OQU-"
    },
    {
      "cell_type": "code",
      "execution_count": null,
      "metadata": {
        "id": "uGVJrt6zOQU-"
      },
      "outputs": [],
      "source": [
        "%%time\n",
        "history_ResNet_12 = ResNet_Modell_12.fit(\n",
        "    X_train_rgb,\n",
        "    y_train_cat,\n",
        "    batch_size=batch_size,\n",
        "    epochs=epochs,\n",
        "    callbacks=checkpointer_ResNet_12,\n",
        "    validation_data=(X_val_rgb, y_val_cat)\n",
        ")\n",
        "\n",
        "ResNet_Modell_12.save_weights('ResNet_Weights_12_Adam_32,0.01_DO_TL.h5')"
      ],
      "id": "uGVJrt6zOQU-"
    },
    {
      "cell_type": "markdown",
      "metadata": {
        "id": "cuI5nQSJOQU_"
      },
      "source": [
        "##### (13) SGD: Data Augmentation"
      ],
      "id": "cuI5nQSJOQU_"
    },
    {
      "cell_type": "code",
      "execution_count": null,
      "metadata": {
        "id": "pg_xmea7OQU_"
      },
      "outputs": [],
      "source": [
        "ResNet_vortrainiert.trainable=False"
      ],
      "id": "pg_xmea7OQU_"
    },
    {
      "cell_type": "code",
      "execution_count": null,
      "metadata": {
        "colab": {
          "base_uri": "https://localhost:8080/"
        },
        "id": "RyVjVfvkOQVA",
        "outputId": "3c2e10f9-a5eb-41ac-ad04-78b6a1178d09"
      },
      "outputs": [
        {
          "name": "stdout",
          "output_type": "stream",
          "text": [
            "Model: \"sequential_25\"\n",
            "_________________________________________________________________\n",
            " Layer (type)                Output Shape              Param #   \n",
            "=================================================================\n",
            " resnet50 (Functional)       (None, 2, 2, 2048)        23587712  \n",
            "                                                                 \n",
            " flatten_40 (Flatten)        (None, 8192)              0         \n",
            "                                                                 \n",
            " dense_107 (Dense)           (None, 4096)              33558528  \n",
            "                                                                 \n",
            " batch_normalization_68 (Bat  (None, 4096)             16384     \n",
            " chNormalization)                                                \n",
            "                                                                 \n",
            " activation_67 (Activation)  (None, 4096)              0         \n",
            "                                                                 \n",
            " dense_108 (Dense)           (None, 4096)              16781312  \n",
            "                                                                 \n",
            " batch_normalization_69 (Bat  (None, 4096)             16384     \n",
            " chNormalization)                                                \n",
            "                                                                 \n",
            " activation_68 (Activation)  (None, 4096)              0         \n",
            "                                                                 \n",
            " dense_109 (Dense)           (None, 7)                 28679     \n",
            "                                                                 \n",
            "=================================================================\n",
            "Total params: 73,988,999\n",
            "Trainable params: 50,384,903\n",
            "Non-trainable params: 23,604,096\n",
            "_________________________________________________________________\n"
          ]
        }
      ],
      "source": [
        "ResNet_Modell_13 = Sequential()\n",
        "ResNet_Modell_13.add(ResNet_vortrainiert)\n",
        "ResNet_Modell_13.add(Flatten())\n",
        "\n",
        "ResNet_Modell_13.add(Dense(4096))\n",
        "ResNet_Modell_13.add(BatchNormalization())\n",
        "ResNet_Modell_13.add(Activation('relu'))\n",
        "\n",
        "ResNet_Modell_13.add(Dense(4096))\n",
        "ResNet_Modell_13.add(BatchNormalization())\n",
        "ResNet_Modell_13.add(Activation('relu'))\n",
        "\n",
        "ResNet_Modell_13.add(Dense(7, activation='softmax'))\n",
        "\n",
        "ResNet_Modell_13.summary()"
      ],
      "id": "RyVjVfvkOQVA"
    },
    {
      "cell_type": "code",
      "execution_count": null,
      "metadata": {
        "id": "DyGRogRMOQVA"
      },
      "outputs": [],
      "source": [
        "ResNet_Modell_13.compile(optimizer=SGD(learning_rate=learning_rate),\n",
        "                     loss='categorical_crossentropy', metrics=['accuracy'])"
      ],
      "id": "DyGRogRMOQVA"
    },
    {
      "cell_type": "code",
      "execution_count": null,
      "metadata": {
        "id": "09QRd3EGOQVB"
      },
      "outputs": [],
      "source": [
        "checkpointer_ResNet_13 = [\n",
        "                      ModelCheckpoint('ResNet_13_SGD_32,0.01_DA_TL.h5', monitor=\"val_accuracy\", verbose=1, save_best_only=True,mode=\"max\"),\n",
        "                      CSVLogger('ResNet_13_SGD_32,0.01_DA_TL.log')\n",
        "                      ]"
      ],
      "id": "09QRd3EGOQVB"
    },
    {
      "cell_type": "code",
      "execution_count": null,
      "metadata": {
        "id": "BPN80wA0OQVB"
      },
      "outputs": [],
      "source": [
        "%%time\n",
        "history_VGG_13 = ResNet_Modell_13.fit_generator(\n",
        "    train_generator_rgb,\n",
        "    validation_data=(X_val_rgb, y_val_cat),\n",
        "    epochs=epochs,\n",
        "    callbacks=checkpointer_ResNet_13)  \n",
        "\n",
        "ResNet_Modell_13.save_weights('ResNet_Weights_13_SGD_32,0.01_DA_TL.h5')"
      ],
      "id": "BPN80wA0OQVB"
    },
    {
      "cell_type": "markdown",
      "metadata": {
        "id": "Eb7RavOPOQVC"
      },
      "source": [
        "##### (14) Adam: Data Augmentation"
      ],
      "id": "Eb7RavOPOQVC"
    },
    {
      "cell_type": "code",
      "execution_count": null,
      "metadata": {
        "id": "s0ID05KwOQVC"
      },
      "outputs": [],
      "source": [
        "ResNet_vortrainiert.trainable=False"
      ],
      "id": "s0ID05KwOQVC"
    },
    {
      "cell_type": "code",
      "execution_count": null,
      "metadata": {
        "colab": {
          "base_uri": "https://localhost:8080/"
        },
        "id": "0-ZoI2s5OQVD",
        "outputId": "cff7800f-ba0c-4651-ab28-08c81c39206c"
      },
      "outputs": [
        {
          "name": "stdout",
          "output_type": "stream",
          "text": [
            "Model: \"sequential_26\"\n",
            "_________________________________________________________________\n",
            " Layer (type)                Output Shape              Param #   \n",
            "=================================================================\n",
            " resnet50 (Functional)       (None, 2, 2, 2048)        23587712  \n",
            "                                                                 \n",
            " flatten_41 (Flatten)        (None, 8192)              0         \n",
            "                                                                 \n",
            " dense_110 (Dense)           (None, 4096)              33558528  \n",
            "                                                                 \n",
            " batch_normalization_70 (Bat  (None, 4096)             16384     \n",
            " chNormalization)                                                \n",
            "                                                                 \n",
            " activation_69 (Activation)  (None, 4096)              0         \n",
            "                                                                 \n",
            " dense_111 (Dense)           (None, 4096)              16781312  \n",
            "                                                                 \n",
            " batch_normalization_71 (Bat  (None, 4096)             16384     \n",
            " chNormalization)                                                \n",
            "                                                                 \n",
            " activation_70 (Activation)  (None, 4096)              0         \n",
            "                                                                 \n",
            " dense_112 (Dense)           (None, 7)                 28679     \n",
            "                                                                 \n",
            "=================================================================\n",
            "Total params: 73,988,999\n",
            "Trainable params: 50,384,903\n",
            "Non-trainable params: 23,604,096\n",
            "_________________________________________________________________\n"
          ]
        }
      ],
      "source": [
        "ResNet_Modell_14 = Sequential()\n",
        "ResNet_Modell_14.add(ResNet_vortrainiert)\n",
        "ResNet_Modell_14.add(Flatten())\n",
        "\n",
        "ResNet_Modell_14.add(Dense(4096))\n",
        "ResNet_Modell_14.add(BatchNormalization())\n",
        "ResNet_Modell_14.add(Activation('relu'))\n",
        "\n",
        "ResNet_Modell_14.add(Dense(4096))\n",
        "ResNet_Modell_14.add(BatchNormalization())\n",
        "ResNet_Modell_14.add(Activation('relu'))\n",
        "\n",
        "ResNet_Modell_14.add(Dense(7, activation='softmax'))\n",
        "\n",
        "ResNet_Modell_14.summary()"
      ],
      "id": "0-ZoI2s5OQVD"
    },
    {
      "cell_type": "code",
      "execution_count": null,
      "metadata": {
        "id": "uLN2p-E9OQVD"
      },
      "outputs": [],
      "source": [
        "ResNet_Modell_14.compile(optimizer=Adam(learning_rate=learning_rate),\n",
        "                     loss='categorical_crossentropy', metrics=['accuracy'])"
      ],
      "id": "uLN2p-E9OQVD"
    },
    {
      "cell_type": "code",
      "execution_count": null,
      "metadata": {
        "id": "AP2tFS8FOQVE"
      },
      "outputs": [],
      "source": [
        "checkpointer_ResNet_14 = [\n",
        "                      ModelCheckpoint('ResNet_14_Adam_32,0.01_DA_TL.h5', monitor=\"val_accuracy\", verbose=1, save_best_only=True,mode=\"max\"),\n",
        "                      CSVLogger('ResNet_14_Adam_32,0.01_DA_TL.log')\n",
        "                      ]"
      ],
      "id": "AP2tFS8FOQVE"
    },
    {
      "cell_type": "code",
      "execution_count": null,
      "metadata": {
        "id": "YN3t1t3FOQVE"
      },
      "outputs": [],
      "source": [
        "%%time\n",
        "history_VGG_14 = ResNet_Modell_14.fit_generator(\n",
        "    train_generator_rgb,\n",
        "    validation_data=(X_val_rgb, y_val_cat),\n",
        "    epochs=epochs,\n",
        "    callbacks=checkpointer_ResNet_14)     \n",
        "\n",
        "ResNet_Modell_14.save_weights('ResNet_Weights_14_Adam_32,0.01_DA_TL.h5')"
      ],
      "id": "YN3t1t3FOQVE"
    },
    {
      "cell_type": "markdown",
      "metadata": {
        "id": "CdE8uVeZOQVF"
      },
      "source": [
        "##### (15) SGD: Dropout + Data Augmentation"
      ],
      "id": "CdE8uVeZOQVF"
    },
    {
      "cell_type": "code",
      "execution_count": null,
      "metadata": {
        "id": "u-MRA08OOQVF"
      },
      "outputs": [],
      "source": [
        "ResNet_vortrainiert.trainable=False"
      ],
      "id": "u-MRA08OOQVF"
    },
    {
      "cell_type": "code",
      "execution_count": null,
      "metadata": {
        "colab": {
          "base_uri": "https://localhost:8080/"
        },
        "id": "nK4UFIWbOQVG",
        "outputId": "58983aad-ea55-4546-d7ca-d37223e53474"
      },
      "outputs": [
        {
          "name": "stdout",
          "output_type": "stream",
          "text": [
            "Model: \"sequential_27\"\n",
            "_________________________________________________________________\n",
            " Layer (type)                Output Shape              Param #   \n",
            "=================================================================\n",
            " resnet50 (Functional)       (None, 2, 2, 2048)        23587712  \n",
            "                                                                 \n",
            " flatten_42 (Flatten)        (None, 8192)              0         \n",
            "                                                                 \n",
            " dense_113 (Dense)           (None, 4096)              33558528  \n",
            "                                                                 \n",
            " batch_normalization_72 (Bat  (None, 4096)             16384     \n",
            " chNormalization)                                                \n",
            "                                                                 \n",
            " activation_71 (Activation)  (None, 4096)              0         \n",
            "                                                                 \n",
            " dropout_14 (Dropout)        (None, 4096)              0         \n",
            "                                                                 \n",
            " dense_114 (Dense)           (None, 4096)              16781312  \n",
            "                                                                 \n",
            " batch_normalization_73 (Bat  (None, 4096)             16384     \n",
            " chNormalization)                                                \n",
            "                                                                 \n",
            " activation_72 (Activation)  (None, 4096)              0         \n",
            "                                                                 \n",
            " dropout_15 (Dropout)        (None, 4096)              0         \n",
            "                                                                 \n",
            " dense_115 (Dense)           (None, 7)                 28679     \n",
            "                                                                 \n",
            "=================================================================\n",
            "Total params: 73,988,999\n",
            "Trainable params: 50,384,903\n",
            "Non-trainable params: 23,604,096\n",
            "_________________________________________________________________\n"
          ]
        }
      ],
      "source": [
        "ResNet_Modell_15 = Sequential()\n",
        "ResNet_Modell_15.add(ResNet_vortrainiert)\n",
        "ResNet_Modell_15.add(Flatten())\n",
        "\n",
        "ResNet_Modell_15.add(Dense(4096))\n",
        "ResNet_Modell_15.add(BatchNormalization())\n",
        "ResNet_Modell_15.add(Activation('relu'))\n",
        "ResNet_Modell_15.add(Dropout(0.75)) \n",
        "\n",
        "ResNet_Modell_15.add(Dense(4096))\n",
        "ResNet_Modell_15.add(BatchNormalization())\n",
        "ResNet_Modell_15.add(Activation('relu'))\n",
        "ResNet_Modell_15.add(Dropout(0.75))\n",
        "\n",
        "ResNet_Modell_15.add(Dense(7, activation='softmax'))\n",
        "\n",
        "ResNet_Modell_15.summary()"
      ],
      "id": "nK4UFIWbOQVG"
    },
    {
      "cell_type": "code",
      "execution_count": null,
      "metadata": {
        "id": "Tbw3ZNpbOQVG"
      },
      "outputs": [],
      "source": [
        "ResNet_Modell_15.compile(optimizer=SGD(learning_rate=learning_rate),\n",
        "                     loss='categorical_crossentropy', metrics=['accuracy'])"
      ],
      "id": "Tbw3ZNpbOQVG"
    },
    {
      "cell_type": "code",
      "execution_count": null,
      "metadata": {
        "id": "d6V7pBaqOQVH"
      },
      "outputs": [],
      "source": [
        "checkpointer_ResNet_15 = [\n",
        "                      ModelCheckpoint('ResNet_15_SGD_32,0.01_DO+DA_TL.h5', monitor=\"val_accuracy\", verbose=1, save_best_only=True,mode=\"max\"),\n",
        "                      CSVLogger('ResNet_15_SGD_32,0.01_DO+DA_TL.log')\n",
        "                      ]"
      ],
      "id": "d6V7pBaqOQVH"
    },
    {
      "cell_type": "code",
      "execution_count": null,
      "metadata": {
        "id": "1aiWlZ65OQVH"
      },
      "outputs": [],
      "source": [
        "%%time\n",
        "history_VGG_15 = ResNet_Modell_15.fit_generator(\n",
        "    train_generator_rgb,\n",
        "    validation_data=(X_val_rgb, y_val_cat),\n",
        "    epochs=epochs,\n",
        "    callbacks=checkpointer_ResNet_15)\n",
        "\n",
        "ResNet_Modell_15.save_weights('ResNet_Weights_15_SGD_32,0.01_DO+DA_TL.h5')"
      ],
      "id": "1aiWlZ65OQVH"
    },
    {
      "cell_type": "markdown",
      "metadata": {
        "id": "tn2pyYFsOQVM"
      },
      "source": [
        "##### (16) Adam: Dropout + Data Augmentation"
      ],
      "id": "tn2pyYFsOQVM"
    },
    {
      "cell_type": "code",
      "execution_count": null,
      "metadata": {
        "id": "XgnY_CJpOQVN"
      },
      "outputs": [],
      "source": [
        "ResNet_vortrainiert.trainable=False"
      ],
      "id": "XgnY_CJpOQVN"
    },
    {
      "cell_type": "code",
      "execution_count": null,
      "metadata": {
        "colab": {
          "base_uri": "https://localhost:8080/"
        },
        "id": "DFo4g6o9OQVN",
        "outputId": "a40a893e-aea3-40d5-b485-91e764f81e04"
      },
      "outputs": [
        {
          "name": "stdout",
          "output_type": "stream",
          "text": [
            "Model: \"sequential_28\"\n",
            "_________________________________________________________________\n",
            " Layer (type)                Output Shape              Param #   \n",
            "=================================================================\n",
            " resnet50 (Functional)       (None, 2, 2, 2048)        23587712  \n",
            "                                                                 \n",
            " flatten_43 (Flatten)        (None, 8192)              0         \n",
            "                                                                 \n",
            " dense_116 (Dense)           (None, 4096)              33558528  \n",
            "                                                                 \n",
            " batch_normalization_74 (Bat  (None, 4096)             16384     \n",
            " chNormalization)                                                \n",
            "                                                                 \n",
            " activation_73 (Activation)  (None, 4096)              0         \n",
            "                                                                 \n",
            " dropout_16 (Dropout)        (None, 4096)              0         \n",
            "                                                                 \n",
            " dense_117 (Dense)           (None, 4096)              16781312  \n",
            "                                                                 \n",
            " batch_normalization_75 (Bat  (None, 4096)             16384     \n",
            " chNormalization)                                                \n",
            "                                                                 \n",
            " activation_74 (Activation)  (None, 4096)              0         \n",
            "                                                                 \n",
            " dropout_17 (Dropout)        (None, 4096)              0         \n",
            "                                                                 \n",
            " dense_118 (Dense)           (None, 7)                 28679     \n",
            "                                                                 \n",
            "=================================================================\n",
            "Total params: 73,988,999\n",
            "Trainable params: 50,384,903\n",
            "Non-trainable params: 23,604,096\n",
            "_________________________________________________________________\n"
          ]
        }
      ],
      "source": [
        "ResNet_Modell_16 = Sequential()\n",
        "ResNet_Modell_16.add(ResNet_vortrainiert)\n",
        "ResNet_Modell_16.add(Flatten())\n",
        "\n",
        "ResNet_Modell_16.add(Dense(4096))\n",
        "ResNet_Modell_16.add(BatchNormalization())\n",
        "ResNet_Modell_16.add(Activation('relu'))\n",
        "ResNet_Modell_16.add(Dropout(0.75))\n",
        "\n",
        "ResNet_Modell_16.add(Dense(4096))\n",
        "ResNet_Modell_16.add(BatchNormalization())\n",
        "ResNet_Modell_16.add(Activation('relu'))\n",
        "ResNet_Modell_16.add(Dropout(0.75))\n",
        "\n",
        "ResNet_Modell_16.add(Dense(7, activation='softmax'))\n",
        "\n",
        "ResNet_Modell_16.summary()"
      ],
      "id": "DFo4g6o9OQVN"
    },
    {
      "cell_type": "code",
      "execution_count": null,
      "metadata": {
        "id": "ACHbNUXvOQVN"
      },
      "outputs": [],
      "source": [
        "ResNet_Modell_16.compile(optimizer=Adam(learning_rate=learning_rate),\n",
        "                     loss='categorical_crossentropy', metrics=['accuracy'])"
      ],
      "id": "ACHbNUXvOQVN"
    },
    {
      "cell_type": "code",
      "execution_count": null,
      "metadata": {
        "id": "OZYreNskOQVO"
      },
      "outputs": [],
      "source": [
        "checkpointer_ResNet_16 = [\n",
        "                      ModelCheckpoint('ResNet_16_Adam_32,0.01_DO+DA_TL.h5', monitor=\"val_accuracy\", verbose=1, save_best_only=True,mode=\"max\"),\n",
        "                      CSVLogger('ResNet_16_Adam_32,0.01_DO+DA_TL.log')\n",
        "                      ]"
      ],
      "id": "OZYreNskOQVO"
    },
    {
      "cell_type": "code",
      "execution_count": null,
      "metadata": {
        "id": "tkfQOeW_OQVO"
      },
      "outputs": [],
      "source": [
        "%%time\n",
        "history_VGG_16 = ResNet_Modell_16.fit_generator(\n",
        "    train_generator_rgb,\n",
        "    validation_data=(X_val_rgb, y_val_cat),\n",
        "    epochs=epochs,\n",
        "    callbacks=checkpointer_ResNet_16)    \n",
        "\n",
        "ResNet_Modell_16.save_weights('ResNet_Weights_16_Adam_32,0.01_DO+DA_TL.h5')"
      ],
      "id": "tkfQOeW_OQVO"
    },
    {
      "cell_type": "markdown",
      "metadata": {
        "id": "yTK9lM8hDypO"
      },
      "source": [
        "## DenseNet-201"
      ],
      "id": "yTK9lM8hDypO"
    },
    {
      "cell_type": "markdown",
      "metadata": {
        "id": "v9kL7FXsDypP"
      },
      "source": [
        "### DenseNet Modelle"
      ],
      "id": "v9kL7FXsDypP"
    },
    {
      "cell_type": "markdown",
      "metadata": {
        "id": "pP77WE9WDypR"
      },
      "source": [
        "#### Nicht vortrainiertes DenseNet"
      ],
      "id": "pP77WE9WDypR"
    },
    {
      "cell_type": "markdown",
      "metadata": {
        "id": "MjFTlrwqDypR"
      },
      "source": [
        "##### (1) SGD: Blanco"
      ],
      "id": "MjFTlrwqDypR"
    },
    {
      "cell_type": "code",
      "execution_count": null,
      "metadata": {
        "colab": {
          "base_uri": "https://localhost:8080/"
        },
        "id": "YOOKLd8EDypS",
        "outputId": "f970f1bb-5c12-4b4e-fa3b-759aa2dc36de"
      },
      "outputs": [
        {
          "name": "stdout",
          "output_type": "stream",
          "text": [
            "Model: \"sequential_14\"\n",
            "_________________________________________________________________\n",
            " Layer (type)                Output Shape              Param #   \n",
            "=================================================================\n",
            " densenet201 (Functional)    (None, 1, 1, 1920)        18315712  \n",
            "                                                                 \n",
            " flatten_13 (Flatten)        (None, 1920)              0         \n",
            "                                                                 \n",
            " dense_39 (Dense)            (None, 4096)              7868416   \n",
            "                                                                 \n",
            " batch_normalization_26 (Bat  (None, 4096)             16384     \n",
            " chNormalization)                                                \n",
            "                                                                 \n",
            " activation_26 (Activation)  (None, 4096)              0         \n",
            "                                                                 \n",
            " dense_40 (Dense)            (None, 4096)              16781312  \n",
            "                                                                 \n",
            " batch_normalization_27 (Bat  (None, 4096)             16384     \n",
            " chNormalization)                                                \n",
            "                                                                 \n",
            " activation_27 (Activation)  (None, 4096)              0         \n",
            "                                                                 \n",
            " dense_41 (Dense)            (None, 7)                 28679     \n",
            "                                                                 \n",
            "=================================================================\n",
            "Total params: 43,026,887\n",
            "Trainable params: 42,781,447\n",
            "Non-trainable params: 245,440\n",
            "_________________________________________________________________\n"
          ]
        }
      ],
      "source": [
        "DenseNet_Modell_1 = Sequential()\n",
        "DenseNet_Modell_1.add(DenseNet_ohne_MLP)\n",
        "DenseNet_Modell_1.add(Flatten())\n",
        "\n",
        "DenseNet_Modell_1.add(Dense(4096))\n",
        "DenseNet_Modell_1.add(BatchNormalization())\n",
        "DenseNet_Modell_1.add(Activation('relu'))\n",
        "\n",
        "DenseNet_Modell_1.add(Dense(4096))\n",
        "DenseNet_Modell_1.add(BatchNormalization())\n",
        "DenseNet_Modell_1.add(Activation('relu'))\n",
        "\n",
        "DenseNet_Modell_1.add(Dense(7, activation='softmax'))\n",
        "\n",
        "DenseNet_Modell_1.summary()"
      ],
      "id": "YOOKLd8EDypS"
    },
    {
      "cell_type": "code",
      "execution_count": null,
      "metadata": {
        "id": "sX3A3pmSDypT"
      },
      "outputs": [],
      "source": [
        "DenseNet_Modell_1.compile(optimizer=SGD(learning_rate=learning_rate),\n",
        "                     loss='categorical_crossentropy', metrics=['accuracy'])"
      ],
      "id": "sX3A3pmSDypT"
    },
    {
      "cell_type": "code",
      "execution_count": null,
      "metadata": {
        "id": "ZvF5gziqDypT"
      },
      "outputs": [],
      "source": [
        "checkpointer_DenseNet_1 = [\n",
        "                      ModelCheckpoint('DenseNet_1_SGD_32,0.01.h5', monitor=\"val_accuracy\", verbose=1, save_best_only=True,mode=\"max\"),\n",
        "                      CSVLogger('DenseNet_1_SGD_32,0.01.log')\n",
        "                      ]"
      ],
      "id": "ZvF5gziqDypT"
    },
    {
      "cell_type": "code",
      "execution_count": null,
      "metadata": {
        "id": "_Fm11B1qDypU"
      },
      "outputs": [],
      "source": [
        "%%time\n",
        "history_DenseNet_1 = DenseNet_Modell_1.fit(\n",
        "    X_train_48x48,\n",
        "    y_train_cat,\n",
        "    batch_size=batch_size,\n",
        "    epochs=epochs,\n",
        "    callbacks=checkpointer_DenseNet_1,\n",
        "    validation_data=(X_val_48x48, y_val_cat)\n",
        ")"
      ],
      "id": "_Fm11B1qDypU"
    },
    {
      "cell_type": "markdown",
      "metadata": {
        "id": "FmzRym0eDypU"
      },
      "source": [
        "##### (2) Adam: Blanco"
      ],
      "id": "FmzRym0eDypU"
    },
    {
      "cell_type": "code",
      "execution_count": null,
      "metadata": {
        "colab": {
          "base_uri": "https://localhost:8080/"
        },
        "id": "q4CzAC4yDypV",
        "outputId": "3f443b2c-5476-473a-8e0b-2e1835c69ae1"
      },
      "outputs": [
        {
          "name": "stdout",
          "output_type": "stream",
          "text": [
            "Model: \"sequential_15\"\n",
            "_________________________________________________________________\n",
            " Layer (type)                Output Shape              Param #   \n",
            "=================================================================\n",
            " densenet201 (Functional)    (None, 1, 1, 1920)        18315712  \n",
            "                                                                 \n",
            " flatten_14 (Flatten)        (None, 1920)              0         \n",
            "                                                                 \n",
            " dense_42 (Dense)            (None, 4096)              7868416   \n",
            "                                                                 \n",
            " batch_normalization_28 (Bat  (None, 4096)             16384     \n",
            " chNormalization)                                                \n",
            "                                                                 \n",
            " activation_28 (Activation)  (None, 4096)              0         \n",
            "                                                                 \n",
            " dense_43 (Dense)            (None, 4096)              16781312  \n",
            "                                                                 \n",
            " batch_normalization_29 (Bat  (None, 4096)             16384     \n",
            " chNormalization)                                                \n",
            "                                                                 \n",
            " activation_29 (Activation)  (None, 4096)              0         \n",
            "                                                                 \n",
            " dense_44 (Dense)            (None, 7)                 28679     \n",
            "                                                                 \n",
            "=================================================================\n",
            "Total params: 43,026,887\n",
            "Trainable params: 42,781,447\n",
            "Non-trainable params: 245,440\n",
            "_________________________________________________________________\n"
          ]
        }
      ],
      "source": [
        "DenseNet_Modell_2 = Sequential()\n",
        "DenseNet_Modell_2.add(DenseNet_ohne_MLP)\n",
        "DenseNet_Modell_2.add(Flatten())\n",
        "\n",
        "DenseNet_Modell_2.add(Dense(4096))\n",
        "DenseNet_Modell_2.add(BatchNormalization())\n",
        "DenseNet_Modell_2.add(Activation('relu'))\n",
        "\n",
        "DenseNet_Modell_2.add(Dense(4096))\n",
        "DenseNet_Modell_2.add(BatchNormalization())\n",
        "DenseNet_Modell_2.add(Activation('relu'))\n",
        "\n",
        "DenseNet_Modell_2.add(Dense(7, activation='softmax'))\n",
        "\n",
        "DenseNet_Modell_2.summary()"
      ],
      "id": "q4CzAC4yDypV"
    },
    {
      "cell_type": "code",
      "execution_count": null,
      "metadata": {
        "id": "OPAPTaxBDypV"
      },
      "outputs": [],
      "source": [
        "DenseNet_Modell_2.compile(optimizer=Adam(learning_rate=learning_rate),\n",
        "                     loss='categorical_crossentropy', metrics=['accuracy'])"
      ],
      "id": "OPAPTaxBDypV"
    },
    {
      "cell_type": "code",
      "execution_count": null,
      "metadata": {
        "id": "SWULJklpDypW"
      },
      "outputs": [],
      "source": [
        "checkpointer_DenseNet_2 = [\n",
        "                      ModelCheckpoint('DenseNet_2_Adam_32,0.01.h5', monitor=\"val_accuracy\", verbose=1, save_best_only=True,mode=\"max\"),\n",
        "                      CSVLogger('DenseNet_2_Adam_32,0.01.log')\n",
        "                      ]"
      ],
      "id": "SWULJklpDypW"
    },
    {
      "cell_type": "code",
      "execution_count": null,
      "metadata": {
        "id": "csHv0G4zDypW"
      },
      "outputs": [],
      "source": [
        "%%time\n",
        "history_DenseNet_2 = DenseNet_Modell_2.fit(\n",
        "    X_train_48x48,\n",
        "    y_train_cat,\n",
        "    batch_size=batch_size,\n",
        "    epochs=epochs,\n",
        "    callbacks=checkpointer_DenseNet_2,\n",
        "    validation_data=(X_val_48x48, y_val_cat)\n",
        ")"
      ],
      "id": "csHv0G4zDypW"
    },
    {
      "cell_type": "markdown",
      "metadata": {
        "id": "5_ENqv_xDypX"
      },
      "source": [
        "##### (3) SGD: Dropout"
      ],
      "id": "5_ENqv_xDypX"
    },
    {
      "cell_type": "code",
      "execution_count": null,
      "metadata": {
        "colab": {
          "base_uri": "https://localhost:8080/"
        },
        "id": "68i2C0mYDypX",
        "outputId": "83d49b91-4f72-40aa-aef7-9bacf7ee9a91"
      },
      "outputs": [
        {
          "name": "stdout",
          "output_type": "stream",
          "text": [
            "Model: \"sequential_3\"\n",
            "_________________________________________________________________\n",
            " Layer (type)                Output Shape              Param #   \n",
            "=================================================================\n",
            " densenet201 (Functional)    (None, 1, 1, 1920)        18315712  \n",
            "                                                                 \n",
            " flatten_3 (Flatten)         (None, 1920)              0         \n",
            "                                                                 \n",
            " dense_9 (Dense)             (None, 4096)              7868416   \n",
            "                                                                 \n",
            " batch_normalization_6 (Batc  (None, 4096)             16384     \n",
            " hNormalization)                                                 \n",
            "                                                                 \n",
            " activation_6 (Activation)   (None, 4096)              0         \n",
            "                                                                 \n",
            " dropout_4 (Dropout)         (None, 4096)              0         \n",
            "                                                                 \n",
            " dense_10 (Dense)            (None, 4096)              16781312  \n",
            "                                                                 \n",
            " batch_normalization_7 (Batc  (None, 4096)             16384     \n",
            " hNormalization)                                                 \n",
            "                                                                 \n",
            " activation_7 (Activation)   (None, 4096)              0         \n",
            "                                                                 \n",
            " dropout_5 (Dropout)         (None, 4096)              0         \n",
            "                                                                 \n",
            " dense_11 (Dense)            (None, 7)                 28679     \n",
            "                                                                 \n",
            "=================================================================\n",
            "Total params: 43,026,887\n",
            "Trainable params: 42,781,447\n",
            "Non-trainable params: 245,440\n",
            "_________________________________________________________________\n"
          ]
        }
      ],
      "source": [
        "DenseNet_Modell_3 = Sequential()\n",
        "DenseNet_Modell_3.add(DenseNet_ohne_MLP)\n",
        "DenseNet_Modell_3.add(Flatten())\n",
        "\n",
        "DenseNet_Modell_3.add(Dense(4096))\n",
        "DenseNet_Modell_3.add(BatchNormalization())\n",
        "DenseNet_Modell_3.add(Activation('relu'))\n",
        "DenseNet_Modell_3.add(Dropout(0.75))\n",
        "\n",
        "DenseNet_Modell_3.add(Dense(4096))\n",
        "DenseNet_Modell_3.add(BatchNormalization())\n",
        "DenseNet_Modell_3.add(Activation('relu'))\n",
        "DenseNet_Modell_3.add(Dropout(0.75))\n",
        "\n",
        "DenseNet_Modell_3.add(Dense(7, activation='softmax'))\n",
        "\n",
        "DenseNet_Modell_3.summary()"
      ],
      "id": "68i2C0mYDypX"
    },
    {
      "cell_type": "code",
      "execution_count": null,
      "metadata": {
        "id": "azDuAearDypY"
      },
      "outputs": [],
      "source": [
        "DenseNet_Modell_3.compile(optimizer=SGD(learning_rate=learning_rate),\n",
        "                     loss='categorical_crossentropy', metrics=['accuracy'])"
      ],
      "id": "azDuAearDypY"
    },
    {
      "cell_type": "code",
      "execution_count": null,
      "metadata": {
        "id": "8fXAXpAJDypZ"
      },
      "outputs": [],
      "source": [
        "checkpointer_DenseNet_3 = [\n",
        "                      ModelCheckpoint('DenseNet_3_SGD_32,0.01_DO.h5', monitor=\"val_accuracy\", verbose=1, save_best_only=True,mode=\"max\"),\n",
        "                      CSVLogger('DenseNet_3_SGD_32,0.01_DO.log')\n",
        "                      ]"
      ],
      "id": "8fXAXpAJDypZ"
    },
    {
      "cell_type": "code",
      "execution_count": null,
      "metadata": {
        "colab": {
          "background_save": true
        },
        "id": "S632UCSnDypZ"
      },
      "outputs": [],
      "source": [
        "%%time\n",
        "history_DenseNet_3 = DenseNet_Modell_3.fit(\n",
        "    X_train_48x48,\n",
        "    y_train_cat,\n",
        "    batch_size=batch_size,\n",
        "    epochs=epochs,\n",
        "    callbacks=checkpointer_DenseNet_3,\n",
        "    validation_data=(X_val_48x48, y_val_cat)\n",
        ")"
      ],
      "id": "S632UCSnDypZ"
    },
    {
      "cell_type": "markdown",
      "metadata": {
        "id": "m9couYOBDypa"
      },
      "source": [
        "##### (4) Adam: Dropout"
      ],
      "id": "m9couYOBDypa"
    },
    {
      "cell_type": "code",
      "execution_count": null,
      "metadata": {
        "colab": {
          "base_uri": "https://localhost:8080/"
        },
        "id": "1vQsnexDDypa",
        "outputId": "ea86697a-be1f-493f-bd00-99f9806985c8"
      },
      "outputs": [
        {
          "name": "stdout",
          "output_type": "stream",
          "text": [
            "Model: \"sequential_6\"\n",
            "_________________________________________________________________\n",
            " Layer (type)                Output Shape              Param #   \n",
            "=================================================================\n",
            " densenet201 (Functional)    (None, 1, 1, 1920)        18315712  \n",
            "                                                                 \n",
            " flatten_6 (Flatten)         (None, 1920)              0         \n",
            "                                                                 \n",
            " dense_18 (Dense)            (None, 4096)              7868416   \n",
            "                                                                 \n",
            " batch_normalization_12 (Bat  (None, 4096)             16384     \n",
            " chNormalization)                                                \n",
            "                                                                 \n",
            " activation_12 (Activation)  (None, 4096)              0         \n",
            "                                                                 \n",
            " dropout_6 (Dropout)         (None, 4096)              0         \n",
            "                                                                 \n",
            " dense_19 (Dense)            (None, 4096)              16781312  \n",
            "                                                                 \n",
            " batch_normalization_13 (Bat  (None, 4096)             16384     \n",
            " chNormalization)                                                \n",
            "                                                                 \n",
            " activation_13 (Activation)  (None, 4096)              0         \n",
            "                                                                 \n",
            " dropout_7 (Dropout)         (None, 4096)              0         \n",
            "                                                                 \n",
            " dense_20 (Dense)            (None, 7)                 28679     \n",
            "                                                                 \n",
            "=================================================================\n",
            "Total params: 43,026,887\n",
            "Trainable params: 42,781,447\n",
            "Non-trainable params: 245,440\n",
            "_________________________________________________________________\n"
          ]
        }
      ],
      "source": [
        "DenseNet_Modell_4 = Sequential()\n",
        "DenseNet_Modell_4.add(DenseNet_ohne_MLP)\n",
        "DenseNet_Modell_4.add(Flatten())\n",
        "\n",
        "DenseNet_Modell_4.add(Dense(4096))\n",
        "DenseNet_Modell_4.add(BatchNormalization())\n",
        "DenseNet_Modell_4.add(Activation('relu'))\n",
        "DenseNet_Modell_4.add(Dropout(0.75))\n",
        "\n",
        "DenseNet_Modell_4.add(Dense(4096))\n",
        "DenseNet_Modell_4.add(BatchNormalization())\n",
        "DenseNet_Modell_4.add(Activation('relu'))\n",
        "DenseNet_Modell_4.add(Dropout(0.75))\n",
        "\n",
        "DenseNet_Modell_4.add(Dense(7, activation='softmax'))\n",
        "\n",
        "DenseNet_Modell_4.summary()"
      ],
      "id": "1vQsnexDDypa"
    },
    {
      "cell_type": "code",
      "execution_count": null,
      "metadata": {
        "id": "WYRGjj2LDypb"
      },
      "outputs": [],
      "source": [
        "DenseNet_Modell_4.compile(optimizer=Adam(learning_rate=learning_rate),\n",
        "                     loss='categorical_crossentropy', metrics=['accuracy'])"
      ],
      "id": "WYRGjj2LDypb"
    },
    {
      "cell_type": "code",
      "execution_count": null,
      "metadata": {
        "id": "K6IPTrafDypb"
      },
      "outputs": [],
      "source": [
        "checkpointer_DenseNet_4 = [\n",
        "                      ModelCheckpoint('DenseNet_4_Adam_32,0.01_DO.h5', monitor=\"val_accuracy\", verbose=1, save_best_only=True,mode=\"max\"),\n",
        "                      CSVLogger('DenseNet_4_Adam_32,0.01_DO.log')\n",
        "                      ]"
      ],
      "id": "K6IPTrafDypb"
    },
    {
      "cell_type": "code",
      "execution_count": null,
      "metadata": {
        "id": "wo7azvZKDypb"
      },
      "outputs": [],
      "source": [
        "%%time\n",
        "history_DenseNet_4 = DenseNet_Modell_4.fit(\n",
        "    X_train_48x48,\n",
        "    y_train_cat,\n",
        "    batch_size=batch_size,\n",
        "    epochs=epochs,\n",
        "    callbacks=checkpointer_DenseNet_4,\n",
        "    validation_data=(X_val_48x48, y_val_cat)\n",
        ")"
      ],
      "id": "wo7azvZKDypb"
    },
    {
      "cell_type": "markdown",
      "metadata": {
        "id": "ycNkjJ-aDypc"
      },
      "source": [
        "##### (5) SGD: Data Augmentation"
      ],
      "id": "ycNkjJ-aDypc"
    },
    {
      "cell_type": "code",
      "execution_count": null,
      "metadata": {
        "colab": {
          "base_uri": "https://localhost:8080/"
        },
        "id": "TrZwHM92Dypc",
        "outputId": "e2ea5aa1-089e-4f29-b832-2f4302dde3bd"
      },
      "outputs": [
        {
          "name": "stdout",
          "output_type": "stream",
          "text": [
            "Model: \"sequential_7\"\n",
            "_________________________________________________________________\n",
            " Layer (type)                Output Shape              Param #   \n",
            "=================================================================\n",
            " densenet201 (Functional)    (None, 1, 1, 1920)        18315712  \n",
            "                                                                 \n",
            " flatten_7 (Flatten)         (None, 1920)              0         \n",
            "                                                                 \n",
            " dense_21 (Dense)            (None, 4096)              7868416   \n",
            "                                                                 \n",
            " batch_normalization_14 (Bat  (None, 4096)             16384     \n",
            " chNormalization)                                                \n",
            "                                                                 \n",
            " activation_14 (Activation)  (None, 4096)              0         \n",
            "                                                                 \n",
            " dense_22 (Dense)            (None, 4096)              16781312  \n",
            "                                                                 \n",
            " batch_normalization_15 (Bat  (None, 4096)             16384     \n",
            " chNormalization)                                                \n",
            "                                                                 \n",
            " activation_15 (Activation)  (None, 4096)              0         \n",
            "                                                                 \n",
            " dense_23 (Dense)            (None, 7)                 28679     \n",
            "                                                                 \n",
            "=================================================================\n",
            "Total params: 43,026,887\n",
            "Trainable params: 42,781,447\n",
            "Non-trainable params: 245,440\n",
            "_________________________________________________________________\n"
          ]
        }
      ],
      "source": [
        "DenseNet_Modell_5 = Sequential()\n",
        "DenseNet_Modell_5.add(DenseNet_ohne_MLP)\n",
        "DenseNet_Modell_5.add(Flatten())\n",
        "\n",
        "DenseNet_Modell_5.add(Dense(4096))\n",
        "DenseNet_Modell_5.add(BatchNormalization())\n",
        "DenseNet_Modell_5.add(Activation('relu'))\n",
        "\n",
        "DenseNet_Modell_5.add(Dense(4096))\n",
        "DenseNet_Modell_5.add(BatchNormalization())\n",
        "DenseNet_Modell_5.add(Activation('relu'))\n",
        "\n",
        "DenseNet_Modell_5.add(Dense(7, activation='softmax'))\n",
        "\n",
        "DenseNet_Modell_5.summary()"
      ],
      "id": "TrZwHM92Dypc"
    },
    {
      "cell_type": "code",
      "execution_count": null,
      "metadata": {
        "id": "P9uDybcADypd"
      },
      "outputs": [],
      "source": [
        "DenseNet_Modell_5.compile(optimizer=SGD(learning_rate=learning_rate),\n",
        "                     loss='categorical_crossentropy', metrics=['accuracy'])"
      ],
      "id": "P9uDybcADypd"
    },
    {
      "cell_type": "code",
      "execution_count": null,
      "metadata": {
        "id": "oRBFgwz8Dypd"
      },
      "outputs": [],
      "source": [
        "checkpointer_DenseNet_5 = [\n",
        "                      ModelCheckpoint('DenseNet_5_SGD_32,0.01_DA.h5', monitor=\"val_accuracy\", verbose=1, save_best_only=True,mode=\"max\"),\n",
        "                      CSVLogger('DenseNet_5_SGD_32,0.01_DA.log')\n",
        "                      ]"
      ],
      "id": "oRBFgwz8Dypd"
    },
    {
      "cell_type": "code",
      "execution_count": null,
      "metadata": {
        "id": "79cQGmMgDypd"
      },
      "outputs": [],
      "source": [
        "%%time\n",
        "history_DenseNet_5 = DenseNet_Modell_5.fit_generator(\n",
        "    train_generator,\n",
        "    validation_data=(X_val_48x48, y_val_cat),\n",
        "    epochs=epochs,\n",
        "    callbacks=checkpointer_DenseNet_5)"
      ],
      "id": "79cQGmMgDypd"
    },
    {
      "cell_type": "markdown",
      "metadata": {
        "id": "SBcbREgQDype"
      },
      "source": [
        "##### (6) Adam: Data Augmentation"
      ],
      "id": "SBcbREgQDype"
    },
    {
      "cell_type": "code",
      "execution_count": null,
      "metadata": {
        "colab": {
          "base_uri": "https://localhost:8080/"
        },
        "id": "ofn7Cw9VDype",
        "outputId": "8ec46072-2140-4d09-b639-40d57cf2c88f"
      },
      "outputs": [
        {
          "name": "stdout",
          "output_type": "stream",
          "text": [
            "Model: \"sequential_8\"\n",
            "_________________________________________________________________\n",
            " Layer (type)                Output Shape              Param #   \n",
            "=================================================================\n",
            " densenet201 (Functional)    (None, 1, 1, 1920)        18315712  \n",
            "                                                                 \n",
            " flatten_8 (Flatten)         (None, 1920)              0         \n",
            "                                                                 \n",
            " dense_24 (Dense)            (None, 4096)              7868416   \n",
            "                                                                 \n",
            " batch_normalization_16 (Bat  (None, 4096)             16384     \n",
            " chNormalization)                                                \n",
            "                                                                 \n",
            " activation_16 (Activation)  (None, 4096)              0         \n",
            "                                                                 \n",
            " dense_25 (Dense)            (None, 4096)              16781312  \n",
            "                                                                 \n",
            " batch_normalization_17 (Bat  (None, 4096)             16384     \n",
            " chNormalization)                                                \n",
            "                                                                 \n",
            " activation_17 (Activation)  (None, 4096)              0         \n",
            "                                                                 \n",
            " dense_26 (Dense)            (None, 7)                 28679     \n",
            "                                                                 \n",
            "=================================================================\n",
            "Total params: 43,026,887\n",
            "Trainable params: 42,781,447\n",
            "Non-trainable params: 245,440\n",
            "_________________________________________________________________\n"
          ]
        }
      ],
      "source": [
        "DenseNet_Modell_6 = Sequential()\n",
        "DenseNet_Modell_6.add(DenseNet_ohne_MLP)\n",
        "DenseNet_Modell_6.add(Flatten())\n",
        "\n",
        "DenseNet_Modell_6.add(Dense(4096))\n",
        "DenseNet_Modell_6.add(BatchNormalization())\n",
        "DenseNet_Modell_6.add(Activation('relu'))\n",
        "\n",
        "DenseNet_Modell_6.add(Dense(4096))\n",
        "DenseNet_Modell_6.add(BatchNormalization())\n",
        "DenseNet_Modell_6.add(Activation('relu'))\n",
        "\n",
        "DenseNet_Modell_6.add(Dense(7, activation='softmax'))\n",
        "\n",
        "DenseNet_Modell_6.summary()"
      ],
      "id": "ofn7Cw9VDype"
    },
    {
      "cell_type": "code",
      "execution_count": null,
      "metadata": {
        "id": "nlxXZYFRDypf"
      },
      "outputs": [],
      "source": [
        "DenseNet_Modell_6.compile(optimizer=Adam(learning_rate=learning_rate),\n",
        "                     loss='categorical_crossentropy', metrics=['accuracy'])"
      ],
      "id": "nlxXZYFRDypf"
    },
    {
      "cell_type": "code",
      "execution_count": null,
      "metadata": {
        "id": "tcUvetRUDypf"
      },
      "outputs": [],
      "source": [
        "checkpointer_DenseNet_6 = [\n",
        "                      ModelCheckpoint('DenseNet_6_Adam_32,0.01_DA.h5', monitor=\"val_accuracy\", verbose=1, save_best_only=True,mode=\"max\"),\n",
        "                      CSVLogger('DenseNet_6_Adam_32,0.01_DA.log')\n",
        "                      ]"
      ],
      "id": "tcUvetRUDypf"
    },
    {
      "cell_type": "code",
      "execution_count": null,
      "metadata": {
        "id": "HO6qN6ZbDypg"
      },
      "outputs": [],
      "source": [
        "%%time\n",
        "history_DenseNet_6 = DenseNet_Modell_6.fit_generator(\n",
        "    train_generator,\n",
        "    validation_data=(X_val_48x48, y_val_cat),\n",
        "    epochs=epochs,\n",
        "    callbacks=checkpointer_DenseNet_6)"
      ],
      "id": "HO6qN6ZbDypg"
    },
    {
      "cell_type": "markdown",
      "metadata": {
        "id": "Nb9TVjxDDypg"
      },
      "source": [
        "##### (7) SGD: Dropout + Data Augmentation"
      ],
      "id": "Nb9TVjxDDypg"
    },
    {
      "cell_type": "code",
      "execution_count": null,
      "metadata": {
        "colab": {
          "base_uri": "https://localhost:8080/"
        },
        "id": "CoiDRAkPDyph",
        "outputId": "7c15a546-5117-4049-e8c1-47cb1a8531cf"
      },
      "outputs": [
        {
          "name": "stdout",
          "output_type": "stream",
          "text": [
            "Model: \"sequential_3\"\n",
            "_________________________________________________________________\n",
            " Layer (type)                Output Shape              Param #   \n",
            "=================================================================\n",
            " densenet201 (Functional)    (None, 1, 1, 1920)        18315712  \n",
            "                                                                 \n",
            " flatten_3 (Flatten)         (None, 1920)              0         \n",
            "                                                                 \n",
            " dense_9 (Dense)             (None, 4096)              7868416   \n",
            "                                                                 \n",
            " batch_normalization_6 (Batc  (None, 4096)             16384     \n",
            " hNormalization)                                                 \n",
            "                                                                 \n",
            " activation_6 (Activation)   (None, 4096)              0         \n",
            "                                                                 \n",
            " dropout_2 (Dropout)         (None, 4096)              0         \n",
            "                                                                 \n",
            " dense_10 (Dense)            (None, 4096)              16781312  \n",
            "                                                                 \n",
            " batch_normalization_7 (Batc  (None, 4096)             16384     \n",
            " hNormalization)                                                 \n",
            "                                                                 \n",
            " activation_7 (Activation)   (None, 4096)              0         \n",
            "                                                                 \n",
            " dropout_3 (Dropout)         (None, 4096)              0         \n",
            "                                                                 \n",
            " dense_11 (Dense)            (None, 7)                 28679     \n",
            "                                                                 \n",
            "=================================================================\n",
            "Total params: 43,026,887\n",
            "Trainable params: 42,781,447\n",
            "Non-trainable params: 245,440\n",
            "_________________________________________________________________\n"
          ]
        }
      ],
      "source": [
        "DenseNet_Modell_7 = Sequential()\n",
        "DenseNet_Modell_7.add(DenseNet_ohne_MLP)\n",
        "DenseNet_Modell_7.add(Flatten())\n",
        "\n",
        "DenseNet_Modell_7.add(Dense(4096))\n",
        "DenseNet_Modell_7.add(BatchNormalization())\n",
        "DenseNet_Modell_7.add(Activation('relu'))\n",
        "DenseNet_Modell_7.add(Dropout(0.75))\n",
        "\n",
        "DenseNet_Modell_7.add(Dense(4096))\n",
        "DenseNet_Modell_7.add(BatchNormalization())\n",
        "DenseNet_Modell_7.add(Activation('relu'))\n",
        "DenseNet_Modell_7.add(Dropout(0.75))\n",
        "\n",
        "DenseNet_Modell_7.add(Dense(7, activation='softmax'))\n",
        "\n",
        "DenseNet_Modell_7.summary()"
      ],
      "id": "CoiDRAkPDyph"
    },
    {
      "cell_type": "code",
      "execution_count": null,
      "metadata": {
        "id": "1ok3nR1QDyph"
      },
      "outputs": [],
      "source": [
        "DenseNet_Modell_7.compile(optimizer=SGD(learning_rate=learning_rate),\n",
        "                     loss='categorical_crossentropy', metrics=['accuracy'])"
      ],
      "id": "1ok3nR1QDyph"
    },
    {
      "cell_type": "code",
      "execution_count": null,
      "metadata": {
        "id": "lmbz7_xuDyph"
      },
      "outputs": [],
      "source": [
        "checkpointer_DenseNet_7 = [\n",
        "                      ModelCheckpoint('DenseNet_7_SGD_32,0.01_DO+DA.h5', monitor=\"val_accuracy\", verbose=1, save_best_only=True,mode=\"max\"),\n",
        "                      CSVLogger('DenseNet_7_SGD_32,0.01_DO+DA.log')\n",
        "                      ]"
      ],
      "id": "lmbz7_xuDyph"
    },
    {
      "cell_type": "code",
      "execution_count": null,
      "metadata": {
        "id": "efm19oUhDypi"
      },
      "outputs": [],
      "source": [
        "%%time\n",
        "history_DenseNet_7 = DenseNet_Modell_7.fit_generator(\n",
        "    train_generator,\n",
        "    validation_data=(X_val_48x48, y_val_cat),\n",
        "    epochs=epochs,\n",
        "    callbacks=checkpointer_DenseNet_7)    "
      ],
      "id": "efm19oUhDypi"
    },
    {
      "cell_type": "markdown",
      "metadata": {
        "id": "8uFS_lahDypi"
      },
      "source": [
        "##### (8) Adam: Dropout + Data Augmentation"
      ],
      "id": "8uFS_lahDypi"
    },
    {
      "cell_type": "code",
      "execution_count": null,
      "metadata": {
        "colab": {
          "base_uri": "https://localhost:8080/"
        },
        "id": "UoSNokWNDypj",
        "outputId": "0a2e4e49-3e9c-416f-81a0-c8e3eaa609ab"
      },
      "outputs": [
        {
          "name": "stdout",
          "output_type": "stream",
          "text": [
            "Model: \"sequential_4\"\n",
            "_________________________________________________________________\n",
            " Layer (type)                Output Shape              Param #   \n",
            "=================================================================\n",
            " densenet201 (Functional)    (None, 1, 1, 1920)        18315712  \n",
            "                                                                 \n",
            " flatten_4 (Flatten)         (None, 1920)              0         \n",
            "                                                                 \n",
            " dense_12 (Dense)            (None, 4096)              7868416   \n",
            "                                                                 \n",
            " batch_normalization_8 (Batc  (None, 4096)             16384     \n",
            " hNormalization)                                                 \n",
            "                                                                 \n",
            " activation_8 (Activation)   (None, 4096)              0         \n",
            "                                                                 \n",
            " dropout_4 (Dropout)         (None, 4096)              0         \n",
            "                                                                 \n",
            " dense_13 (Dense)            (None, 4096)              16781312  \n",
            "                                                                 \n",
            " batch_normalization_9 (Batc  (None, 4096)             16384     \n",
            " hNormalization)                                                 \n",
            "                                                                 \n",
            " activation_9 (Activation)   (None, 4096)              0         \n",
            "                                                                 \n",
            " dropout_5 (Dropout)         (None, 4096)              0         \n",
            "                                                                 \n",
            " dense_14 (Dense)            (None, 7)                 28679     \n",
            "                                                                 \n",
            "=================================================================\n",
            "Total params: 43,026,887\n",
            "Trainable params: 42,781,447\n",
            "Non-trainable params: 245,440\n",
            "_________________________________________________________________\n"
          ]
        }
      ],
      "source": [
        "DenseNet_Modell_8 = Sequential()\n",
        "DenseNet_Modell_8.add(DenseNet_ohne_MLP)\n",
        "DenseNet_Modell_8.add(Flatten())\n",
        "\n",
        "DenseNet_Modell_8.add(Dense(4096))\n",
        "DenseNet_Modell_8.add(BatchNormalization())\n",
        "DenseNet_Modell_8.add(Activation('relu'))\n",
        "DenseNet_Modell_8.add(Dropout(0.75))\n",
        "\n",
        "DenseNet_Modell_8.add(Dense(4096))\n",
        "DenseNet_Modell_8.add(BatchNormalization())\n",
        "DenseNet_Modell_8.add(Activation('relu'))\n",
        "DenseNet_Modell_8.add(Dropout(0.75))\n",
        "\n",
        "DenseNet_Modell_8.add(Dense(7, activation='softmax'))\n",
        "\n",
        "DenseNet_Modell_8.summary()"
      ],
      "id": "UoSNokWNDypj"
    },
    {
      "cell_type": "code",
      "execution_count": null,
      "metadata": {
        "id": "P3RTxriJDypj"
      },
      "outputs": [],
      "source": [
        "DenseNet_Modell_8.compile(optimizer=Adam(learning_rate=learning_rate),\n",
        "                     loss='categorical_crossentropy', metrics=['accuracy'])"
      ],
      "id": "P3RTxriJDypj"
    },
    {
      "cell_type": "code",
      "execution_count": null,
      "metadata": {
        "id": "UgYBlMr7Dypk"
      },
      "outputs": [],
      "source": [
        "checkpointer_DenseNet_8 = [\n",
        "                      ModelCheckpoint('DenseNet_8_Adam_32,0.01_DO+DA.h5', monitor=\"val_accuracy\", verbose=1, save_best_only=True,mode=\"max\"),\n",
        "                      CSVLogger('DenseNet_8_Adam_32,0.01_DO+DA.log')\n",
        "                      ]"
      ],
      "id": "UgYBlMr7Dypk"
    },
    {
      "cell_type": "code",
      "execution_count": null,
      "metadata": {
        "id": "JJDD6DXmDypk"
      },
      "outputs": [],
      "source": [
        "%%time\n",
        "history_DenseNet_8 = DenseNet_Modell_8.fit_generator(\n",
        "    train_generator,\n",
        "    validation_data=(X_val_48x48, y_val_cat),\n",
        "    epochs=epochs,\n",
        "    callbacks=checkpointer_DenseNet_8)"
      ],
      "id": "JJDD6DXmDypk"
    },
    {
      "cell_type": "markdown",
      "metadata": {
        "id": "zkkaYPw3Dypk"
      },
      "source": [
        "#### Vortrainiertes DenseNet"
      ],
      "id": "zkkaYPw3Dypk"
    },
    {
      "cell_type": "markdown",
      "metadata": {
        "id": "5ErJSG6kDypl"
      },
      "source": [
        "##### (9) SGD: Blanco"
      ],
      "id": "5ErJSG6kDypl"
    },
    {
      "cell_type": "code",
      "source": [
        "DenseNet_vortrainiert.trainable = False"
      ],
      "metadata": {
        "id": "qZkImR83cLjU"
      },
      "id": "qZkImR83cLjU",
      "execution_count": null,
      "outputs": []
    },
    {
      "cell_type": "code",
      "execution_count": null,
      "metadata": {
        "colab": {
          "base_uri": "https://localhost:8080/"
        },
        "id": "QPsPhVfkDypl",
        "outputId": "e8b31956-a0f8-4c62-c4be-f42ccf14d12a"
      },
      "outputs": [
        {
          "output_type": "stream",
          "name": "stdout",
          "text": [
            "Model: \"sequential_1\"\n",
            "_________________________________________________________________\n",
            " Layer (type)                Output Shape              Param #   \n",
            "=================================================================\n",
            " densenet201 (Functional)    (None, 1, 1, 1920)        18321984  \n",
            "                                                                 \n",
            " flatten_1 (Flatten)         (None, 1920)              0         \n",
            "                                                                 \n",
            " dense_3 (Dense)             (None, 4096)              7868416   \n",
            "                                                                 \n",
            " batch_normalization_2 (Batc  (None, 4096)             16384     \n",
            " hNormalization)                                                 \n",
            "                                                                 \n",
            " activation_2 (Activation)   (None, 4096)              0         \n",
            "                                                                 \n",
            " dense_4 (Dense)             (None, 4096)              16781312  \n",
            "                                                                 \n",
            " batch_normalization_3 (Batc  (None, 4096)             16384     \n",
            " hNormalization)                                                 \n",
            "                                                                 \n",
            " activation_3 (Activation)   (None, 4096)              0         \n",
            "                                                                 \n",
            " dense_5 (Dense)             (None, 7)                 28679     \n",
            "                                                                 \n",
            "=================================================================\n",
            "Total params: 43,033,159\n",
            "Trainable params: 24,694,791\n",
            "Non-trainable params: 18,338,368\n",
            "_________________________________________________________________\n"
          ]
        }
      ],
      "source": [
        "DenseNet_Modell_9 = Sequential()\n",
        "DenseNet_Modell_9.add(DenseNet_vortrainiert)\n",
        "DenseNet_Modell_9.add(Flatten())\n",
        "\n",
        "DenseNet_Modell_9.add(Dense(4096))\n",
        "DenseNet_Modell_9.add(BatchNormalization())\n",
        "DenseNet_Modell_9.add(Activation('relu'))\n",
        "\n",
        "DenseNet_Modell_9.add(Dense(4096))\n",
        "DenseNet_Modell_9.add(BatchNormalization())\n",
        "DenseNet_Modell_9.add(Activation('relu'))\n",
        "\n",
        "DenseNet_Modell_9.add(Dense(7, activation='softmax'))\n",
        "\n",
        "DenseNet_Modell_9.summary()"
      ],
      "id": "QPsPhVfkDypl"
    },
    {
      "cell_type": "code",
      "execution_count": null,
      "metadata": {
        "id": "4DO7GXdGDypl"
      },
      "outputs": [],
      "source": [
        "DenseNet_Modell_9.compile(optimizer=SGD(learning_rate=learning_rate),\n",
        "                     loss='categorical_crossentropy', metrics=['accuracy'])"
      ],
      "id": "4DO7GXdGDypl"
    },
    {
      "cell_type": "code",
      "execution_count": null,
      "metadata": {
        "id": "TQkvwYoxDypm"
      },
      "outputs": [],
      "source": [
        "checkpointer_DenseNet_9 = [\n",
        "                      ModelCheckpoint('DenseNet_9_SGD_32,0.01_TL.h5', monitor=\"val_accuracy\", verbose=1, save_best_only=True,mode=\"max\"),\n",
        "                      CSVLogger('DenseNet_9_SGD_32,0.01_TL.log')\n",
        "                      ]"
      ],
      "id": "TQkvwYoxDypm"
    },
    {
      "cell_type": "code",
      "execution_count": null,
      "metadata": {
        "id": "lZpfxOFTDypm"
      },
      "outputs": [],
      "source": [
        "%%time\n",
        "history_DenseNet_9 = DenseNet_Modell_9.fit(\n",
        "    X_train_rgb,\n",
        "    y_train_cat,\n",
        "    batch_size=batch_size,\n",
        "    epochs=epochs,\n",
        "    callbacks=checkpointer_DenseNet_9,\n",
        "    validation_data=(X_val_rgb, y_val_cat)\n",
        ")\n",
        "\n",
        "DenseNet_Modell_9.save_weights('DenseNet_Weights_9_SGD_32,0.01_TL.h5')"
      ],
      "id": "lZpfxOFTDypm"
    },
    {
      "cell_type": "markdown",
      "metadata": {
        "id": "OcCv-i2lDypn"
      },
      "source": [
        "##### (10) Adam: Blanco"
      ],
      "id": "OcCv-i2lDypn"
    },
    {
      "cell_type": "code",
      "execution_count": null,
      "metadata": {
        "id": "1Zx78lnwDypn"
      },
      "outputs": [],
      "source": [
        "DenseNet_vortrainiert.trainable=False"
      ],
      "id": "1Zx78lnwDypn"
    },
    {
      "cell_type": "code",
      "execution_count": null,
      "metadata": {
        "colab": {
          "base_uri": "https://localhost:8080/"
        },
        "id": "Sua42_LEDypn",
        "outputId": "4c24b526-c42c-4bdd-fb0e-45590e15c218"
      },
      "outputs": [
        {
          "output_type": "stream",
          "name": "stdout",
          "text": [
            "Model: \"sequential_2\"\n",
            "_________________________________________________________________\n",
            " Layer (type)                Output Shape              Param #   \n",
            "=================================================================\n",
            " densenet201 (Functional)    (None, 1, 1, 1920)        18321984  \n",
            "                                                                 \n",
            " flatten_2 (Flatten)         (None, 1920)              0         \n",
            "                                                                 \n",
            " dense_6 (Dense)             (None, 4096)              7868416   \n",
            "                                                                 \n",
            " batch_normalization_4 (Batc  (None, 4096)             16384     \n",
            " hNormalization)                                                 \n",
            "                                                                 \n",
            " activation_4 (Activation)   (None, 4096)              0         \n",
            "                                                                 \n",
            " dense_7 (Dense)             (None, 4096)              16781312  \n",
            "                                                                 \n",
            " batch_normalization_5 (Batc  (None, 4096)             16384     \n",
            " hNormalization)                                                 \n",
            "                                                                 \n",
            " activation_5 (Activation)   (None, 4096)              0         \n",
            "                                                                 \n",
            " dense_8 (Dense)             (None, 7)                 28679     \n",
            "                                                                 \n",
            "=================================================================\n",
            "Total params: 43,033,159\n",
            "Trainable params: 24,694,791\n",
            "Non-trainable params: 18,338,368\n",
            "_________________________________________________________________\n"
          ]
        }
      ],
      "source": [
        "DenseNet_Modell_10 = Sequential()\n",
        "DenseNet_Modell_10.add(DenseNet_vortrainiert)\n",
        "DenseNet_Modell_10.add(Flatten())\n",
        "\n",
        "DenseNet_Modell_10.add(Dense(4096))\n",
        "DenseNet_Modell_10.add(BatchNormalization())\n",
        "DenseNet_Modell_10.add(Activation('relu'))\n",
        "\n",
        "DenseNet_Modell_10.add(Dense(4096))\n",
        "DenseNet_Modell_10.add(BatchNormalization())\n",
        "DenseNet_Modell_10.add(Activation('relu'))\n",
        "\n",
        "DenseNet_Modell_10.add(Dense(7, activation='softmax'))\n",
        "\n",
        "DenseNet_Modell_10.summary()"
      ],
      "id": "Sua42_LEDypn"
    },
    {
      "cell_type": "code",
      "execution_count": null,
      "metadata": {
        "id": "8tjzfUHyDypo"
      },
      "outputs": [],
      "source": [
        "DenseNet_Modell_10.compile(optimizer=Adam(learning_rate=learning_rate),\n",
        "                     loss='categorical_crossentropy', metrics=['accuracy'])"
      ],
      "id": "8tjzfUHyDypo"
    },
    {
      "cell_type": "code",
      "execution_count": null,
      "metadata": {
        "id": "cQYqr0iIDypo"
      },
      "outputs": [],
      "source": [
        "checkpointer_DenseNet_10 = [\n",
        "                      ModelCheckpoint('DenseNet_10_Adam_32,0.01_TL.h5', monitor=\"val_accuracy\", verbose=1, save_best_only=True,mode=\"max\"),\n",
        "                      CSVLogger('DenseNet_10_Adam_32,0.01_TL.log')\n",
        "                      ]"
      ],
      "id": "cQYqr0iIDypo"
    },
    {
      "cell_type": "code",
      "execution_count": null,
      "metadata": {
        "id": "bLTlV4vMDypo"
      },
      "outputs": [],
      "source": [
        "%%time\n",
        "history_DenseNet_10 = DenseNet_Modell_10.fit(\n",
        "    X_train_rgb,\n",
        "    y_train_cat,\n",
        "    batch_size=batch_size,\n",
        "    epochs=epochs,\n",
        "    callbacks=checkpointer_DenseNet_10,\n",
        "    validation_data=(X_val_rgb, y_val_cat)\n",
        ")\n",
        "\n",
        "DenseNet_Modell_10.save_weights('DenseNet_Weights_10_Adam_32,0.01_TL.h5')"
      ],
      "id": "bLTlV4vMDypo"
    },
    {
      "cell_type": "markdown",
      "metadata": {
        "id": "84qaM42PDypp"
      },
      "source": [
        "##### (11) SGD: Dropout"
      ],
      "id": "84qaM42PDypp"
    },
    {
      "cell_type": "code",
      "execution_count": null,
      "metadata": {
        "id": "5G7PWRSdDypp"
      },
      "outputs": [],
      "source": [
        "DenseNet_vortrainiert.trainable=False"
      ],
      "id": "5G7PWRSdDypp"
    },
    {
      "cell_type": "code",
      "execution_count": null,
      "metadata": {
        "colab": {
          "base_uri": "https://localhost:8080/"
        },
        "id": "HAVVAcVDDypp",
        "outputId": "cd005550-0902-4634-9885-800bda52d44e"
      },
      "outputs": [
        {
          "output_type": "stream",
          "name": "stdout",
          "text": [
            "Model: \"sequential_3\"\n",
            "_________________________________________________________________\n",
            " Layer (type)                Output Shape              Param #   \n",
            "=================================================================\n",
            " densenet201 (Functional)    (None, 1, 1, 1920)        18321984  \n",
            "                                                                 \n",
            " flatten_3 (Flatten)         (None, 1920)              0         \n",
            "                                                                 \n",
            " dense_9 (Dense)             (None, 4096)              7868416   \n",
            "                                                                 \n",
            " batch_normalization_6 (Batc  (None, 4096)             16384     \n",
            " hNormalization)                                                 \n",
            "                                                                 \n",
            " activation_6 (Activation)   (None, 4096)              0         \n",
            "                                                                 \n",
            " dropout (Dropout)           (None, 4096)              0         \n",
            "                                                                 \n",
            " dense_10 (Dense)            (None, 4096)              16781312  \n",
            "                                                                 \n",
            " batch_normalization_7 (Batc  (None, 4096)             16384     \n",
            " hNormalization)                                                 \n",
            "                                                                 \n",
            " activation_7 (Activation)   (None, 4096)              0         \n",
            "                                                                 \n",
            " dropout_1 (Dropout)         (None, 4096)              0         \n",
            "                                                                 \n",
            " dense_11 (Dense)            (None, 7)                 28679     \n",
            "                                                                 \n",
            "=================================================================\n",
            "Total params: 43,033,159\n",
            "Trainable params: 24,694,791\n",
            "Non-trainable params: 18,338,368\n",
            "_________________________________________________________________\n"
          ]
        }
      ],
      "source": [
        "DenseNet_Modell_11 = Sequential()\n",
        "DenseNet_Modell_11.add(DenseNet_vortrainiert)\n",
        "DenseNet_Modell_11.add(Flatten())\n",
        "\n",
        "DenseNet_Modell_11.add(Dense(4096))\n",
        "DenseNet_Modell_11.add(BatchNormalization())\n",
        "DenseNet_Modell_11.add(Activation('relu'))\n",
        "DenseNet_Modell_11.add(Dropout(0.75))\n",
        "\n",
        "DenseNet_Modell_11.add(Dense(4096))\n",
        "DenseNet_Modell_11.add(BatchNormalization())\n",
        "DenseNet_Modell_11.add(Activation('relu'))\n",
        "DenseNet_Modell_11.add(Dropout(0.75))\n",
        "\n",
        "DenseNet_Modell_11.add(Dense(7, activation='softmax'))\n",
        "\n",
        "DenseNet_Modell_11.summary()"
      ],
      "id": "HAVVAcVDDypp"
    },
    {
      "cell_type": "code",
      "execution_count": null,
      "metadata": {
        "id": "pYmM2GeADypq"
      },
      "outputs": [],
      "source": [
        "DenseNet_Modell_11.compile(optimizer=SGD(learning_rate=learning_rate),\n",
        "                     loss='categorical_crossentropy', metrics=['accuracy'])"
      ],
      "id": "pYmM2GeADypq"
    },
    {
      "cell_type": "code",
      "execution_count": null,
      "metadata": {
        "id": "gtd2xGwqDypq"
      },
      "outputs": [],
      "source": [
        "checkpointer_DenseNet_11 = [\n",
        "                      ModelCheckpoint('DenseNet_11_SGD_32,0.01_DO_TL.h5', monitor=\"val_accuracy\", verbose=1, save_best_only=True,mode=\"max\"),\n",
        "                      CSVLogger('DenseNet_11_SGD_32,0.01_DO_TL.log')\n",
        "                      ]"
      ],
      "id": "gtd2xGwqDypq"
    },
    {
      "cell_type": "code",
      "execution_count": null,
      "metadata": {
        "id": "YSuiCxfxDypr"
      },
      "outputs": [],
      "source": [
        "%%time\n",
        "history_DenseNet_11 = DenseNet_Modell_11.fit(\n",
        "    X_train_rgb,\n",
        "    y_train_cat,\n",
        "    batch_size=batch_size,\n",
        "    epochs=epochs,\n",
        "    callbacks=checkpointer_DenseNet_11,\n",
        "    validation_data=(X_val_rgb, y_val_cat)\n",
        ")\n",
        "\n",
        "DenseNet_Modell_11.save_weights('DenseNet_Weights_11_SGD_32,0.01_DO_TL.h5')"
      ],
      "id": "YSuiCxfxDypr"
    },
    {
      "cell_type": "markdown",
      "metadata": {
        "id": "4KiKRp5TDypr"
      },
      "source": [
        "##### (12) Adam: Dropout"
      ],
      "id": "4KiKRp5TDypr"
    },
    {
      "cell_type": "code",
      "execution_count": null,
      "metadata": {
        "id": "LZuKpvFrDypr"
      },
      "outputs": [],
      "source": [
        "DenseNet_vortrainiert.trainable=False"
      ],
      "id": "LZuKpvFrDypr"
    },
    {
      "cell_type": "code",
      "execution_count": null,
      "metadata": {
        "colab": {
          "base_uri": "https://localhost:8080/"
        },
        "id": "hE5e3s2KDyps",
        "outputId": "d706dd31-3c04-4344-f0da-8a320cf7ca69"
      },
      "outputs": [
        {
          "output_type": "stream",
          "name": "stdout",
          "text": [
            "Model: \"sequential_4\"\n",
            "_________________________________________________________________\n",
            " Layer (type)                Output Shape              Param #   \n",
            "=================================================================\n",
            " densenet201 (Functional)    (None, 1, 1, 1920)        18321984  \n",
            "                                                                 \n",
            " flatten_4 (Flatten)         (None, 1920)              0         \n",
            "                                                                 \n",
            " dense_12 (Dense)            (None, 4096)              7868416   \n",
            "                                                                 \n",
            " batch_normalization_8 (Batc  (None, 4096)             16384     \n",
            " hNormalization)                                                 \n",
            "                                                                 \n",
            " activation_8 (Activation)   (None, 4096)              0         \n",
            "                                                                 \n",
            " dropout_2 (Dropout)         (None, 4096)              0         \n",
            "                                                                 \n",
            " dense_13 (Dense)            (None, 4096)              16781312  \n",
            "                                                                 \n",
            " batch_normalization_9 (Batc  (None, 4096)             16384     \n",
            " hNormalization)                                                 \n",
            "                                                                 \n",
            " activation_9 (Activation)   (None, 4096)              0         \n",
            "                                                                 \n",
            " dropout_3 (Dropout)         (None, 4096)              0         \n",
            "                                                                 \n",
            " dense_14 (Dense)            (None, 7)                 28679     \n",
            "                                                                 \n",
            "=================================================================\n",
            "Total params: 43,033,159\n",
            "Trainable params: 24,694,791\n",
            "Non-trainable params: 18,338,368\n",
            "_________________________________________________________________\n"
          ]
        }
      ],
      "source": [
        "DenseNet_Modell_12 = Sequential()\n",
        "DenseNet_Modell_12.add(DenseNet_vortrainiert)\n",
        "DenseNet_Modell_12.add(Flatten())\n",
        "\n",
        "DenseNet_Modell_12.add(Dense(4096))\n",
        "DenseNet_Modell_12.add(BatchNormalization())\n",
        "DenseNet_Modell_12.add(Activation('relu'))\n",
        "DenseNet_Modell_12.add(Dropout(0.75))\n",
        "\n",
        "DenseNet_Modell_12.add(Dense(4096))\n",
        "DenseNet_Modell_12.add(BatchNormalization())\n",
        "DenseNet_Modell_12.add(Activation('relu'))\n",
        "DenseNet_Modell_12.add(Dropout(0.75))\n",
        "\n",
        "DenseNet_Modell_12.add(Dense(7, activation='softmax'))\n",
        "\n",
        "DenseNet_Modell_12.summary()"
      ],
      "id": "hE5e3s2KDyps"
    },
    {
      "cell_type": "code",
      "execution_count": null,
      "metadata": {
        "id": "IRKSU8yiDyps"
      },
      "outputs": [],
      "source": [
        "DenseNet_Modell_12.compile(optimizer=Adam(learning_rate=learning_rate),\n",
        "                     loss='categorical_crossentropy', metrics=['accuracy'])"
      ],
      "id": "IRKSU8yiDyps"
    },
    {
      "cell_type": "code",
      "execution_count": null,
      "metadata": {
        "id": "8mTct7wMDyps"
      },
      "outputs": [],
      "source": [
        "checkpointer_DenseNet_12 = [\n",
        "                      ModelCheckpoint('DenseNet_12_Adam_32,0.01_DO_TL.h5', monitor=\"val_accuracy\", verbose=1, save_best_only=True,mode=\"max\"),\n",
        "                      CSVLogger('DenseNet_12_Adam_32,0.01_DO_TL.log')\n",
        "                      ]"
      ],
      "id": "8mTct7wMDyps"
    },
    {
      "cell_type": "code",
      "execution_count": null,
      "metadata": {
        "id": "DZajPl7tDypt"
      },
      "outputs": [],
      "source": [
        "%%time\n",
        "history_DenseNet_12 = DenseNet_Modell_12.fit(\n",
        "    X_train_rgb,\n",
        "    y_train_cat,\n",
        "    batch_size=batch_size,\n",
        "    epochs=epochs,\n",
        "    callbacks=checkpointer_DenseNet_12,\n",
        "    validation_data=(X_val_rgb, y_val_cat)\n",
        ")\n",
        "\n",
        "DenseNet_Modell_12.save_weights('DenseNet_Weights_12_Adam_32,0.01_DO_TL.h5')"
      ],
      "id": "DZajPl7tDypt"
    },
    {
      "cell_type": "markdown",
      "metadata": {
        "id": "PqV-gNQADypt"
      },
      "source": [
        "##### (13) SGD: Data Augmentation"
      ],
      "id": "PqV-gNQADypt"
    },
    {
      "cell_type": "code",
      "execution_count": null,
      "metadata": {
        "id": "HN4uyfNpDypu"
      },
      "outputs": [],
      "source": [
        "DenseNet_vortrainiert.trainable=False"
      ],
      "id": "HN4uyfNpDypu"
    },
    {
      "cell_type": "code",
      "execution_count": null,
      "metadata": {
        "colab": {
          "base_uri": "https://localhost:8080/"
        },
        "id": "UAB0gL-LDypu",
        "outputId": "3be333b0-0331-4608-bf88-17eb6c1c17ce"
      },
      "outputs": [
        {
          "output_type": "stream",
          "name": "stdout",
          "text": [
            "Model: \"sequential_5\"\n",
            "_________________________________________________________________\n",
            " Layer (type)                Output Shape              Param #   \n",
            "=================================================================\n",
            " densenet201 (Functional)    (None, 1, 1, 1920)        18321984  \n",
            "                                                                 \n",
            " flatten_5 (Flatten)         (None, 1920)              0         \n",
            "                                                                 \n",
            " dense_15 (Dense)            (None, 4096)              7868416   \n",
            "                                                                 \n",
            " batch_normalization_10 (Bat  (None, 4096)             16384     \n",
            " chNormalization)                                                \n",
            "                                                                 \n",
            " activation_10 (Activation)  (None, 4096)              0         \n",
            "                                                                 \n",
            " dense_16 (Dense)            (None, 4096)              16781312  \n",
            "                                                                 \n",
            " batch_normalization_11 (Bat  (None, 4096)             16384     \n",
            " chNormalization)                                                \n",
            "                                                                 \n",
            " activation_11 (Activation)  (None, 4096)              0         \n",
            "                                                                 \n",
            " dense_17 (Dense)            (None, 7)                 28679     \n",
            "                                                                 \n",
            "=================================================================\n",
            "Total params: 43,033,159\n",
            "Trainable params: 24,694,791\n",
            "Non-trainable params: 18,338,368\n",
            "_________________________________________________________________\n"
          ]
        }
      ],
      "source": [
        "DenseNet_Modell_13 = Sequential()\n",
        "DenseNet_Modell_13.add(DenseNet_vortrainiert)\n",
        "DenseNet_Modell_13.add(Flatten())\n",
        "\n",
        "DenseNet_Modell_13.add(Dense(4096))\n",
        "DenseNet_Modell_13.add(BatchNormalization())\n",
        "DenseNet_Modell_13.add(Activation('relu'))\n",
        "\n",
        "DenseNet_Modell_13.add(Dense(4096))\n",
        "DenseNet_Modell_13.add(BatchNormalization())\n",
        "DenseNet_Modell_13.add(Activation('relu'))\n",
        "\n",
        "DenseNet_Modell_13.add(Dense(7, activation='softmax'))\n",
        "\n",
        "DenseNet_Modell_13.summary()"
      ],
      "id": "UAB0gL-LDypu"
    },
    {
      "cell_type": "code",
      "execution_count": null,
      "metadata": {
        "id": "TQud7lnXDypv"
      },
      "outputs": [],
      "source": [
        "DenseNet_Modell_13.compile(optimizer=SGD(learning_rate=learning_rate),\n",
        "                     loss='categorical_crossentropy', metrics=['accuracy'])"
      ],
      "id": "TQud7lnXDypv"
    },
    {
      "cell_type": "code",
      "execution_count": null,
      "metadata": {
        "id": "sDJeAW_XDypv"
      },
      "outputs": [],
      "source": [
        "checkpointer_DenseNet_13 = [\n",
        "                      ModelCheckpoint('DenseNet_13_SGD_32,0.01_DA_TL.h5', monitor=\"val_accuracy\", verbose=1, save_best_only=True,mode=\"max\"),\n",
        "                      CSVLogger('DenseNet_13_SGD_32,0.01_DA_TL.log')\n",
        "                      ]"
      ],
      "id": "sDJeAW_XDypv"
    },
    {
      "cell_type": "code",
      "execution_count": null,
      "metadata": {
        "id": "GYc2_gNJDypw"
      },
      "outputs": [],
      "source": [
        "%%time\n",
        "history_VGG_13 = DenseNet_Modell_13.fit_generator(\n",
        "    train_generator_rgb,\n",
        "    validation_data=(X_val_rgb, y_val_cat),\n",
        "    epochs=epochs,\n",
        "    callbacks=checkpointer_DenseNet_13) \n",
        "\n",
        "DenseNet_Modell_13.save_weights('DenseNet_Weights_13_SGD_32,0.01_DA_TL.h5')"
      ],
      "id": "GYc2_gNJDypw"
    },
    {
      "cell_type": "markdown",
      "metadata": {
        "id": "fiUEWizEDypw"
      },
      "source": [
        "##### (14) Adam: Data Augmentation"
      ],
      "id": "fiUEWizEDypw"
    },
    {
      "cell_type": "code",
      "execution_count": null,
      "metadata": {
        "id": "Q89XvOFGDypx"
      },
      "outputs": [],
      "source": [
        "DenseNet_vortrainiert.trainable=False"
      ],
      "id": "Q89XvOFGDypx"
    },
    {
      "cell_type": "code",
      "execution_count": null,
      "metadata": {
        "colab": {
          "base_uri": "https://localhost:8080/"
        },
        "id": "d5vD8tw4Dypx",
        "outputId": "cff7800f-ba0c-4651-ab28-08c81c39206c"
      },
      "outputs": [
        {
          "name": "stdout",
          "output_type": "stream",
          "text": [
            "Model: \"sequential_26\"\n",
            "_________________________________________________________________\n",
            " Layer (type)                Output Shape              Param #   \n",
            "=================================================================\n",
            " resnet50 (Functional)       (None, 2, 2, 2048)        23587712  \n",
            "                                                                 \n",
            " flatten_41 (Flatten)        (None, 8192)              0         \n",
            "                                                                 \n",
            " dense_110 (Dense)           (None, 4096)              33558528  \n",
            "                                                                 \n",
            " batch_normalization_70 (Bat  (None, 4096)             16384     \n",
            " chNormalization)                                                \n",
            "                                                                 \n",
            " activation_69 (Activation)  (None, 4096)              0         \n",
            "                                                                 \n",
            " dense_111 (Dense)           (None, 4096)              16781312  \n",
            "                                                                 \n",
            " batch_normalization_71 (Bat  (None, 4096)             16384     \n",
            " chNormalization)                                                \n",
            "                                                                 \n",
            " activation_70 (Activation)  (None, 4096)              0         \n",
            "                                                                 \n",
            " dense_112 (Dense)           (None, 7)                 28679     \n",
            "                                                                 \n",
            "=================================================================\n",
            "Total params: 73,988,999\n",
            "Trainable params: 50,384,903\n",
            "Non-trainable params: 23,604,096\n",
            "_________________________________________________________________\n"
          ]
        }
      ],
      "source": [
        "DenseNet_Modell_14 = Sequential()\n",
        "DenseNet_Modell_14.add(DenseNet_vortrainiert)\n",
        "DenseNet_Modell_14.add(Flatten())\n",
        "\n",
        "DenseNet_Modell_14.add(Dense(4096))\n",
        "DenseNet_Modell_14.add(BatchNormalization())\n",
        "DenseNet_Modell_14.add(Activation('relu'))\n",
        "\n",
        "DenseNet_Modell_14.add(Dense(4096))\n",
        "DenseNet_Modell_14.add(BatchNormalization())\n",
        "DenseNet_Modell_14.add(Activation('relu'))\n",
        "\n",
        "DenseNet_Modell_14.add(Dense(7, activation='softmax'))\n",
        "\n",
        "DenseNet_Modell_14.summary()"
      ],
      "id": "d5vD8tw4Dypx"
    },
    {
      "cell_type": "code",
      "execution_count": null,
      "metadata": {
        "id": "ZilG6fxcDypx"
      },
      "outputs": [],
      "source": [
        "DenseNet_Modell_14.compile(optimizer=Adam(learning_rate=learning_rate),\n",
        "                     loss='categorical_crossentropy', metrics=['accuracy'])"
      ],
      "id": "ZilG6fxcDypx"
    },
    {
      "cell_type": "code",
      "execution_count": null,
      "metadata": {
        "id": "qm2NRVnwDypy"
      },
      "outputs": [],
      "source": [
        "checkpointer_DenseNet_14 = [\n",
        "                      ModelCheckpoint('DenseNet_14_Adam_32,0.01_DA_TL.h5', monitor=\"val_accuracy\", verbose=1, save_best_only=True,mode=\"max\"),\n",
        "                      CSVLogger('DenseNet_14_Adam_32,0.01_DA_TL.log')\n",
        "                      ]"
      ],
      "id": "qm2NRVnwDypy"
    },
    {
      "cell_type": "code",
      "execution_count": null,
      "metadata": {
        "id": "_kQCR16DDypy"
      },
      "outputs": [],
      "source": [
        "%%time\n",
        "history_VGG_14 = DenseNet_Modell_14.fit_generator(\n",
        "    train_generator_rgb,\n",
        "    validation_data=(X_val_rgb, y_val_cat),\n",
        "    epochs=epochs,\n",
        "    callbacks=checkpointer_DenseNet_14)  \n",
        "\n",
        "DenseNet_Modell_14.save_weights('DenseNet_Weights_14_Adam_32,0.01_DA_TL.h5')"
      ],
      "id": "_kQCR16DDypy"
    },
    {
      "cell_type": "markdown",
      "metadata": {
        "id": "8hyzIq3RDypz"
      },
      "source": [
        "##### (15) SGD: Dropout + Data Augmentation"
      ],
      "id": "8hyzIq3RDypz"
    },
    {
      "cell_type": "code",
      "execution_count": null,
      "metadata": {
        "id": "xBVl3Kp9Dypz"
      },
      "outputs": [],
      "source": [
        "DenseNet_vortrainiert.trainable=False"
      ],
      "id": "xBVl3Kp9Dypz"
    },
    {
      "cell_type": "code",
      "execution_count": null,
      "metadata": {
        "colab": {
          "base_uri": "https://localhost:8080/"
        },
        "id": "n0erzvLRDypz",
        "outputId": "58983aad-ea55-4546-d7ca-d37223e53474"
      },
      "outputs": [
        {
          "name": "stdout",
          "output_type": "stream",
          "text": [
            "Model: \"sequential_27\"\n",
            "_________________________________________________________________\n",
            " Layer (type)                Output Shape              Param #   \n",
            "=================================================================\n",
            " resnet50 (Functional)       (None, 2, 2, 2048)        23587712  \n",
            "                                                                 \n",
            " flatten_42 (Flatten)        (None, 8192)              0         \n",
            "                                                                 \n",
            " dense_113 (Dense)           (None, 4096)              33558528  \n",
            "                                                                 \n",
            " batch_normalization_72 (Bat  (None, 4096)             16384     \n",
            " chNormalization)                                                \n",
            "                                                                 \n",
            " activation_71 (Activation)  (None, 4096)              0         \n",
            "                                                                 \n",
            " dropout_14 (Dropout)        (None, 4096)              0         \n",
            "                                                                 \n",
            " dense_114 (Dense)           (None, 4096)              16781312  \n",
            "                                                                 \n",
            " batch_normalization_73 (Bat  (None, 4096)             16384     \n",
            " chNormalization)                                                \n",
            "                                                                 \n",
            " activation_72 (Activation)  (None, 4096)              0         \n",
            "                                                                 \n",
            " dropout_15 (Dropout)        (None, 4096)              0         \n",
            "                                                                 \n",
            " dense_115 (Dense)           (None, 7)                 28679     \n",
            "                                                                 \n",
            "=================================================================\n",
            "Total params: 73,988,999\n",
            "Trainable params: 50,384,903\n",
            "Non-trainable params: 23,604,096\n",
            "_________________________________________________________________\n"
          ]
        }
      ],
      "source": [
        "DenseNet_Modell_15 = Sequential()\n",
        "DenseNet_Modell_15.add(DenseNet_vortrainiert)\n",
        "DenseNet_Modell_15.add(Flatten())\n",
        "\n",
        "DenseNet_Modell_15.add(Dense(4096))\n",
        "DenseNet_Modell_15.add(BatchNormalization())\n",
        "DenseNet_Modell_15.add(Activation('relu'))\n",
        "DenseNet_Modell_15.add(Dropout(0.75)) \n",
        "\n",
        "DenseNet_Modell_15.add(Dense(4096))\n",
        "DenseNet_Modell_15.add(BatchNormalization())\n",
        "DenseNet_Modell_15.add(Activation('relu'))\n",
        "DenseNet_Modell_15.add(Dropout(0.75))\n",
        "\n",
        "DenseNet_Modell_15.add(Dense(7, activation='softmax'))\n",
        "\n",
        "DenseNet_Modell_15.summary()"
      ],
      "id": "n0erzvLRDypz"
    },
    {
      "cell_type": "code",
      "execution_count": null,
      "metadata": {
        "id": "GAsQADgIDyp0"
      },
      "outputs": [],
      "source": [
        "DenseNet_Modell_15.compile(optimizer=SGD(learning_rate=learning_rate),\n",
        "                     loss='categorical_crossentropy', metrics=['accuracy'])"
      ],
      "id": "GAsQADgIDyp0"
    },
    {
      "cell_type": "code",
      "execution_count": null,
      "metadata": {
        "id": "RrV2X7R0Dyp0"
      },
      "outputs": [],
      "source": [
        "checkpointer_DenseNet_15 = [\n",
        "                      ModelCheckpoint('DenseNet_15_SGD_32,0.01_DO+DA_TL.h5', monitor=\"val_accuracy\", verbose=1, save_best_only=True,mode=\"max\"),\n",
        "                      CSVLogger('DenseNet_15_SGD_32,0.01_DO+DA_TL.log')\n",
        "                      ]"
      ],
      "id": "RrV2X7R0Dyp0"
    },
    {
      "cell_type": "code",
      "execution_count": null,
      "metadata": {
        "id": "hCKYrRHYDyp1"
      },
      "outputs": [],
      "source": [
        "%%time\n",
        "history_VGG_15 = DenseNet_Modell_15.fit_generator(\n",
        "    train_generator_rgb,\n",
        "    validation_data=(X_val_rgb, y_val_cat),\n",
        "    epochs=epochs,\n",
        "    callbacks=checkpointer_DenseNet_15)  \n",
        "\n",
        "DenseNet_Modell_15.save_weights('DenseNet_Weights_15_SGD_32,0.01_DO+DA_TL.h5')"
      ],
      "id": "hCKYrRHYDyp1"
    },
    {
      "cell_type": "markdown",
      "metadata": {
        "id": "7uaomzzkDyp1"
      },
      "source": [
        "##### (16) Adam: Dropout + Data Augmentation"
      ],
      "id": "7uaomzzkDyp1"
    },
    {
      "cell_type": "code",
      "execution_count": null,
      "metadata": {
        "id": "6qawONkSDyp2"
      },
      "outputs": [],
      "source": [
        "DenseNet_vortrainiert.trainable=False"
      ],
      "id": "6qawONkSDyp2"
    },
    {
      "cell_type": "code",
      "execution_count": null,
      "metadata": {
        "colab": {
          "base_uri": "https://localhost:8080/"
        },
        "id": "YN7z4BrVDyp2",
        "outputId": "a40a893e-aea3-40d5-b485-91e764f81e04"
      },
      "outputs": [
        {
          "name": "stdout",
          "output_type": "stream",
          "text": [
            "Model: \"sequential_28\"\n",
            "_________________________________________________________________\n",
            " Layer (type)                Output Shape              Param #   \n",
            "=================================================================\n",
            " resnet50 (Functional)       (None, 2, 2, 2048)        23587712  \n",
            "                                                                 \n",
            " flatten_43 (Flatten)        (None, 8192)              0         \n",
            "                                                                 \n",
            " dense_116 (Dense)           (None, 4096)              33558528  \n",
            "                                                                 \n",
            " batch_normalization_74 (Bat  (None, 4096)             16384     \n",
            " chNormalization)                                                \n",
            "                                                                 \n",
            " activation_73 (Activation)  (None, 4096)              0         \n",
            "                                                                 \n",
            " dropout_16 (Dropout)        (None, 4096)              0         \n",
            "                                                                 \n",
            " dense_117 (Dense)           (None, 4096)              16781312  \n",
            "                                                                 \n",
            " batch_normalization_75 (Bat  (None, 4096)             16384     \n",
            " chNormalization)                                                \n",
            "                                                                 \n",
            " activation_74 (Activation)  (None, 4096)              0         \n",
            "                                                                 \n",
            " dropout_17 (Dropout)        (None, 4096)              0         \n",
            "                                                                 \n",
            " dense_118 (Dense)           (None, 7)                 28679     \n",
            "                                                                 \n",
            "=================================================================\n",
            "Total params: 73,988,999\n",
            "Trainable params: 50,384,903\n",
            "Non-trainable params: 23,604,096\n",
            "_________________________________________________________________\n"
          ]
        }
      ],
      "source": [
        "DenseNet_Modell_16 = Sequential()\n",
        "DenseNet_Modell_16.add(DenseNet_vortrainiert)\n",
        "DenseNet_Modell_16.add(Flatten())\n",
        "\n",
        "DenseNet_Modell_16.add(Dense(4096))\n",
        "DenseNet_Modell_16.add(BatchNormalization())\n",
        "DenseNet_Modell_16.add(Activation('relu'))\n",
        "DenseNet_Modell_16.add(Dropout(0.75))\n",
        "\n",
        "DenseNet_Modell_16.add(Dense(4096))\n",
        "DenseNet_Modell_16.add(BatchNormalization())\n",
        "DenseNet_Modell_16.add(Activation('relu'))\n",
        "DenseNet_Modell_16.add(Dropout(0.75))\n",
        "\n",
        "DenseNet_Modell_16.add(Dense(7, activation='softmax'))\n",
        "\n",
        "DenseNet_Modell_16.summary()"
      ],
      "id": "YN7z4BrVDyp2"
    },
    {
      "cell_type": "code",
      "execution_count": null,
      "metadata": {
        "id": "aOFEHKynDyp2"
      },
      "outputs": [],
      "source": [
        "DenseNet_Modell_16.compile(optimizer=Adam(learning_rate=learning_rate),\n",
        "                     loss='categorical_crossentropy', metrics=['accuracy'])"
      ],
      "id": "aOFEHKynDyp2"
    },
    {
      "cell_type": "code",
      "execution_count": null,
      "metadata": {
        "id": "jMBBDe95Dyp3"
      },
      "outputs": [],
      "source": [
        "checkpointer_DenseNet_16 = [\n",
        "                      ModelCheckpoint('DenseNet_16_Adam_32,0.01_DO+DA_TL.h5', monitor=\"val_accuracy\", verbose=1, save_best_only=True,mode=\"max\"),\n",
        "                      CSVLogger('DenseNet_16_Adam_32,0.01_DO+DA_TL.log')\n",
        "                      ]"
      ],
      "id": "jMBBDe95Dyp3"
    },
    {
      "cell_type": "code",
      "execution_count": null,
      "metadata": {
        "id": "qVui7tWNDyp3"
      },
      "outputs": [],
      "source": [
        "%%time\n",
        "history_VGG_16 = DenseNet_Modell_16.fit_generator(\n",
        "    train_generator_rgb,\n",
        "    validation_data=(X_val_rgb, y_val_cat),\n",
        "    epochs=epochs,\n",
        "    callbacks=checkpointer_DenseNet_16)  \n",
        "\n",
        "DenseNet_Modell_16.save_weights('DenseNet_Weights_16_Adam_32,0.01_DO+DA_TL.h5')"
      ],
      "id": "qVui7tWNDyp3"
    },
    {
      "cell_type": "markdown",
      "metadata": {
        "id": "YEgLqRMYjs-I"
      },
      "source": [
        "## MobileNetV2"
      ],
      "id": "YEgLqRMYjs-I"
    },
    {
      "cell_type": "markdown",
      "metadata": {
        "id": "rtMl_vJ7js-I"
      },
      "source": [
        "### MobileNet Modelle"
      ],
      "id": "rtMl_vJ7js-I"
    },
    {
      "cell_type": "markdown",
      "metadata": {
        "id": "-c0EFmaajs-J"
      },
      "source": [
        "#### Nicht vortrainiertes MobileNet"
      ],
      "id": "-c0EFmaajs-J"
    },
    {
      "cell_type": "markdown",
      "metadata": {
        "id": "S4LIK6QLjs-J"
      },
      "source": [
        "##### (1) SGD: Blanco"
      ],
      "id": "S4LIK6QLjs-J"
    },
    {
      "cell_type": "code",
      "execution_count": null,
      "metadata": {
        "colab": {
          "base_uri": "https://localhost:8080/"
        },
        "id": "Aw5N37T6js-J",
        "outputId": "d5f9fb60-d7c6-40da-ead9-d7109a51b685"
      },
      "outputs": [
        {
          "name": "stdout",
          "output_type": "stream",
          "text": [
            "Model: \"sequential_4\"\n",
            "_________________________________________________________________\n",
            " Layer (type)                Output Shape              Param #   \n",
            "=================================================================\n",
            " mobilenetv2_1.00_48 (Functi  (None, 2, 2, 1280)       2257408   \n",
            " onal)                                                           \n",
            "                                                                 \n",
            " flatten_4 (Flatten)         (None, 5120)              0         \n",
            "                                                                 \n",
            " dense_12 (Dense)            (None, 4096)              20975616  \n",
            "                                                                 \n",
            " batch_normalization_8 (Batc  (None, 4096)             16384     \n",
            " hNormalization)                                                 \n",
            "                                                                 \n",
            " activation_8 (Activation)   (None, 4096)              0         \n",
            "                                                                 \n",
            " dense_13 (Dense)            (None, 4096)              16781312  \n",
            "                                                                 \n",
            " batch_normalization_9 (Batc  (None, 4096)             16384     \n",
            " hNormalization)                                                 \n",
            "                                                                 \n",
            " activation_9 (Activation)   (None, 4096)              0         \n",
            "                                                                 \n",
            " dense_14 (Dense)            (None, 7)                 28679     \n",
            "                                                                 \n",
            "=================================================================\n",
            "Total params: 40,075,783\n",
            "Trainable params: 40,025,287\n",
            "Non-trainable params: 50,496\n",
            "_________________________________________________________________\n"
          ]
        }
      ],
      "source": [
        "MobileNet_Modell_1 = Sequential()\n",
        "MobileNet_Modell_1.add(MobileNet_ohne_MLP)\n",
        "MobileNet_Modell_1.add(Flatten())\n",
        "\n",
        "MobileNet_Modell_1.add(Dense(4096))\n",
        "MobileNet_Modell_1.add(BatchNormalization())\n",
        "MobileNet_Modell_1.add(Activation('relu'))\n",
        "\n",
        "MobileNet_Modell_1.add(Dense(4096))\n",
        "MobileNet_Modell_1.add(BatchNormalization())\n",
        "MobileNet_Modell_1.add(Activation('relu'))\n",
        "\n",
        "MobileNet_Modell_1.add(Dense(7, activation='softmax'))\n",
        "\n",
        "MobileNet_Modell_1.summary()"
      ],
      "id": "Aw5N37T6js-J"
    },
    {
      "cell_type": "code",
      "execution_count": null,
      "metadata": {
        "id": "Lu9a1849js-J"
      },
      "outputs": [],
      "source": [
        "MobileNet_Modell_1.compile(optimizer=SGD(learning_rate=learning_rate),\n",
        "                     loss='categorical_crossentropy', metrics=['accuracy'])"
      ],
      "id": "Lu9a1849js-J"
    },
    {
      "cell_type": "code",
      "execution_count": null,
      "metadata": {
        "id": "YD3zKGiHjs-J"
      },
      "outputs": [],
      "source": [
        "checkpointer_MobileNet_1 = [\n",
        "                      ModelCheckpoint('MobileNet_1_SGD_32,0.01.h5', monitor=\"val_accuracy\", verbose=1, save_best_only=True,mode=\"max\"),\n",
        "                      CSVLogger('MobileNet_1_SGD_32,0.01.log')\n",
        "                      ]"
      ],
      "id": "YD3zKGiHjs-J"
    },
    {
      "cell_type": "code",
      "execution_count": null,
      "metadata": {
        "id": "lWwz9Y7Vjs-J"
      },
      "outputs": [],
      "source": [
        "%%time\n",
        "history_MobileNet_1 = MobileNet_Modell_1.fit(\n",
        "    X_train_48x48,\n",
        "    y_train_cat,\n",
        "    batch_size=batch_size,\n",
        "    epochs=epochs,\n",
        "    callbacks=checkpointer_MobileNet_1,\n",
        "    validation_data=(X_val_48x48, y_val_cat)\n",
        ")"
      ],
      "id": "lWwz9Y7Vjs-J"
    },
    {
      "cell_type": "markdown",
      "metadata": {
        "id": "kJhhicIsjs-J"
      },
      "source": [
        "##### (2) Adam: Blanco"
      ],
      "id": "kJhhicIsjs-J"
    },
    {
      "cell_type": "code",
      "execution_count": null,
      "metadata": {
        "colab": {
          "base_uri": "https://localhost:8080/"
        },
        "id": "n_sGMqFFjs-J",
        "outputId": "b062e5ff-c98b-4c9e-d102-d534e9e4e84d"
      },
      "outputs": [
        {
          "name": "stdout",
          "output_type": "stream",
          "text": [
            "Model: \"sequential_5\"\n",
            "_________________________________________________________________\n",
            " Layer (type)                Output Shape              Param #   \n",
            "=================================================================\n",
            " mobilenetv2_1.00_48 (Functi  (None, 2, 2, 1280)       2257408   \n",
            " onal)                                                           \n",
            "                                                                 \n",
            " flatten_5 (Flatten)         (None, 5120)              0         \n",
            "                                                                 \n",
            " dense_15 (Dense)            (None, 4096)              20975616  \n",
            "                                                                 \n",
            " batch_normalization_10 (Bat  (None, 4096)             16384     \n",
            " chNormalization)                                                \n",
            "                                                                 \n",
            " activation_10 (Activation)  (None, 4096)              0         \n",
            "                                                                 \n",
            " dense_16 (Dense)            (None, 4096)              16781312  \n",
            "                                                                 \n",
            " batch_normalization_11 (Bat  (None, 4096)             16384     \n",
            " chNormalization)                                                \n",
            "                                                                 \n",
            " activation_11 (Activation)  (None, 4096)              0         \n",
            "                                                                 \n",
            " dense_17 (Dense)            (None, 7)                 28679     \n",
            "                                                                 \n",
            "=================================================================\n",
            "Total params: 40,075,783\n",
            "Trainable params: 40,025,287\n",
            "Non-trainable params: 50,496\n",
            "_________________________________________________________________\n"
          ]
        }
      ],
      "source": [
        "MobileNet_Modell_2 = Sequential()\n",
        "MobileNet_Modell_2.add(MobileNet_ohne_MLP)\n",
        "MobileNet_Modell_2.add(Flatten())\n",
        "\n",
        "MobileNet_Modell_2.add(Dense(4096))\n",
        "MobileNet_Modell_2.add(BatchNormalization())\n",
        "MobileNet_Modell_2.add(Activation('relu'))\n",
        "\n",
        "MobileNet_Modell_2.add(Dense(4096))\n",
        "MobileNet_Modell_2.add(BatchNormalization())\n",
        "MobileNet_Modell_2.add(Activation('relu'))\n",
        "\n",
        "MobileNet_Modell_2.add(Dense(7, activation='softmax'))\n",
        "\n",
        "MobileNet_Modell_2.summary()"
      ],
      "id": "n_sGMqFFjs-J"
    },
    {
      "cell_type": "code",
      "execution_count": null,
      "metadata": {
        "id": "FwVe_0tJjs-K"
      },
      "outputs": [],
      "source": [
        "MobileNet_Modell_2.compile(optimizer=Adam(learning_rate=learning_rate),\n",
        "                     loss='categorical_crossentropy', metrics=['accuracy'])"
      ],
      "id": "FwVe_0tJjs-K"
    },
    {
      "cell_type": "code",
      "execution_count": null,
      "metadata": {
        "id": "ZYcokxhXjs-K"
      },
      "outputs": [],
      "source": [
        "checkpointer_MobileNet_2 = [\n",
        "                      ModelCheckpoint('MobileNet_2_Adam_32,0.01.h5', monitor=\"val_accuracy\", verbose=1, save_best_only=True,mode=\"max\"),\n",
        "                      CSVLogger('MobileNet_2_Adam_32,0.01.log')\n",
        "                      ]"
      ],
      "id": "ZYcokxhXjs-K"
    },
    {
      "cell_type": "code",
      "execution_count": null,
      "metadata": {
        "id": "LrrKYtC0js-K"
      },
      "outputs": [],
      "source": [
        "%%time\n",
        "history_MobileNet_2 = MobileNet_Modell_2.fit(\n",
        "    X_train_48x48,\n",
        "    y_train_cat,\n",
        "    batch_size=batch_size,\n",
        "    epochs=epochs,\n",
        "    callbacks=checkpointer_MobileNet_2,\n",
        "    validation_data=(X_val_48x48, y_val_cat)\n",
        ")"
      ],
      "id": "LrrKYtC0js-K"
    },
    {
      "cell_type": "markdown",
      "metadata": {
        "id": "DoveqL-Wjs-K"
      },
      "source": [
        "##### (3) SGD: Dropout"
      ],
      "id": "DoveqL-Wjs-K"
    },
    {
      "cell_type": "code",
      "execution_count": null,
      "metadata": {
        "colab": {
          "base_uri": "https://localhost:8080/"
        },
        "id": "pxz4RR3xjs-K",
        "outputId": "51ca1b92-a00d-4ca5-b225-4a600874fcd0"
      },
      "outputs": [
        {
          "name": "stdout",
          "output_type": "stream",
          "text": [
            "Model: \"sequential_10\"\n",
            "_________________________________________________________________\n",
            " Layer (type)                Output Shape              Param #   \n",
            "=================================================================\n",
            " mobilenetv2_1.00_48 (Functi  (None, 2, 2, 1280)       2257408   \n",
            " onal)                                                           \n",
            "                                                                 \n",
            " flatten_10 (Flatten)        (None, 5120)              0         \n",
            "                                                                 \n",
            " dense_30 (Dense)            (None, 4096)              20975616  \n",
            "                                                                 \n",
            " batch_normalization_20 (Bat  (None, 4096)             16384     \n",
            " chNormalization)                                                \n",
            "                                                                 \n",
            " activation_20 (Activation)  (None, 4096)              0         \n",
            "                                                                 \n",
            " dropout_10 (Dropout)        (None, 4096)              0         \n",
            "                                                                 \n",
            " dense_31 (Dense)            (None, 4096)              16781312  \n",
            "                                                                 \n",
            " batch_normalization_21 (Bat  (None, 4096)             16384     \n",
            " chNormalization)                                                \n",
            "                                                                 \n",
            " activation_21 (Activation)  (None, 4096)              0         \n",
            "                                                                 \n",
            " dropout_11 (Dropout)        (None, 4096)              0         \n",
            "                                                                 \n",
            " dense_32 (Dense)            (None, 7)                 28679     \n",
            "                                                                 \n",
            "=================================================================\n",
            "Total params: 40,075,783\n",
            "Trainable params: 40,025,287\n",
            "Non-trainable params: 50,496\n",
            "_________________________________________________________________\n"
          ]
        }
      ],
      "source": [
        "MobileNet_Modell_3 = Sequential()\n",
        "MobileNet_Modell_3.add(MobileNet_ohne_MLP)\n",
        "MobileNet_Modell_3.add(Flatten())\n",
        "\n",
        "MobileNet_Modell_3.add(Dense(4096))\n",
        "MobileNet_Modell_3.add(BatchNormalization())\n",
        "MobileNet_Modell_3.add(Activation('relu'))\n",
        "MobileNet_Modell_3.add(Dropout(0.75))\n",
        "\n",
        "MobileNet_Modell_3.add(Dense(4096))\n",
        "MobileNet_Modell_3.add(BatchNormalization())\n",
        "MobileNet_Modell_3.add(Activation('relu'))\n",
        "MobileNet_Modell_3.add(Dropout(0.75))\n",
        "\n",
        "MobileNet_Modell_3.add(Dense(7, activation='softmax'))\n",
        "\n",
        "MobileNet_Modell_3.summary()"
      ],
      "id": "pxz4RR3xjs-K"
    },
    {
      "cell_type": "code",
      "execution_count": null,
      "metadata": {
        "id": "ttZ3QJS0js-K"
      },
      "outputs": [],
      "source": [
        "MobileNet_Modell_3.compile(optimizer=SGD(learning_rate=learning_rate),\n",
        "                     loss='categorical_crossentropy', metrics=['accuracy'])"
      ],
      "id": "ttZ3QJS0js-K"
    },
    {
      "cell_type": "code",
      "execution_count": null,
      "metadata": {
        "id": "_3i6nrZKjs-K"
      },
      "outputs": [],
      "source": [
        "checkpointer_MobileNet_3 = [\n",
        "                      ModelCheckpoint('MobileNet_3_SGD_32,0.01_DO.h5', monitor=\"val_accuracy\", verbose=1, save_best_only=True,mode=\"max\"),\n",
        "                      CSVLogger('MobileNet_3_SGD_32,0.01_DO.log')\n",
        "                      ]"
      ],
      "id": "_3i6nrZKjs-K"
    },
    {
      "cell_type": "code",
      "execution_count": null,
      "metadata": {
        "id": "4PwxCmTLjs-K"
      },
      "outputs": [],
      "source": [
        "%%time\n",
        "history_MobileNet_3 = MobileNet_Modell_3.fit(\n",
        "    X_train_48x48,\n",
        "    y_train_cat,\n",
        "    batch_size=batch_size,\n",
        "    epochs=epochs,\n",
        "    callbacks=checkpointer_MobileNet_3,\n",
        "    validation_data=(X_val_48x48, y_val_cat)\n",
        ")"
      ],
      "id": "4PwxCmTLjs-K"
    },
    {
      "cell_type": "markdown",
      "metadata": {
        "id": "D-_SSeotjs-L"
      },
      "source": [
        "##### (4) Adam: Dropout"
      ],
      "id": "D-_SSeotjs-L"
    },
    {
      "cell_type": "code",
      "execution_count": null,
      "metadata": {
        "colab": {
          "base_uri": "https://localhost:8080/"
        },
        "id": "IvgkEeVpjs-L",
        "outputId": "3ce10b24-269d-402f-9683-e9c3165c27e1"
      },
      "outputs": [
        {
          "name": "stdout",
          "output_type": "stream",
          "text": [
            "Model: \"sequential_11\"\n",
            "_________________________________________________________________\n",
            " Layer (type)                Output Shape              Param #   \n",
            "=================================================================\n",
            " mobilenetv2_1.00_48 (Functi  (None, 2, 2, 1280)       2257408   \n",
            " onal)                                                           \n",
            "                                                                 \n",
            " flatten_11 (Flatten)        (None, 5120)              0         \n",
            "                                                                 \n",
            " dense_33 (Dense)            (None, 4096)              20975616  \n",
            "                                                                 \n",
            " batch_normalization_22 (Bat  (None, 4096)             16384     \n",
            " chNormalization)                                                \n",
            "                                                                 \n",
            " activation_22 (Activation)  (None, 4096)              0         \n",
            "                                                                 \n",
            " dropout_12 (Dropout)        (None, 4096)              0         \n",
            "                                                                 \n",
            " dense_34 (Dense)            (None, 4096)              16781312  \n",
            "                                                                 \n",
            " batch_normalization_23 (Bat  (None, 4096)             16384     \n",
            " chNormalization)                                                \n",
            "                                                                 \n",
            " activation_23 (Activation)  (None, 4096)              0         \n",
            "                                                                 \n",
            " dropout_13 (Dropout)        (None, 4096)              0         \n",
            "                                                                 \n",
            " dense_35 (Dense)            (None, 7)                 28679     \n",
            "                                                                 \n",
            "=================================================================\n",
            "Total params: 40,075,783\n",
            "Trainable params: 40,025,287\n",
            "Non-trainable params: 50,496\n",
            "_________________________________________________________________\n"
          ]
        }
      ],
      "source": [
        "MobileNet_Modell_4 = Sequential()\n",
        "MobileNet_Modell_4.add(MobileNet_ohne_MLP)\n",
        "MobileNet_Modell_4.add(Flatten())\n",
        "\n",
        "MobileNet_Modell_4.add(Dense(4096))\n",
        "MobileNet_Modell_4.add(BatchNormalization())\n",
        "MobileNet_Modell_4.add(Activation('relu'))\n",
        "MobileNet_Modell_4.add(Dropout(0.75))\n",
        "\n",
        "MobileNet_Modell_4.add(Dense(4096))\n",
        "MobileNet_Modell_4.add(BatchNormalization())\n",
        "MobileNet_Modell_4.add(Activation('relu'))\n",
        "MobileNet_Modell_4.add(Dropout(0.75))\n",
        "\n",
        "MobileNet_Modell_4.add(Dense(7, activation='softmax'))\n",
        "\n",
        "MobileNet_Modell_4.summary()"
      ],
      "id": "IvgkEeVpjs-L"
    },
    {
      "cell_type": "code",
      "execution_count": null,
      "metadata": {
        "id": "amBBvltCjs-L"
      },
      "outputs": [],
      "source": [
        "MobileNet_Modell_4.compile(optimizer=Adam(learning_rate=learning_rate),\n",
        "                     loss='categorical_crossentropy', metrics=['accuracy'])"
      ],
      "id": "amBBvltCjs-L"
    },
    {
      "cell_type": "code",
      "execution_count": null,
      "metadata": {
        "id": "uLO13Xamjs-L"
      },
      "outputs": [],
      "source": [
        "checkpointer_MobileNet_4 = [\n",
        "                      ModelCheckpoint('MobileNet_4_Adam_32,0.01_DO.h5', monitor=\"val_accuracy\", verbose=1, save_best_only=True,mode=\"max\"),\n",
        "                      CSVLogger('MobileNet_4_Adam_32,0.01_DO.log')\n",
        "                      ]"
      ],
      "id": "uLO13Xamjs-L"
    },
    {
      "cell_type": "code",
      "execution_count": null,
      "metadata": {
        "id": "O3z8mXq9js-L"
      },
      "outputs": [],
      "source": [
        "%%time\n",
        "history_MobileNet_ = MobileNet_Modell_4.fit(\n",
        "    X_train_48x48,\n",
        "    y_train_cat,\n",
        "    batch_size=batch_size,\n",
        "    epochs=epochs,\n",
        "    callbacks=checkpointer_MobileNet_4,\n",
        "    validation_data=(X_val_48x48, y_val_cat)\n",
        ")"
      ],
      "id": "O3z8mXq9js-L"
    },
    {
      "cell_type": "markdown",
      "metadata": {
        "id": "x5t3ksQujs-L"
      },
      "source": [
        "##### (5) SGD: Data Augmentation"
      ],
      "id": "x5t3ksQujs-L"
    },
    {
      "cell_type": "code",
      "execution_count": null,
      "metadata": {
        "colab": {
          "base_uri": "https://localhost:8080/"
        },
        "id": "lakuZ0VRjs-L",
        "outputId": "56d7eab5-896f-44b7-fd17-db364b84507e"
      },
      "outputs": [
        {
          "name": "stdout",
          "output_type": "stream",
          "text": [
            "Model: \"sequential_1\"\n",
            "_________________________________________________________________\n",
            " Layer (type)                Output Shape              Param #   \n",
            "=================================================================\n",
            " mobilenetv2_1.00_48 (Functi  (None, 2, 2, 1280)       2257408   \n",
            " onal)                                                           \n",
            "                                                                 \n",
            " flatten_1 (Flatten)         (None, 5120)              0         \n",
            "                                                                 \n",
            " dense_3 (Dense)             (None, 4096)              20975616  \n",
            "                                                                 \n",
            " batch_normalization_2 (Batc  (None, 4096)             16384     \n",
            " hNormalization)                                                 \n",
            "                                                                 \n",
            " activation_2 (Activation)   (None, 4096)              0         \n",
            "                                                                 \n",
            " dense_4 (Dense)             (None, 4096)              16781312  \n",
            "                                                                 \n",
            " batch_normalization_3 (Batc  (None, 4096)             16384     \n",
            " hNormalization)                                                 \n",
            "                                                                 \n",
            " activation_3 (Activation)   (None, 4096)              0         \n",
            "                                                                 \n",
            " dense_5 (Dense)             (None, 7)                 28679     \n",
            "                                                                 \n",
            "=================================================================\n",
            "Total params: 40,075,783\n",
            "Trainable params: 40,025,287\n",
            "Non-trainable params: 50,496\n",
            "_________________________________________________________________\n"
          ]
        }
      ],
      "source": [
        "MobileNet_Modell_5 = Sequential()\n",
        "MobileNet_Modell_5.add(MobileNet_ohne_MLP)\n",
        "MobileNet_Modell_5.add(Flatten())\n",
        "\n",
        "MobileNet_Modell_5.add(Dense(4096))\n",
        "MobileNet_Modell_5.add(BatchNormalization())\n",
        "MobileNet_Modell_5.add(Activation('relu'))\n",
        "\n",
        "MobileNet_Modell_5.add(Dense(4096))\n",
        "MobileNet_Modell_5.add(BatchNormalization())\n",
        "MobileNet_Modell_5.add(Activation('relu'))\n",
        "\n",
        "MobileNet_Modell_5.add(Dense(7, activation='softmax'))\n",
        "\n",
        "MobileNet_Modell_5.summary()"
      ],
      "id": "lakuZ0VRjs-L"
    },
    {
      "cell_type": "code",
      "execution_count": null,
      "metadata": {
        "id": "WANDhTjdjs-M"
      },
      "outputs": [],
      "source": [
        "MobileNet_Modell_5.compile(optimizer=SGD(learning_rate=learning_rate),\n",
        "                     loss='categorical_crossentropy', metrics=['accuracy'])"
      ],
      "id": "WANDhTjdjs-M"
    },
    {
      "cell_type": "code",
      "execution_count": null,
      "metadata": {
        "id": "uIXBXmqejs-M"
      },
      "outputs": [],
      "source": [
        "checkpointer_MobileNet_5 = [\n",
        "                      ModelCheckpoint('MobileNet_5_SGD_32,0.01_DA.h5', monitor=\"val_accuracy\", verbose=1, save_best_only=True,mode=\"max\"),\n",
        "                      CSVLogger('MobileNet_5_SGD_32,0.01_DA.log')\n",
        "                      ]"
      ],
      "id": "uIXBXmqejs-M"
    },
    {
      "cell_type": "code",
      "execution_count": null,
      "metadata": {
        "id": "q8lDi2Ssjs-M"
      },
      "outputs": [],
      "source": [
        "%%time\n",
        "history_MobileNet_5 = MobileNet_Modell_5.fit_generator(\n",
        "    train_generator,\n",
        "    validation_data=(X_val_48x48, y_val_cat),\n",
        "    epochs=epochs,\n",
        "    callbacks=checkpointer_MobileNet_5)"
      ],
      "id": "q8lDi2Ssjs-M"
    },
    {
      "cell_type": "markdown",
      "metadata": {
        "id": "-sNOc-UQjs-M"
      },
      "source": [
        "##### (6) Adam: Data Augmentation"
      ],
      "id": "-sNOc-UQjs-M"
    },
    {
      "cell_type": "code",
      "execution_count": null,
      "metadata": {
        "colab": {
          "base_uri": "https://localhost:8080/"
        },
        "id": "jgFGWazjjs-M",
        "outputId": "7a86b556-b0b4-4b00-9661-fd973eb36d79"
      },
      "outputs": [
        {
          "name": "stdout",
          "output_type": "stream",
          "text": [
            "Model: \"sequential_2\"\n",
            "_________________________________________________________________\n",
            " Layer (type)                Output Shape              Param #   \n",
            "=================================================================\n",
            " mobilenetv2_1.00_48 (Functi  (None, 2, 2, 1280)       2257408   \n",
            " onal)                                                           \n",
            "                                                                 \n",
            " flatten_2 (Flatten)         (None, 5120)              0         \n",
            "                                                                 \n",
            " dense_6 (Dense)             (None, 4096)              20975616  \n",
            "                                                                 \n",
            " batch_normalization_4 (Batc  (None, 4096)             16384     \n",
            " hNormalization)                                                 \n",
            "                                                                 \n",
            " activation_4 (Activation)   (None, 4096)              0         \n",
            "                                                                 \n",
            " dense_7 (Dense)             (None, 4096)              16781312  \n",
            "                                                                 \n",
            " batch_normalization_5 (Batc  (None, 4096)             16384     \n",
            " hNormalization)                                                 \n",
            "                                                                 \n",
            " activation_5 (Activation)   (None, 4096)              0         \n",
            "                                                                 \n",
            " dense_8 (Dense)             (None, 7)                 28679     \n",
            "                                                                 \n",
            "=================================================================\n",
            "Total params: 40,075,783\n",
            "Trainable params: 40,025,287\n",
            "Non-trainable params: 50,496\n",
            "_________________________________________________________________\n"
          ]
        }
      ],
      "source": [
        "MobileNet_Modell_6 = Sequential()\n",
        "MobileNet_Modell_6.add(MobileNet_ohne_MLP)\n",
        "MobileNet_Modell_6.add(Flatten())\n",
        "\n",
        "MobileNet_Modell_6.add(Dense(4096))\n",
        "MobileNet_Modell_6.add(BatchNormalization())\n",
        "MobileNet_Modell_6.add(Activation('relu'))\n",
        "\n",
        "MobileNet_Modell_6.add(Dense(4096))\n",
        "MobileNet_Modell_6.add(BatchNormalization())\n",
        "MobileNet_Modell_6.add(Activation('relu'))\n",
        "\n",
        "MobileNet_Modell_6.add(Dense(7, activation='softmax'))\n",
        "\n",
        "MobileNet_Modell_6.summary()"
      ],
      "id": "jgFGWazjjs-M"
    },
    {
      "cell_type": "code",
      "execution_count": null,
      "metadata": {
        "id": "03s_kDGzjs-M"
      },
      "outputs": [],
      "source": [
        "MobileNet_Modell_6.compile(optimizer=Adam(learning_rate=learning_rate),\n",
        "                     loss='categorical_crossentropy', metrics=['accuracy'])"
      ],
      "id": "03s_kDGzjs-M"
    },
    {
      "cell_type": "code",
      "execution_count": null,
      "metadata": {
        "id": "rLQvXKASjs-M"
      },
      "outputs": [],
      "source": [
        "checkpointer_MobileNet_6 = [\n",
        "                      ModelCheckpoint('MobileNet_6_Adam_32,0.01_DA.h5', monitor=\"val_accuracy\", verbose=1, save_best_only=True,mode=\"max\"),\n",
        "                      CSVLogger('MobileNet_6_Adam_32,0.01_DA.log')\n",
        "                      ]"
      ],
      "id": "rLQvXKASjs-M"
    },
    {
      "cell_type": "code",
      "execution_count": null,
      "metadata": {
        "id": "gC5MwNLMjs-M"
      },
      "outputs": [],
      "source": [
        "%%time\n",
        "history_MobileNet_6 = MobileNet_Modell_6.fit_generator(\n",
        "    train_generator,\n",
        "    validation_data=(X_val_48x48, y_val_cat),\n",
        "    epochs=epochs,\n",
        "    callbacks=checkpointer_MobileNet_6) "
      ],
      "id": "gC5MwNLMjs-M"
    },
    {
      "cell_type": "markdown",
      "metadata": {
        "id": "CtUXtEnxjs-N"
      },
      "source": [
        "##### (7) SGD: Dropout + Data Augmentation"
      ],
      "id": "CtUXtEnxjs-N"
    },
    {
      "cell_type": "code",
      "execution_count": null,
      "metadata": {
        "colab": {
          "base_uri": "https://localhost:8080/"
        },
        "id": "2PPUZ3e2js-N",
        "outputId": "a39f23b3-7949-4a30-8150-e453dbaa4d57"
      },
      "outputs": [
        {
          "name": "stdout",
          "output_type": "stream",
          "text": [
            "Model: \"sequential_2\"\n",
            "_________________________________________________________________\n",
            " Layer (type)                Output Shape              Param #   \n",
            "=================================================================\n",
            " mobilenetv2_1.00_48 (Functi  (None, 2, 2, 1280)       2257408   \n",
            " onal)                                                           \n",
            "                                                                 \n",
            " flatten_2 (Flatten)         (None, 5120)              0         \n",
            "                                                                 \n",
            " dense_6 (Dense)             (None, 4096)              20975616  \n",
            "                                                                 \n",
            " batch_normalization_4 (Batc  (None, 4096)             16384     \n",
            " hNormalization)                                                 \n",
            "                                                                 \n",
            " activation_4 (Activation)   (None, 4096)              0         \n",
            "                                                                 \n",
            " dropout_4 (Dropout)         (None, 4096)              0         \n",
            "                                                                 \n",
            " dense_7 (Dense)             (None, 4096)              16781312  \n",
            "                                                                 \n",
            " batch_normalization_5 (Batc  (None, 4096)             16384     \n",
            " hNormalization)                                                 \n",
            "                                                                 \n",
            " activation_5 (Activation)   (None, 4096)              0         \n",
            "                                                                 \n",
            " dropout_5 (Dropout)         (None, 4096)              0         \n",
            "                                                                 \n",
            " dense_8 (Dense)             (None, 7)                 28679     \n",
            "                                                                 \n",
            "=================================================================\n",
            "Total params: 40,075,783\n",
            "Trainable params: 40,025,287\n",
            "Non-trainable params: 50,496\n",
            "_________________________________________________________________\n"
          ]
        }
      ],
      "source": [
        "MobileNet_Modell_7 = Sequential()\n",
        "MobileNet_Modell_7.add(MobileNet_ohne_MLP)\n",
        "MobileNet_Modell_7.add(Flatten())\n",
        "\n",
        "MobileNet_Modell_7.add(Dense(4096))\n",
        "MobileNet_Modell_7.add(BatchNormalization())\n",
        "MobileNet_Modell_7.add(Activation('relu'))\n",
        "MobileNet_Modell_7.add(Dropout(0.75))\n",
        "\n",
        "MobileNet_Modell_7.add(Dense(4096))\n",
        "MobileNet_Modell_7.add(BatchNormalization())\n",
        "MobileNet_Modell_7.add(Activation('relu'))\n",
        "MobileNet_Modell_7.add(Dropout(0.75))\n",
        "\n",
        "MobileNet_Modell_7.add(Dense(7, activation='softmax'))\n",
        "\n",
        "MobileNet_Modell_7.summary()"
      ],
      "id": "2PPUZ3e2js-N"
    },
    {
      "cell_type": "code",
      "execution_count": null,
      "metadata": {
        "id": "ENZzGF54js-N"
      },
      "outputs": [],
      "source": [
        "MobileNet_Modell_7.compile(optimizer=SGD(learning_rate=learning_rate),\n",
        "                     loss='categorical_crossentropy', metrics=['accuracy'])"
      ],
      "id": "ENZzGF54js-N"
    },
    {
      "cell_type": "code",
      "execution_count": null,
      "metadata": {
        "id": "LaGkmas1js-N"
      },
      "outputs": [],
      "source": [
        "checkpointer_MobileNet_7 = [\n",
        "                      ModelCheckpoint('MobileNet_7_SGD_32,0.01_DO+DA.h5', monitor=\"val_accuracy\", verbose=1, save_best_only=True,mode=\"max\"),\n",
        "                      CSVLogger('MobileNet_7_SGD_32,0.01_DO+DA.log')\n",
        "                      ]"
      ],
      "id": "LaGkmas1js-N"
    },
    {
      "cell_type": "code",
      "execution_count": null,
      "metadata": {
        "id": "G21St-90js-N"
      },
      "outputs": [],
      "source": [
        "%%time\n",
        "history_MobileNet_7 = MobileNet_Modell_7.fit_generator(\n",
        "    train_generator,\n",
        "    validation_data=(X_val_48x48, y_val_cat),\n",
        "    epochs=epochs,\n",
        "    callbacks=checkpointer_MobileNet_7)"
      ],
      "id": "G21St-90js-N"
    },
    {
      "cell_type": "markdown",
      "metadata": {
        "id": "g2-zgLBhjs-N"
      },
      "source": [
        "##### (8) Adam: Dropout + Data Augmentation"
      ],
      "id": "g2-zgLBhjs-N"
    },
    {
      "cell_type": "code",
      "execution_count": null,
      "metadata": {
        "colab": {
          "base_uri": "https://localhost:8080/"
        },
        "id": "MadEcZM_js-N",
        "outputId": "b6ed2055-7e6f-4f27-80a6-eb105d538fe9"
      },
      "outputs": [
        {
          "name": "stdout",
          "output_type": "stream",
          "text": [
            "Model: \"sequential_3\"\n",
            "_________________________________________________________________\n",
            " Layer (type)                Output Shape              Param #   \n",
            "=================================================================\n",
            " mobilenetv2_1.00_48 (Functi  (None, 2, 2, 1280)       2257408   \n",
            " onal)                                                           \n",
            "                                                                 \n",
            " flatten_3 (Flatten)         (None, 5120)              0         \n",
            "                                                                 \n",
            " dense_9 (Dense)             (None, 4096)              20975616  \n",
            "                                                                 \n",
            " batch_normalization_6 (Batc  (None, 4096)             16384     \n",
            " hNormalization)                                                 \n",
            "                                                                 \n",
            " activation_6 (Activation)   (None, 4096)              0         \n",
            "                                                                 \n",
            " dropout_6 (Dropout)         (None, 4096)              0         \n",
            "                                                                 \n",
            " dense_10 (Dense)            (None, 4096)              16781312  \n",
            "                                                                 \n",
            " batch_normalization_7 (Batc  (None, 4096)             16384     \n",
            " hNormalization)                                                 \n",
            "                                                                 \n",
            " activation_7 (Activation)   (None, 4096)              0         \n",
            "                                                                 \n",
            " dropout_7 (Dropout)         (None, 4096)              0         \n",
            "                                                                 \n",
            " dense_11 (Dense)            (None, 7)                 28679     \n",
            "                                                                 \n",
            "=================================================================\n",
            "Total params: 40,075,783\n",
            "Trainable params: 40,025,287\n",
            "Non-trainable params: 50,496\n",
            "_________________________________________________________________\n"
          ]
        }
      ],
      "source": [
        "MobileNet_Modell_8 = Sequential()\n",
        "MobileNet_Modell_8.add(MobileNet_ohne_MLP)\n",
        "MobileNet_Modell_8.add(Flatten())\n",
        "\n",
        "MobileNet_Modell_8.add(Dense(4096))\n",
        "MobileNet_Modell_8.add(BatchNormalization())\n",
        "MobileNet_Modell_8.add(Activation('relu'))\n",
        "MobileNet_Modell_8.add(Dropout(0.75))\n",
        "\n",
        "MobileNet_Modell_8.add(Dense(4096))\n",
        "MobileNet_Modell_8.add(BatchNormalization())\n",
        "MobileNet_Modell_8.add(Activation('relu'))\n",
        "MobileNet_Modell_8.add(Dropout(0.75))\n",
        "\n",
        "MobileNet_Modell_8.add(Dense(7, activation='softmax'))\n",
        "\n",
        "MobileNet_Modell_8.summary()"
      ],
      "id": "MadEcZM_js-N"
    },
    {
      "cell_type": "code",
      "execution_count": null,
      "metadata": {
        "id": "alF1iZ6ojs-N"
      },
      "outputs": [],
      "source": [
        "MobileNet_Modell_8.compile(optimizer=Adam(learning_rate=learning_rate),\n",
        "                     loss='categorical_crossentropy', metrics=['accuracy'])"
      ],
      "id": "alF1iZ6ojs-N"
    },
    {
      "cell_type": "code",
      "execution_count": null,
      "metadata": {
        "id": "1Aq8dTlMjs-O"
      },
      "outputs": [],
      "source": [
        "checkpointer_MobileNet_8 = [\n",
        "                      ModelCheckpoint('MobileNet_8_Adam_32,0.01_DO+DA.h5', monitor=\"val_accuracy\", verbose=1, save_best_only=True,mode=\"max\"),\n",
        "                      CSVLogger('MobileNet_8_Adam_32,0.01_DO+DA.log')\n",
        "                      ]"
      ],
      "id": "1Aq8dTlMjs-O"
    },
    {
      "cell_type": "code",
      "execution_count": null,
      "metadata": {
        "id": "qddY-kgCjs-O"
      },
      "outputs": [],
      "source": [
        "%%time\n",
        "history_MobileNet_8 = MobileNet_Modell_8.fit_generator(\n",
        "    train_generator,\n",
        "    validation_data=(X_val_48x48, y_val_cat),\n",
        "    epochs=epochs,\n",
        "    callbacks=checkpointer_MobileNet_8)"
      ],
      "id": "qddY-kgCjs-O"
    },
    {
      "cell_type": "markdown",
      "metadata": {
        "id": "nOjzahA8js-O"
      },
      "source": [
        "#### Vortrainiertes MobileNet"
      ],
      "id": "nOjzahA8js-O"
    },
    {
      "cell_type": "markdown",
      "metadata": {
        "id": "zUzlRdHVjs-O"
      },
      "source": [
        "##### (9) SGD: Blanco"
      ],
      "id": "zUzlRdHVjs-O"
    },
    {
      "cell_type": "code",
      "source": [
        "MobileNet_vortrainiert.trainable = False"
      ],
      "metadata": {
        "id": "kzA158hVdL6a"
      },
      "id": "kzA158hVdL6a",
      "execution_count": null,
      "outputs": []
    },
    {
      "cell_type": "code",
      "execution_count": null,
      "metadata": {
        "colab": {
          "base_uri": "https://localhost:8080/"
        },
        "id": "w3cW9pmijs-O",
        "outputId": "2e3c1e92-312d-4156-d8c9-da7310493270"
      },
      "outputs": [
        {
          "name": "stdout",
          "output_type": "stream",
          "text": [
            "Model: \"sequential_4\"\n",
            "_________________________________________________________________\n",
            " Layer (type)                Output Shape              Param #   \n",
            "=================================================================\n",
            " mobilenetv2_1.00_224 (Funct  (None, 2, 2, 1280)       2257984   \n",
            " ional)                                                          \n",
            "                                                                 \n",
            " flatten_4 (Flatten)         (None, 5120)              0         \n",
            "                                                                 \n",
            " dense_12 (Dense)            (None, 4096)              20975616  \n",
            "                                                                 \n",
            " batch_normalization_8 (Batc  (None, 4096)             16384     \n",
            " hNormalization)                                                 \n",
            "                                                                 \n",
            " activation_8 (Activation)   (None, 4096)              0         \n",
            "                                                                 \n",
            " dense_13 (Dense)            (None, 4096)              16781312  \n",
            "                                                                 \n",
            " batch_normalization_9 (Batc  (None, 4096)             16384     \n",
            " hNormalization)                                                 \n",
            "                                                                 \n",
            " activation_9 (Activation)   (None, 4096)              0         \n",
            "                                                                 \n",
            " dense_14 (Dense)            (None, 7)                 28679     \n",
            "                                                                 \n",
            "=================================================================\n",
            "Total params: 40,076,359\n",
            "Trainable params: 37,801,991\n",
            "Non-trainable params: 2,274,368\n",
            "_________________________________________________________________\n"
          ]
        }
      ],
      "source": [
        "MobileNet_Modell_9 = Sequential()\n",
        "MobileNet_Modell_9.add(MobileNet_vortrainiert)\n",
        "MobileNet_Modell_9.add(Flatten())\n",
        "\n",
        "MobileNet_Modell_9.add(Dense(4096))\n",
        "MobileNet_Modell_9.add(BatchNormalization())\n",
        "MobileNet_Modell_9.add(Activation('relu'))\n",
        "\n",
        "MobileNet_Modell_9.add(Dense(4096))\n",
        "MobileNet_Modell_9.add(BatchNormalization())\n",
        "MobileNet_Modell_9.add(Activation('relu'))\n",
        "\n",
        "MobileNet_Modell_9.add(Dense(7, activation='softmax'))\n",
        "\n",
        "MobileNet_Modell_9.summary()"
      ],
      "id": "w3cW9pmijs-O"
    },
    {
      "cell_type": "code",
      "execution_count": null,
      "metadata": {
        "id": "zLibI9QMjs-O"
      },
      "outputs": [],
      "source": [
        "MobileNet_Modell_9.compile(optimizer=SGD(learning_rate=learning_rate),\n",
        "                     loss='categorical_crossentropy', metrics=['accuracy'])"
      ],
      "id": "zLibI9QMjs-O"
    },
    {
      "cell_type": "code",
      "execution_count": null,
      "metadata": {
        "id": "TatVcrR8js-O"
      },
      "outputs": [],
      "source": [
        "checkpointer_MobileNet_9 = [\n",
        "                      ModelCheckpoint('MobileNet_9_SGD_32,0.01_TL.h5', monitor=\"val_accuracy\", verbose=1, save_best_only=True,mode=\"max\"),\n",
        "                      CSVLogger('MobileNet_9_SGD_32,0.01_TL.log')\n",
        "                      ]"
      ],
      "id": "TatVcrR8js-O"
    },
    {
      "cell_type": "code",
      "execution_count": null,
      "metadata": {
        "id": "2P2SYeHtjs-O"
      },
      "outputs": [],
      "source": [
        "%%time\n",
        "history_MobileNet_9 = MobileNet_Modell_9.fit(\n",
        "    X_train_rgb,\n",
        "    y_train_cat,\n",
        "    batch_size=batch_size,\n",
        "    epochs=epochs,\n",
        "    callbacks=checkpointer_MobileNet_9,\n",
        "    validation_data=(X_val_rgb, y_val_cat)\n",
        ")\n",
        "\n",
        "MobileNet_Modell_9.save_weights('MobileNet_Weights_9_SGD_32,0.01_TL.h5')"
      ],
      "id": "2P2SYeHtjs-O"
    },
    {
      "cell_type": "markdown",
      "metadata": {
        "id": "DyxG_DIujs-P"
      },
      "source": [
        "##### (10) Adam: Blanco"
      ],
      "id": "DyxG_DIujs-P"
    },
    {
      "cell_type": "code",
      "execution_count": null,
      "metadata": {
        "id": "haG7OJU8js-P"
      },
      "outputs": [],
      "source": [
        "MobileNet_vortrainiert.trainable=False"
      ],
      "id": "haG7OJU8js-P"
    },
    {
      "cell_type": "code",
      "execution_count": null,
      "metadata": {
        "colab": {
          "base_uri": "https://localhost:8080/"
        },
        "id": "Fh27fiaqjs-P",
        "outputId": "e467bafc-0ffe-41c2-bf7c-09c0751b5e34"
      },
      "outputs": [
        {
          "name": "stdout",
          "output_type": "stream",
          "text": [
            "Model: \"sequential_5\"\n",
            "_________________________________________________________________\n",
            " Layer (type)                Output Shape              Param #   \n",
            "=================================================================\n",
            " mobilenetv2_1.00_224 (Funct  (None, 2, 2, 1280)       2257984   \n",
            " ional)                                                          \n",
            "                                                                 \n",
            " flatten_5 (Flatten)         (None, 5120)              0         \n",
            "                                                                 \n",
            " dense_15 (Dense)            (None, 4096)              20975616  \n",
            "                                                                 \n",
            " batch_normalization_10 (Bat  (None, 4096)             16384     \n",
            " chNormalization)                                                \n",
            "                                                                 \n",
            " activation_10 (Activation)  (None, 4096)              0         \n",
            "                                                                 \n",
            " dense_16 (Dense)            (None, 4096)              16781312  \n",
            "                                                                 \n",
            " batch_normalization_11 (Bat  (None, 4096)             16384     \n",
            " chNormalization)                                                \n",
            "                                                                 \n",
            " activation_11 (Activation)  (None, 4096)              0         \n",
            "                                                                 \n",
            " dense_17 (Dense)            (None, 7)                 28679     \n",
            "                                                                 \n",
            "=================================================================\n",
            "Total params: 40,076,359\n",
            "Trainable params: 37,801,991\n",
            "Non-trainable params: 2,274,368\n",
            "_________________________________________________________________\n"
          ]
        }
      ],
      "source": [
        "MobileNet_Modell_10 = Sequential()\n",
        "MobileNet_Modell_10.add(MobileNet_vortrainiert)\n",
        "MobileNet_Modell_10.add(Flatten())\n",
        "\n",
        "MobileNet_Modell_10.add(Dense(4096))\n",
        "MobileNet_Modell_10.add(BatchNormalization())\n",
        "MobileNet_Modell_10.add(Activation('relu'))\n",
        "\n",
        "MobileNet_Modell_10.add(Dense(4096))\n",
        "MobileNet_Modell_10.add(BatchNormalization())\n",
        "MobileNet_Modell_10.add(Activation('relu'))\n",
        "\n",
        "MobileNet_Modell_10.add(Dense(7, activation='softmax'))\n",
        "\n",
        "MobileNet_Modell_10.summary()"
      ],
      "id": "Fh27fiaqjs-P"
    },
    {
      "cell_type": "code",
      "execution_count": null,
      "metadata": {
        "id": "eLo3BShLjs-P"
      },
      "outputs": [],
      "source": [
        "MobileNet_Modell_10.compile(optimizer=Adam(learning_rate=learning_rate),\n",
        "                     loss='categorical_crossentropy', metrics=['accuracy'])"
      ],
      "id": "eLo3BShLjs-P"
    },
    {
      "cell_type": "code",
      "execution_count": null,
      "metadata": {
        "id": "WBXIFiwqjs-P"
      },
      "outputs": [],
      "source": [
        "checkpointer_MobileNet_10 = [\n",
        "                      ModelCheckpoint('MobileNet_10_Adam_32,0.01_TL.h5', monitor=\"val_accuracy\", verbose=1, save_best_only=True,mode=\"max\"),\n",
        "                      CSVLogger('MobileNet_10_Adam_32,0.01_TL.log')\n",
        "                      ]"
      ],
      "id": "WBXIFiwqjs-P"
    },
    {
      "cell_type": "code",
      "execution_count": null,
      "metadata": {
        "id": "DRh1TSz1js-P"
      },
      "outputs": [],
      "source": [
        "%%time\n",
        "history_MobileNet_10 = MobileNet_Modell_10.fit(\n",
        "    X_train_rgb,\n",
        "    y_train_cat,\n",
        "    batch_size=batch_size,\n",
        "    epochs=epochs,\n",
        "    callbacks=checkpointer_MobileNet_10,\n",
        "    validation_data=(X_val_rgb, y_val_cat)\n",
        ")\n",
        "\n",
        "MobileNet_Modell_10.save_weights('MobileNet_Weights_10_Adam_32,0.01_TL.h5')"
      ],
      "id": "DRh1TSz1js-P"
    },
    {
      "cell_type": "markdown",
      "metadata": {
        "id": "izKpPthXjs-P"
      },
      "source": [
        "##### (11) SGD: Dropout"
      ],
      "id": "izKpPthXjs-P"
    },
    {
      "cell_type": "code",
      "execution_count": null,
      "metadata": {
        "id": "lbOzr9Zzjs-P"
      },
      "outputs": [],
      "source": [
        "MobileNet_vortrainiert.trainable=False"
      ],
      "id": "lbOzr9Zzjs-P"
    },
    {
      "cell_type": "code",
      "execution_count": null,
      "metadata": {
        "colab": {
          "base_uri": "https://localhost:8080/"
        },
        "id": "6KD6cvrJjs-P",
        "outputId": "02d0e741-66ac-4a7e-86d1-78a989e127b6"
      },
      "outputs": [
        {
          "name": "stdout",
          "output_type": "stream",
          "text": [
            "Model: \"sequential_6\"\n",
            "_________________________________________________________________\n",
            " Layer (type)                Output Shape              Param #   \n",
            "=================================================================\n",
            " mobilenetv2_1.00_224 (Funct  (None, 2, 2, 1280)       2257984   \n",
            " ional)                                                          \n",
            "                                                                 \n",
            " flatten_6 (Flatten)         (None, 5120)              0         \n",
            "                                                                 \n",
            " dense_18 (Dense)            (None, 4096)              20975616  \n",
            "                                                                 \n",
            " batch_normalization_12 (Bat  (None, 4096)             16384     \n",
            " chNormalization)                                                \n",
            "                                                                 \n",
            " activation_12 (Activation)  (None, 4096)              0         \n",
            "                                                                 \n",
            " dropout_8 (Dropout)         (None, 4096)              0         \n",
            "                                                                 \n",
            " dense_19 (Dense)            (None, 4096)              16781312  \n",
            "                                                                 \n",
            " batch_normalization_13 (Bat  (None, 4096)             16384     \n",
            " chNormalization)                                                \n",
            "                                                                 \n",
            " activation_13 (Activation)  (None, 4096)              0         \n",
            "                                                                 \n",
            " dropout_9 (Dropout)         (None, 4096)              0         \n",
            "                                                                 \n",
            " dense_20 (Dense)            (None, 7)                 28679     \n",
            "                                                                 \n",
            "=================================================================\n",
            "Total params: 40,076,359\n",
            "Trainable params: 37,801,991\n",
            "Non-trainable params: 2,274,368\n",
            "_________________________________________________________________\n"
          ]
        }
      ],
      "source": [
        "MobileNet_Modell_11 = Sequential()\n",
        "MobileNet_Modell_11.add(MobileNet_vortrainiert)\n",
        "MobileNet_Modell_11.add(Flatten())\n",
        "\n",
        "MobileNet_Modell_11.add(Dense(4096))\n",
        "MobileNet_Modell_11.add(BatchNormalization())\n",
        "MobileNet_Modell_11.add(Activation('relu'))\n",
        "MobileNet_Modell_11.add(Dropout(0.75))\n",
        "\n",
        "MobileNet_Modell_11.add(Dense(4096))\n",
        "MobileNet_Modell_11.add(BatchNormalization())\n",
        "MobileNet_Modell_11.add(Activation('relu'))\n",
        "MobileNet_Modell_11.add(Dropout(0.75))\n",
        "\n",
        "MobileNet_Modell_11.add(Dense(7, activation='softmax'))\n",
        "\n",
        "MobileNet_Modell_11.summary()"
      ],
      "id": "6KD6cvrJjs-P"
    },
    {
      "cell_type": "code",
      "execution_count": null,
      "metadata": {
        "id": "IC3HJ4grjs-P"
      },
      "outputs": [],
      "source": [
        "MobileNet_Modell_11.compile(optimizer=SGD(learning_rate=learning_rate),\n",
        "                     loss='categorical_crossentropy', metrics=['accuracy'])"
      ],
      "id": "IC3HJ4grjs-P"
    },
    {
      "cell_type": "code",
      "execution_count": null,
      "metadata": {
        "id": "_QliPSAsjs-Q"
      },
      "outputs": [],
      "source": [
        "checkpointer_MobileNet_11 = [\n",
        "                      ModelCheckpoint('MobileNet_11_SGD_32,0.01_DO_TL.h5', monitor=\"val_accuracy\", verbose=1, save_best_only=True,mode=\"max\"),\n",
        "                      CSVLogger('MobileNet_11_SGD_32,0.01_DO_TL.log')\n",
        "                      ]"
      ],
      "id": "_QliPSAsjs-Q"
    },
    {
      "cell_type": "code",
      "execution_count": null,
      "metadata": {
        "id": "Ng0550SSjs-Q"
      },
      "outputs": [],
      "source": [
        "%%time\n",
        "history_MobileNet_11 = MobileNet_Modell_11.fit(\n",
        "    X_train_rgb,\n",
        "    y_train_cat,\n",
        "    batch_size=batch_size,\n",
        "    epochs=epochs,\n",
        "    callbacks=checkpointer_MobileNet_11,\n",
        "    validation_data=(X_val_rgb, y_val_cat)\n",
        ")\n",
        "\n",
        "MobileNet_Modell_11.save_weights('MobileNet_Weights_11_SGD_32,0.01_DO_TL.h5')"
      ],
      "id": "Ng0550SSjs-Q"
    },
    {
      "cell_type": "markdown",
      "metadata": {
        "id": "1B6ZtsVxjs-Q"
      },
      "source": [
        "##### (12) Adam: Dropout"
      ],
      "id": "1B6ZtsVxjs-Q"
    },
    {
      "cell_type": "code",
      "execution_count": null,
      "metadata": {
        "id": "U50SVy5Ajs-Q"
      },
      "outputs": [],
      "source": [
        "MobileNet_vortrainiert.trainable=False"
      ],
      "id": "U50SVy5Ajs-Q"
    },
    {
      "cell_type": "code",
      "execution_count": null,
      "metadata": {
        "colab": {
          "base_uri": "https://localhost:8080/"
        },
        "id": "ilAbE8e6js-Q",
        "outputId": "ec1fc0b9-a647-40db-c12a-af90c0c942d3"
      },
      "outputs": [
        {
          "name": "stdout",
          "output_type": "stream",
          "text": [
            "Model: \"sequential_7\"\n",
            "_________________________________________________________________\n",
            " Layer (type)                Output Shape              Param #   \n",
            "=================================================================\n",
            " mobilenetv2_1.00_224 (Funct  (None, 2, 2, 1280)       2257984   \n",
            " ional)                                                          \n",
            "                                                                 \n",
            " flatten_7 (Flatten)         (None, 5120)              0         \n",
            "                                                                 \n",
            " dense_21 (Dense)            (None, 4096)              20975616  \n",
            "                                                                 \n",
            " batch_normalization_14 (Bat  (None, 4096)             16384     \n",
            " chNormalization)                                                \n",
            "                                                                 \n",
            " activation_14 (Activation)  (None, 4096)              0         \n",
            "                                                                 \n",
            " dropout_10 (Dropout)        (None, 4096)              0         \n",
            "                                                                 \n",
            " dense_22 (Dense)            (None, 4096)              16781312  \n",
            "                                                                 \n",
            " batch_normalization_15 (Bat  (None, 4096)             16384     \n",
            " chNormalization)                                                \n",
            "                                                                 \n",
            " activation_15 (Activation)  (None, 4096)              0         \n",
            "                                                                 \n",
            " dropout_11 (Dropout)        (None, 4096)              0         \n",
            "                                                                 \n",
            " dense_23 (Dense)            (None, 7)                 28679     \n",
            "                                                                 \n",
            "=================================================================\n",
            "Total params: 40,076,359\n",
            "Trainable params: 37,801,991\n",
            "Non-trainable params: 2,274,368\n",
            "_________________________________________________________________\n"
          ]
        }
      ],
      "source": [
        "MobileNet_Modell_12 = Sequential()\n",
        "MobileNet_Modell_12.add(MobileNet_vortrainiert)\n",
        "MobileNet_Modell_12.add(Flatten())\n",
        "\n",
        "MobileNet_Modell_12.add(Dense(4096))\n",
        "MobileNet_Modell_12.add(BatchNormalization())\n",
        "MobileNet_Modell_12.add(Activation('relu'))\n",
        "MobileNet_Modell_12.add(Dropout(0.75))\n",
        "\n",
        "MobileNet_Modell_12.add(Dense(4096))\n",
        "MobileNet_Modell_12.add(BatchNormalization())\n",
        "MobileNet_Modell_12.add(Activation('relu'))\n",
        "MobileNet_Modell_12.add(Dropout(0.75))\n",
        "\n",
        "MobileNet_Modell_12.add(Dense(7, activation='softmax'))\n",
        "\n",
        "MobileNet_Modell_12.summary()"
      ],
      "id": "ilAbE8e6js-Q"
    },
    {
      "cell_type": "code",
      "execution_count": null,
      "metadata": {
        "id": "eFk9KHfTjs-Q"
      },
      "outputs": [],
      "source": [
        "MobileNet_Modell_12.compile(optimizer=Adam(learning_rate=learning_rate),\n",
        "                     loss='categorical_crossentropy', metrics=['accuracy'])"
      ],
      "id": "eFk9KHfTjs-Q"
    },
    {
      "cell_type": "code",
      "execution_count": null,
      "metadata": {
        "id": "ICNrA3OEjs-Q"
      },
      "outputs": [],
      "source": [
        "checkpointer_MobileNet_12 = [\n",
        "                      ModelCheckpoint('MobileNet_12_Adam_32,0.01_DO_TL.h5', monitor=\"val_accuracy\", verbose=1, save_best_only=True,mode=\"max\"),\n",
        "                      CSVLogger('MobileNet_12_Adam_32,0.01_DO_TL.log')\n",
        "                      ]"
      ],
      "id": "ICNrA3OEjs-Q"
    },
    {
      "cell_type": "code",
      "execution_count": null,
      "metadata": {
        "id": "OO22IoTnjs-Q"
      },
      "outputs": [],
      "source": [
        "%%time\n",
        "history_MobileNet_12 = MobileNet_Modell_12.fit(\n",
        "    X_train_rgb,\n",
        "    y_train_cat,\n",
        "    batch_size=batch_size,\n",
        "    epochs=epochs,\n",
        "    callbacks=checkpointer_MobileNet_12,\n",
        "    validation_data=(X_val_rgb, y_val_cat)\n",
        ")\n",
        "\n",
        "MobileNet_Modell_12.save_weights('MobileNet_Weights_12_Adam_32,0.01_DO_TL.h5')"
      ],
      "id": "OO22IoTnjs-Q"
    },
    {
      "cell_type": "markdown",
      "metadata": {
        "id": "mhPeWizhjs-Q"
      },
      "source": [
        "##### (13) SGD: Data Augmentation"
      ],
      "id": "mhPeWizhjs-Q"
    },
    {
      "cell_type": "code",
      "execution_count": null,
      "metadata": {
        "id": "JD4RdObDjs-R"
      },
      "outputs": [],
      "source": [
        "MobileNet_vortrainiert.trainable=False"
      ],
      "id": "JD4RdObDjs-R"
    },
    {
      "cell_type": "code",
      "execution_count": null,
      "metadata": {
        "colab": {
          "base_uri": "https://localhost:8080/"
        },
        "id": "d_Cax099js-R",
        "outputId": "a00f27f7-754d-4ae0-9503-82069433c477"
      },
      "outputs": [
        {
          "name": "stdout",
          "output_type": "stream",
          "text": [
            "Model: \"sequential_9\"\n",
            "_________________________________________________________________\n",
            " Layer (type)                Output Shape              Param #   \n",
            "=================================================================\n",
            " mobilenetv2_1.00_224 (Funct  (None, 2, 2, 1280)       2257984   \n",
            " ional)                                                          \n",
            "                                                                 \n",
            " flatten_9 (Flatten)         (None, 5120)              0         \n",
            "                                                                 \n",
            " dense_27 (Dense)            (None, 4096)              20975616  \n",
            "                                                                 \n",
            " batch_normalization_18 (Bat  (None, 4096)             16384     \n",
            " chNormalization)                                                \n",
            "                                                                 \n",
            " activation_18 (Activation)  (None, 4096)              0         \n",
            "                                                                 \n",
            " dense_28 (Dense)            (None, 4096)              16781312  \n",
            "                                                                 \n",
            " batch_normalization_19 (Bat  (None, 4096)             16384     \n",
            " chNormalization)                                                \n",
            "                                                                 \n",
            " activation_19 (Activation)  (None, 4096)              0         \n",
            "                                                                 \n",
            " dense_29 (Dense)            (None, 7)                 28679     \n",
            "                                                                 \n",
            "=================================================================\n",
            "Total params: 40,076,359\n",
            "Trainable params: 37,801,991\n",
            "Non-trainable params: 2,274,368\n",
            "_________________________________________________________________\n"
          ]
        }
      ],
      "source": [
        "MobileNet_Modell_13 = Sequential()\n",
        "MobileNet_Modell_13.add(MobileNet_vortrainiert)\n",
        "MobileNet_Modell_13.add(Flatten())\n",
        "\n",
        "MobileNet_Modell_13.add(Dense(4096))\n",
        "MobileNet_Modell_13.add(BatchNormalization())\n",
        "MobileNet_Modell_13.add(Activation('relu'))\n",
        "\n",
        "MobileNet_Modell_13.add(Dense(4096))\n",
        "MobileNet_Modell_13.add(BatchNormalization())\n",
        "MobileNet_Modell_13.add(Activation('relu'))\n",
        "\n",
        "MobileNet_Modell_13.add(Dense(7, activation='softmax'))\n",
        "\n",
        "MobileNet_Modell_13.summary()"
      ],
      "id": "d_Cax099js-R"
    },
    {
      "cell_type": "code",
      "execution_count": null,
      "metadata": {
        "id": "Wvea1P3njs-R"
      },
      "outputs": [],
      "source": [
        "MobileNet_Modell_13.compile(optimizer=SGD(learning_rate=learning_rate),\n",
        "                     loss='categorical_crossentropy', metrics=['accuracy'])"
      ],
      "id": "Wvea1P3njs-R"
    },
    {
      "cell_type": "code",
      "execution_count": null,
      "metadata": {
        "id": "F8MpuJwpjs-R"
      },
      "outputs": [],
      "source": [
        "checkpointer_MobileNet_13 = [\n",
        "                      ModelCheckpoint('MobileNet_13_SGD_32,0.01_DA_TL.h5', monitor=\"val_accuracy\", verbose=1, save_best_only=True,mode=\"max\"),\n",
        "                      CSVLogger('MobileNet_13_SGD_32,0.01_DA_TL.log')\n",
        "                      ]"
      ],
      "id": "F8MpuJwpjs-R"
    },
    {
      "cell_type": "code",
      "execution_count": null,
      "metadata": {
        "id": "U17aX6Gnjs-R"
      },
      "outputs": [],
      "source": [
        "%%time\n",
        "history_VGG_13 = MobileNet_Modell_13.fit_generator(\n",
        "    train_generator_rgb,\n",
        "    validation_data=(X_val_rgb, y_val_cat),\n",
        "    epochs=epochs,\n",
        "    callbacks=checkpointer_MobileNet_13)   \n",
        "\n",
        "MobileNet_Modell_13.save_weights('MobileNet_Weights_13_SGD_32,0.01_DA_TL.h5')"
      ],
      "id": "U17aX6Gnjs-R"
    },
    {
      "cell_type": "markdown",
      "metadata": {
        "id": "BcuH3Izgjs-R"
      },
      "source": [
        "##### (14) Adam: Data Augmentation"
      ],
      "id": "BcuH3Izgjs-R"
    },
    {
      "cell_type": "code",
      "execution_count": null,
      "metadata": {
        "id": "DxfC4nx_js-R"
      },
      "outputs": [],
      "source": [
        "MobileNet_vortrainiert.trainable=False"
      ],
      "id": "DxfC4nx_js-R"
    },
    {
      "cell_type": "code",
      "execution_count": null,
      "metadata": {
        "colab": {
          "base_uri": "https://localhost:8080/"
        },
        "id": "WQLoy2pdjs-R",
        "outputId": "03d5786a-d4df-4f43-b7a0-ab6a3aa38a7c"
      },
      "outputs": [
        {
          "name": "stdout",
          "output_type": "stream",
          "text": [
            "Model: \"sequential_10\"\n",
            "_________________________________________________________________\n",
            " Layer (type)                Output Shape              Param #   \n",
            "=================================================================\n",
            " mobilenetv2_1.00_224 (Funct  (None, 2, 2, 1280)       2257984   \n",
            " ional)                                                          \n",
            "                                                                 \n",
            " flatten_10 (Flatten)        (None, 5120)              0         \n",
            "                                                                 \n",
            " dense_30 (Dense)            (None, 4096)              20975616  \n",
            "                                                                 \n",
            " batch_normalization_20 (Bat  (None, 4096)             16384     \n",
            " chNormalization)                                                \n",
            "                                                                 \n",
            " activation_20 (Activation)  (None, 4096)              0         \n",
            "                                                                 \n",
            " dense_31 (Dense)            (None, 4096)              16781312  \n",
            "                                                                 \n",
            " batch_normalization_21 (Bat  (None, 4096)             16384     \n",
            " chNormalization)                                                \n",
            "                                                                 \n",
            " activation_21 (Activation)  (None, 4096)              0         \n",
            "                                                                 \n",
            " dense_32 (Dense)            (None, 7)                 28679     \n",
            "                                                                 \n",
            "=================================================================\n",
            "Total params: 40,076,359\n",
            "Trainable params: 37,801,991\n",
            "Non-trainable params: 2,274,368\n",
            "_________________________________________________________________\n"
          ]
        }
      ],
      "source": [
        "MobileNet_Modell_14 = Sequential()\n",
        "MobileNet_Modell_14.add(MobileNet_vortrainiert)\n",
        "MobileNet_Modell_14.add(Flatten())\n",
        "\n",
        "MobileNet_Modell_14.add(Dense(4096))\n",
        "MobileNet_Modell_14.add(BatchNormalization())\n",
        "MobileNet_Modell_14.add(Activation('relu'))\n",
        "\n",
        "MobileNet_Modell_14.add(Dense(4096))\n",
        "MobileNet_Modell_14.add(BatchNormalization())\n",
        "MobileNet_Modell_14.add(Activation('relu'))\n",
        "\n",
        "MobileNet_Modell_14.add(Dense(7, activation='softmax'))\n",
        "\n",
        "MobileNet_Modell_14.summary()"
      ],
      "id": "WQLoy2pdjs-R"
    },
    {
      "cell_type": "code",
      "execution_count": null,
      "metadata": {
        "id": "THWpoPl3js-R"
      },
      "outputs": [],
      "source": [
        "MobileNet_Modell_14.compile(optimizer=Adam(learning_rate=learning_rate),\n",
        "                     loss='categorical_crossentropy', metrics=['accuracy'])"
      ],
      "id": "THWpoPl3js-R"
    },
    {
      "cell_type": "code",
      "execution_count": null,
      "metadata": {
        "id": "nu_NAXBdjs-S"
      },
      "outputs": [],
      "source": [
        "checkpointer_MobileNet_14 = [\n",
        "                      ModelCheckpoint('MobileNet_14_Adam_32,0.01_DA_TL.h5', monitor=\"val_accuracy\", verbose=1, save_best_only=True,mode=\"max\"),\n",
        "                      CSVLogger('MobileNet_14_Adam_32,0.01_DA_TL.log')\n",
        "                      ]"
      ],
      "id": "nu_NAXBdjs-S"
    },
    {
      "cell_type": "code",
      "execution_count": null,
      "metadata": {
        "colab": {
          "background_save": true
        },
        "id": "rZJfpfWPjs-S"
      },
      "outputs": [],
      "source": [
        "%%time\n",
        "history_VGG_14 = MobileNet_Modell_14.fit_generator(\n",
        "    train_generator_rgb,\n",
        "    validation_data=(X_val_rgb, y_val_cat),\n",
        "    epochs=epochs,\n",
        "    callbacks=checkpointer_MobileNet_14)    \n",
        "\n",
        "MobileNet_Modell_14.save_weights('MobileNet_Weights_14_Adam_32,0.01_DA_TL.h5')"
      ],
      "id": "rZJfpfWPjs-S"
    },
    {
      "cell_type": "markdown",
      "metadata": {
        "id": "BGB_EHGSjs-S"
      },
      "source": [
        "##### (15) SGD: Dropout + Data Augmentation"
      ],
      "id": "BGB_EHGSjs-S"
    },
    {
      "cell_type": "code",
      "execution_count": null,
      "metadata": {
        "id": "R54aT9Zsjs-S"
      },
      "outputs": [],
      "source": [
        "MobileNet_vortrainiert.trainable=False"
      ],
      "id": "R54aT9Zsjs-S"
    },
    {
      "cell_type": "code",
      "execution_count": null,
      "metadata": {
        "colab": {
          "base_uri": "https://localhost:8080/"
        },
        "id": "0-vfKIK3js-S",
        "outputId": "c246d139-593d-4997-c1d0-a9fafc7da2d2"
      },
      "outputs": [
        {
          "output_type": "stream",
          "name": "stdout",
          "text": [
            "Model: \"sequential_11\"\n",
            "_________________________________________________________________\n",
            " Layer (type)                Output Shape              Param #   \n",
            "=================================================================\n",
            " mobilenetv2_1.00_224 (Funct  (None, 2, 2, 1280)       2257984   \n",
            " ional)                                                          \n",
            "                                                                 \n",
            " flatten_11 (Flatten)        (None, 5120)              0         \n",
            "                                                                 \n",
            " dense_33 (Dense)            (None, 4096)              20975616  \n",
            "                                                                 \n",
            " batch_normalization_22 (Bat  (None, 4096)             16384     \n",
            " chNormalization)                                                \n",
            "                                                                 \n",
            " activation_22 (Activation)  (None, 4096)              0         \n",
            "                                                                 \n",
            " dropout_12 (Dropout)        (None, 4096)              0         \n",
            "                                                                 \n",
            " dense_34 (Dense)            (None, 4096)              16781312  \n",
            "                                                                 \n",
            " batch_normalization_23 (Bat  (None, 4096)             16384     \n",
            " chNormalization)                                                \n",
            "                                                                 \n",
            " activation_23 (Activation)  (None, 4096)              0         \n",
            "                                                                 \n",
            " dropout_13 (Dropout)        (None, 4096)              0         \n",
            "                                                                 \n",
            " dense_35 (Dense)            (None, 7)                 28679     \n",
            "                                                                 \n",
            "=================================================================\n",
            "Total params: 40,076,359\n",
            "Trainable params: 37,801,991\n",
            "Non-trainable params: 2,274,368\n",
            "_________________________________________________________________\n"
          ]
        }
      ],
      "source": [
        "MobileNet_Modell_15 = Sequential()\n",
        "MobileNet_Modell_15.add(MobileNet_vortrainiert)\n",
        "MobileNet_Modell_15.add(Flatten())\n",
        "\n",
        "MobileNet_Modell_15.add(Dense(4096))\n",
        "MobileNet_Modell_15.add(BatchNormalization())\n",
        "MobileNet_Modell_15.add(Activation('relu'))\n",
        "MobileNet_Modell_15.add(Dropout(0.75)) \n",
        "\n",
        "MobileNet_Modell_15.add(Dense(4096))\n",
        "MobileNet_Modell_15.add(BatchNormalization())\n",
        "MobileNet_Modell_15.add(Activation('relu'))\n",
        "MobileNet_Modell_15.add(Dropout(0.75))\n",
        "\n",
        "MobileNet_Modell_15.add(Dense(7, activation='softmax'))\n",
        "\n",
        "MobileNet_Modell_15.summary()"
      ],
      "id": "0-vfKIK3js-S"
    },
    {
      "cell_type": "code",
      "execution_count": null,
      "metadata": {
        "id": "t3qzzkFRjs-S"
      },
      "outputs": [],
      "source": [
        "MobileNet_Modell_15.compile(optimizer=SGD(learning_rate=learning_rate),\n",
        "                     loss='categorical_crossentropy', metrics=['accuracy'])"
      ],
      "id": "t3qzzkFRjs-S"
    },
    {
      "cell_type": "code",
      "execution_count": null,
      "metadata": {
        "id": "hUiXCSvvjs-S"
      },
      "outputs": [],
      "source": [
        "checkpointer_MobileNet_15 = [\n",
        "                      ModelCheckpoint('MobileNet_15_SGD_32,0.01_DO+DA_TL.h5', monitor=\"val_accuracy\", verbose=1, save_best_only=True,mode=\"max\"),\n",
        "                      CSVLogger('MobileNet_15_SGD_32,0.01_DO+DA_TL.log')\n",
        "                      ]"
      ],
      "id": "hUiXCSvvjs-S"
    },
    {
      "cell_type": "code",
      "execution_count": null,
      "metadata": {
        "id": "iSaBEIGZjs-T"
      },
      "outputs": [],
      "source": [
        "%%time\n",
        "history_VGG_15 = MobileNet_Modell_15.fit_generator(\n",
        "    train_generator_rgb,\n",
        "    validation_data=(X_val_rgb, y_val_cat),\n",
        "    epochs=epochs,\n",
        "    callbacks=checkpointer_MobileNet_15)    \n",
        "\n",
        "MobileNet_Modell_15.save_weights('MobileNet_Weights_15_SGD_32,0.01_DO+DA_TL.h5')"
      ],
      "id": "iSaBEIGZjs-T"
    },
    {
      "cell_type": "markdown",
      "metadata": {
        "id": "wxkxsjzOjs-T"
      },
      "source": [
        "##### (16) Adam: Dropout + Data Augmentation"
      ],
      "id": "wxkxsjzOjs-T"
    },
    {
      "cell_type": "code",
      "execution_count": null,
      "metadata": {
        "id": "gyvVP8U2js-T"
      },
      "outputs": [],
      "source": [
        "MobileNet_vortrainiert.trainable=False"
      ],
      "id": "gyvVP8U2js-T"
    },
    {
      "cell_type": "code",
      "execution_count": null,
      "metadata": {
        "id": "UYenbB0Ljs-T"
      },
      "outputs": [],
      "source": [
        "MobileNet_Modell_16 = Sequential()\n",
        "MobileNet_Modell_16.add(MobileNet_vortrainiert)\n",
        "MobileNet_Modell_16.add(Flatten())\n",
        "\n",
        "MobileNet_Modell_16.add(Dense(4096))\n",
        "MobileNet_Modell_16.add(BatchNormalization())\n",
        "MobileNet_Modell_16.add(Activation('relu'))\n",
        "MobileNet_Modell_16.add(Dropout(0.75))\n",
        "\n",
        "MobileNet_Modell_16.add(Dense(4096))\n",
        "MobileNet_Modell_16.add(BatchNormalization())\n",
        "MobileNet_Modell_16.add(Activation('relu'))\n",
        "MobileNet_Modell_16.add(Dropout(0.75))\n",
        "\n",
        "MobileNet_Modell_16.add(Dense(7, activation='softmax'))\n",
        "\n",
        "MobileNet_Modell_16.summary()"
      ],
      "id": "UYenbB0Ljs-T"
    },
    {
      "cell_type": "code",
      "execution_count": null,
      "metadata": {
        "id": "oA6SRvT2js-T"
      },
      "outputs": [],
      "source": [
        "MobileNet_Modell_16.compile(optimizer=Adam(learning_rate=learning_rate),\n",
        "                     loss='categorical_crossentropy', metrics=['accuracy'])"
      ],
      "id": "oA6SRvT2js-T"
    },
    {
      "cell_type": "code",
      "execution_count": null,
      "metadata": {
        "id": "1p18zwqZjs-T"
      },
      "outputs": [],
      "source": [
        "checkpointer_MobileNet_16 = [\n",
        "                      ModelCheckpoint('MobileNet_16_Adam_32,0.01_DO+DA_TL.h5', monitor=\"val_accuracy\", verbose=1, save_best_only=True,mode=\"max\"),\n",
        "                      CSVLogger('MobileNet_16_Adam_32,0.01_DO+DA_TL.log')\n",
        "                      ]"
      ],
      "id": "1p18zwqZjs-T"
    },
    {
      "cell_type": "code",
      "execution_count": null,
      "metadata": {
        "id": "Bi9r9dECjs-U"
      },
      "outputs": [],
      "source": [
        "%%time\n",
        "history_VGG_16 = MobileNet_Modell_16.fit_generator(\n",
        "    train_generator_rgb,\n",
        "    validation_data=(X_val_rgb, y_val_cat),\n",
        "    epochs=epochs,\n",
        "    callbacks=checkpointer_MobileNet_16)    \n",
        "\n",
        "MobileNet_Modell_16.save_weights('MobileNet_Weights_16_Adam_32,0.01_DO+DA_TL.h5')"
      ],
      "id": "Bi9r9dECjs-U"
    },
    {
      "cell_type": "markdown",
      "metadata": {
        "id": "Bd02MznWz6zq"
      },
      "source": [
        "## EfficientNetV2B0"
      ],
      "id": "Bd02MznWz6zq"
    },
    {
      "cell_type": "markdown",
      "metadata": {
        "id": "mx0ss9UCz6zq"
      },
      "source": [
        "### EfficientNet Modelle"
      ],
      "id": "mx0ss9UCz6zq"
    },
    {
      "cell_type": "markdown",
      "metadata": {
        "id": "K6P6Wf4Dz6zr"
      },
      "source": [
        "#### Nicht vortrainiertes EfficientNet"
      ],
      "id": "K6P6Wf4Dz6zr"
    },
    {
      "cell_type": "markdown",
      "metadata": {
        "id": "GYKS1Mq1z6zr"
      },
      "source": [
        "##### (1) SGD: Blanco"
      ],
      "id": "GYKS1Mq1z6zr"
    },
    {
      "cell_type": "code",
      "execution_count": null,
      "metadata": {
        "colab": {
          "base_uri": "https://localhost:8080/"
        },
        "id": "d_aFz0W2z6zs",
        "outputId": "1d6cd9dd-08a0-4849-edb2-08368b1cbff6"
      },
      "outputs": [
        {
          "name": "stdout",
          "output_type": "stream",
          "text": [
            "Model: \"sequential_2\"\n",
            "_________________________________________________________________\n",
            " Layer (type)                Output Shape              Param #   \n",
            "=================================================================\n",
            " efficientnetv2-b0 (Function  (None, 2, 2, 1280)       5918736   \n",
            " al)                                                             \n",
            "                                                                 \n",
            " flatten_2 (Flatten)         (None, 5120)              0         \n",
            "                                                                 \n",
            " dense_6 (Dense)             (None, 4096)              20975616  \n",
            "                                                                 \n",
            " batch_normalization_4 (Batc  (None, 4096)             16384     \n",
            " hNormalization)                                                 \n",
            "                                                                 \n",
            " activation_4 (Activation)   (None, 4096)              0         \n",
            "                                                                 \n",
            " dense_7 (Dense)             (None, 4096)              16781312  \n",
            "                                                                 \n",
            " batch_normalization_5 (Batc  (None, 4096)             16384     \n",
            " hNormalization)                                                 \n",
            "                                                                 \n",
            " activation_5 (Activation)   (None, 4096)              0         \n",
            "                                                                 \n",
            " dense_8 (Dense)             (None, 7)                 28679     \n",
            "                                                                 \n",
            "=================================================================\n",
            "Total params: 43,737,111\n",
            "Trainable params: 43,660,119\n",
            "Non-trainable params: 76,992\n",
            "_________________________________________________________________\n"
          ]
        }
      ],
      "source": [
        "EfficientNet_Modell_1 = Sequential()\n",
        "EfficientNet_Modell_1.add(EfficientNet_ohne_MLP)\n",
        "EfficientNet_Modell_1.add(Flatten())\n",
        "\n",
        "EfficientNet_Modell_1.add(Dense(4096))\n",
        "EfficientNet_Modell_1.add(BatchNormalization())\n",
        "EfficientNet_Modell_1.add(Activation('relu'))\n",
        "\n",
        "EfficientNet_Modell_1.add(Dense(4096))\n",
        "EfficientNet_Modell_1.add(BatchNormalization())\n",
        "EfficientNet_Modell_1.add(Activation('relu'))\n",
        "\n",
        "EfficientNet_Modell_1.add(Dense(7, activation='softmax'))\n",
        "\n",
        "EfficientNet_Modell_1.summary()"
      ],
      "id": "d_aFz0W2z6zs"
    },
    {
      "cell_type": "code",
      "execution_count": null,
      "metadata": {
        "id": "df0U9ehwz6zs"
      },
      "outputs": [],
      "source": [
        "EfficientNet_Modell_1.compile(optimizer=SGD(learning_rate=learning_rate),\n",
        "                     loss='categorical_crossentropy', metrics=['accuracy'])"
      ],
      "id": "df0U9ehwz6zs"
    },
    {
      "cell_type": "code",
      "execution_count": null,
      "metadata": {
        "id": "EmXc6L2Iz6zs"
      },
      "outputs": [],
      "source": [
        "checkpointer_EfficientNet_1 = [\n",
        "                      ModelCheckpoint('EfficientNet_1_SGD_32,0.01.h5', monitor=\"val_accuracy\", verbose=1, save_best_only=True,mode=\"max\"),\n",
        "                      CSVLogger('EfficientNet_1_SGD_32,0.01.log')\n",
        "                      ]"
      ],
      "id": "EmXc6L2Iz6zs"
    },
    {
      "cell_type": "code",
      "execution_count": null,
      "metadata": {
        "id": "ToC02Gb1z6zt"
      },
      "outputs": [],
      "source": [
        "%%time\n",
        "history_EfficientNet_1 = EfficientNet_Modell_1.fit(\n",
        "    X_train_48x48,\n",
        "    y_train_cat,\n",
        "    batch_size=batch_size,\n",
        "    epochs=epochs,\n",
        "    callbacks=checkpointer_EfficientNet_1,\n",
        "    validation_data=(X_val_48x48, y_val_cat)\n",
        ")"
      ],
      "id": "ToC02Gb1z6zt"
    },
    {
      "cell_type": "markdown",
      "metadata": {
        "id": "jjxEnDQNz6zx"
      },
      "source": [
        "##### (2) Adam: Blanco"
      ],
      "id": "jjxEnDQNz6zx"
    },
    {
      "cell_type": "code",
      "execution_count": null,
      "metadata": {
        "colab": {
          "base_uri": "https://localhost:8080/"
        },
        "id": "cbeudd9Gz6zx",
        "outputId": "723475fc-7021-443f-d26b-b6a542efc69a"
      },
      "outputs": [
        {
          "name": "stdout",
          "output_type": "stream",
          "text": [
            "Model: \"sequential\"\n",
            "_________________________________________________________________\n",
            " Layer (type)                Output Shape              Param #   \n",
            "=================================================================\n",
            " efficientnetv2-b0 (Function  (None, 2, 2, 1280)       5918736   \n",
            " al)                                                             \n",
            "                                                                 \n",
            " flatten (Flatten)           (None, 5120)              0         \n",
            "                                                                 \n",
            " dense (Dense)               (None, 4096)              20975616  \n",
            "                                                                 \n",
            " batch_normalization (BatchN  (None, 4096)             16384     \n",
            " ormalization)                                                   \n",
            "                                                                 \n",
            " activation (Activation)     (None, 4096)              0         \n",
            "                                                                 \n",
            " dense_1 (Dense)             (None, 4096)              16781312  \n",
            "                                                                 \n",
            " batch_normalization_1 (Batc  (None, 4096)             16384     \n",
            " hNormalization)                                                 \n",
            "                                                                 \n",
            " activation_1 (Activation)   (None, 4096)              0         \n",
            "                                                                 \n",
            " dense_2 (Dense)             (None, 7)                 28679     \n",
            "                                                                 \n",
            "=================================================================\n",
            "Total params: 43,737,111\n",
            "Trainable params: 43,660,119\n",
            "Non-trainable params: 76,992\n",
            "_________________________________________________________________\n"
          ]
        }
      ],
      "source": [
        "EfficientNet_Modell_2 = Sequential()\n",
        "EfficientNet_Modell_2.add(EfficientNet_ohne_MLP)\n",
        "EfficientNet_Modell_2.add(Flatten())\n",
        "\n",
        "EfficientNet_Modell_2.add(Dense(4096))\n",
        "EfficientNet_Modell_2.add(BatchNormalization())\n",
        "EfficientNet_Modell_2.add(Activation('relu'))\n",
        "\n",
        "EfficientNet_Modell_2.add(Dense(4096))\n",
        "EfficientNet_Modell_2.add(BatchNormalization())\n",
        "EfficientNet_Modell_2.add(Activation('relu'))\n",
        "\n",
        "EfficientNet_Modell_2.add(Dense(7, activation='softmax'))\n",
        "\n",
        "EfficientNet_Modell_2.summary()"
      ],
      "id": "cbeudd9Gz6zx"
    },
    {
      "cell_type": "code",
      "execution_count": null,
      "metadata": {
        "id": "YyhS0Igdz6zx"
      },
      "outputs": [],
      "source": [
        "EfficientNet_Modell_2.compile(optimizer=Adam(learning_rate=learning_rate),\n",
        "                     loss='categorical_crossentropy', metrics=['accuracy'])"
      ],
      "id": "YyhS0Igdz6zx"
    },
    {
      "cell_type": "code",
      "execution_count": null,
      "metadata": {
        "id": "_OX8_98rz6zx"
      },
      "outputs": [],
      "source": [
        "checkpointer_EfficientNet_2 = [\n",
        "                      ModelCheckpoint('EfficientNet_2_Adam_32,0.01.h5', monitor=\"val_accuracy\", verbose=1, save_best_only=True,mode=\"max\"),\n",
        "                      CSVLogger('EfficientNet_2_Adam_32,0.01.log')\n",
        "                      ]"
      ],
      "id": "_OX8_98rz6zx"
    },
    {
      "cell_type": "code",
      "execution_count": null,
      "metadata": {
        "id": "22L7KIUbz6zy"
      },
      "outputs": [],
      "source": [
        "%%time\n",
        "history_EfficientNet_2 = EfficientNet_Modell_2.fit(\n",
        "    X_train_48x48,\n",
        "    y_train_cat,\n",
        "    batch_size=batch_size,\n",
        "    epochs=epochs,\n",
        "    callbacks=checkpointer_EfficientNet_2,\n",
        "    validation_data=(X_val_48x48, y_val_cat)\n",
        ")"
      ],
      "id": "22L7KIUbz6zy"
    },
    {
      "cell_type": "markdown",
      "metadata": {
        "id": "MCgu9WDrz6zt"
      },
      "source": [
        "##### (3) SGD: Dropout"
      ],
      "id": "MCgu9WDrz6zt"
    },
    {
      "cell_type": "code",
      "execution_count": null,
      "metadata": {
        "colab": {
          "base_uri": "https://localhost:8080/"
        },
        "id": "7tkLSCWaz6zt",
        "outputId": "b9042ad2-6e83-4322-f19c-d0d3eccf572f"
      },
      "outputs": [
        {
          "name": "stdout",
          "output_type": "stream",
          "text": [
            "Model: \"sequential_6\"\n",
            "_________________________________________________________________\n",
            " Layer (type)                Output Shape              Param #   \n",
            "=================================================================\n",
            " efficientnetv2-b0 (Function  (None, 2, 2, 1280)       5918736   \n",
            " al)                                                             \n",
            "                                                                 \n",
            " flatten_6 (Flatten)         (None, 5120)              0         \n",
            "                                                                 \n",
            " dense_18 (Dense)            (None, 4096)              20975616  \n",
            "                                                                 \n",
            " batch_normalization_12 (Bat  (None, 4096)             16384     \n",
            " chNormalization)                                                \n",
            "                                                                 \n",
            " activation_12 (Activation)  (None, 4096)              0         \n",
            "                                                                 \n",
            " dropout_2 (Dropout)         (None, 4096)              0         \n",
            "                                                                 \n",
            " dense_19 (Dense)            (None, 4096)              16781312  \n",
            "                                                                 \n",
            " batch_normalization_13 (Bat  (None, 4096)             16384     \n",
            " chNormalization)                                                \n",
            "                                                                 \n",
            " activation_13 (Activation)  (None, 4096)              0         \n",
            "                                                                 \n",
            " dropout_3 (Dropout)         (None, 4096)              0         \n",
            "                                                                 \n",
            " dense_20 (Dense)            (None, 7)                 28679     \n",
            "                                                                 \n",
            "=================================================================\n",
            "Total params: 43,737,111\n",
            "Trainable params: 43,660,119\n",
            "Non-trainable params: 76,992\n",
            "_________________________________________________________________\n"
          ]
        }
      ],
      "source": [
        "EfficientNet_Modell_3 = Sequential()\n",
        "EfficientNet_Modell_3.add(EfficientNet_ohne_MLP)\n",
        "EfficientNet_Modell_3.add(Flatten())\n",
        "\n",
        "EfficientNet_Modell_3.add(Dense(4096))\n",
        "EfficientNet_Modell_3.add(BatchNormalization())\n",
        "EfficientNet_Modell_3.add(Activation('relu'))\n",
        "EfficientNet_Modell_3.add(Dropout(0.75))\n",
        "\n",
        "EfficientNet_Modell_3.add(Dense(4096))\n",
        "EfficientNet_Modell_3.add(BatchNormalization())\n",
        "EfficientNet_Modell_3.add(Activation('relu'))\n",
        "EfficientNet_Modell_3.add(Dropout(0.75))\n",
        "\n",
        "EfficientNet_Modell_3.add(Dense(7, activation='softmax'))\n",
        "\n",
        "EfficientNet_Modell_3.summary()"
      ],
      "id": "7tkLSCWaz6zt"
    },
    {
      "cell_type": "code",
      "execution_count": null,
      "metadata": {
        "id": "i6vXUyYMz6zu"
      },
      "outputs": [],
      "source": [
        "EfficientNet_Modell_3.compile(optimizer=SGD(learning_rate=learning_rate),\n",
        "                     loss='categorical_crossentropy', metrics=['accuracy'])"
      ],
      "id": "i6vXUyYMz6zu"
    },
    {
      "cell_type": "code",
      "execution_count": null,
      "metadata": {
        "id": "bXrZZVQwz6zu"
      },
      "outputs": [],
      "source": [
        "checkpointer_EfficientNet_3 = [\n",
        "                      ModelCheckpoint('EfficientNet_3_SGD_32,0.01_DO.h5', monitor=\"val_accuracy\", verbose=1, save_best_only=True,mode=\"max\"),\n",
        "                      CSVLogger('EfficientNet_3_SGD_32,0.01_DO.log')\n",
        "                      ]"
      ],
      "id": "bXrZZVQwz6zu"
    },
    {
      "cell_type": "code",
      "execution_count": null,
      "metadata": {
        "id": "oJ__cQjSz6zu"
      },
      "outputs": [],
      "source": [
        "%%time\n",
        "history_EfficientNet_3 = EfficientNet_Modell_3.fit(\n",
        "    X_train_48x48,\n",
        "    y_train_cat,\n",
        "    batch_size=batch_size,\n",
        "    epochs=epochs,\n",
        "    callbacks=checkpointer_EfficientNet_3,\n",
        "    validation_data=(X_val_48x48, y_val_cat)\n",
        ")"
      ],
      "id": "oJ__cQjSz6zu"
    },
    {
      "cell_type": "markdown",
      "metadata": {
        "id": "vBbjPt70z6zy"
      },
      "source": [
        "##### (4) Adam: Dropout"
      ],
      "id": "vBbjPt70z6zy"
    },
    {
      "cell_type": "code",
      "execution_count": null,
      "metadata": {
        "colab": {
          "base_uri": "https://localhost:8080/"
        },
        "id": "Ah3l61noz6zz",
        "outputId": "3a4b00a5-b657-4e28-f48f-490b4374ab23"
      },
      "outputs": [
        {
          "name": "stdout",
          "output_type": "stream",
          "text": [
            "Model: \"sequential_2\"\n",
            "_________________________________________________________________\n",
            " Layer (type)                Output Shape              Param #   \n",
            "=================================================================\n",
            " efficientnetv2-b0 (Function  (None, 2, 2, 1280)       5918736   \n",
            " al)                                                             \n",
            "                                                                 \n",
            " flatten_2 (Flatten)         (None, 5120)              0         \n",
            "                                                                 \n",
            " dense_6 (Dense)             (None, 4096)              20975616  \n",
            "                                                                 \n",
            " batch_normalization_4 (Batc  (None, 4096)             16384     \n",
            " hNormalization)                                                 \n",
            "                                                                 \n",
            " activation_4 (Activation)   (None, 4096)              0         \n",
            "                                                                 \n",
            " dropout_2 (Dropout)         (None, 4096)              0         \n",
            "                                                                 \n",
            " dense_7 (Dense)             (None, 4096)              16781312  \n",
            "                                                                 \n",
            " batch_normalization_5 (Batc  (None, 4096)             16384     \n",
            " hNormalization)                                                 \n",
            "                                                                 \n",
            " activation_5 (Activation)   (None, 4096)              0         \n",
            "                                                                 \n",
            " dropout_3 (Dropout)         (None, 4096)              0         \n",
            "                                                                 \n",
            " dense_8 (Dense)             (None, 7)                 28679     \n",
            "                                                                 \n",
            "=================================================================\n",
            "Total params: 43,737,111\n",
            "Trainable params: 43,660,119\n",
            "Non-trainable params: 76,992\n",
            "_________________________________________________________________\n"
          ]
        }
      ],
      "source": [
        "EfficientNet_Modell_4 = Sequential()\n",
        "EfficientNet_Modell_4.add(EfficientNet_ohne_MLP)\n",
        "EfficientNet_Modell_4.add(Flatten())\n",
        "\n",
        "EfficientNet_Modell_4.add(Dense(4096))\n",
        "EfficientNet_Modell_4.add(BatchNormalization())\n",
        "EfficientNet_Modell_4.add(Activation('relu'))\n",
        "EfficientNet_Modell_4.add(Dropout(0.75))\n",
        "\n",
        "EfficientNet_Modell_4.add(Dense(4096))\n",
        "EfficientNet_Modell_4.add(BatchNormalization())\n",
        "EfficientNet_Modell_4.add(Activation('relu'))\n",
        "EfficientNet_Modell_4.add(Dropout(0.75))\n",
        "\n",
        "EfficientNet_Modell_4.add(Dense(7, activation='softmax'))\n",
        "\n",
        "EfficientNet_Modell_4.summary()"
      ],
      "id": "Ah3l61noz6zz"
    },
    {
      "cell_type": "code",
      "execution_count": null,
      "metadata": {
        "id": "Y2wjvMMrz6zz"
      },
      "outputs": [],
      "source": [
        "EfficientNet_Modell_4.compile(optimizer=Adam(learning_rate=learning_rate),\n",
        "                     loss='categorical_crossentropy', metrics=['accuracy'])"
      ],
      "id": "Y2wjvMMrz6zz"
    },
    {
      "cell_type": "code",
      "execution_count": null,
      "metadata": {
        "id": "wt2LYTNtz6zz"
      },
      "outputs": [],
      "source": [
        "checkpointer_EfficientNet_4 = [\n",
        "                      ModelCheckpoint('EfficientNet_4_Adam_32,0.01_DO.h5', monitor=\"val_accuracy\", verbose=1, save_best_only=True,mode=\"max\"),\n",
        "                      CSVLogger('EfficientNet_4_Adam_32,0.01_DO.log')\n",
        "                      ]"
      ],
      "id": "wt2LYTNtz6zz"
    },
    {
      "cell_type": "code",
      "execution_count": null,
      "metadata": {
        "id": "CRLjjG4Dz6z0"
      },
      "outputs": [],
      "source": [
        "%%time\n",
        "history_EfficientNet_4 = EfficientNet_Modell_4.fit(\n",
        "    X_train_48x48,\n",
        "    y_train_cat,\n",
        "    batch_size=batch_size,\n",
        "    epochs=epochs,\n",
        "    callbacks=checkpointer_EfficientNet_4,\n",
        "    validation_data=(X_val_48x48, y_val_cat)\n",
        ")"
      ],
      "id": "CRLjjG4Dz6z0"
    },
    {
      "cell_type": "markdown",
      "metadata": {
        "id": "ZjuVUwjOkXEc"
      },
      "source": [
        "##### (5) SGD: Data Augmentation"
      ],
      "id": "ZjuVUwjOkXEc"
    },
    {
      "cell_type": "code",
      "execution_count": null,
      "metadata": {
        "colab": {
          "base_uri": "https://localhost:8080/"
        },
        "id": "wnulEkN9kXEd",
        "outputId": "83af0adf-2d17-407d-b02f-70c081b13843"
      },
      "outputs": [
        {
          "name": "stdout",
          "output_type": "stream",
          "text": [
            "Model: \"sequential_7\"\n",
            "_________________________________________________________________\n",
            " Layer (type)                Output Shape              Param #   \n",
            "=================================================================\n",
            " efficientnetv2-b0 (Function  (None, 2, 2, 1280)       5918736   \n",
            " al)                                                             \n",
            "                                                                 \n",
            " flatten_7 (Flatten)         (None, 5120)              0         \n",
            "                                                                 \n",
            " dense_21 (Dense)            (None, 4096)              20975616  \n",
            "                                                                 \n",
            " batch_normalization_14 (Bat  (None, 4096)             16384     \n",
            " chNormalization)                                                \n",
            "                                                                 \n",
            " activation_14 (Activation)  (None, 4096)              0         \n",
            "                                                                 \n",
            " dense_22 (Dense)            (None, 4096)              16781312  \n",
            "                                                                 \n",
            " batch_normalization_15 (Bat  (None, 4096)             16384     \n",
            " chNormalization)                                                \n",
            "                                                                 \n",
            " activation_15 (Activation)  (None, 4096)              0         \n",
            "                                                                 \n",
            " dense_23 (Dense)            (None, 7)                 28679     \n",
            "                                                                 \n",
            "=================================================================\n",
            "Total params: 43,737,111\n",
            "Trainable params: 43,660,119\n",
            "Non-trainable params: 76,992\n",
            "_________________________________________________________________\n"
          ]
        }
      ],
      "source": [
        "EfficientNet_Modell_5 = Sequential()\n",
        "EfficientNet_Modell_5.add(EfficientNet_ohne_MLP)\n",
        "EfficientNet_Modell_5.add(Flatten())\n",
        "\n",
        "EfficientNet_Modell_5.add(Dense(4096))\n",
        "EfficientNet_Modell_5.add(BatchNormalization())\n",
        "EfficientNet_Modell_5.add(Activation('relu'))\n",
        "\n",
        "EfficientNet_Modell_5.add(Dense(4096))\n",
        "EfficientNet_Modell_5.add(BatchNormalization())\n",
        "EfficientNet_Modell_5.add(Activation('relu'))\n",
        "\n",
        "EfficientNet_Modell_5.add(Dense(7, activation='softmax'))\n",
        "\n",
        "EfficientNet_Modell_5.summary()"
      ],
      "id": "wnulEkN9kXEd"
    },
    {
      "cell_type": "code",
      "execution_count": null,
      "metadata": {
        "id": "C34FopMGkXEe"
      },
      "outputs": [],
      "source": [
        "EfficientNet_Modell_5.compile(optimizer=SGD(learning_rate=learning_rate),\n",
        "                     loss='categorical_crossentropy', metrics=['accuracy'])"
      ],
      "id": "C34FopMGkXEe"
    },
    {
      "cell_type": "code",
      "execution_count": null,
      "metadata": {
        "id": "fOTz2b0DkXEf"
      },
      "outputs": [],
      "source": [
        "checkpointer_EfficientNet_5 = [\n",
        "                      ModelCheckpoint('EfficientNet_5_SGD_32,0.01_DA.h5', monitor=\"val_accuracy\", verbose=1, save_best_only=True,mode=\"max\"),\n",
        "                      CSVLogger('EfficientNet_5_SGD_32,0.01_DA.log')\n",
        "                      ]"
      ],
      "id": "fOTz2b0DkXEf"
    },
    {
      "cell_type": "code",
      "execution_count": null,
      "metadata": {
        "id": "YnA4VFeGkXEf"
      },
      "outputs": [],
      "source": [
        "%%time\n",
        "history_EfficientNet_5 = EfficientNet_Modell_5.fit_generator(\n",
        "    train_generator,\n",
        "    validation_data=(X_val_48x48, y_val_cat),\n",
        "    epochs=epochs,\n",
        "    callbacks=checkpointer_EfficientNet_5)"
      ],
      "id": "YnA4VFeGkXEf"
    },
    {
      "cell_type": "markdown",
      "metadata": {
        "id": "ND4z2LTzkfB6"
      },
      "source": [
        "##### (6) Adam: Data Augmentation"
      ],
      "id": "ND4z2LTzkfB6"
    },
    {
      "cell_type": "code",
      "execution_count": null,
      "metadata": {
        "colab": {
          "base_uri": "https://localhost:8080/"
        },
        "id": "8BPEQD6HkfB8",
        "outputId": "688fc87e-8386-4c82-a32a-735dcaf64615"
      },
      "outputs": [
        {
          "name": "stdout",
          "output_type": "stream",
          "text": [
            "Model: \"sequential\"\n",
            "_________________________________________________________________\n",
            " Layer (type)                Output Shape              Param #   \n",
            "=================================================================\n",
            " efficientnetv2-b0 (Function  (None, 2, 2, 1280)       5918736   \n",
            " al)                                                             \n",
            "                                                                 \n",
            " flatten (Flatten)           (None, 5120)              0         \n",
            "                                                                 \n",
            " dense (Dense)               (None, 4096)              20975616  \n",
            "                                                                 \n",
            " batch_normalization (BatchN  (None, 4096)             16384     \n",
            " ormalization)                                                   \n",
            "                                                                 \n",
            " activation (Activation)     (None, 4096)              0         \n",
            "                                                                 \n",
            " dense_1 (Dense)             (None, 4096)              16781312  \n",
            "                                                                 \n",
            " batch_normalization_1 (Batc  (None, 4096)             16384     \n",
            " hNormalization)                                                 \n",
            "                                                                 \n",
            " activation_1 (Activation)   (None, 4096)              0         \n",
            "                                                                 \n",
            " dense_2 (Dense)             (None, 7)                 28679     \n",
            "                                                                 \n",
            "=================================================================\n",
            "Total params: 43,737,111\n",
            "Trainable params: 43,660,119\n",
            "Non-trainable params: 76,992\n",
            "_________________________________________________________________\n"
          ]
        }
      ],
      "source": [
        "EfficientNet_Modell_6 = Sequential()\n",
        "EfficientNet_Modell_6.add(EfficientNet_ohne_MLP)\n",
        "EfficientNet_Modell_6.add(Flatten())\n",
        "\n",
        "EfficientNet_Modell_6.add(Dense(4096))\n",
        "EfficientNet_Modell_6.add(BatchNormalization())\n",
        "EfficientNet_Modell_6.add(Activation('relu'))\n",
        "\n",
        "EfficientNet_Modell_6.add(Dense(4096))\n",
        "EfficientNet_Modell_6.add(BatchNormalization())\n",
        "EfficientNet_Modell_6.add(Activation('relu'))\n",
        "\n",
        "EfficientNet_Modell_6.add(Dense(7, activation='softmax'))\n",
        "\n",
        "EfficientNet_Modell_6.summary()"
      ],
      "id": "8BPEQD6HkfB8"
    },
    {
      "cell_type": "code",
      "execution_count": null,
      "metadata": {
        "id": "UGl0ea_6kfB9"
      },
      "outputs": [],
      "source": [
        "EfficientNet_Modell_6.compile(optimizer=Adam(learning_rate=learning_rate),\n",
        "                     loss='categorical_crossentropy', metrics=['accuracy'])"
      ],
      "id": "UGl0ea_6kfB9"
    },
    {
      "cell_type": "code",
      "execution_count": null,
      "metadata": {
        "id": "_PeUwipQkfB-"
      },
      "outputs": [],
      "source": [
        "checkpointer_EfficientNet_6 = [\n",
        "                      ModelCheckpoint('EfficientNet_6_Adam_32,0.01_DA.h5', monitor=\"val_accuracy\", verbose=1, save_best_only=True,mode=\"max\"),\n",
        "                      CSVLogger('EfficientNet_6_Adam_32,0.01_DA.log')\n",
        "                      ]"
      ],
      "id": "_PeUwipQkfB-"
    },
    {
      "cell_type": "code",
      "execution_count": null,
      "metadata": {
        "id": "i2O8VXb3kfB_"
      },
      "outputs": [],
      "source": [
        "%%time\n",
        "history_EfficientNet_6 = EfficientNet_Modell_6.fit_generator(\n",
        "    train_generator,\n",
        "    validation_data=(X_val_48x48, y_val_cat),\n",
        "    epochs=epochs,\n",
        "    callbacks=checkpointer_EfficientNet_6)    "
      ],
      "id": "i2O8VXb3kfB_"
    },
    {
      "cell_type": "markdown",
      "metadata": {
        "id": "-7ElJ2iZz6zv"
      },
      "source": [
        "##### (7) SGD: Dropout + Data Augmentation"
      ],
      "id": "-7ElJ2iZz6zv"
    },
    {
      "cell_type": "code",
      "execution_count": null,
      "metadata": {
        "colab": {
          "base_uri": "https://localhost:8080/"
        },
        "id": "W4YhaX-pz6zv",
        "outputId": "8ae035f9-10d6-42fd-f230-b34183374599"
      },
      "outputs": [
        {
          "name": "stdout",
          "output_type": "stream",
          "text": [
            "Model: \"sequential_5\"\n",
            "_________________________________________________________________\n",
            " Layer (type)                Output Shape              Param #   \n",
            "=================================================================\n",
            " efficientnetv2-b0 (Function  (None, 2, 2, 1280)       5918736   \n",
            " al)                                                             \n",
            "                                                                 \n",
            " flatten_5 (Flatten)         (None, 5120)              0         \n",
            "                                                                 \n",
            " dense_15 (Dense)            (None, 4096)              20975616  \n",
            "                                                                 \n",
            " batch_normalization_10 (Bat  (None, 4096)             16384     \n",
            " chNormalization)                                                \n",
            "                                                                 \n",
            " activation_10 (Activation)  (None, 4096)              0         \n",
            "                                                                 \n",
            " dropout_8 (Dropout)         (None, 4096)              0         \n",
            "                                                                 \n",
            " dense_16 (Dense)            (None, 4096)              16781312  \n",
            "                                                                 \n",
            " batch_normalization_11 (Bat  (None, 4096)             16384     \n",
            " chNormalization)                                                \n",
            "                                                                 \n",
            " activation_11 (Activation)  (None, 4096)              0         \n",
            "                                                                 \n",
            " dropout_9 (Dropout)         (None, 4096)              0         \n",
            "                                                                 \n",
            " dense_17 (Dense)            (None, 7)                 28679     \n",
            "                                                                 \n",
            "=================================================================\n",
            "Total params: 43,737,111\n",
            "Trainable params: 43,660,119\n",
            "Non-trainable params: 76,992\n",
            "_________________________________________________________________\n"
          ]
        }
      ],
      "source": [
        "EfficientNet_Modell_7 = Sequential()\n",
        "EfficientNet_Modell_7.add(EfficientNet_ohne_MLP)\n",
        "EfficientNet_Modell_7.add(Flatten())\n",
        "\n",
        "EfficientNet_Modell_7.add(Dense(4096))\n",
        "EfficientNet_Modell_7.add(BatchNormalization())\n",
        "EfficientNet_Modell_7.add(Activation('relu'))\n",
        "EfficientNet_Modell_7.add(Dropout(0.75))\n",
        "\n",
        "EfficientNet_Modell_7.add(Dense(4096))\n",
        "EfficientNet_Modell_7.add(BatchNormalization())\n",
        "EfficientNet_Modell_7.add(Activation('relu'))\n",
        "EfficientNet_Modell_7.add(Dropout(0.75))\n",
        "\n",
        "EfficientNet_Modell_7.add(Dense(7, activation='softmax'))\n",
        "\n",
        "EfficientNet_Modell_7.summary()"
      ],
      "id": "W4YhaX-pz6zv"
    },
    {
      "cell_type": "code",
      "execution_count": null,
      "metadata": {
        "id": "GIeC_d1vz6zv"
      },
      "outputs": [],
      "source": [
        "EfficientNet_Modell_7.compile(optimizer=SGD(learning_rate=learning_rate),\n",
        "                     loss='categorical_crossentropy', metrics=['accuracy'])"
      ],
      "id": "GIeC_d1vz6zv"
    },
    {
      "cell_type": "code",
      "execution_count": null,
      "metadata": {
        "id": "b7xYC0VTz6zw"
      },
      "outputs": [],
      "source": [
        "checkpointer_EfficientNet_7 = [\n",
        "                      ModelCheckpoint('EfficientNet_7_SGD_32,0.01_DO+DA.h5', monitor=\"val_accuracy\", verbose=1, save_best_only=True,mode=\"max\"),\n",
        "                      CSVLogger('EfficientNet_7_SGD_32,0.01_DO+DA.log')\n",
        "                      ]"
      ],
      "id": "b7xYC0VTz6zw"
    },
    {
      "cell_type": "code",
      "execution_count": null,
      "metadata": {
        "id": "2z0pRYlNz6zw"
      },
      "outputs": [],
      "source": [
        "%%time\n",
        "history_EfficientNet_7 = EfficientNet_Modell_7.fit_generator(\n",
        "    train_generator,\n",
        "    validation_data=(X_val_48x48, y_val_cat),\n",
        "    epochs=epochs,\n",
        "    callbacks=checkpointer_EfficientNet_7)"
      ],
      "id": "2z0pRYlNz6zw"
    },
    {
      "cell_type": "markdown",
      "metadata": {
        "id": "6eQAW7hRz6z0"
      },
      "source": [
        "##### (8) Adam: Dropout + Data Augmentation"
      ],
      "id": "6eQAW7hRz6z0"
    },
    {
      "cell_type": "code",
      "execution_count": null,
      "metadata": {
        "colab": {
          "base_uri": "https://localhost:8080/"
        },
        "id": "JDN-QQCkz6z0",
        "outputId": "0903e462-ff2b-4ff0-849a-b8734850a2c0"
      },
      "outputs": [
        {
          "name": "stdout",
          "output_type": "stream",
          "text": [
            "Model: \"sequential_1\"\n",
            "_________________________________________________________________\n",
            " Layer (type)                Output Shape              Param #   \n",
            "=================================================================\n",
            " efficientnetv2-b0 (Function  (None, 2, 2, 1280)       5918736   \n",
            " al)                                                             \n",
            "                                                                 \n",
            " flatten_1 (Flatten)         (None, 5120)              0         \n",
            "                                                                 \n",
            " dense_3 (Dense)             (None, 4096)              20975616  \n",
            "                                                                 \n",
            " batch_normalization_2 (Batc  (None, 4096)             16384     \n",
            " hNormalization)                                                 \n",
            "                                                                 \n",
            " activation_2 (Activation)   (None, 4096)              0         \n",
            "                                                                 \n",
            " dropout (Dropout)           (None, 4096)              0         \n",
            "                                                                 \n",
            " dense_4 (Dense)             (None, 4096)              16781312  \n",
            "                                                                 \n",
            " batch_normalization_3 (Batc  (None, 4096)             16384     \n",
            " hNormalization)                                                 \n",
            "                                                                 \n",
            " activation_3 (Activation)   (None, 4096)              0         \n",
            "                                                                 \n",
            " dropout_1 (Dropout)         (None, 4096)              0         \n",
            "                                                                 \n",
            " dense_5 (Dense)             (None, 7)                 28679     \n",
            "                                                                 \n",
            "=================================================================\n",
            "Total params: 43,737,111\n",
            "Trainable params: 43,660,119\n",
            "Non-trainable params: 76,992\n",
            "_________________________________________________________________\n"
          ]
        }
      ],
      "source": [
        "EfficientNet_Modell_8 = Sequential()\n",
        "EfficientNet_Modell_8.add(EfficientNet_ohne_MLP)\n",
        "EfficientNet_Modell_8.add(Flatten())\n",
        "\n",
        "EfficientNet_Modell_8.add(Dense(4096))\n",
        "EfficientNet_Modell_8.add(BatchNormalization())\n",
        "EfficientNet_Modell_8.add(Activation('relu'))\n",
        "EfficientNet_Modell_8.add(Dropout(0.75))\n",
        "\n",
        "EfficientNet_Modell_8.add(Dense(4096))\n",
        "EfficientNet_Modell_8.add(BatchNormalization())\n",
        "EfficientNet_Modell_8.add(Activation('relu'))\n",
        "EfficientNet_Modell_8.add(Dropout(0.75))\n",
        "\n",
        "EfficientNet_Modell_8.add(Dense(7, activation='softmax'))\n",
        "\n",
        "EfficientNet_Modell_8.summary()"
      ],
      "id": "JDN-QQCkz6z0"
    },
    {
      "cell_type": "code",
      "execution_count": null,
      "metadata": {
        "id": "LP-L0DB9z6z1"
      },
      "outputs": [],
      "source": [
        "EfficientNet_Modell_8.compile(optimizer=Adam(learning_rate=learning_rate),\n",
        "                     loss='categorical_crossentropy', metrics=['accuracy'])"
      ],
      "id": "LP-L0DB9z6z1"
    },
    {
      "cell_type": "code",
      "execution_count": null,
      "metadata": {
        "id": "au7RVZdtz6z1"
      },
      "outputs": [],
      "source": [
        "checkpointer_EfficientNet_8 = [\n",
        "                      ModelCheckpoint('EfficientNet_8_Adam_32,0.01_DO+DA.h5', monitor=\"val_accuracy\", verbose=1, save_best_only=True,mode=\"max\"),\n",
        "                      CSVLogger('EfficientNet_8_Adam_32,0.01_DO+DA.log')\n",
        "                      ]"
      ],
      "id": "au7RVZdtz6z1"
    },
    {
      "cell_type": "code",
      "execution_count": null,
      "metadata": {
        "id": "p0C0oQQYz6z1"
      },
      "outputs": [],
      "source": [
        "%%time\n",
        "history_EfficientNet_8 = EfficientNet_Modell_8.fit_generator(\n",
        "    train_generator,\n",
        "    validation_data=(X_val_48x48, y_val_cat),\n",
        "    epochs=epochs,\n",
        "    callbacks=checkpointer_EfficientNet_8)    "
      ],
      "id": "p0C0oQQYz6z1"
    },
    {
      "cell_type": "markdown",
      "metadata": {
        "id": "U2R08h__Wyz6"
      },
      "source": [
        "#### Vortrainiertes EfficientNet"
      ],
      "id": "U2R08h__Wyz6"
    },
    {
      "cell_type": "markdown",
      "metadata": {
        "id": "KAwxnjmzWyz7"
      },
      "source": [
        "##### (9) SGD: Blanco"
      ],
      "id": "KAwxnjmzWyz7"
    },
    {
      "cell_type": "code",
      "execution_count": null,
      "metadata": {
        "id": "dbLs1KnuuMbq"
      },
      "outputs": [],
      "source": [
        "EfficientNet_vortrainiert.trainable=False"
      ],
      "id": "dbLs1KnuuMbq"
    },
    {
      "cell_type": "code",
      "execution_count": null,
      "metadata": {
        "colab": {
          "base_uri": "https://localhost:8080/"
        },
        "id": "8v7f174SWyz7",
        "outputId": "52f5acd8-650f-43ae-b510-e3ca0f156d71"
      },
      "outputs": [
        {
          "name": "stdout",
          "output_type": "stream",
          "text": [
            "Model: \"sequential_4\"\n",
            "_________________________________________________________________\n",
            " Layer (type)                Output Shape              Param #   \n",
            "=================================================================\n",
            " efficientnetv2-b0 (Function  (None, 2, 2, 1280)       5919312   \n",
            " al)                                                             \n",
            "                                                                 \n",
            " flatten_3 (Flatten)         (None, 5120)              0         \n",
            "                                                                 \n",
            " dense_9 (Dense)             (None, 4096)              20975616  \n",
            "                                                                 \n",
            " batch_normalization_6 (Batc  (None, 4096)             16384     \n",
            " hNormalization)                                                 \n",
            "                                                                 \n",
            " activation_6 (Activation)   (None, 4096)              0         \n",
            "                                                                 \n",
            " dense_10 (Dense)            (None, 4096)              16781312  \n",
            "                                                                 \n",
            " batch_normalization_7 (Batc  (None, 4096)             16384     \n",
            " hNormalization)                                                 \n",
            "                                                                 \n",
            " activation_7 (Activation)   (None, 4096)              0         \n",
            "                                                                 \n",
            " dense_11 (Dense)            (None, 7)                 28679     \n",
            "                                                                 \n",
            "=================================================================\n",
            "Total params: 43,737,687\n",
            "Trainable params: 37,801,991\n",
            "Non-trainable params: 5,935,696\n",
            "_________________________________________________________________\n"
          ]
        }
      ],
      "source": [
        "EfficientNet_Modell_9 = Sequential()\n",
        "EfficientNet_Modell_9.add(EfficientNet_vortrainiert)\n",
        "EfficientNet_Modell_9.add(Flatten())\n",
        "\n",
        "EfficientNet_Modell_9.add(Dense(4096))\n",
        "EfficientNet_Modell_9.add(BatchNormalization())\n",
        "EfficientNet_Modell_9.add(Activation('relu'))\n",
        "\n",
        "EfficientNet_Modell_9.add(Dense(4096))\n",
        "EfficientNet_Modell_9.add(BatchNormalization())\n",
        "EfficientNet_Modell_9.add(Activation('relu'))\n",
        "\n",
        "EfficientNet_Modell_9.add(Dense(7, activation='softmax'))\n",
        "\n",
        "EfficientNet_Modell_9.summary()"
      ],
      "id": "8v7f174SWyz7"
    },
    {
      "cell_type": "code",
      "execution_count": null,
      "metadata": {
        "id": "TXsCSs3nWyz8"
      },
      "outputs": [],
      "source": [
        "EfficientNet_Modell_9.compile(optimizer=SGD(learning_rate=learning_rate),\n",
        "                     loss='categorical_crossentropy', metrics=['accuracy'])"
      ],
      "id": "TXsCSs3nWyz8"
    },
    {
      "cell_type": "code",
      "execution_count": null,
      "metadata": {
        "id": "tCNuQdTPWyz9"
      },
      "outputs": [],
      "source": [
        "checkpointer_EfficientNet_9 = [\n",
        "                      ModelCheckpoint('EfficientNet_9_SGD_32,0.01_TL.h5', monitor=\"val_accuracy\", verbose=1, save_best_only=True,mode=\"max\"),\n",
        "                      CSVLogger('EfficientNet_9_SGD_32,0.01_TL.log')\n",
        "                      ]"
      ],
      "id": "tCNuQdTPWyz9"
    },
    {
      "cell_type": "code",
      "execution_count": null,
      "metadata": {
        "id": "XpqZMdszWyz-"
      },
      "outputs": [],
      "source": [
        "%%time\n",
        "history_EfficientNet_9 = EfficientNet_Modell_9.fit(\n",
        "    X_train_rgb,\n",
        "    y_train_cat,\n",
        "    batch_size=batch_size,\n",
        "    epochs=epochs,\n",
        "    callbacks=checkpointer_EfficientNet_9,\n",
        "    validation_data=(X_val_rgb, y_val_cat)\n",
        ")\n",
        "\n",
        "EfficientNet_Modell_9.save_weights('EfficientNet_Weights_9_SGD_32,0.01_TL.h5')"
      ],
      "id": "XpqZMdszWyz-"
    },
    {
      "cell_type": "markdown",
      "metadata": {
        "id": "sJBK75xZWyz-"
      },
      "source": [
        "##### (10) Adam: Blanco"
      ],
      "id": "sJBK75xZWyz-"
    },
    {
      "cell_type": "code",
      "execution_count": null,
      "metadata": {
        "id": "uQtymdE_uOLc"
      },
      "outputs": [],
      "source": [
        "EfficientNet_vortrainiert.trainable=False"
      ],
      "id": "uQtymdE_uOLc"
    },
    {
      "cell_type": "code",
      "execution_count": null,
      "metadata": {
        "colab": {
          "base_uri": "https://localhost:8080/"
        },
        "id": "Z5CSTKOGWyz_",
        "outputId": "8b37c594-65db-478e-a7bc-bdab469ad762"
      },
      "outputs": [
        {
          "name": "stdout",
          "output_type": "stream",
          "text": [
            "Model: \"sequential_5\"\n",
            "_________________________________________________________________\n",
            " Layer (type)                Output Shape              Param #   \n",
            "=================================================================\n",
            " efficientnetv2-b0 (Function  (None, 2, 2, 1280)       5919312   \n",
            " al)                                                             \n",
            "                                                                 \n",
            " flatten_4 (Flatten)         (None, 5120)              0         \n",
            "                                                                 \n",
            " dense_12 (Dense)            (None, 4096)              20975616  \n",
            "                                                                 \n",
            " batch_normalization_8 (Batc  (None, 4096)             16384     \n",
            " hNormalization)                                                 \n",
            "                                                                 \n",
            " activation_8 (Activation)   (None, 4096)              0         \n",
            "                                                                 \n",
            " dense_13 (Dense)            (None, 4096)              16781312  \n",
            "                                                                 \n",
            " batch_normalization_9 (Batc  (None, 4096)             16384     \n",
            " hNormalization)                                                 \n",
            "                                                                 \n",
            " activation_9 (Activation)   (None, 4096)              0         \n",
            "                                                                 \n",
            " dense_14 (Dense)            (None, 7)                 28679     \n",
            "                                                                 \n",
            "=================================================================\n",
            "Total params: 43,737,687\n",
            "Trainable params: 37,801,991\n",
            "Non-trainable params: 5,935,696\n",
            "_________________________________________________________________\n"
          ]
        }
      ],
      "source": [
        "EfficientNet_Modell_10 = Sequential()\n",
        "EfficientNet_Modell_10.add(EfficientNet_vortrainiert)\n",
        "EfficientNet_Modell_10.add(Flatten())\n",
        "\n",
        "EfficientNet_Modell_10.add(Dense(4096))\n",
        "EfficientNet_Modell_10.add(BatchNormalization())\n",
        "EfficientNet_Modell_10.add(Activation('relu'))\n",
        "\n",
        "EfficientNet_Modell_10.add(Dense(4096))\n",
        "EfficientNet_Modell_10.add(BatchNormalization())\n",
        "EfficientNet_Modell_10.add(Activation('relu'))\n",
        "\n",
        "EfficientNet_Modell_10.add(Dense(7, activation='softmax'))\n",
        "\n",
        "EfficientNet_Modell_10.summary()"
      ],
      "id": "Z5CSTKOGWyz_"
    },
    {
      "cell_type": "code",
      "execution_count": null,
      "metadata": {
        "id": "9edTSfRnWyz_"
      },
      "outputs": [],
      "source": [
        "EfficientNet_Modell_10.compile(optimizer=Adam(learning_rate=learning_rate),\n",
        "                     loss='categorical_crossentropy', metrics=['accuracy'])"
      ],
      "id": "9edTSfRnWyz_"
    },
    {
      "cell_type": "code",
      "execution_count": null,
      "metadata": {
        "id": "i1ZQAf0_Wy0A"
      },
      "outputs": [],
      "source": [
        "checkpointer_EfficientNet_10 = [\n",
        "                      ModelCheckpoint('EfficientNet_10_Adam_32,0.01_TL.h5', monitor=\"val_accuracy\", verbose=1, save_best_only=True,mode=\"max\"),\n",
        "                      CSVLogger('EfficientNet_10_Adam_32,0.01_TL.log')\n",
        "                      ]"
      ],
      "id": "i1ZQAf0_Wy0A"
    },
    {
      "cell_type": "code",
      "execution_count": null,
      "metadata": {
        "id": "WJI4HE8jWy0A"
      },
      "outputs": [],
      "source": [
        "%%time\n",
        "history_EfficientNet_10 = EfficientNet_Modell_10.fit(\n",
        "    X_train_rgb,\n",
        "    y_train_cat,\n",
        "    batch_size=batch_size,\n",
        "    epochs=epochs,\n",
        "    callbacks=checkpointer_EfficientNet_10,\n",
        "    validation_data=(X_val_rgb, y_val_cat)\n",
        ")\n",
        "\n",
        "EfficientNet_Modell_10.save_weights('EfficientNet_Weights_10_Adam_32,0.01_TL.h5')"
      ],
      "id": "WJI4HE8jWy0A"
    },
    {
      "cell_type": "markdown",
      "metadata": {
        "id": "Ve9afLguWy0B"
      },
      "source": [
        "##### (11) SGD: Dropout"
      ],
      "id": "Ve9afLguWy0B"
    },
    {
      "cell_type": "code",
      "execution_count": null,
      "metadata": {
        "id": "9uc_j_3WuOvm"
      },
      "outputs": [],
      "source": [
        "EfficientNet_vortrainiert.trainable=False"
      ],
      "id": "9uc_j_3WuOvm"
    },
    {
      "cell_type": "code",
      "execution_count": null,
      "metadata": {
        "colab": {
          "base_uri": "https://localhost:8080/"
        },
        "id": "IbPkfPSkWy0B",
        "outputId": "bce4f245-f376-445d-d74b-2d0fe7d4cb77"
      },
      "outputs": [
        {
          "name": "stdout",
          "output_type": "stream",
          "text": [
            "Model: \"sequential_6\"\n",
            "_________________________________________________________________\n",
            " Layer (type)                Output Shape              Param #   \n",
            "=================================================================\n",
            " efficientnetv2-b0 (Function  (None, 2, 2, 1280)       5919312   \n",
            " al)                                                             \n",
            "                                                                 \n",
            " flatten_5 (Flatten)         (None, 5120)              0         \n",
            "                                                                 \n",
            " dense_15 (Dense)            (None, 4096)              20975616  \n",
            "                                                                 \n",
            " batch_normalization_10 (Bat  (None, 4096)             16384     \n",
            " chNormalization)                                                \n",
            "                                                                 \n",
            " activation_10 (Activation)  (None, 4096)              0         \n",
            "                                                                 \n",
            " dropout (Dropout)           (None, 4096)              0         \n",
            "                                                                 \n",
            " dense_16 (Dense)            (None, 4096)              16781312  \n",
            "                                                                 \n",
            " batch_normalization_11 (Bat  (None, 4096)             16384     \n",
            " chNormalization)                                                \n",
            "                                                                 \n",
            " activation_11 (Activation)  (None, 4096)              0         \n",
            "                                                                 \n",
            " dropout_1 (Dropout)         (None, 4096)              0         \n",
            "                                                                 \n",
            " dense_17 (Dense)            (None, 7)                 28679     \n",
            "                                                                 \n",
            "=================================================================\n",
            "Total params: 43,737,687\n",
            "Trainable params: 37,801,991\n",
            "Non-trainable params: 5,935,696\n",
            "_________________________________________________________________\n"
          ]
        }
      ],
      "source": [
        "EfficientNet_Modell_11 = Sequential()\n",
        "EfficientNet_Modell_11.add(EfficientNet_vortrainiert)\n",
        "EfficientNet_Modell_11.add(Flatten())\n",
        "\n",
        "EfficientNet_Modell_11.add(Dense(4096))\n",
        "EfficientNet_Modell_11.add(BatchNormalization())\n",
        "EfficientNet_Modell_11.add(Activation('relu'))\n",
        "EfficientNet_Modell_11.add(Dropout(0.75))\n",
        "\n",
        "EfficientNet_Modell_11.add(Dense(4096))\n",
        "EfficientNet_Modell_11.add(BatchNormalization())\n",
        "EfficientNet_Modell_11.add(Activation('relu'))\n",
        "EfficientNet_Modell_11.add(Dropout(0.75))\n",
        "\n",
        "EfficientNet_Modell_11.add(Dense(7, activation='softmax'))\n",
        "\n",
        "EfficientNet_Modell_11.summary()"
      ],
      "id": "IbPkfPSkWy0B"
    },
    {
      "cell_type": "code",
      "execution_count": null,
      "metadata": {
        "id": "7M-fkRnGWy0C"
      },
      "outputs": [],
      "source": [
        "EfficientNet_Modell_11.compile(optimizer=SGD(learning_rate=learning_rate),\n",
        "                     loss='categorical_crossentropy', metrics=['accuracy'])"
      ],
      "id": "7M-fkRnGWy0C"
    },
    {
      "cell_type": "code",
      "execution_count": null,
      "metadata": {
        "id": "Ub5mg-ALWy0C"
      },
      "outputs": [],
      "source": [
        "checkpointer_EfficientNet_11 = [\n",
        "                      ModelCheckpoint('EfficientNet_11_SGD_32,0.01_DO_TL.h5', monitor=\"val_accuracy\", verbose=1, save_best_only=True,mode=\"max\"),\n",
        "                      CSVLogger('EfficientNet_11_SGD_32,0.01_DO_TL.log')\n",
        "                      ]"
      ],
      "id": "Ub5mg-ALWy0C"
    },
    {
      "cell_type": "code",
      "execution_count": null,
      "metadata": {
        "id": "5GdS5TsVWy0D"
      },
      "outputs": [],
      "source": [
        "%%time\n",
        "history_EfficientNet_11 = EfficientNet_Modell_11.fit(\n",
        "    X_train_rgb,\n",
        "    y_train_cat,\n",
        "    batch_size=batch_size,\n",
        "    epochs=epochs,\n",
        "    callbacks=checkpointer_EfficientNet_11,\n",
        "    validation_data=(X_val_rgb, y_val_cat)\n",
        ")\n",
        "\n",
        "EfficientNet_Modell_11.save_weights('EfficientNet_Weights_11_SGD_32,0.01_DO_TL.h5')"
      ],
      "id": "5GdS5TsVWy0D"
    },
    {
      "cell_type": "markdown",
      "metadata": {
        "id": "KwGuczmjWy0D"
      },
      "source": [
        "##### (12) Adam: Dropout"
      ],
      "id": "KwGuczmjWy0D"
    },
    {
      "cell_type": "code",
      "execution_count": null,
      "metadata": {
        "id": "Ay79rhrfuPcF"
      },
      "outputs": [],
      "source": [
        "EfficientNet_vortrainiert.trainable=False"
      ],
      "id": "Ay79rhrfuPcF"
    },
    {
      "cell_type": "code",
      "execution_count": null,
      "metadata": {
        "colab": {
          "base_uri": "https://localhost:8080/"
        },
        "id": "v3UvDW5lWy0E",
        "outputId": "eb26ebdf-768d-433b-9682-0791d21a2dd7"
      },
      "outputs": [
        {
          "name": "stdout",
          "output_type": "stream",
          "text": [
            "Model: \"sequential_7\"\n",
            "_________________________________________________________________\n",
            " Layer (type)                Output Shape              Param #   \n",
            "=================================================================\n",
            " efficientnetv2-b0 (Function  (None, 2, 2, 1280)       5919312   \n",
            " al)                                                             \n",
            "                                                                 \n",
            " flatten_6 (Flatten)         (None, 5120)              0         \n",
            "                                                                 \n",
            " dense_18 (Dense)            (None, 4096)              20975616  \n",
            "                                                                 \n",
            " batch_normalization_12 (Bat  (None, 4096)             16384     \n",
            " chNormalization)                                                \n",
            "                                                                 \n",
            " activation_12 (Activation)  (None, 4096)              0         \n",
            "                                                                 \n",
            " dropout_2 (Dropout)         (None, 4096)              0         \n",
            "                                                                 \n",
            " dense_19 (Dense)            (None, 4096)              16781312  \n",
            "                                                                 \n",
            " batch_normalization_13 (Bat  (None, 4096)             16384     \n",
            " chNormalization)                                                \n",
            "                                                                 \n",
            " activation_13 (Activation)  (None, 4096)              0         \n",
            "                                                                 \n",
            " dropout_3 (Dropout)         (None, 4096)              0         \n",
            "                                                                 \n",
            " dense_20 (Dense)            (None, 7)                 28679     \n",
            "                                                                 \n",
            "=================================================================\n",
            "Total params: 43,737,687\n",
            "Trainable params: 37,801,991\n",
            "Non-trainable params: 5,935,696\n",
            "_________________________________________________________________\n"
          ]
        }
      ],
      "source": [
        "EfficientNet_Modell_12 = Sequential()\n",
        "EfficientNet_Modell_12.add(EfficientNet_vortrainiert)\n",
        "EfficientNet_Modell_12.add(Flatten())\n",
        "\n",
        "EfficientNet_Modell_12.add(Dense(4096))\n",
        "EfficientNet_Modell_12.add(BatchNormalization())\n",
        "EfficientNet_Modell_12.add(Activation('relu'))\n",
        "EfficientNet_Modell_12.add(Dropout(0.75))\n",
        "\n",
        "EfficientNet_Modell_12.add(Dense(4096))\n",
        "EfficientNet_Modell_12.add(BatchNormalization())\n",
        "EfficientNet_Modell_12.add(Activation('relu'))\n",
        "EfficientNet_Modell_12.add(Dropout(0.75))\n",
        "\n",
        "EfficientNet_Modell_12.add(Dense(7, activation='softmax'))\n",
        "\n",
        "EfficientNet_Modell_12.summary()"
      ],
      "id": "v3UvDW5lWy0E"
    },
    {
      "cell_type": "code",
      "execution_count": null,
      "metadata": {
        "id": "owG2dMsVWy0E"
      },
      "outputs": [],
      "source": [
        "EfficientNet_Modell_12.compile(optimizer=Adam(learning_rate=learning_rate),\n",
        "                     loss='categorical_crossentropy', metrics=['accuracy'])"
      ],
      "id": "owG2dMsVWy0E"
    },
    {
      "cell_type": "code",
      "execution_count": null,
      "metadata": {
        "id": "wJy4I6lfWy0F"
      },
      "outputs": [],
      "source": [
        "checkpointer_EfficientNet_12 = [\n",
        "                      ModelCheckpoint('EfficientNet_12_Adam_32,0.01_DO_TL.h5', monitor=\"val_accuracy\", verbose=1, save_best_only=True,mode=\"max\"),\n",
        "                      CSVLogger('EfficientNet_12_Adam_32,0.01_DO_TL.log')\n",
        "                      ]"
      ],
      "id": "wJy4I6lfWy0F"
    },
    {
      "cell_type": "code",
      "execution_count": null,
      "metadata": {
        "id": "8-JQJWBnWy0F"
      },
      "outputs": [],
      "source": [
        "%%time\n",
        "history_EfficientNet_12 = EfficientNet_Modell_12.fit_generator(\n",
        "    train_generator_rgb,\n",
        "    validation_data=(X_val_rgb, y_val_cat),\n",
        "    epochs=epochs,\n",
        "    callbacks=checkpointer_EfficientNet_12)\n",
        "\n",
        "EfficientNet_Modell_12.save_weights('EfficientNet_Weights_12_Adam_32,0.01_DO_TL.h5')"
      ],
      "id": "8-JQJWBnWy0F"
    },
    {
      "cell_type": "markdown",
      "metadata": {
        "id": "N62_scofWy0G"
      },
      "source": [
        "##### (13) SGD: Data Augmentation"
      ],
      "id": "N62_scofWy0G"
    },
    {
      "cell_type": "code",
      "execution_count": null,
      "metadata": {
        "id": "HX9b_vtwuQB2"
      },
      "outputs": [],
      "source": [
        "EfficientNet_vortrainiert.trainable=False"
      ],
      "id": "HX9b_vtwuQB2"
    },
    {
      "cell_type": "code",
      "execution_count": null,
      "metadata": {
        "colab": {
          "base_uri": "https://localhost:8080/"
        },
        "id": "ShqAamr2Wy0G",
        "outputId": "cac90f41-7242-42ac-f60a-e286c8198197"
      },
      "outputs": [
        {
          "name": "stdout",
          "output_type": "stream",
          "text": [
            "Model: \"sequential_8\"\n",
            "_________________________________________________________________\n",
            " Layer (type)                Output Shape              Param #   \n",
            "=================================================================\n",
            " efficientnetv2-b0 (Function  (None, 2, 2, 1280)       5919312   \n",
            " al)                                                             \n",
            "                                                                 \n",
            " flatten_7 (Flatten)         (None, 5120)              0         \n",
            "                                                                 \n",
            " dense_21 (Dense)            (None, 4096)              20975616  \n",
            "                                                                 \n",
            " batch_normalization_14 (Bat  (None, 4096)             16384     \n",
            " chNormalization)                                                \n",
            "                                                                 \n",
            " activation_14 (Activation)  (None, 4096)              0         \n",
            "                                                                 \n",
            " dense_22 (Dense)            (None, 4096)              16781312  \n",
            "                                                                 \n",
            " batch_normalization_15 (Bat  (None, 4096)             16384     \n",
            " chNormalization)                                                \n",
            "                                                                 \n",
            " activation_15 (Activation)  (None, 4096)              0         \n",
            "                                                                 \n",
            " dense_23 (Dense)            (None, 7)                 28679     \n",
            "                                                                 \n",
            "=================================================================\n",
            "Total params: 43,737,687\n",
            "Trainable params: 37,801,991\n",
            "Non-trainable params: 5,935,696\n",
            "_________________________________________________________________\n"
          ]
        }
      ],
      "source": [
        "EfficientNet_Modell_13 = Sequential()\n",
        "EfficientNet_Modell_13.add(EfficientNet_vortrainiert)\n",
        "EfficientNet_Modell_13.add(Flatten())\n",
        "\n",
        "EfficientNet_Modell_13.add(Dense(4096))\n",
        "EfficientNet_Modell_13.add(BatchNormalization())\n",
        "EfficientNet_Modell_13.add(Activation('relu'))\n",
        "\n",
        "EfficientNet_Modell_13.add(Dense(4096))\n",
        "EfficientNet_Modell_13.add(BatchNormalization())\n",
        "EfficientNet_Modell_13.add(Activation('relu'))\n",
        "\n",
        "EfficientNet_Modell_13.add(Dense(7, activation='softmax'))\n",
        "\n",
        "EfficientNet_Modell_13.summary()"
      ],
      "id": "ShqAamr2Wy0G"
    },
    {
      "cell_type": "code",
      "execution_count": null,
      "metadata": {
        "id": "SkC6DPCBWy0H"
      },
      "outputs": [],
      "source": [
        "EfficientNet_Modell_13.compile(optimizer=SGD(learning_rate=learning_rate),\n",
        "                     loss='categorical_crossentropy', metrics=['accuracy'])"
      ],
      "id": "SkC6DPCBWy0H"
    },
    {
      "cell_type": "code",
      "execution_count": null,
      "metadata": {
        "id": "2uAHNcJTWy0H"
      },
      "outputs": [],
      "source": [
        "checkpointer_EfficientNet_13 = [\n",
        "                      ModelCheckpoint('EfficientNet_13_SGD_32,0.01_DA_TL.h5', monitor=\"val_accuracy\", verbose=1, save_best_only=True,mode=\"max\"),\n",
        "                      CSVLogger('EfficientNet_13_SGD_32,0.01_DA_TL.log')\n",
        "                      ]"
      ],
      "id": "2uAHNcJTWy0H"
    },
    {
      "cell_type": "code",
      "execution_count": null,
      "metadata": {
        "id": "BlT5VpRQWy0I"
      },
      "outputs": [],
      "source": [
        "%%time\n",
        "history_EfficientNet_13 = EfficientNet_Modell_13.fit(\n",
        "    X_train_rgb,\n",
        "    y_train_cat,\n",
        "    batch_size=batch_size,\n",
        "    epochs=epochs,\n",
        "    callbacks=checkpointer_EfficientNet_13,\n",
        "    validation_data=(X_val_rgb, y_val_cat)\n",
        ")\n",
        "\n",
        "EfficientNet_Modell_13.save_weights('EfficientNet_Weights_13_SGD_32,0.01_DA_TL.h5')"
      ],
      "id": "BlT5VpRQWy0I"
    },
    {
      "cell_type": "markdown",
      "metadata": {
        "id": "1-mzxKCnWy0I"
      },
      "source": [
        "##### (14) Adam: Data Augmentation"
      ],
      "id": "1-mzxKCnWy0I"
    },
    {
      "cell_type": "code",
      "execution_count": null,
      "metadata": {
        "id": "InRuJwKcuQoK"
      },
      "outputs": [],
      "source": [
        "EfficientNet_vortrainiert.trainable=False"
      ],
      "id": "InRuJwKcuQoK"
    },
    {
      "cell_type": "code",
      "execution_count": null,
      "metadata": {
        "colab": {
          "base_uri": "https://localhost:8080/"
        },
        "id": "m6_BqdkRWy0J",
        "outputId": "49497bde-e9a8-4f82-c51c-df5cbe453be9"
      },
      "outputs": [
        {
          "name": "stdout",
          "output_type": "stream",
          "text": [
            "Model: \"sequential_9\"\n",
            "_________________________________________________________________\n",
            " Layer (type)                Output Shape              Param #   \n",
            "=================================================================\n",
            " efficientnetv2-b0 (Function  (None, 2, 2, 1280)       5919312   \n",
            " al)                                                             \n",
            "                                                                 \n",
            " flatten_8 (Flatten)         (None, 5120)              0         \n",
            "                                                                 \n",
            " dense_24 (Dense)            (None, 4096)              20975616  \n",
            "                                                                 \n",
            " batch_normalization_16 (Bat  (None, 4096)             16384     \n",
            " chNormalization)                                                \n",
            "                                                                 \n",
            " activation_16 (Activation)  (None, 4096)              0         \n",
            "                                                                 \n",
            " dense_25 (Dense)            (None, 4096)              16781312  \n",
            "                                                                 \n",
            " batch_normalization_17 (Bat  (None, 4096)             16384     \n",
            " chNormalization)                                                \n",
            "                                                                 \n",
            " activation_17 (Activation)  (None, 4096)              0         \n",
            "                                                                 \n",
            " dense_26 (Dense)            (None, 7)                 28679     \n",
            "                                                                 \n",
            "=================================================================\n",
            "Total params: 43,737,687\n",
            "Trainable params: 37,801,991\n",
            "Non-trainable params: 5,935,696\n",
            "_________________________________________________________________\n"
          ]
        }
      ],
      "source": [
        "EfficientNet_Modell_14 = Sequential()\n",
        "EfficientNet_Modell_14.add(EfficientNet_vortrainiert)\n",
        "EfficientNet_Modell_14.add(Flatten())\n",
        "\n",
        "EfficientNet_Modell_14.add(Dense(4096))\n",
        "EfficientNet_Modell_14.add(BatchNormalization())\n",
        "EfficientNet_Modell_14.add(Activation('relu'))\n",
        "\n",
        "EfficientNet_Modell_14.add(Dense(4096))\n",
        "EfficientNet_Modell_14.add(BatchNormalization())\n",
        "EfficientNet_Modell_14.add(Activation('relu'))\n",
        "\n",
        "EfficientNet_Modell_14.add(Dense(7, activation='softmax'))\n",
        "\n",
        "EfficientNet_Modell_14.summary()"
      ],
      "id": "m6_BqdkRWy0J"
    },
    {
      "cell_type": "code",
      "execution_count": null,
      "metadata": {
        "id": "hECGnjsvWy0J"
      },
      "outputs": [],
      "source": [
        "EfficientNet_Modell_14.compile(optimizer=Adam(learning_rate=learning_rate),\n",
        "                     loss='categorical_crossentropy', metrics=['accuracy'])"
      ],
      "id": "hECGnjsvWy0J"
    },
    {
      "cell_type": "code",
      "execution_count": null,
      "metadata": {
        "id": "kwa5plodWy0K"
      },
      "outputs": [],
      "source": [
        "checkpointer_EfficientNet_14 = [\n",
        "                      ModelCheckpoint('EfficientNet_14_Adam_32,0.01_DA_TL.h5', monitor=\"val_accuracy\", verbose=1, save_best_only=True,mode=\"max\"),\n",
        "                      CSVLogger('EfficientNet_14_Adam_32,0.01_DA_TL.log')\n",
        "                      ]"
      ],
      "id": "kwa5plodWy0K"
    },
    {
      "cell_type": "code",
      "execution_count": null,
      "metadata": {
        "id": "1bWZ_yZmWy0K"
      },
      "outputs": [],
      "source": [
        "%%time\n",
        "history_EfficientNet_14 = EfficientNet_Modell_14.fit_generator(\n",
        "    train_generator_rgb,\n",
        "    validation_data=(X_val_rgb, y_val_cat),\n",
        "    epochs=epochs,\n",
        "    callbacks=checkpointer_EfficientNet_14)\n",
        "\n",
        "EfficientNet_Modell_14.save_weights('EfficientNet_Weights_14_Adam_32,0.01_DA_TL.h5')"
      ],
      "id": "1bWZ_yZmWy0K"
    },
    {
      "cell_type": "markdown",
      "metadata": {
        "id": "4nmG8Zh1Wy0K"
      },
      "source": [
        "##### (15) SGD: Dropout + Data Augmentation"
      ],
      "id": "4nmG8Zh1Wy0K"
    },
    {
      "cell_type": "code",
      "execution_count": null,
      "metadata": {
        "id": "ivppwDE4uRR3"
      },
      "outputs": [],
      "source": [
        "EfficientNet_vortrainiert.trainable=False"
      ],
      "id": "ivppwDE4uRR3"
    },
    {
      "cell_type": "code",
      "execution_count": null,
      "metadata": {
        "colab": {
          "base_uri": "https://localhost:8080/"
        },
        "id": "xkb2SL5bWy0L",
        "outputId": "6ea8123e-d4c3-49d9-8154-749ac4db5832"
      },
      "outputs": [
        {
          "name": "stdout",
          "output_type": "stream",
          "text": [
            "Model: \"sequential_12\"\n",
            "_________________________________________________________________\n",
            " Layer (type)                Output Shape              Param #   \n",
            "=================================================================\n",
            " efficientnetv2-b0 (Function  (None, 2, 2, 1280)       5919312   \n",
            " al)                                                             \n",
            "                                                                 \n",
            " flatten_11 (Flatten)        (None, 5120)              0         \n",
            "                                                                 \n",
            " dense_33 (Dense)            (None, 4096)              20975616  \n",
            "                                                                 \n",
            " batch_normalization_22 (Bat  (None, 4096)             16384     \n",
            " chNormalization)                                                \n",
            "                                                                 \n",
            " activation_22 (Activation)  (None, 4096)              0         \n",
            "                                                                 \n",
            " dropout_8 (Dropout)         (None, 4096)              0         \n",
            "                                                                 \n",
            " dense_34 (Dense)            (None, 4096)              16781312  \n",
            "                                                                 \n",
            " batch_normalization_23 (Bat  (None, 4096)             16384     \n",
            " chNormalization)                                                \n",
            "                                                                 \n",
            " activation_23 (Activation)  (None, 4096)              0         \n",
            "                                                                 \n",
            " dropout_9 (Dropout)         (None, 4096)              0         \n",
            "                                                                 \n",
            " dense_35 (Dense)            (None, 7)                 28679     \n",
            "                                                                 \n",
            "=================================================================\n",
            "Total params: 43,737,687\n",
            "Trainable params: 37,801,991\n",
            "Non-trainable params: 5,935,696\n",
            "_________________________________________________________________\n"
          ]
        }
      ],
      "source": [
        "EfficientNet_Modell_15 = Sequential()\n",
        "EfficientNet_Modell_15.add(EfficientNet_vortrainiert)\n",
        "EfficientNet_Modell_15.add(Flatten())\n",
        "\n",
        "EfficientNet_Modell_15.add(Dense(4096))\n",
        "EfficientNet_Modell_15.add(BatchNormalization())\n",
        "EfficientNet_Modell_15.add(Activation('relu'))\n",
        "EfficientNet_Modell_15.add(Dropout(0.75))\n",
        "\n",
        "EfficientNet_Modell_15.add(Dense(4096))\n",
        "EfficientNet_Modell_15.add(BatchNormalization())\n",
        "EfficientNet_Modell_15.add(Activation('relu'))\n",
        "EfficientNet_Modell_15.add(Dropout(0.75))\n",
        "\n",
        "EfficientNet_Modell_15.add(Dense(7, activation='softmax'))\n",
        "\n",
        "EfficientNet_Modell_15.summary()"
      ],
      "id": "xkb2SL5bWy0L"
    },
    {
      "cell_type": "code",
      "execution_count": null,
      "metadata": {
        "id": "yrgNiQoZWy0L"
      },
      "outputs": [],
      "source": [
        "EfficientNet_Modell_15.compile(optimizer=SGD(learning_rate=learning_rate),\n",
        "                     loss='categorical_crossentropy', metrics=['accuracy'])"
      ],
      "id": "yrgNiQoZWy0L"
    },
    {
      "cell_type": "code",
      "execution_count": null,
      "metadata": {
        "id": "JmvSxxiAWy0M"
      },
      "outputs": [],
      "source": [
        "checkpointer_EfficientNet_15 = [\n",
        "                      ModelCheckpoint('EfficientNet_15_SGD_32,0.01_DO+DA_TL.h5', monitor=\"val_accuracy\", verbose=1, save_best_only=True,mode=\"max\"),\n",
        "                      CSVLogger('EfficientNet_15_SGD_32,0.01_DO+DA_TL.log')\n",
        "                      ]"
      ],
      "id": "JmvSxxiAWy0M"
    },
    {
      "cell_type": "code",
      "execution_count": null,
      "metadata": {
        "id": "pf0iNZXCWy0M"
      },
      "outputs": [],
      "source": [
        "%%time\n",
        "history_EfficientNet_15 = EfficientNet_Modell_15.fit_generator(\n",
        "    train_generator_rgb,\n",
        "    validation_data=(X_val_rgb, y_val_cat),\n",
        "    epochs=epochs,\n",
        "    callbacks=checkpointer_EfficientNet_15)    \n",
        "\n",
        "EfficientNet_Modell_15.save_weights('EfficientNet_Weights_15_SGD_32,0.01_DO+DA_TL.h5')"
      ],
      "id": "pf0iNZXCWy0M"
    },
    {
      "cell_type": "markdown",
      "metadata": {
        "id": "CNOKuSUGWy0N"
      },
      "source": [
        "##### (16) Adam: Dropout + Data Augmentation"
      ],
      "id": "CNOKuSUGWy0N"
    },
    {
      "cell_type": "code",
      "execution_count": null,
      "metadata": {
        "id": "mbVUHFWquSBn"
      },
      "outputs": [],
      "source": [
        "EfficientNet_vortrainiert.trainable=False"
      ],
      "id": "mbVUHFWquSBn"
    },
    {
      "cell_type": "code",
      "execution_count": null,
      "metadata": {
        "colab": {
          "base_uri": "https://localhost:8080/"
        },
        "id": "ir1eX9pMWy0O",
        "outputId": "75e21f63-9c68-473d-f98e-36476f467b00"
      },
      "outputs": [
        {
          "name": "stdout",
          "output_type": "stream",
          "text": [
            "Model: \"sequential_13\"\n",
            "_________________________________________________________________\n",
            " Layer (type)                Output Shape              Param #   \n",
            "=================================================================\n",
            " efficientnetv2-b0 (Function  (None, 2, 2, 1280)       5919312   \n",
            " al)                                                             \n",
            "                                                                 \n",
            " flatten_12 (Flatten)        (None, 5120)              0         \n",
            "                                                                 \n",
            " dense_36 (Dense)            (None, 4096)              20975616  \n",
            "                                                                 \n",
            " batch_normalization_24 (Bat  (None, 4096)             16384     \n",
            " chNormalization)                                                \n",
            "                                                                 \n",
            " activation_24 (Activation)  (None, 4096)              0         \n",
            "                                                                 \n",
            " dropout_10 (Dropout)        (None, 4096)              0         \n",
            "                                                                 \n",
            " dense_37 (Dense)            (None, 4096)              16781312  \n",
            "                                                                 \n",
            " batch_normalization_25 (Bat  (None, 4096)             16384     \n",
            " chNormalization)                                                \n",
            "                                                                 \n",
            " activation_25 (Activation)  (None, 4096)              0         \n",
            "                                                                 \n",
            " dropout_11 (Dropout)        (None, 4096)              0         \n",
            "                                                                 \n",
            " dense_38 (Dense)            (None, 7)                 28679     \n",
            "                                                                 \n",
            "=================================================================\n",
            "Total params: 43,737,687\n",
            "Trainable params: 37,801,991\n",
            "Non-trainable params: 5,935,696\n",
            "_________________________________________________________________\n"
          ]
        }
      ],
      "source": [
        "EfficientNet_Modell_16 = Sequential()\n",
        "EfficientNet_Modell_16.add(EfficientNet_vortrainiert)\n",
        "EfficientNet_Modell_16.add(Flatten())\n",
        "\n",
        "EfficientNet_Modell_16.add(Dense(4096))\n",
        "EfficientNet_Modell_16.add(BatchNormalization())\n",
        "EfficientNet_Modell_16.add(Activation('relu'))\n",
        "EfficientNet_Modell_16.add(Dropout(0.75))\n",
        "\n",
        "EfficientNet_Modell_16.add(Dense(4096))\n",
        "EfficientNet_Modell_16.add(BatchNormalization())\n",
        "EfficientNet_Modell_16.add(Activation('relu'))\n",
        "EfficientNet_Modell_16.add(Dropout(0.75))\n",
        "\n",
        "EfficientNet_Modell_16.add(Dense(7, activation='softmax'))\n",
        "\n",
        "EfficientNet_Modell_16.summary()"
      ],
      "id": "ir1eX9pMWy0O"
    },
    {
      "cell_type": "code",
      "execution_count": null,
      "metadata": {
        "id": "xrmGnKQvWy0O"
      },
      "outputs": [],
      "source": [
        "EfficientNet_Modell_16.compile(optimizer=Adam(learning_rate=learning_rate),\n",
        "                     loss='categorical_crossentropy', metrics=['accuracy'])"
      ],
      "id": "xrmGnKQvWy0O"
    },
    {
      "cell_type": "code",
      "execution_count": null,
      "metadata": {
        "id": "YAp7pmRGWy0O"
      },
      "outputs": [],
      "source": [
        "checkpointer_EfficientNet_16 = [\n",
        "                      ModelCheckpoint('EfficientNet_16_Adam_32,0.01_DO+DA_TL.h5', monitor=\"val_accuracy\", verbose=1, save_best_only=True,mode=\"max\"),\n",
        "                      CSVLogger('EfficientNet_16_Adam_32,0.01_DO+DA_TL.log')\n",
        "                      ]"
      ],
      "id": "YAp7pmRGWy0O"
    },
    {
      "cell_type": "code",
      "execution_count": null,
      "metadata": {
        "id": "j3L5QG_6Wy0P"
      },
      "outputs": [],
      "source": [
        "%%time\n",
        "history_EfficientNet_16 = EfficientNet_Modell_16.fit_generator(\n",
        "    train_generator_rgb,\n",
        "    validation_data=(X_val_rgb, y_val_cat),\n",
        "    epochs=epochs,\n",
        "    callbacks=checkpointer_EfficientNet_16)   \n",
        "\n",
        "EfficientNet_Modell_16.save_weights('EfficientNet_Weights_16_Adam_32,0.01_DO+DA_TL.h5')"
      ],
      "id": "j3L5QG_6Wy0P"
    },
    {
      "cell_type": "markdown",
      "metadata": {
        "id": "5b22b30f-d3b3-4460-9796-967a35907f1f"
      },
      "source": [
        "# Finetuning\n"
      ],
      "id": "5b22b30f-d3b3-4460-9796-967a35907f1f"
    },
    {
      "cell_type": "code",
      "source": [
        "#Festlegung der Hyperparameter des Finetunings\n",
        "initial_learning_rate = 0.005\n",
        "epochs_finetune = 100\n",
        "decay = initial_learning_rate / epochs_finetune\n",
        "#Definition für abnehmende Lernrate im Verlauf der Trainingsepochen\n",
        "def lr_time_based_decay(epoch, lr):\n",
        "    return lr * 1 / (1 + decay * epoch)"
      ],
      "metadata": {
        "id": "JR_gWn5WU59l"
      },
      "id": "JR_gWn5WU59l",
      "execution_count": null,
      "outputs": []
    },
    {
      "cell_type": "markdown",
      "metadata": {
        "id": "80BscwZJatsw"
      },
      "source": [
        "#### AlexNet"
      ],
      "id": "80BscwZJatsw"
    },
    {
      "cell_type": "markdown",
      "source": [
        "##### AlexNet (6) Adam: Data Augmentation "
      ],
      "metadata": {
        "id": "R9M5GafqCAwF"
      },
      "id": "R9M5GafqCAwF"
    },
    {
      "cell_type": "code",
      "execution_count": null,
      "metadata": {
        "id": "yFvh4eCXXnhL"
      },
      "outputs": [],
      "source": [
        "#Modell laden:\n",
        "AlexNet_6_Finetune = load_model('AlexNet_6_Adam_32,0.01_DA.h5')"
      ],
      "id": "yFvh4eCXXnhL"
    },
    {
      "cell_type": "code",
      "execution_count": null,
      "metadata": {
        "colab": {
          "base_uri": "https://localhost:8080/"
        },
        "id": "MoxwnKK2ZK1H",
        "outputId": "ceccd48c-d6c0-49af-a1b8-5461c8f5fe3a"
      },
      "outputs": [
        {
          "output_type": "stream",
          "name": "stdout",
          "text": [
            "Model: \"sequential_2\"\n",
            "_________________________________________________________________\n",
            " Layer (type)                Output Shape              Param #   \n",
            "=================================================================\n",
            " conv2d_10 (Conv2D)          (None, 12, 12, 96)        11712     \n",
            "                                                                 \n",
            " batch_normalization_16 (Bat  (None, 12, 12, 96)       384       \n",
            " chNormalization)                                                \n",
            "                                                                 \n",
            " activation_16 (Activation)  (None, 12, 12, 96)        0         \n",
            "                                                                 \n",
            " max_pooling2d_6 (MaxPooling  (None, 6, 6, 96)         0         \n",
            " 2D)                                                             \n",
            "                                                                 \n",
            " conv2d_11 (Conv2D)          (None, 6, 6, 256)         614656    \n",
            "                                                                 \n",
            " batch_normalization_17 (Bat  (None, 6, 6, 256)        1024      \n",
            " chNormalization)                                                \n",
            "                                                                 \n",
            " activation_17 (Activation)  (None, 6, 6, 256)         0         \n",
            "                                                                 \n",
            " max_pooling2d_7 (MaxPooling  (None, 3, 3, 256)        0         \n",
            " 2D)                                                             \n",
            "                                                                 \n",
            " conv2d_12 (Conv2D)          (None, 3, 3, 384)         885120    \n",
            "                                                                 \n",
            " batch_normalization_18 (Bat  (None, 3, 3, 384)        1536      \n",
            " chNormalization)                                                \n",
            "                                                                 \n",
            " activation_18 (Activation)  (None, 3, 3, 384)         0         \n",
            "                                                                 \n",
            " conv2d_13 (Conv2D)          (None, 3, 3, 384)         1327488   \n",
            "                                                                 \n",
            " batch_normalization_19 (Bat  (None, 3, 3, 384)        1536      \n",
            " chNormalization)                                                \n",
            "                                                                 \n",
            " activation_19 (Activation)  (None, 3, 3, 384)         0         \n",
            "                                                                 \n",
            " conv2d_14 (Conv2D)          (None, 3, 3, 256)         884992    \n",
            "                                                                 \n",
            " batch_normalization_20 (Bat  (None, 3, 3, 256)        1024      \n",
            " chNormalization)                                                \n",
            "                                                                 \n",
            " activation_20 (Activation)  (None, 3, 3, 256)         0         \n",
            "                                                                 \n",
            " max_pooling2d_8 (MaxPooling  (None, 2, 2, 256)        0         \n",
            " 2D)                                                             \n",
            "                                                                 \n",
            " flatten_2 (Flatten)         (None, 1024)              0         \n",
            "                                                                 \n",
            " dense_6 (Dense)             (None, 4096)              4198400   \n",
            "                                                                 \n",
            " batch_normalization_21 (Bat  (None, 4096)             16384     \n",
            " chNormalization)                                                \n",
            "                                                                 \n",
            " activation_21 (Activation)  (None, 4096)              0         \n",
            "                                                                 \n",
            " dense_7 (Dense)             (None, 4096)              16781312  \n",
            "                                                                 \n",
            " batch_normalization_22 (Bat  (None, 4096)             16384     \n",
            " chNormalization)                                                \n",
            "                                                                 \n",
            " activation_22 (Activation)  (None, 4096)              0         \n",
            "                                                                 \n",
            " dense_8 (Dense)             (None, 7)                 28679     \n",
            "                                                                 \n",
            " batch_normalization_23 (Bat  (None, 7)                28        \n",
            " chNormalization)                                                \n",
            "                                                                 \n",
            " activation_23 (Activation)  (None, 7)                 0         \n",
            "                                                                 \n",
            "=================================================================\n",
            "Total params: 24,770,659\n",
            "Trainable params: 24,751,509\n",
            "Non-trainable params: 19,150\n",
            "_________________________________________________________________\n"
          ]
        }
      ],
      "source": [
        "AlexNet_6_Finetune.summary()"
      ],
      "id": "MoxwnKK2ZK1H"
    },
    {
      "cell_type": "code",
      "execution_count": null,
      "metadata": {
        "id": "_x4BQ-mQYane"
      },
      "outputs": [],
      "source": [
        "AlexNet_6_Finetune.compile(optimizer=Adam(learning_rate=initial_learning_rate),\n",
        "                       loss='categorical_crossentropy', metrics=['accuracy'])"
      ],
      "id": "_x4BQ-mQYane"
    },
    {
      "cell_type": "code",
      "execution_count": null,
      "metadata": {
        "id": "rrjfWx86Yanf"
      },
      "outputs": [],
      "source": [
        "checkpointer_AlexNet_6_Finetune = [\n",
        "                      ModelCheckpoint('Finetune_AlexNet_6_Adam_32,0.005_DA.h5', monitor=\"val_accuracy\", verbose=1, save_best_only=True,mode=\"max\"),\n",
        "                      CSVLogger('Finetune_AlexNet_6_Adam_32,0.005_DA.log'),\n",
        "                      LearningRateScheduler(lr_time_based_decay, verbose=1)\n",
        "                      ]"
      ],
      "id": "rrjfWx86Yanf"
    },
    {
      "cell_type": "code",
      "execution_count": null,
      "metadata": {
        "id": "lnyAOjD4Yanf"
      },
      "outputs": [],
      "source": [
        "%%time\n",
        "history_AlexNet_6 = AlexNet_6_Finetune.fit_generator(\n",
        "    train_generator,\n",
        "    validation_data=(X_val_48x48, y_val_cat),\n",
        "    epochs=epochs_finetune,\n",
        "    callbacks=checkpointer_AlexNet_6_Finetune)"
      ],
      "id": "lnyAOjD4Yanf"
    },
    {
      "cell_type": "markdown",
      "source": [
        "##### AlexNet (8) Adam: Dropout + Data Augmentation "
      ],
      "metadata": {
        "id": "vMk0bU1zJ3mh"
      },
      "id": "vMk0bU1zJ3mh"
    },
    {
      "cell_type": "code",
      "execution_count": null,
      "metadata": {
        "colab": {
          "base_uri": "https://localhost:8080/"
        },
        "id": "pjNdrkoCJ3mh",
        "outputId": "ebb3d06d-edbd-4cfd-b91d-30465dc42691"
      },
      "outputs": [
        {
          "output_type": "stream",
          "name": "stdout",
          "text": [
            "Model: \"sequential_24\"\n",
            "_________________________________________________________________\n",
            " Layer (type)                Output Shape              Param #   \n",
            "=================================================================\n",
            " conv2d_40 (Conv2D)          (None, 12, 12, 96)        11712     \n",
            "                                                                 \n",
            " batch_normalization_90 (Bat  (None, 12, 12, 96)       384       \n",
            " chNormalization)                                                \n",
            "                                                                 \n",
            " activation_72 (Activation)  (None, 12, 12, 96)        0         \n",
            "                                                                 \n",
            " max_pooling2d_24 (MaxPoolin  (None, 6, 6, 96)         0         \n",
            " g2D)                                                            \n",
            "                                                                 \n",
            " conv2d_41 (Conv2D)          (None, 6, 6, 256)         614656    \n",
            "                                                                 \n",
            " batch_normalization_91 (Bat  (None, 6, 6, 256)        1024      \n",
            " chNormalization)                                                \n",
            "                                                                 \n",
            " activation_73 (Activation)  (None, 6, 6, 256)         0         \n",
            "                                                                 \n",
            " max_pooling2d_25 (MaxPoolin  (None, 3, 3, 256)        0         \n",
            " g2D)                                                            \n",
            "                                                                 \n",
            " conv2d_42 (Conv2D)          (None, 3, 3, 384)         885120    \n",
            "                                                                 \n",
            " batch_normalization_92 (Bat  (None, 3, 3, 384)        1536      \n",
            " chNormalization)                                                \n",
            "                                                                 \n",
            " activation_74 (Activation)  (None, 3, 3, 384)         0         \n",
            "                                                                 \n",
            " conv2d_43 (Conv2D)          (None, 3, 3, 384)         1327488   \n",
            "                                                                 \n",
            " batch_normalization_93 (Bat  (None, 3, 3, 384)        1536      \n",
            " chNormalization)                                                \n",
            "                                                                 \n",
            " activation_75 (Activation)  (None, 3, 3, 384)         0         \n",
            "                                                                 \n",
            " conv2d_44 (Conv2D)          (None, 3, 3, 256)         884992    \n",
            "                                                                 \n",
            " batch_normalization_94 (Bat  (None, 3, 3, 256)        1024      \n",
            " chNormalization)                                                \n",
            "                                                                 \n",
            " activation_76 (Activation)  (None, 3, 3, 256)         0         \n",
            "                                                                 \n",
            " max_pooling2d_26 (MaxPoolin  (None, 2, 2, 256)        0         \n",
            " g2D)                                                            \n",
            "                                                                 \n",
            " flatten_23 (Flatten)        (None, 1024)              0         \n",
            "                                                                 \n",
            " dense_65 (Dense)            (None, 4096)              4198400   \n",
            "                                                                 \n",
            " batch_normalization_95 (Bat  (None, 4096)             16384     \n",
            " chNormalization)                                                \n",
            "                                                                 \n",
            " activation_77 (Activation)  (None, 4096)              0         \n",
            "                                                                 \n",
            " dropout_22 (Dropout)        (None, 4096)              0         \n",
            "                                                                 \n",
            " dense_66 (Dense)            (None, 4096)              16781312  \n",
            "                                                                 \n",
            " batch_normalization_96 (Bat  (None, 4096)             16384     \n",
            " chNormalization)                                                \n",
            "                                                                 \n",
            " activation_78 (Activation)  (None, 4096)              0         \n",
            "                                                                 \n",
            " dropout_23 (Dropout)        (None, 4096)              0         \n",
            "                                                                 \n",
            " dense_67 (Dense)            (None, 7)                 28679     \n",
            "                                                                 \n",
            " batch_normalization_97 (Bat  (None, 7)                28        \n",
            " chNormalization)                                                \n",
            "                                                                 \n",
            " activation_79 (Activation)  (None, 7)                 0         \n",
            "                                                                 \n",
            "=================================================================\n",
            "Total params: 24,770,659\n",
            "Trainable params: 24,751,509\n",
            "Non-trainable params: 19,150\n",
            "_________________________________________________________________\n"
          ]
        }
      ],
      "source": [
        "#Modell laden:\n",
        "AlexNet_8_Finetune = load_model('AlexNet_8_Adam_32,0.01_DO+DA.h5')\n",
        "AlexNet_8_Finetune.summary()"
      ],
      "id": "pjNdrkoCJ3mh"
    },
    {
      "cell_type": "code",
      "execution_count": null,
      "metadata": {
        "id": "vvPqBIUNJ3mi"
      },
      "outputs": [],
      "source": [
        "AlexNet_8_Finetune.compile(optimizer=Adam(learning_rate=initial_learning_rate),\n",
        "                       loss='categorical_crossentropy', metrics=['accuracy'])"
      ],
      "id": "vvPqBIUNJ3mi"
    },
    {
      "cell_type": "code",
      "execution_count": null,
      "metadata": {
        "id": "TjVt4YTrJ3mj"
      },
      "outputs": [],
      "source": [
        "checkpointer_AlexNet_8_Finetune = [\n",
        "                      ModelCheckpoint('Finetune_AlexNet_8_Adam_32,0.005_DO+DA.h5', monitor=\"val_accuracy\", verbose=1, save_best_only=True,mode=\"max\"),\n",
        "                      CSVLogger('Finetune_AlexNet_8_Adam_32,0.005_DO+DA.log'),\n",
        "                      LearningRateScheduler(lr_time_based_decay, verbose=1)\n",
        "                      ]"
      ],
      "id": "TjVt4YTrJ3mj"
    },
    {
      "cell_type": "code",
      "execution_count": null,
      "metadata": {
        "id": "_6q-fWMzJ3mj"
      },
      "outputs": [],
      "source": [
        "%%time\n",
        "history_AlexNet_8 = AlexNet_8_Finetune.fit_generator(\n",
        "    train_generator,\n",
        "    validation_data=(X_val_48x48, y_val_cat),\n",
        "    epochs=epochs_finetune,\n",
        "    callbacks=checkpointer_AlexNet_8_Finetune)"
      ],
      "id": "_6q-fWMzJ3mj"
    },
    {
      "cell_type": "markdown",
      "metadata": {
        "id": "uegst9PtayOq"
      },
      "source": [
        "#### VGG16"
      ],
      "id": "uegst9PtayOq"
    },
    {
      "cell_type": "markdown",
      "source": [
        "##### VGG16: (5) SGD Data Augmentation"
      ],
      "metadata": {
        "id": "3satO_NRK6nx"
      },
      "id": "3satO_NRK6nx"
    },
    {
      "cell_type": "code",
      "source": [
        "VGG16_5_Finetuning = load_model('VGG16_5_SGD_32,0.01_DA.h5')\n",
        "VGG16_5_Finetuning.summary()"
      ],
      "metadata": {
        "colab": {
          "base_uri": "https://localhost:8080/"
        },
        "id": "VTzas1uMMFSD",
        "outputId": "5b11ce5d-3a95-4f2a-8052-3935b071aab3"
      },
      "id": "VTzas1uMMFSD",
      "execution_count": null,
      "outputs": [
        {
          "output_type": "stream",
          "name": "stdout",
          "text": [
            "Model: \"sequential_4\"\n",
            "_________________________________________________________________\n",
            " Layer (type)                Output Shape              Param #   \n",
            "=================================================================\n",
            " vgg16 (Functional)          (None, 1, 1, 512)         14713536  \n",
            "                                                                 \n",
            " flatten_3 (Flatten)         (None, 512)               0         \n",
            "                                                                 \n",
            " dense_9 (Dense)             (None, 4096)              2101248   \n",
            "                                                                 \n",
            " batch_normalization_24 (Bat  (None, 4096)             16384     \n",
            " chNormalization)                                                \n",
            "                                                                 \n",
            " activation_24 (Activation)  (None, 4096)              0         \n",
            "                                                                 \n",
            " dense_10 (Dense)            (None, 4096)              16781312  \n",
            "                                                                 \n",
            " batch_normalization_25 (Bat  (None, 4096)             16384     \n",
            " chNormalization)                                                \n",
            "                                                                 \n",
            " activation_25 (Activation)  (None, 4096)              0         \n",
            "                                                                 \n",
            " dense_11 (Dense)            (None, 7)                 28679     \n",
            "                                                                 \n",
            "=================================================================\n",
            "Total params: 33,657,543\n",
            "Trainable params: 33,641,159\n",
            "Non-trainable params: 16,384\n",
            "_________________________________________________________________\n"
          ]
        }
      ]
    },
    {
      "cell_type": "code",
      "execution_count": null,
      "metadata": {
        "id": "7WwoCNi1lWt4"
      },
      "outputs": [],
      "source": [
        "VGG16_5_Finetuning.compile(optimizer=SGD(learning_rate=initial_learning_rate),\n",
        "                       loss='categorical_crossentropy', metrics=['accuracy'])"
      ],
      "id": "7WwoCNi1lWt4"
    },
    {
      "cell_type": "code",
      "execution_count": null,
      "metadata": {
        "id": "RYCgYOPhlzaY"
      },
      "outputs": [],
      "source": [
        "checkpointer_VGG16_5_Finetune = [\n",
        "                      ModelCheckpoint('Finetune_VGG_5_SGD_32,0.005_DA.h5', monitor=\"val_accuracy\", verbose=1, save_best_only=True,mode=\"max\"),\n",
        "                      CSVLogger('Finetune_VGG_5_SGD_32,0.005_DA.log'),\n",
        "                      LearningRateScheduler(lr_time_based_decay, verbose=1)\n",
        "                      ]"
      ],
      "id": "RYCgYOPhlzaY"
    },
    {
      "cell_type": "code",
      "execution_count": null,
      "metadata": {
        "id": "7P5_bI9el_RC"
      },
      "outputs": [],
      "source": [
        "%%time\n",
        "history_VGG_5_Finetune = VGG16_5_Finetuning.fit_generator(\n",
        "    train_generator,\n",
        "    validation_data=(X_val_48x48, y_val_cat),\n",
        "    epochs=epochs_finetune,\n",
        "    callbacks=checkpointer_VGG16_5_Finetune)"
      ],
      "id": "7P5_bI9el_RC"
    },
    {
      "cell_type": "markdown",
      "source": [
        "##### VGG16: (7) SGD Dropout + Data Augmentation"
      ],
      "metadata": {
        "id": "V38jqaljdCbT"
      },
      "id": "V38jqaljdCbT"
    },
    {
      "cell_type": "code",
      "source": [
        "VGG16_7_Finetuning = load_model('VGG16_7_SGD_32,0.01_DO+DA.h5')\n",
        "VGG16_7_Finetuning.summary()"
      ],
      "metadata": {
        "colab": {
          "base_uri": "https://localhost:8080/"
        },
        "outputId": "e3caa62c-9174-49c3-c4f4-504dea5f9ccd",
        "id": "__LOQw-ldCbU"
      },
      "execution_count": null,
      "outputs": [
        {
          "output_type": "stream",
          "name": "stdout",
          "text": [
            "Model: \"sequential\"\n",
            "_________________________________________________________________\n",
            " Layer (type)                Output Shape              Param #   \n",
            "=================================================================\n",
            " vgg16 (Functional)          (None, 1, 1, 512)         14713536  \n",
            "                                                                 \n",
            " flatten (Flatten)           (None, 512)               0         \n",
            "                                                                 \n",
            " dense (Dense)               (None, 4096)              2101248   \n",
            "                                                                 \n",
            " batch_normalization (BatchN  (None, 4096)             16384     \n",
            " ormalization)                                                   \n",
            "                                                                 \n",
            " activation (Activation)     (None, 4096)              0         \n",
            "                                                                 \n",
            " dropout (Dropout)           (None, 4096)              0         \n",
            "                                                                 \n",
            " dense_1 (Dense)             (None, 4096)              16781312  \n",
            "                                                                 \n",
            " batch_normalization_1 (Batc  (None, 4096)             16384     \n",
            " hNormalization)                                                 \n",
            "                                                                 \n",
            " activation_1 (Activation)   (None, 4096)              0         \n",
            "                                                                 \n",
            " dropout_1 (Dropout)         (None, 4096)              0         \n",
            "                                                                 \n",
            " dense_2 (Dense)             (None, 7)                 28679     \n",
            "                                                                 \n",
            "=================================================================\n",
            "Total params: 33,657,543\n",
            "Trainable params: 33,641,159\n",
            "Non-trainable params: 16,384\n",
            "_________________________________________________________________\n"
          ]
        }
      ],
      "id": "__LOQw-ldCbU"
    },
    {
      "cell_type": "code",
      "execution_count": null,
      "metadata": {
        "id": "VrSMl_GudCbV"
      },
      "outputs": [],
      "source": [
        "VGG16_7_Finetuning.compile(optimizer=SGD(learning_rate=initial_learning_rate),\n",
        "                       loss='categorical_crossentropy', metrics=['accuracy'])"
      ],
      "id": "VrSMl_GudCbV"
    },
    {
      "cell_type": "code",
      "execution_count": null,
      "metadata": {
        "id": "VyUYNtyudCbW"
      },
      "outputs": [],
      "source": [
        "checkpointer_VGG16_7_Finetune = [\n",
        "                      ModelCheckpoint('Finetune_VGG_7_SGD_32,0.005_DO+DA.h5', monitor=\"val_accuracy\", verbose=1, save_best_only=True,mode=\"max\"),\n",
        "                      CSVLogger('Finetune_VGG_7_SGD_32,0.005_DO+DA.log'),\n",
        "                      LearningRateScheduler(lr_time_based_decay, verbose=1)\n",
        "                      ]"
      ],
      "id": "VyUYNtyudCbW"
    },
    {
      "cell_type": "code",
      "execution_count": null,
      "metadata": {
        "id": "quVvUi3-dCbW"
      },
      "outputs": [],
      "source": [
        "%%time\n",
        "history_VGG_7_Finetune = VGG16_7_Finetuning.fit_generator(\n",
        "    train_generator,\n",
        "    validation_data=(X_val_48x48, y_val_cat),\n",
        "    epochs=epochs_finetune,\n",
        "    callbacks=checkpointer_VGG16_7_Finetune)"
      ],
      "id": "quVvUi3-dCbW"
    },
    {
      "cell_type": "markdown",
      "metadata": {
        "id": "goS5A1keVeL5"
      },
      "source": [
        "#### ResNet"
      ],
      "id": "goS5A1keVeL5"
    },
    {
      "cell_type": "markdown",
      "source": [
        "##### ResNet: (5) SGD Data Augmentation"
      ],
      "metadata": {
        "id": "ed86A5Rgdl2Q"
      },
      "id": "ed86A5Rgdl2Q"
    },
    {
      "cell_type": "code",
      "source": [
        "ResNet_5_Finetuning = load_model('ResNet_5_SGD_32,0.01_DA.h5')\n",
        "ResNet_5_Finetuning.summary()"
      ],
      "metadata": {
        "colab": {
          "base_uri": "https://localhost:8080/"
        },
        "id": "iu-x_p5MLiiR",
        "outputId": "caa1ddde-df76-4bdc-9c50-d867f585ff9f"
      },
      "id": "iu-x_p5MLiiR",
      "execution_count": null,
      "outputs": [
        {
          "output_type": "stream",
          "name": "stdout",
          "text": [
            "Model: \"sequential_21\"\n",
            "_________________________________________________________________\n",
            " Layer (type)                Output Shape              Param #   \n",
            "=================================================================\n",
            " resnet50 (Functional)       (None, 2, 2, 2048)        23581440  \n",
            "                                                                 \n",
            " flatten_20 (Flatten)        (None, 8192)              0         \n",
            "                                                                 \n",
            " dense_60 (Dense)            (None, 4096)              33558528  \n",
            "                                                                 \n",
            " batch_normalization_58 (Bat  (None, 4096)             16384     \n",
            " chNormalization)                                                \n",
            "                                                                 \n",
            " activation_58 (Activation)  (None, 4096)              0         \n",
            "                                                                 \n",
            " dense_61 (Dense)            (None, 4096)              16781312  \n",
            "                                                                 \n",
            " batch_normalization_59 (Bat  (None, 4096)             16384     \n",
            " chNormalization)                                                \n",
            "                                                                 \n",
            " activation_59 (Activation)  (None, 4096)              0         \n",
            "                                                                 \n",
            " dense_62 (Dense)            (None, 7)                 28679     \n",
            "                                                                 \n",
            "=================================================================\n",
            "Total params: 73,982,727\n",
            "Trainable params: 73,913,223\n",
            "Non-trainable params: 69,504\n",
            "_________________________________________________________________\n"
          ]
        }
      ]
    },
    {
      "cell_type": "code",
      "source": [
        "ResNet_5_Finetuning.compile(optimizer=SGD(learning_rate=initial_learning_rate),\n",
        "                       loss='categorical_crossentropy', metrics=['accuracy'])"
      ],
      "metadata": {
        "id": "73tGhs_1dv6O"
      },
      "id": "73tGhs_1dv6O",
      "execution_count": null,
      "outputs": []
    },
    {
      "cell_type": "code",
      "source": [
        "checkpointer_ResNet_5_Finetune = [\n",
        "                      ModelCheckpoint('Finetune_ResNet_5_SGD_32,0.005_DA.h5', monitor=\"val_accuracy\", verbose=1, save_best_only=True,mode=\"max\"),\n",
        "                      CSVLogger('Finetune_ResNet_5_SGD_32,0.005_DA.log'),\n",
        "                      LearningRateScheduler(lr_time_based_decay, verbose=1)\n",
        "                      ]"
      ],
      "metadata": {
        "id": "dECObfqtdwAv"
      },
      "id": "dECObfqtdwAv",
      "execution_count": null,
      "outputs": []
    },
    {
      "cell_type": "code",
      "source": [
        "%%time\n",
        "history_ResNet_5_Finetune = ResNet_5_Finetuning.fit_generator(\n",
        "    train_generator,\n",
        "    validation_data=(X_val_48x48, y_val_cat),\n",
        "    epochs=epochs_finetune,\n",
        "    callbacks=checkpointer_ResNet_5_Finetune)"
      ],
      "metadata": {
        "id": "rkSgA6oidwIU"
      },
      "id": "rkSgA6oidwIU",
      "execution_count": null,
      "outputs": []
    },
    {
      "cell_type": "markdown",
      "source": [
        "##### ResNet: (6) Adam Data Augmentation"
      ],
      "metadata": {
        "id": "PvXJ5kA3ehcm"
      },
      "id": "PvXJ5kA3ehcm"
    },
    {
      "cell_type": "code",
      "source": [
        "ResNet_6_Finetuning = load_model('ResNet_6_Adam_32,0.01_DA.h5')\n",
        "ResNet_6_Finetuning.summary()"
      ],
      "metadata": {
        "id": "M0-EjtlGehcm",
        "colab": {
          "base_uri": "https://localhost:8080/"
        },
        "outputId": "17f7a0ba-bd5d-4aa8-f3ad-61cd7efec52e"
      },
      "execution_count": null,
      "outputs": [
        {
          "output_type": "stream",
          "name": "stdout",
          "text": [
            "Model: \"sequential_22\"\n",
            "_________________________________________________________________\n",
            " Layer (type)                Output Shape              Param #   \n",
            "=================================================================\n",
            " resnet50 (Functional)       (None, 2, 2, 2048)        23581440  \n",
            "                                                                 \n",
            " flatten_21 (Flatten)        (None, 8192)              0         \n",
            "                                                                 \n",
            " dense_63 (Dense)            (None, 4096)              33558528  \n",
            "                                                                 \n",
            " batch_normalization_60 (Bat  (None, 4096)             16384     \n",
            " chNormalization)                                                \n",
            "                                                                 \n",
            " activation_60 (Activation)  (None, 4096)              0         \n",
            "                                                                 \n",
            " dense_64 (Dense)            (None, 4096)              16781312  \n",
            "                                                                 \n",
            " batch_normalization_61 (Bat  (None, 4096)             16384     \n",
            " chNormalization)                                                \n",
            "                                                                 \n",
            " activation_61 (Activation)  (None, 4096)              0         \n",
            "                                                                 \n",
            " dense_65 (Dense)            (None, 7)                 28679     \n",
            "                                                                 \n",
            "=================================================================\n",
            "Total params: 73,982,727\n",
            "Trainable params: 73,913,223\n",
            "Non-trainable params: 69,504\n",
            "_________________________________________________________________\n"
          ]
        }
      ],
      "id": "M0-EjtlGehcm"
    },
    {
      "cell_type": "code",
      "source": [
        "ResNet_6_Finetuning.compile(optimizer=Adam(learning_rate=initial_learning_rate),\n",
        "                       loss='categorical_crossentropy', metrics=['accuracy'])"
      ],
      "metadata": {
        "id": "sFgIR7hnehcn"
      },
      "execution_count": null,
      "outputs": [],
      "id": "sFgIR7hnehcn"
    },
    {
      "cell_type": "code",
      "source": [
        "checkpointer_ResNet_6_Finetune = [\n",
        "                      ModelCheckpoint('Finetune_ResNet_6_Adam_32,0.005_DA.h5', monitor=\"val_accuracy\", verbose=1, save_best_only=True,mode=\"max\"),\n",
        "                      CSVLogger('Finetune_ResNet_6_Adam_32,0.005_DA.log'),\n",
        "                      LearningRateScheduler(lr_time_based_decay, verbose=1)\n",
        "                      ]"
      ],
      "metadata": {
        "id": "lSpbrTIMehcn"
      },
      "execution_count": null,
      "outputs": [],
      "id": "lSpbrTIMehcn"
    },
    {
      "cell_type": "code",
      "source": [
        "%%time\n",
        "history_ResNet_6_Finetune = ResNet_6_Finetuning.fit_generator(\n",
        "    train_generator,\n",
        "    validation_data=(X_val_48x48, y_val_cat),\n",
        "    epochs=epochs_finetune,\n",
        "    callbacks=checkpointer_ResNet_6_Finetune)"
      ],
      "metadata": {
        "id": "eKdvN2v8ehcn"
      },
      "execution_count": null,
      "outputs": [],
      "id": "eKdvN2v8ehcn"
    },
    {
      "cell_type": "markdown",
      "metadata": {
        "id": "z66yqibeZRyz"
      },
      "source": [
        "#### DenseNet"
      ],
      "id": "z66yqibeZRyz"
    },
    {
      "cell_type": "markdown",
      "source": [
        "##### DenseNet: (5) SGD Data Augmentation"
      ],
      "metadata": {
        "id": "QMAt2zHgfbVV"
      },
      "id": "QMAt2zHgfbVV"
    },
    {
      "cell_type": "code",
      "source": [
        "DenseNet_5_Finetuning = load_model('DenseNet_5_SGD_32,0.01_DA.h5')\n",
        "DenseNet_5_Finetuning.summary()"
      ],
      "metadata": {
        "colab": {
          "base_uri": "https://localhost:8080/"
        },
        "outputId": "77df9652-d55f-4e77-be0b-8cc3cd60437c",
        "id": "adzZCsw5fbVW"
      },
      "execution_count": null,
      "outputs": [
        {
          "output_type": "stream",
          "name": "stdout",
          "text": [
            "Model: \"sequential_7\"\n",
            "_________________________________________________________________\n",
            " Layer (type)                Output Shape              Param #   \n",
            "=================================================================\n",
            " densenet201 (Functional)    (None, 1, 1, 1920)        18315712  \n",
            "                                                                 \n",
            " flatten_7 (Flatten)         (None, 1920)              0         \n",
            "                                                                 \n",
            " dense_21 (Dense)            (None, 4096)              7868416   \n",
            "                                                                 \n",
            " batch_normalization_14 (Bat  (None, 4096)             16384     \n",
            " chNormalization)                                                \n",
            "                                                                 \n",
            " activation_14 (Activation)  (None, 4096)              0         \n",
            "                                                                 \n",
            " dense_22 (Dense)            (None, 4096)              16781312  \n",
            "                                                                 \n",
            " batch_normalization_15 (Bat  (None, 4096)             16384     \n",
            " chNormalization)                                                \n",
            "                                                                 \n",
            " activation_15 (Activation)  (None, 4096)              0         \n",
            "                                                                 \n",
            " dense_23 (Dense)            (None, 7)                 28679     \n",
            "                                                                 \n",
            "=================================================================\n",
            "Total params: 43,026,887\n",
            "Trainable params: 42,781,447\n",
            "Non-trainable params: 245,440\n",
            "_________________________________________________________________\n"
          ]
        }
      ],
      "id": "adzZCsw5fbVW"
    },
    {
      "cell_type": "code",
      "source": [
        "DenseNet_5_Finetuning.compile(optimizer=SGD(learning_rate=initial_learning_rate),\n",
        "                       loss='categorical_crossentropy', metrics=['accuracy'])"
      ],
      "metadata": {
        "id": "DA3wqCDffbVX"
      },
      "execution_count": null,
      "outputs": [],
      "id": "DA3wqCDffbVX"
    },
    {
      "cell_type": "code",
      "source": [
        "checkpointer_DenseNet_5_Finetune = [\n",
        "                      ModelCheckpoint('Finetune_DenseNet_5_SGD_32,0.005_DA.h5', monitor=\"val_accuracy\", verbose=1, save_best_only=True,mode=\"max\"),\n",
        "                      CSVLogger('Finetune_DenseNet_5_SGD_32,0.005_DA.log'),\n",
        "                      LearningRateScheduler(lr_time_based_decay, verbose=1)\n",
        "                      ]"
      ],
      "metadata": {
        "id": "HRd74ACHfbVY"
      },
      "execution_count": null,
      "outputs": [],
      "id": "HRd74ACHfbVY"
    },
    {
      "cell_type": "code",
      "source": [
        "%%time\n",
        "history_DenseNet_5_Finetune = DenseNet_5_Finetuning.fit_generator(\n",
        "    train_generator,\n",
        "    validation_data=(X_val_48x48, y_val_cat),\n",
        "    epochs=epochs_finetune,\n",
        "    callbacks=checkpointer_DenseNet_5_Finetune)"
      ],
      "metadata": {
        "id": "d9mbZzDdfbVZ"
      },
      "execution_count": null,
      "outputs": [],
      "id": "d9mbZzDdfbVZ"
    },
    {
      "cell_type": "markdown",
      "source": [
        "##### DenseNet: (6) Adam Data Augmentation"
      ],
      "metadata": {
        "id": "SYFZ-e0efbVa"
      },
      "id": "SYFZ-e0efbVa"
    },
    {
      "cell_type": "code",
      "source": [
        "DenseNet_6_Finetuning = load_model('DenseNet_6_Adam_32,0.01_DA.h5')\n",
        "DenseNet_6_Finetuning.summary()"
      ],
      "metadata": {
        "id": "V3DL64NWfbVb",
        "colab": {
          "base_uri": "https://localhost:8080/"
        },
        "outputId": "4c31a7a9-32f1-4cb1-9542-01405933c43c"
      },
      "execution_count": null,
      "outputs": [
        {
          "output_type": "stream",
          "name": "stdout",
          "text": [
            "Model: \"sequential_8\"\n",
            "_________________________________________________________________\n",
            " Layer (type)                Output Shape              Param #   \n",
            "=================================================================\n",
            " densenet201 (Functional)    (None, 1, 1, 1920)        18315712  \n",
            "                                                                 \n",
            " flatten_8 (Flatten)         (None, 1920)              0         \n",
            "                                                                 \n",
            " dense_24 (Dense)            (None, 4096)              7868416   \n",
            "                                                                 \n",
            " batch_normalization_16 (Bat  (None, 4096)             16384     \n",
            " chNormalization)                                                \n",
            "                                                                 \n",
            " activation_16 (Activation)  (None, 4096)              0         \n",
            "                                                                 \n",
            " dense_25 (Dense)            (None, 4096)              16781312  \n",
            "                                                                 \n",
            " batch_normalization_17 (Bat  (None, 4096)             16384     \n",
            " chNormalization)                                                \n",
            "                                                                 \n",
            " activation_17 (Activation)  (None, 4096)              0         \n",
            "                                                                 \n",
            " dense_26 (Dense)            (None, 7)                 28679     \n",
            "                                                                 \n",
            "=================================================================\n",
            "Total params: 43,026,887\n",
            "Trainable params: 42,781,447\n",
            "Non-trainable params: 245,440\n",
            "_________________________________________________________________\n"
          ]
        }
      ],
      "id": "V3DL64NWfbVb"
    },
    {
      "cell_type": "code",
      "source": [
        "DenseNet_6_Finetuning.compile(optimizer=Adam(learning_rate=initial_learning_rate),\n",
        "                       loss='categorical_crossentropy', metrics=['accuracy'])"
      ],
      "metadata": {
        "id": "ouCyccn5fbVc"
      },
      "execution_count": null,
      "outputs": [],
      "id": "ouCyccn5fbVc"
    },
    {
      "cell_type": "code",
      "source": [
        "checkpointer_DenseNet_6_Finetune = [\n",
        "                      ModelCheckpoint('Finetune_DenseNet_6_Adam_32,0.005_DA.h5', monitor=\"val_accuracy\", verbose=1, save_best_only=True,mode=\"max\"),\n",
        "                      CSVLogger('Finetune_DenseNet_6_Adam_32,0.005_DA.log'),\n",
        "                      LearningRateScheduler(lr_time_based_decay, verbose=1)\n",
        "                      ]"
      ],
      "metadata": {
        "id": "bqwN2ePHfbVd"
      },
      "execution_count": null,
      "outputs": [],
      "id": "bqwN2ePHfbVd"
    },
    {
      "cell_type": "code",
      "source": [
        "%%time\n",
        "history_DenseNet_6_Finetune = DenseNet_6_Finetuning.fit_generator(\n",
        "    train_generator,\n",
        "    validation_data=(X_val_48x48, y_val_cat),\n",
        "    epochs=epochs_finetune,\n",
        "    callbacks=checkpointer_DenseNet_6_Finetune)"
      ],
      "metadata": {
        "id": "Nfi0M4m8fbVd"
      },
      "execution_count": null,
      "outputs": [],
      "id": "Nfi0M4m8fbVd"
    },
    {
      "cell_type": "markdown",
      "metadata": {
        "id": "vyZ4E6MafXUK"
      },
      "source": [
        "#### MobileNet"
      ],
      "id": "vyZ4E6MafXUK"
    },
    {
      "cell_type": "markdown",
      "source": [
        "##### MobileNet: (5) SGD Data Augmentation"
      ],
      "metadata": {
        "id": "6Dx2h88F3mET"
      },
      "id": "6Dx2h88F3mET"
    },
    {
      "cell_type": "code",
      "source": [
        "MobileNet_5_Finetuning = load_model('MobileNet_5_SGD_32,0.01_DA.h5')\n",
        "MobileNet_5_Finetuning.summary()"
      ],
      "metadata": {
        "colab": {
          "base_uri": "https://localhost:8080/"
        },
        "outputId": "9246c619-6eb8-4227-d4e7-5ec3b70b7e14",
        "id": "ZfNXUxZA3mEV"
      },
      "execution_count": null,
      "outputs": [
        {
          "output_type": "stream",
          "name": "stdout",
          "text": [
            "Model: \"sequential_1\"\n",
            "_________________________________________________________________\n",
            " Layer (type)                Output Shape              Param #   \n",
            "=================================================================\n",
            " mobilenetv2_1.00_48 (Functi  (None, 2, 2, 1280)       2257408   \n",
            " onal)                                                           \n",
            "                                                                 \n",
            " flatten_1 (Flatten)         (None, 5120)              0         \n",
            "                                                                 \n",
            " dense_3 (Dense)             (None, 4096)              20975616  \n",
            "                                                                 \n",
            " batch_normalization_2 (Batc  (None, 4096)             16384     \n",
            " hNormalization)                                                 \n",
            "                                                                 \n",
            " activation_2 (Activation)   (None, 4096)              0         \n",
            "                                                                 \n",
            " dense_4 (Dense)             (None, 4096)              16781312  \n",
            "                                                                 \n",
            " batch_normalization_3 (Batc  (None, 4096)             16384     \n",
            " hNormalization)                                                 \n",
            "                                                                 \n",
            " activation_3 (Activation)   (None, 4096)              0         \n",
            "                                                                 \n",
            " dense_5 (Dense)             (None, 7)                 28679     \n",
            "                                                                 \n",
            "=================================================================\n",
            "Total params: 40,075,783\n",
            "Trainable params: 40,025,287\n",
            "Non-trainable params: 50,496\n",
            "_________________________________________________________________\n"
          ]
        }
      ],
      "id": "ZfNXUxZA3mEV"
    },
    {
      "cell_type": "code",
      "source": [
        "MobileNet_5_Finetuning.compile(optimizer=SGD(learning_rate=initial_learning_rate),\n",
        "                       loss='categorical_crossentropy', metrics=['accuracy'])"
      ],
      "metadata": {
        "id": "9cYCRzGC3mEX"
      },
      "execution_count": null,
      "outputs": [],
      "id": "9cYCRzGC3mEX"
    },
    {
      "cell_type": "code",
      "source": [
        "checkpointer_MobileNet_5_Finetune = [\n",
        "                      ModelCheckpoint('Finetune_MobileNet_5_SGD_32,0.005_DA.h5', monitor=\"val_accuracy\", verbose=1, save_best_only=True,mode=\"max\"),\n",
        "                      CSVLogger('Finetune_MobileNet_5_SGD_32,0.005_DA.log'),\n",
        "                      LearningRateScheduler(lr_time_based_decay, verbose=1)\n",
        "                      ]"
      ],
      "metadata": {
        "id": "xz3t4V1l3mEY"
      },
      "execution_count": null,
      "outputs": [],
      "id": "xz3t4V1l3mEY"
    },
    {
      "cell_type": "code",
      "source": [
        "%%time\n",
        "history_MobileNet_5_Finetune = MobileNet_5_Finetuning.fit_generator(\n",
        "    train_generator,\n",
        "    validation_data=(X_val_48x48, y_val_cat),\n",
        "    epochs=epochs_finetune,\n",
        "    callbacks=checkpointer_MobileNet_5_Finetune)"
      ],
      "metadata": {
        "id": "o-rK2Fus3mEZ"
      },
      "execution_count": null,
      "outputs": [],
      "id": "o-rK2Fus3mEZ"
    },
    {
      "cell_type": "markdown",
      "source": [
        "##### MobileNet: (6) Adam Data Augmentation"
      ],
      "metadata": {
        "id": "EKgrsU6I3mEc"
      },
      "id": "EKgrsU6I3mEc"
    },
    {
      "cell_type": "code",
      "source": [
        "MobileNet_6_Finetuning = load_model('MobileNet_6_Adam_32,0.01_DA.h5')\n",
        "MobileNet_6_Finetuning.summary()"
      ],
      "metadata": {
        "colab": {
          "base_uri": "https://localhost:8080/"
        },
        "outputId": "04e596a1-9e30-4511-ddbe-f585680ddbfd",
        "id": "pUALfEma3mEe"
      },
      "execution_count": null,
      "outputs": [
        {
          "output_type": "stream",
          "name": "stdout",
          "text": [
            "Model: \"sequential_2\"\n",
            "_________________________________________________________________\n",
            " Layer (type)                Output Shape              Param #   \n",
            "=================================================================\n",
            " mobilenetv2_1.00_48 (Functi  (None, 2, 2, 1280)       2257408   \n",
            " onal)                                                           \n",
            "                                                                 \n",
            " flatten_2 (Flatten)         (None, 5120)              0         \n",
            "                                                                 \n",
            " dense_6 (Dense)             (None, 4096)              20975616  \n",
            "                                                                 \n",
            " batch_normalization_4 (Batc  (None, 4096)             16384     \n",
            " hNormalization)                                                 \n",
            "                                                                 \n",
            " activation_4 (Activation)   (None, 4096)              0         \n",
            "                                                                 \n",
            " dense_7 (Dense)             (None, 4096)              16781312  \n",
            "                                                                 \n",
            " batch_normalization_5 (Batc  (None, 4096)             16384     \n",
            " hNormalization)                                                 \n",
            "                                                                 \n",
            " activation_5 (Activation)   (None, 4096)              0         \n",
            "                                                                 \n",
            " dense_8 (Dense)             (None, 7)                 28679     \n",
            "                                                                 \n",
            "=================================================================\n",
            "Total params: 40,075,783\n",
            "Trainable params: 40,025,287\n",
            "Non-trainable params: 50,496\n",
            "_________________________________________________________________\n"
          ]
        }
      ],
      "id": "pUALfEma3mEe"
    },
    {
      "cell_type": "code",
      "source": [
        "MobileNet_6_Finetuning.compile(optimizer=Adam(learning_rate=initial_learning_rate),\n",
        "                       loss='categorical_crossentropy', metrics=['accuracy'])"
      ],
      "metadata": {
        "id": "-Oh0qZdy3mEh"
      },
      "execution_count": null,
      "outputs": [],
      "id": "-Oh0qZdy3mEh"
    },
    {
      "cell_type": "code",
      "source": [
        "checkpointer_MobileNet_6_Finetune = [\n",
        "                      ModelCheckpoint('Finetune_MobileNet_6_Adam_32,0.005_DA.h5', monitor=\"val_accuracy\", verbose=1, save_best_only=True,mode=\"max\"),\n",
        "                      CSVLogger('Finetune_MobileNet_6_Adam_32,0.005_DA.log'),\n",
        "                      LearningRateScheduler(lr_time_based_decay, verbose=1)\n",
        "                      ]"
      ],
      "metadata": {
        "id": "vxfRy9cR3mEi"
      },
      "execution_count": null,
      "outputs": [],
      "id": "vxfRy9cR3mEi"
    },
    {
      "cell_type": "code",
      "source": [
        "%%time\n",
        "history_MobileNet_6_Finetune = MobileNet_6_Finetuning.fit_generator(\n",
        "    train_generator,\n",
        "    validation_data=(X_val_48x48, y_val_cat),\n",
        "    epochs=epochs_finetune,\n",
        "    callbacks=checkpointer_MobileNet_6_Finetune)"
      ],
      "metadata": {
        "id": "ocv_Vq2x3mEj"
      },
      "execution_count": null,
      "outputs": [],
      "id": "ocv_Vq2x3mEj"
    },
    {
      "cell_type": "markdown",
      "metadata": {
        "id": "TR14VXwA3gc3"
      },
      "source": [
        "#### EfficientNet"
      ],
      "id": "TR14VXwA3gc3"
    },
    {
      "cell_type": "markdown",
      "source": [
        "##### EfficientNet: (6) Adam Data Augmentation"
      ],
      "metadata": {
        "id": "j_d_kkHcQDsI"
      },
      "id": "j_d_kkHcQDsI"
    },
    {
      "cell_type": "code",
      "source": [
        "EfficientNet_6_Finetuning = load_model('EfficientNet_6_Adam_32,0.01_DA.h5')\n",
        "EfficientNet_6_Finetuning.summary()"
      ],
      "metadata": {
        "colab": {
          "base_uri": "https://localhost:8080/"
        },
        "outputId": "193a48d7-e70b-4eab-a273-d4048e7c4f52",
        "id": "V1MRO17IQDs1"
      },
      "execution_count": null,
      "outputs": [
        {
          "output_type": "stream",
          "name": "stdout",
          "text": [
            "Model: \"sequential\"\n",
            "_________________________________________________________________\n",
            " Layer (type)                Output Shape              Param #   \n",
            "=================================================================\n",
            " efficientnetv2-b0 (Function  (None, 2, 2, 1280)       5918736   \n",
            " al)                                                             \n",
            "                                                                 \n",
            " flatten (Flatten)           (None, 5120)              0         \n",
            "                                                                 \n",
            " dense (Dense)               (None, 4096)              20975616  \n",
            "                                                                 \n",
            " batch_normalization (BatchN  (None, 4096)             16384     \n",
            " ormalization)                                                   \n",
            "                                                                 \n",
            " activation (Activation)     (None, 4096)              0         \n",
            "                                                                 \n",
            " dense_1 (Dense)             (None, 4096)              16781312  \n",
            "                                                                 \n",
            " batch_normalization_1 (Batc  (None, 4096)             16384     \n",
            " hNormalization)                                                 \n",
            "                                                                 \n",
            " activation_1 (Activation)   (None, 4096)              0         \n",
            "                                                                 \n",
            " dense_2 (Dense)             (None, 7)                 28679     \n",
            "                                                                 \n",
            "=================================================================\n",
            "Total params: 43,737,111\n",
            "Trainable params: 43,660,119\n",
            "Non-trainable params: 76,992\n",
            "_________________________________________________________________\n"
          ]
        }
      ],
      "id": "V1MRO17IQDs1"
    },
    {
      "cell_type": "code",
      "source": [
        "EfficientNet_6_Finetuning.compile(optimizer=Adam(learning_rate=initial_learning_rate),\n",
        "                       loss='categorical_crossentropy', metrics=['accuracy'])"
      ],
      "metadata": {
        "id": "1tenrJhyQDs3"
      },
      "execution_count": null,
      "outputs": [],
      "id": "1tenrJhyQDs3"
    },
    {
      "cell_type": "code",
      "source": [
        "checkpointer_EfficientNet_6_Finetune = [\n",
        "                      ModelCheckpoint('Finetune_EfficientNet_6_Adam_32,0.005_DA.h5', monitor=\"val_accuracy\", verbose=1, save_best_only=True,mode=\"max\"),\n",
        "                      CSVLogger('Finetune_EfficientNet_6_Adam_32,0.005_DA.log'),\n",
        "                      LearningRateScheduler(lr_time_based_decay, verbose=1)\n",
        "                      ]"
      ],
      "metadata": {
        "id": "ng3A-OohQDs4"
      },
      "execution_count": null,
      "outputs": [],
      "id": "ng3A-OohQDs4"
    },
    {
      "cell_type": "code",
      "source": [
        "%%time\n",
        "history_EfficientNet_6_Finetune = EfficientNet_6_Finetuning.fit_generator(\n",
        "    train_generator,\n",
        "    validation_data=(X_val_48x48, y_val_cat),\n",
        "    epochs=epochs_finetune,\n",
        "    callbacks=checkpointer_EfficientNet_6_Finetune)"
      ],
      "metadata": {
        "id": "cPfICLwDQDs5"
      },
      "execution_count": null,
      "outputs": [],
      "id": "cPfICLwDQDs5"
    },
    {
      "cell_type": "markdown",
      "source": [
        "##### EfficientNet: (8) Adam Dropout + Data Augmentation"
      ],
      "metadata": {
        "id": "SEXHdzNvQtB8"
      },
      "id": "SEXHdzNvQtB8"
    },
    {
      "cell_type": "code",
      "source": [
        "EfficientNet_8_Finetuning = load_model('EfficientNet_8_Adam_32,0.01_DO+DA.h5')\n",
        "EfficientNet_8_Finetuning.summary()"
      ],
      "metadata": {
        "colab": {
          "base_uri": "https://localhost:8080/"
        },
        "id": "Bn-mqVkOQtB9",
        "outputId": "27609e6a-05a2-4899-df4e-2f3c722d7e91"
      },
      "execution_count": null,
      "outputs": [
        {
          "output_type": "stream",
          "name": "stdout",
          "text": [
            "Model: \"sequential_1\"\n",
            "_________________________________________________________________\n",
            " Layer (type)                Output Shape              Param #   \n",
            "=================================================================\n",
            " efficientnetv2-b0 (Function  (None, 2, 2, 1280)       5918736   \n",
            " al)                                                             \n",
            "                                                                 \n",
            " flatten_1 (Flatten)         (None, 5120)              0         \n",
            "                                                                 \n",
            " dense_3 (Dense)             (None, 4096)              20975616  \n",
            "                                                                 \n",
            " batch_normalization_2 (Batc  (None, 4096)             16384     \n",
            " hNormalization)                                                 \n",
            "                                                                 \n",
            " activation_2 (Activation)   (None, 4096)              0         \n",
            "                                                                 \n",
            " dropout (Dropout)           (None, 4096)              0         \n",
            "                                                                 \n",
            " dense_4 (Dense)             (None, 4096)              16781312  \n",
            "                                                                 \n",
            " batch_normalization_3 (Batc  (None, 4096)             16384     \n",
            " hNormalization)                                                 \n",
            "                                                                 \n",
            " activation_3 (Activation)   (None, 4096)              0         \n",
            "                                                                 \n",
            " dropout_1 (Dropout)         (None, 4096)              0         \n",
            "                                                                 \n",
            " dense_5 (Dense)             (None, 7)                 28679     \n",
            "                                                                 \n",
            "=================================================================\n",
            "Total params: 43,737,111\n",
            "Trainable params: 43,660,119\n",
            "Non-trainable params: 76,992\n",
            "_________________________________________________________________\n"
          ]
        }
      ],
      "id": "Bn-mqVkOQtB9"
    },
    {
      "cell_type": "code",
      "source": [
        "EfficientNet_8_Finetuning.compile(optimizer=Adam(learning_rate=initial_learning_rate),\n",
        "                       loss='categorical_crossentropy', metrics=['accuracy'])"
      ],
      "metadata": {
        "id": "wS07lCG4QtB-"
      },
      "execution_count": null,
      "outputs": [],
      "id": "wS07lCG4QtB-"
    },
    {
      "cell_type": "code",
      "source": [
        "checkpointer_EfficientNet_8_Finetune = [\n",
        "                      ModelCheckpoint('Finetune_EfficientNet_8_Adam_32,0.005_DO+DA.h5', monitor=\"val_accuracy\", verbose=1, save_best_only=True,mode=\"max\"),\n",
        "                      CSVLogger('Finetune_EfficientNet_8_Adam_32,0.005_DO+DA.log'),\n",
        "                      LearningRateScheduler(lr_time_based_decay, verbose=1)\n",
        "                      ]"
      ],
      "metadata": {
        "id": "l2gfly3aQtB-"
      },
      "execution_count": null,
      "outputs": [],
      "id": "l2gfly3aQtB-"
    },
    {
      "cell_type": "code",
      "source": [
        "%%time\n",
        "history_EfficientNet_8_Finetune = EfficientNet_8_Finetuning.fit_generator(\n",
        "    train_generator,\n",
        "    validation_data=(X_val_48x48, y_val_cat),\n",
        "    epochs=epochs_finetune,\n",
        "    callbacks=checkpointer_EfficientNet_8_Finetune)"
      ],
      "metadata": {
        "id": "nIvXKsVOQtB-"
      },
      "execution_count": null,
      "outputs": [],
      "id": "nIvXKsVOQtB-"
    }
  ],
  "metadata": {
    "accelerator": "GPU",
    "colab": {
      "collapsed_sections": [
        "5to2NiFcNh5c",
        "3918d5a9-357b-442c-b2f8-5dff29d0a4bb",
        "1e2e249b-821e-4536-82bd-ba6e20577b32",
        "e6af1022-782f-4af8-ae52-eb7888dc234f",
        "rbGnB6JQxaO6",
        "105820ac-1c1b-4449-ae08-dc974eff53c7",
        "BAkyiqnnZyS7",
        "yTK9lM8hDypO",
        "YEgLqRMYjs-I",
        "5b22b30f-d3b3-4460-9796-967a35907f1f"
      ],
      "provenance": [],
      "toc_visible": true
    },
    "gpuClass": "standard",
    "kernelspec": {
      "display_name": "Python 3 (ipykernel)",
      "language": "python",
      "name": "python3"
    },
    "language_info": {
      "codemirror_mode": {
        "name": "ipython",
        "version": 3
      },
      "file_extension": ".py",
      "mimetype": "text/x-python",
      "name": "python",
      "nbconvert_exporter": "python",
      "pygments_lexer": "ipython3",
      "version": "3.7.13"
    },
    "toc-autonumbering": true,
    "toc-showcode": false,
    "toc-showmarkdowntxt": false,
    "toc-showtags": false
  },
  "nbformat": 4,
  "nbformat_minor": 5
}