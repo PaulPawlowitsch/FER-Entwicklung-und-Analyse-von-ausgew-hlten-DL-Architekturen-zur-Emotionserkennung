{
 "cells": [
  {
   "cell_type": "markdown",
   "id": "0153ffe6",
   "metadata": {
    "id": "0153ffe6"
   },
   "source": [
    "# Import der Packages und der Datengrundlage"
   ]
  },
  {
   "cell_type": "code",
   "execution_count": 1,
   "id": "92f693fa-06b7-4db5-89fa-2dacc0525485",
   "metadata": {
    "id": "92f693fa-06b7-4db5-89fa-2dacc0525485"
   },
   "outputs": [],
   "source": [
    "import numpy as np\n",
    "import cv2\n",
    "import tensorflow as tf\n",
    "from keras.models import load_model\n",
    "best_model = load_model(\"Deployment/Finetune_VGG_5_SGD_32,0.005_DA.h5\") #Einlesen eines Modells zur Klassifikation\n",
    "face_haar_cascade = cv2.CascadeClassifier(\"Deployment/haarcascade_frontalface_default.xml\") #Face Haar Cascade Algorithmus zur Gesichtserkennung"
   ]
  },
  {
   "cell_type": "code",
   "execution_count": 2,
   "id": "be1f8c46",
   "metadata": {
    "id": "be1f8c46"
   },
   "outputs": [],
   "source": [
    "#Echtzeit Emotionserkennung\n",
    "cap = cv2.VideoCapture(0)\n",
    "cap.set(3,640) \n",
    "cap.set(4,480) \n",
    "while True:\n",
    "    ret, img = cap.read()\n",
    "    gray = cv2.cvtColor(img, cv2.COLOR_BGR2GRAY)\n",
    "    faces = face_haar_cascade.detectMultiScale(gray,scaleFactor=1.2,minNeighbors=5,minSize=(20, 20))\n",
    "    \n",
    "    for (x,y,w,h) in faces:\n",
    "        cv2.rectangle(img,(x,y),(x+w,y+h),(255,255,255),2) \n",
    "        roi_gray = gray[y:y+h, x:x+w]\n",
    "        roi_gray = cv2.resize(roi_gray, (48, 48))\n",
    "        roi_color = img[y:y+h, x:x+w]\n",
    "        roi_color = cv2.resize(roi_color, (48, 48))\n",
    "        img_pixels = tf.keras.utils.img_to_array(roi_gray)\n",
    "        img_pixels = np.expand_dims(img_pixels, axis=0)\n",
    "        \n",
    "        predictions = best_model.predict(img_pixels)\n",
    "        max_index = np.argmax(predictions[0])\n",
    "\n",
    "        emotion_label = (\"Wut\", \"Ekel\", \"Angst\", \"Freude\", \"Trauer\", \"Ueberraschung\", \"Neutral\")\n",
    "        predicted_emotion = emotion_label[max_index]\n",
    "\n",
    "        cv2.putText(img, predicted_emotion, (int(x), int(y)), cv2.FONT_HERSHEY_SIMPLEX, 1, (255, 255, 255), 2)\n",
    "        \n",
    "        \n",
    "    cv2.imshow('video',img) \n",
    "    k = cv2.waitKey(30) & 0xff\n",
    "\n",
    "    if k == 27: \n",
    "        break\n",
    "cap.release()\n",
    "cv2.destroyAllWindows()"
   ]
  }
 ],
 "metadata": {
  "accelerator": "GPU",
  "colab": {
   "provenance": [],
   "toc_visible": true
  },
  "gpuClass": "standard",
  "kernelspec": {
   "display_name": "Python 3 (ipykernel)",
   "language": "python",
   "name": "python3"
  },
  "language_info": {
   "codemirror_mode": {
    "name": "ipython",
    "version": 3
   },
   "file_extension": ".py",
   "mimetype": "text/x-python",
   "name": "python",
   "nbconvert_exporter": "python",
   "pygments_lexer": "ipython3",
   "version": "3.7.13"
  },
  "toc-autonumbering": true,
  "toc-showcode": false,
  "toc-showmarkdowntxt": false,
  "toc-showtags": false
 },
 "nbformat": 4,
 "nbformat_minor": 5
}
